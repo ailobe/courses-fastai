{
  "cells": [
    {
      "metadata": {
        "_uuid": "ee05f4cd29c3d90467d10f3c2d829617c60fb6b6"
      },
      "cell_type": "markdown",
      "source": "#  Intro to Machine Learning\nThis is a free course offered by [fast.ai](http://www.fast.ai/) (currently [unlisted](http://forums.fast.ai/t/another-treat-early-access-to-intro-to-machine-learning-videos/6826)). There's a github [repository](https://github.com/fastai/fastai/tree/master/courses/ml1).\n\n## About this course\nSome machine learning courses can leave you confused by the enormous range of techniques shown and can make it difficult to have a practical understanding of how to apply them.\n\nThe good news is that modern machine learning can be distilled down to a couple of key techniques that are of very wide applicability. Recent studies have shown that the vast majority of datasets can be best modeled with just two methods:\n\n- **Ensembles of decision trees** (i.e. Random Forests and Gradient Boosting Machines), mainly for **structured data** (such as you might find in a database table at most companies)\n- **Multi-layered neural networks learnt with Stochastic Gradient Descent** (SGD) (i.e. shallow and/or deep learning), mainly for **unstructured data** (such as audio, vision, and natural language)\n\n### The lessons\nIn this course we'll be learning about:\n- **Random Forests** \n- **Stochastic Gradient Descent**.\n- **Gradient Boosting** \n- **Deep Learning**\n\n### The dataset\nWe will be teaching the course using the [Blue Book for Bulldozers Kaggle Competition](https://www.kaggle.com/c/bluebook-for-bulldozers): \n- \"The goal of the contest is to predict the sale price of a particular piece of heavy equiment at auction based on it's usage, equipment type, and configuration. The data is sourced from auction result postings and includes information on usage and equipment configurations.\"\n\n### Note:\nThese are personal notes. For the original code, check the github repository of the course. Also, I will be importing things as I need them.\n"
    },
    {
      "metadata": {
        "_uuid": "68ba55f082723a7eaf7abd234df91ec94ceb9dcc"
      },
      "cell_type": "markdown",
      "source": "# Lecture 3\nIt is recommended to [watch the lecture first](https://youtu.be/YSFG_W8JxBo?), then follow the notebook.\n- The lesson material starts at [51:07](https://youtu.be/YSFG_W8JxBo?t=51m7s) because the time before that is spent talking about [another kaggle competition](https://www.kaggle.com/c/favorita-grocery-sales-forecasting) and [how to deal with really large datasets](https://www.kaggle.com/jagangupta/memory-optimization-and-eda-on-entire-dataset)."
    },
    {
      "metadata": {
        "collapsed": true,
        "_uuid": "3bd544e08cb259860a4728f1d5a49fa48cd3738c"
      },
      "cell_type": "markdown",
      "source": "# Random Forest Model interpretation"
    },
    {
      "metadata": {
        "_uuid": "8f6601fd37990894c0df441baac22d2c5ff7c935"
      },
      "cell_type": "markdown",
      "source": "## Load the data\nWe'll be loading our feather file from the [last lesson](https://www.kaggle.com/ailobe/fastai-ml1-lesson1-rf/output).\n- feather-format is really **fast**."
    },
    {
      "metadata": {
        "trusted": true,
        "_uuid": "60a3c23ac7fb6681309444def98cd6dfa5435d85",
        "collapsed": true
      },
      "cell_type": "code",
      "source": "%%time\n# times the whole cell\n\n# import pandas\nimport pandas as pd\n\n# set the path to read df_raw\npath = '../input/df_raw'\n\n# read the data into a pandas DataFrame\ndf_raw = pd.read_feather(path)",
      "execution_count": null,
      "outputs": []
    },
    {
      "metadata": {
        "_uuid": "19718df7546babe8b16b23cffe0a1fb540caccb3"
      },
      "cell_type": "markdown",
      "source": "We'll use a method from the **fastai library** , **`proc_df`**,  to get the dataset ready for the random forest.\n- We'll **replace categories** with their numeric codes.\n- **Handle missing** continuous **values**.\n- **Split the dependent variable** into a separate variable."
    },
    {
      "metadata": {
        "trusted": true,
        "_uuid": "c775ee332837b2f1cb5f31a8c7a79fbbeec48b03",
        "collapsed": true
      },
      "cell_type": "code",
      "source": "# import proc_df and the functions it depends on\nfrom fastai.structured import numericalize, fix_missing, proc_df\n\nX, y, nas_dict = proc_df(df_raw, 'SalePrice')",
      "execution_count": null,
      "outputs": []
    },
    {
      "metadata": {
        "_uuid": "452aa50735cf8e52db3a55e079302b4ed402af8d"
      },
      "cell_type": "markdown",
      "source": "To **avoid  overfitting** , we'll split the dataset to have two **separate training and validation sets**.\n- Since we are trying to predict new prices, we should pick the **latest samples** from our train set.\n- We'll use the **same size as** the **Kaggle** validation set, so when we evaluate our model it gives us an estimation of how will it perform in the **public leaderboard**."
    },
    {
      "metadata": {
        "trusted": true,
        "_uuid": "b08e7127023bc335c023dc4a49b68393f66af189",
        "collapsed": true
      },
      "cell_type": "code",
      "source": "# create a function for splitting X and y into train and test sets of customizable sizes\ndef split_vals(a,n): return a[:n].copy(), a[n:].copy()\n\n# validation set size: 12000.\nvalidation = 12000\n\n# split point: length of dataset minus validation set size.\nsplit_point = len(X)-validation\n\n# split X\nX_train, X_valid = split_vals(X, split_point)\n\n# split y\ny_train, y_valid = split_vals(y, split_point)\n\n# dimensions (row, columns) of X_train, y_train and X_valid\nX_train.shape, y_train.shape, X_valid.shape",
      "execution_count": null,
      "outputs": []
    },
    {
      "metadata": {
        "_uuid": "358db5c8fd2df30242a4574cb618b952e9b93031"
      },
      "cell_type": "markdown",
      "source": "#### RMSE\n\nRemember the evaluation metric that Kaggle is going to use for this competition is the Root Mean Squared Log Error (**RMSLE**) between the actual and predicted auction prices.\n- Because we **already took the log** of the prices, we can use the Root Mean Squared Error (RMSE) instead.\n\nThe **RMSE** is an evaluation metric that expresses the **average error of the model predictions** by comparing the predicted values with the actual known values.\n- The score can range from **0** (best score possible, never achieved in practice) to **∞**, so the **lower the score the better**.\n\n#### R Squared\n\nThe coefficient of determination R^2 (**R squared**) is an evaluation metric for regression problems that essentially tells us **how good is our model** compared with **a model that just predicts the average** of the target (saleprice) all the time .\n- The **best** possible score is **1**.\n- The score of the **average** model is **0**.\n- A **negative** score means the model is even **worse** than simply predicting the average of the target."
    },
    {
      "metadata": {
        "trusted": true,
        "_uuid": "5331aeb40115aede720da438ca98e4263a6bdb2d",
        "collapsed": true
      },
      "cell_type": "code",
      "source": "# import numpy\nimport numpy as np\n\n# create a function that takes the RMSE\ndef rmse(pred,known): return np.sqrt(((pred-known)**2).mean())\n\n# create a function that rounds to 5 decimal places (like kaggle leaderboard)\ndef rounded(value): return np.round(value, 5)\n\n# create a function that prints a list of 4 scores, rounded:\n# [RMSE of X_train, RMSE of X_valid, R Squared of X_train, R Squared of X_valid]\ndef print_scores(model):\n    RMSE_train = rmse(model.predict(X_train), y_train)\n    RMSE_valid = rmse(model.predict(X_valid), y_valid)\n    R2_train = model.score(X_train, y_train)\n    R2_valid = model.score(X_valid, y_valid)\n    scores = [rounded(RMSE_train), rounded(RMSE_valid), rounded(R2_train), rounded(R2_valid)]\n    if hasattr(m, 'oob_score_'): scores.append(m.oob_score_) # appends OOB score (if any) to the list \n    print(scores)",
      "execution_count": null,
      "outputs": []
    },
    {
      "metadata": {
        "scrolled": true,
        "trusted": true,
        "_uuid": "bda494c477d0317fb9191239fac61c9bcf38c721",
        "collapsed": true
      },
      "cell_type": "code",
      "source": "df_raw.head()",
      "execution_count": null,
      "outputs": []
    },
    {
      "metadata": {
        "_uuid": "28f44ad5b6555e0332d5d1880e80835bf0a80a17"
      },
      "cell_type": "markdown",
      "source": "## Subsampling\nWhen we are **interpreting our model**, we are not striving for prediction accuracy but for insights into the data.\n- We want a model that indicates the nature of the **relationships betwen features**.\n- We want it to be **reliable enough** so we can trust our interpetratons of its results.\n- There's **no need** to use the **full dataset** on each tree if we just want to get an accurate enough random forest.\n- Using a **subset** will be faster and will allow us to do more iterations.\n- We should use a **big enough subsample** to get similar results each time we run the same analysis.\n"
    },
    {
      "metadata": {
        "collapsed": true,
        "trusted": true,
        "_uuid": "7c5862691e408b8a08618b48a2ba94fc6e9a9ff9"
      },
      "cell_type": "code",
      "source": "# import set_rf_samples\nfrom fastai.structured import set_rf_samples\n\n# set random subsample size to 50,000 rows\nset_rf_samples(50000)",
      "execution_count": null,
      "outputs": []
    },
    {
      "metadata": {
        "trusted": true,
        "_uuid": "9185f73c4de7ef50a3df7da1f5a0c5a37fb0e6d8",
        "collapsed": true
      },
      "cell_type": "code",
      "source": "# import the class\nfrom sklearn.ensemble import RandomForestRegressor\n\n# instantiate the model with the parameters of the last lesson\nm = RandomForestRegressor(n_estimators=40, min_samples_leaf=3, max_features=0.5, n_jobs=-1, oob_score=True,\n                          random_state=17190)\n\n# fit the model with data and calculate the running time\n%time m.fit(X_train, y_train)\n\n# [RMSE of X_train, RMSE of X_valid, R Squared of X_train, R Squared of X_valid, OOB score]\nprint_scores(m)",
      "execution_count": null,
      "outputs": []
    },
    {
      "metadata": {
        "_uuid": "711df28fc5be924420f7142806bf58a8ca7e0193"
      },
      "cell_type": "markdown",
      "source": "## Confidence based on tree variance\nTo give us a sense of **relative confidence** of predictions, we can use the **standard deviation** of the predictions.\n- The standard deviation is a measure that quantifies the **amount of variation** of a set of values ([source](https://en.wikipedia.org/wiki/Standard_deviation)).\n - A **low** standard deviation indicates that the data points tend to be **close to the mean**.\n - A **high** standard deviation indicates that the data points are spread out over a **wider range of values**. \n- We want to be more **cautious** with rows that have a higher standard deviation because they make our model give **inconsistent predictions**.\n\nWe'll create a function to store **the predictions for each individual tree**."
    },
    {
      "metadata": {
        "trusted": true,
        "_uuid": "3cd3cb5101c21a09d752ad176a9f3174854d6747",
        "collapsed": true
      },
      "cell_type": "code",
      "source": "# use a list comprehension to loop through the random forest and concatenates the predictions of each individual tree on a new axis\npreds = np.stack([tree.predict(X_valid) for tree in m.estimators_])\n\n# dimensions (rows, columns)\npreds.shape",
      "execution_count": null,
      "outputs": []
    },
    {
      "metadata": {
        "_uuid": "cc230d1247bc3e8f60544e93818d4038135cd00b"
      },
      "cell_type": "markdown",
      "source": "There are **40** sets of predictions (**trees**) with **12,000** values (**predictions**), which corresponds to the size of the validation set.\n\nNow we can **calculate the mean and the standard deviation of the predictions**, and more interestingly, we can **add that information to the dataset**.\n- We'll use the **df_raw**, because after `proc_df`, the dataset is all numbers and we want to be able to interpret its values.\n- We need to **split it again** because we are only interested in the rows of the **validation set**.\n- We'll **add two new columns** to the dataset: the **predictions** and the **standard deviation** of the predictions."
    },
    {
      "metadata": {
        "trusted": true,
        "_uuid": "ae62abaa12d34f549ab9834cc2b85ffa1b9c7619",
        "collapsed": true
      },
      "cell_type": "code",
      "source": "# split df_raw and conserve the part of the validation set\n_, raw_valid = split_vals(df_raw, split_point)\n\n# make a copy\nvalidation = raw_valid.copy()\n\n# add new column: calculated standard deviation over row axis\nvalidation['pred_std'] = np.std(preds, axis=0)\n\n# add new column: calculated mean over row axis\nvalidation['pred'] = np.mean(preds, axis=0)",
      "execution_count": null,
      "outputs": []
    },
    {
      "metadata": {
        "_uuid": "694e69ebdc09d727405d3b08d4025132564679eb"
      },
      "cell_type": "markdown",
      "source": "Now we can use that information, but to **what columns** do we have **to pay attention**?\n- We could try with the features that got selected in our **single small deterministic tree** from the [last lesson](https://www.kaggle.com/ailobe/fastai-ml1-lesson1-rf):\n - ProductSize, YearMade, fiSecondaryDesc, Hydraulics_Flow and ModelID.\n\nConsidering we are dealing with pieces of **heavy equipment**,  it's probably safe to assume that the **year** of **manufacture** and the **size** of the **machine** might be the most important features out of the selected in deciding the prize.\n- So let's take a look at YearMade and ProductSize."
    },
    {
      "metadata": {
        "trusted": true,
        "_uuid": "8f037a7e01bb0f0a648b99b9c5edc698cf21f903",
        "collapsed": true
      },
      "cell_type": "code",
      "source": "# plots the counts of the unique values of YearMade in the validation set\nvalidation.YearMade.value_counts(dropna=False).plot.bar(figsize=(15,4))",
      "execution_count": null,
      "outputs": []
    },
    {
      "metadata": {
        "trusted": true,
        "_uuid": "1b2ab840976f38dec154fb41ca9292a0d1209548",
        "collapsed": true
      },
      "cell_type": "code",
      "source": "# list of selected columns\ncolumns = ['YearMade', 'SalePrice', 'pred', 'pred_std']\n\n# dataframe of selected columns with the rows grouped by the values in YearMade [index 0]\n# and with the calculated mean of 'SalePrice', 'pred', 'pred_std'\nyear = validation[columns].groupby(columns[0]).mean()\n\n# dimensions (rows, columns)\nprint(year.shape)\n\n# 10 first rows sorted descendingly\nyear.sort_values(by=['pred_std'],ascending=False).head(10)",
      "execution_count": null,
      "outputs": []
    },
    {
      "metadata": {
        "_uuid": "e668d2099348a3bf6fc6a45c606f5fb70171deef"
      },
      "cell_type": "markdown",
      "source": "Out of 55 possible values, these are the YearMade values that have the rows with more standard deviation in the prediction (so are less accurate).\n- Except for YearMade 1000, all the other rows have very **little unique value counts**."
    },
    {
      "metadata": {
        "trusted": true,
        "_uuid": "023453850f8a53632b5e16e6b1ea636127c4ddd7",
        "collapsed": true
      },
      "cell_type": "code",
      "source": "# plots the counts of the unique values of ProductSize in the validation set\nvalidation.ProductSize.value_counts(dropna=False).plot.barh()",
      "execution_count": null,
      "outputs": []
    },
    {
      "metadata": {
        "trusted": true,
        "_uuid": "9ec2b8ef6eff238dafba165c23fe60d604fea119",
        "collapsed": true
      },
      "cell_type": "code",
      "source": "# list of selected columns\ncolumns = ['ProductSize', 'SalePrice', 'pred', 'pred_std']\n\n# dataframe of selected columns with the rows grouped by the values in ProductSize [index 0]\n# and with the calculated mean of 'SalePrice', 'pred', 'pred_std'\nsize = validation[columns].groupby(columns[0]).mean()\n\n# calculates the ratio between mean standard deviation and mean prediction\n(size.pred_std/size.pred).sort_values(ascending=False)",
      "execution_count": null,
      "outputs": []
    },
    {
      "metadata": {
        "_uuid": "fdcd6460e9114fc90f7a644cfcdcc2c88a83055d"
      },
      "cell_type": "markdown",
      "source": "The ProductSize values that have the rows with more standard deviation in the prediction are: Large, Compact and Small, and they are also the smallest groups in the validation set.\n- In general, the random forest does a less good job predicting **small groups of data**.\n\n## Feature importance\nFeature importance tells us **which columns affect the predictions  the most**.\n-  We'll use a method from the **fastai library** called **`rf_feat_importance`** that uses the `feature_importances_` attribute from the [RandomForestRegressor](http://scikit-learn.org/stable/modules/generated/sklearn.ensemble.RandomForestRegressor.html) to return a dataframe with the columns and their importance in descending order.\n- It's an **easy way** to know which features are the most important. There are [other methods](http://scikit-learn.org/stable/auto_examples/ensemble/plot_forest_importances.html) to do it."
    },
    {
      "metadata": {
        "trusted": true,
        "_uuid": "7233963856318fd593632ad6ff0fb5505d6c1317",
        "collapsed": true
      },
      "cell_type": "code",
      "source": "# import rf_feat_importance\nfrom fastai.structured import rf_feat_importance\n\n# create a dataframe of the feature importance by passing the model and the training set\nfi = rf_feat_importance(m, X_train)\n\n# dimension (rows, columns)\nprint(fi.shape)\n\n# first 5 rows\nfi.head()",
      "execution_count": null,
      "outputs": []
    },
    {
      "metadata": {
        "trusted": true,
        "_uuid": "51cd223ab0c6816fd1fa243bf074d0b3e0ac2824",
        "collapsed": true
      },
      "cell_type": "code",
      "source": "# plot the feature importance of the column names in 'cols'\nfi.plot('cols', 'imp', 'bar', figsize=(15,4))",
      "execution_count": null,
      "outputs": []
    },
    {
      "metadata": {
        "_uuid": "76dbc4c8b7dfbd467b8f2f379600817a53e9bcc1"
      },
      "cell_type": "markdown",
      "source": "As one would expect, not all the features are equally important.\n- There are a **handful** of columns that are really **informative**, while most of them are not.\n\nWe want to **concentrate efforts** on the features that matter the most, so we might want to dispense with the least informative columns and **include** only the **most informative** ones in the **training set**.\n- The number of columns to include/exclude will depend on the **prediction performance**.\n- We want to make **just as good** a model than the model with all the columns, **but** hopefully **simpler** so it generalizes a little better.\n- If the model **gets worse**, we have **exluded too many** columns that weren't redundant after all.\n- We are going to **filter the columns** by importance value."
    },
    {
      "metadata": {
        "trusted": true,
        "_uuid": "8e13eb91cbb4962ee90e699e442b834bc0b9dad4",
        "collapsed": true
      },
      "cell_type": "code",
      "source": "# create a Series with the column names in 'cols' with a greater 'imp' value than 0.005\nto_keep = fi[fi.imp>0.005].cols\n\n# dimensions (rows,)\nlen(to_keep)",
      "execution_count": null,
      "outputs": []
    },
    {
      "metadata": {
        "_uuid": "0064d91e79406c079ba58e56175f5f27e9194224"
      },
      "cell_type": "markdown",
      "source": "Now we can create a **new dataset** that contain only the **selected columns**.\n- We'll need to **split** the dataframe again into separate training and validation sets.\n\nBefore fitting our model with the new training set we'll plot one more time the feature importance.\n- Chances are that those values will vary when we rerun `rf_feat_importance` on the newly trained model.\n- We' plot only the 10 most important columns so it's easier to see the changes happening there."
    },
    {
      "metadata": {
        "trusted": true,
        "_uuid": "8e2cf79c9b5284f46a2d92249774ed246be6042c",
        "collapsed": true
      },
      "cell_type": "code",
      "source": "# plot the feature importance of the first 10 columns\nfi[:10].plot('cols', 'imp', 'barh', figsize=(15,7))",
      "execution_count": null,
      "outputs": []
    },
    {
      "metadata": {
        "trusted": true,
        "_uuid": "a5aa25899ba84d63bd3d2d02e94b8d8b3b62651c",
        "collapsed": true
      },
      "cell_type": "code",
      "source": "# create a dataframe with the selected columns\nX_keep = X[to_keep].copy()\n\n# split X\nX_train, X_valid = split_vals(X_keep, split_point)",
      "execution_count": null,
      "outputs": []
    },
    {
      "metadata": {
        "scrolled": false,
        "trusted": true,
        "_uuid": "bf7191c2e1325bc7104a94f989c013e483958d53",
        "collapsed": true
      },
      "cell_type": "code",
      "source": "m = RandomForestRegressor(n_estimators=40, min_samples_leaf=3, max_features=0.5, n_jobs=-1, oob_score=True)\nm.fit(X_train, y_train)\nprint_scores(m)",
      "execution_count": null,
      "outputs": []
    },
    {
      "metadata": {
        "_uuid": "8f8ded3913287ade07e9a874eac4e7b790206c1e"
      },
      "cell_type": "markdown",
      "source": "It seems that our model is almost as good as before, although now it's a simpler model.\n- Previous score:\n- Let's **use this dataframe** from here. \n\nNow we'll see if the feature importances have changed after dropping redundant columns from the training set."
    },
    {
      "metadata": {
        "trusted": true,
        "_uuid": "f690064b7590608545ed05380a64ef0ee641bcbd",
        "collapsed": true
      },
      "cell_type": "code",
      "source": "# create a dataframe of the feature importance\nfi = rf_feat_importance(m, X_train)\n\n# plot the feature importance of the first 10 columns \nfi[:10].plot('cols', 'imp', 'barh', figsize=(15,7))",
      "execution_count": null,
      "outputs": []
    },
    {
      "metadata": {
        "_uuid": "d212fd7e5c3a483b0ea3324aba583653e76ecda0"
      },
      "cell_type": "markdown",
      "source": "When **redundant columns** are **removed** the **relationships** between those redundant columns and the most **informative columns** are also are removed .\n- Those relationships (**collinearity**) between columns can have an effect on the **feature importance** of some of the columns. \n\nThe are 4 columns that stand out from the rest in terms of its feature importance. Let's take a closer look at them."
    },
    {
      "metadata": {
        "trusted": true,
        "_uuid": "94504c3135090f8d1950525501205fb7fa90b6da",
        "collapsed": true
      },
      "cell_type": "code",
      "source": "# dtypes in the DataFrame\nprint(df_raw[['YearMade','ProductSize','Coupler_System','fiProductClassDesc']].dtypes)\n\n# generate descriptive statistics of all columns\ndf_raw[['YearMade','ProductSize','Coupler_System','fiProductClassDesc']].describe(include='all')",
      "execution_count": null,
      "outputs": []
    },
    {
      "metadata": {
        "_uuid": "a3de3e0573ade5ca33722e179fa5f1cb726b97c5"
      },
      "cell_type": "markdown",
      "source": "Now that we know that 3 of the 4 most informative columns are categorical variables, we might want to make some modifications so our model can use the information in this categories a little better.\nThe way the categories are encoded right now, there are lots of possible values encoded in the same column.\n- That has worked fine until now, but we can try a different approach so it doesn't take the random forest so many decisions to find valuable insights."
    },
    {
      "metadata": {
        "_uuid": "9e9d3e2d8e572921a30285b3f82551708744fd0b"
      },
      "cell_type": "markdown",
      "source": "# Lecture 4\nIt is recommended to [watch the video-lecture first](https://youtu.be/0v93qHDqq_g), then follow the notebook."
    },
    {
      "metadata": {
        "hidden": true,
        "_uuid": "f21665edfc095965b61f2eb29a4ba9a3f0b2e8f2"
      },
      "cell_type": "markdown",
      "source": "## One-hot encoding\nOne-hot encoding, like dummy encoding for lineal models, works by recoding all the categorical values in **different columns** with **zeroes** and **ones**. The difference is that one-hot encoding will create n number columns and dummy encoding will create n-1 ([source](https://stats.stackexchange.com/questions/224051/one-hot-vs-dummy-encoding-in-scikit-learn)).\n- If new binary variables are added for each unique categorical value, it takes the random forest only **one step to decide** if it's the best split point.\n- We can use the optional parameter `max_n_cat` in **`proc_df`**, to do **selective one-hot encoding**.\n- It will turn categorical variables into new columns only if their number of categories is **less or equal to chosen value**.\n- Considering the three categorical variables we are interested have 6, 2 and 74 unique values, we might want set **`max_n_cat` to 7** so these two columns are included.\n\nNow some of these new columns may prove to have more important features than in the earlier situation, where all categories were in one column.\n- We'll use `proc_df` with the new parameter and split the dataframe again."
    },
    {
      "metadata": {
        "hidden": true,
        "trusted": true,
        "_uuid": "52297412bc281a68ab5998741ac3fc54cd71054c",
        "collapsed": true
      },
      "cell_type": "code",
      "source": "X_one_hot, _, nas = proc_df(df_raw, 'SalePrice', max_n_cat=7)\nX_train, X_valid = split_vals(X_one_hot, split_point)\n\nm = RandomForestRegressor(n_estimators=40, min_samples_leaf=3, max_features=0.6, n_jobs=-1, oob_score=True)\nm.fit(X_train, y_train)\nprint_scores(m)",
      "execution_count": null,
      "outputs": []
    },
    {
      "metadata": {
        "hidden": true,
        "trusted": true,
        "_uuid": "ad17b3f46cba5e87c9f10cedef04b76baff17a62",
        "collapsed": true
      },
      "cell_type": "code",
      "source": "# create a dataframe of the feature importance\nfi = rf_feat_importance(m, X_train)\n\n# plot the feature importance of the first 10 columns\nfi[:10].plot('cols', 'imp', 'barh', figsize=(15,7))",
      "execution_count": null,
      "outputs": []
    },
    {
      "metadata": {
        "_uuid": "0b462ebbf7960f360f719437a07bed2b90973315"
      },
      "cell_type": "markdown",
      "source": "More important that a slight decrease or increase in accuracy are the **insights gathered** through this approach.\n- Now we know which **categorical values** are the most important and we'll use this information in further analysis when we look at partial dependence."
    },
    {
      "metadata": {
        "_uuid": "30dbe6d6c346db7089ef15d7d99aab81d74ac6ca"
      },
      "cell_type": "markdown",
      "source": "# Removing redundant features"
    },
    {
      "metadata": {
        "_uuid": "7349fe5a856283ec44899ec2872182f9b0617c99"
      },
      "cell_type": "markdown",
      "source": "We can use cluster analysis to better understand the relationships between variables. Clustering essentially means grouping objects by similarity in groups called clusters.\n\nWe'll use **hierarchical clustering** (also called agglomerative clustering) which is a method of cluster analysis that builds **nested clusters** represented as a tree diagram (or dendrogram).\n- We'll use the [scipy's hierarchical clustering](https://docs.scipy.org/doc/scipy/reference/cluster.hierarchy.html): **`scipy.cluster.hierarchy`**. \n- All that is used is a **matrix** of distances, that reflects cluster similarity, and a **method** to calculate the distances between clusters which produces a **linkage matrix**.\n- To create a matrix of distances we need a **distance metric** or correlation coefficient.\n- We'll use Spearman correlation coefficient because is a **nonparametric** metric, apropiate for our model (decision trees are nonparametric).\n - We'll use the [scipy's Spearman correlation](https://docs.scipy.org/doc/scipy/reference/generated/scipy.stats.spearmanr.html): **`scipy.stats.spearmanr`**.\n- The [method](https://en.wikipedia.org/wiki/UPGMA) used to perform the clustering it's called [average linkage](https://docs.scipy.org/doc/scipy/reference/generated/scipy.cluster.hierarchy.average.html#scipy.cluster.hierarchy.average): **`scipy.cluster.hierarchy.average`**.\n- Finally, we'll plot the [dendrogram](https://docs.scipy.org/doc/scipy-0.14.0/reference/generated/scipy.cluster.hierarchy.dendrogram.html): **`scipy.cluster.hierarchy.dendrogram`**.\n\nSources: [1](https://en.wikipedia.org/wiki/Cluster_analysis), [2](https://en.wikipedia.org/wiki/Hierarchical_clustering), [3](https://joernhees.de/blog/2015/08/26/scipy-hierarchical-clustering-and-dendrogram-tutorial/)."
    },
    {
      "metadata": {
        "trusted": true,
        "_uuid": "64b3c9d519d16493eed0e1c52a1c48de2c6d593a",
        "collapsed": true
      },
      "cell_type": "code",
      "source": "# import stats\nfrom scipy import stats\n\n# create distance matrix\nmatrix = stats.spearmanr(X_keep).correlation\n\n# show distance matrix as a dataframe for demostration\npd.DataFrame(matrix)",
      "execution_count": null,
      "outputs": []
    },
    {
      "metadata": {
        "trusted": true,
        "_uuid": "83661b1a467efd2cea0d96df10ef0c942898df7a",
        "collapsed": true
      },
      "cell_type": "code",
      "source": "# import average linkage\nfrom scipy.cluster.hierarchy import average\n\n# create linkage matrix\nlinkage = average(matrix)\n\n# show linkage matrix as a dataframe for demostration\npd.DataFrame(linkage)",
      "execution_count": null,
      "outputs": []
    },
    {
      "metadata": {
        "trusted": true,
        "_uuid": "0452e18edff825d10df09838ac3fd2240a53b81a",
        "collapsed": true
      },
      "cell_type": "code",
      "source": "# import dendrogram\nfrom scipy.cluster.hierarchy import dendrogram\n\n# import matplotlib\nimport matplotlib.pyplot as plt\n\n# set the size of the figure (plot container)\nplt.figure(figsize=(15,7))\n\n# plot dendrogram (inside figure)\ndendrogram(linkage, labels=X_keep.columns, orientation='left', leaf_font_size=16)\n\n# display figure\nplt.show()",
      "execution_count": null,
      "outputs": []
    },
    {
      "metadata": {
        "_uuid": "aaac33524a72ec078c66c0cc7b369fe531c77b3d"
      },
      "cell_type": "markdown",
      "source": "There are **4 groups** of very similar variables (the numbers measure dissimiliraty) compared to the rest, so there's a chance some of them might be redundant:\n- saleYear and saleElapsed\n- ProductGroup and ProductGroupDesc\n- fiBaseModel and fiModelDesc\n- Grouser_Tracks, Coupler_System and Hydraulics_Flow\n\nLet's try removing some of these related features to see if the model can be simplified without impacting the accuracy.\n- We'll create a function that give us the only the oob_score and we'll remove each variables one at a time to see what impacts does it make."
    },
    {
      "metadata": {
        "collapsed": true,
        "scrolled": false,
        "trusted": true,
        "_uuid": "19a9fdf1a8ebcbd426944d359ecfe1e669bb8192"
      },
      "cell_type": "code",
      "source": "# create a function that takes a dataframe as argument and returns the oob_score of a random forest trained on that fataframe\ndef get_oob(dataframe):\n    m = RandomForestRegressor(n_estimators=30, min_samples_leaf=5, max_features=0.6, n_jobs=-1, oob_score=True)\n    X, _ = split_vals(dataframe, split_point)\n    m.fit(X, y_train)\n    return m.oob_score_",
      "execution_count": null,
      "outputs": []
    },
    {
      "metadata": {
        "trusted": true,
        "_uuid": "eb64d73f5e479bb99696fd4548d65d838668737f",
        "collapsed": true
      },
      "cell_type": "code",
      "source": "# baseline to compare to\nget_oob(X_keep)",
      "execution_count": null,
      "outputs": []
    },
    {
      "metadata": {
        "trusted": true,
        "_uuid": "1f2f76ac10f5429b94410123f6934be990231ce4",
        "collapsed": true
      },
      "cell_type": "code",
      "source": "# loop through the selected columns and print the oob_score with that column removed from the dataframe\nfor column in ('saleYear', 'saleElapsed',\n               'ProductGroup' ,'ProductGroupDesc',\n               'fiBaseModel','fiModelDesc',\n               'Grouser_Tracks', 'Coupler_System', 'Hydraulics_Flow'):\n    print(column, get_oob(X_keep.drop(column, axis=1)))",
      "execution_count": null,
      "outputs": []
    },
    {
      "metadata": {
        "_uuid": "61a326349dbcb21c420357bcc75bea9f20eae511"
      },
      "cell_type": "markdown",
      "source": "Removing any of these columns doesn't affect drastically the accuracy of the model, so it looks like we can try to remove one from each group. Let's see what that does."
    },
    {
      "metadata": {
        "trusted": true,
        "_uuid": "485ed122906bd75e82ac99a7162506dab7d43506",
        "collapsed": true
      },
      "cell_type": "code",
      "source": "# list of columns names\nto_drop = ['saleYear', 'ProductGroupDesc', 'fiBaseModel', 'Hydraulics_Flow']\n\n# returns oob_score with the selected columns removed\nget_oob(X_keep.drop(to_drop, axis=1))",
      "execution_count": null,
      "outputs": []
    },
    {
      "metadata": {
        "_uuid": "30a21d69ee0c911286e0e1fd1ac1fcc2716d9af0"
      },
      "cell_type": "markdown",
      "source": "It seems that our model is almost as good as before, although now it's a simpler model.\n- Let's **use this dataframe** from here. "
    },
    {
      "metadata": {
        "collapsed": true,
        "trusted": true,
        "_uuid": "2b40a1aea19877940140f42f220da5ed30b5b49f"
      },
      "cell_type": "code",
      "source": "# drop inplace the selected columns from X_keep\nX_keep.drop(to_drop, axis=1, inplace=True)\n\n# split X_keep\nX_train, X_valid = split_vals(X_keep, split_point)",
      "execution_count": null,
      "outputs": []
    },
    {
      "metadata": {
        "_uuid": "9ab28df23304df7d59d71f4f439ee71ae376fad3"
      },
      "cell_type": "markdown",
      "source": "And let's see how this model looks on the **full dataset**."
    },
    {
      "metadata": {
        "trusted": true,
        "_uuid": "daabd4d5c344cf0ae8f96ec3d76ae853a21f206e",
        "collapsed": true
      },
      "cell_type": "code",
      "source": "# import reset_rf_samples\nfrom fastai.structured import reset_rf_samples\n\n# use full bootstrap sample\nreset_rf_samples()",
      "execution_count": null,
      "outputs": []
    },
    {
      "metadata": {
        "scrolled": true,
        "trusted": true,
        "_uuid": "01a928a68abe960605823e6450dcc1133dce2b5d",
        "collapsed": true
      },
      "cell_type": "code",
      "source": "m = RandomForestRegressor(n_estimators=40, min_samples_leaf=3, max_features=0.5, n_jobs=-1, oob_score=True)\nm.fit(X_train, y_train)\nprint_scores(m)",
      "execution_count": null,
      "outputs": []
    },
    {
      "metadata": {
        "heading_collapsed": true,
        "_uuid": "23219d86b4760031ca4b6d0df505f167e074a521"
      },
      "cell_type": "markdown",
      "source": "# Partial dependence\nTo investigate the interactions between the features and the target, we can use graphical tools like [partial dependence plots](https://www.kaggle.com/dansbecker/partial-dependence-plots).\n- Partial dependence plots show **how** each **variable affects** the model's **predictions**.\n- We won't use the whole dataframe for the partial dependence plots because we don't need that much information.\n - We'll use a method from the fastai library, **`get_sample`**, to \"get a random sample of n rows from df, without replacement\".\n- We'll use 1-hot encoding (`max_n_cat` parameter in `proc_df`) and subsampling (`set_rf_samples`).\n\nWe've [added a custom package](https://www.kaggle.com/docs/kernels#modifying-the-default-environment) to the kernel enviroment, **pdpbox**, because it makes tha task easier, but there are [other ways](https://www.kaggle.com/dansbecker/partial-dependence-plots) to create partial dependence plots."
    },
    {
      "metadata": {
        "collapsed": true,
        "hidden": true,
        "trusted": true,
        "_uuid": "a9ed1b1568a75d573a0bea882866b05c71b74e34"
      },
      "cell_type": "code",
      "source": "set_rf_samples(50000)",
      "execution_count": null,
      "outputs": []
    },
    {
      "metadata": {
        "hidden": true,
        "trusted": true,
        "_uuid": "654e5435cc9f78f9923e84bb4103626d7e208ef9",
        "collapsed": true
      },
      "cell_type": "code",
      "source": "X_one_hot, _, nas = proc_df(df_raw, 'SalePrice', max_n_cat=7)\nX_train, X_valid = split_vals(X_one_hot, split_point)\nm = RandomForestRegressor(n_estimators=40, min_samples_leaf=3, max_features=0.6, n_jobs=-1)\nm.fit(X_train, y_train)",
      "execution_count": null,
      "outputs": []
    },
    {
      "metadata": {
        "hidden": true,
        "trusted": true,
        "_uuid": "62fdb8e7d119dd957d65eaa413fe76f50047339c",
        "collapsed": true
      },
      "cell_type": "code",
      "source": "fi = rf_feat_importance(m, X_train)\nfi[:10].plot('cols', 'imp', 'barh', figsize=(15,4))",
      "execution_count": null,
      "outputs": []
    },
    {
      "metadata": {
        "_uuid": "8fb6001a61e92b674664b17c577082eb3839ca41"
      },
      "cell_type": "markdown",
      "source": "We'll plot partial dependence plots to know more about Enclosure and YearMade."
    },
    {
      "metadata": {
        "collapsed": true,
        "hidden": true,
        "trusted": true,
        "_uuid": "3bc2cda3268fe71ed48b487a8c5e28f47035c4e4"
      },
      "cell_type": "code",
      "source": "# import get_sample\nfrom fastai.structured import get_sample\n\n# random sample of 1000 rows from X_train\nX_sample = get_sample(X_train, 1000)",
      "execution_count": null,
      "outputs": []
    },
    {
      "metadata": {
        "trusted": true,
        "_uuid": "15d524f82bdfefd196021ef79b862e060459d453",
        "collapsed": true
      },
      "cell_type": "code",
      "source": "# import partial dependence calculator and plotter\nfrom pdpbox.pdp import pdp_isolate, pdp_plot\n\n# list of features names\nfeatures = ['Enclosure_EROPS', 'Enclosure_EROPS AC', 'Enclosure_EROPS w AC', 'Enclosure_NO ROPS', 'Enclosure_None or Unspecified', 'Enclosure_OROPS']\n\n# calculate partial dependence plot (model, dataframe, dataframe.columns, 'feature') \npdp = pdp_isolate(m, X_sample, X_sample.columns, features)\n\n# plot partial dependent plot (pdp_isolate, 'name')\npdp_plot(pdp, 'Enclosure')",
      "execution_count": null,
      "outputs": []
    },
    {
      "metadata": {
        "_uuid": "fc700b3e8de62dcb1258cf7d6c78d39a35159633"
      },
      "cell_type": "markdown",
      "source": "We can see clearly that 'Enclosure_EROPS w AC' drives the prices up.\n- Now maybe the time to know [what that term means](http://articles.extension.org/pages/66325/rollover-protective-structures).\n- We'll discover that EROPS means that the machine has an **enclosed cabin** and that makes it possible to have heating and **air conditioning**.\n\nBefore we look at YearMade, we need to fix the value YearMade 1000 that we saw earlier so it doesn't mess up with the plot."
    },
    {
      "metadata": {
        "trusted": true,
        "_uuid": "fb8d8fa0f522542c47d1ca867424338af95d9bb1",
        "collapsed": true
      },
      "cell_type": "code",
      "source": "pd.set_option('display.max_columns', None)\nX_train[X_train.YearMade == 1000].head()",
      "execution_count": null,
      "outputs": []
    },
    {
      "metadata": {
        "_uuid": "bc4a08724a48cd6ab72e47b7f729c01e3832bf19"
      },
      "cell_type": "markdown",
      "source": "Considering that has rows with Enclosure_EROPS w AC values, it can't be a category for machines so old that don't have any record.\n- It seems more likely to be a marker for missing values.\n- We'll just ignore it in the plot."
    },
    {
      "metadata": {
        "trusted": true,
        "_uuid": "27bd05b8a1d17b9f7193ad40658029d8f484053a",
        "collapsed": true
      },
      "cell_type": "code",
      "source": "# pick only rows that have a YearMade value larger than 1000\nX_sample = get_sample(X_train[X_train.YearMade>1000], 1000)\n\n# calculate partial dependence plot (model, dataframe, dataframe.columns, 'feature') \npdp = pdp_isolate(m, X_sample,X_sample.columns,'YearMade')\n\n# plot partial dependent plot (pdp_isolate, 'name')\npdp_plot(pdp, 'YearMade')",
      "execution_count": null,
      "outputs": []
    },
    {
      "metadata": {
        "_uuid": "d7b80052a51448721fe21351922ac705987943fe"
      },
      "cell_type": "markdown",
      "source": "Here the trend is also clear. The newer the machine, the more expensive it is.\n- Obvious if we consider that  'Enclosure_EROPS w AC' category won't comprise the older machines."
    },
    {
      "metadata": {
        "heading_collapsed": true,
        "_uuid": "0502512f25c32aa96fdc4896e677996e5c2a4f58"
      },
      "cell_type": "markdown",
      "source": "# Tree interpreter"
    },
    {
      "metadata": {
        "_uuid": "f59b8647c702810ff8967b57f3ecb2f6194f3f30"
      },
      "cell_type": "markdown",
      "source": "I've been unable to add a second custom package to the kernel enviroment so I'll **skip this section** for now. \n- [Tree interpreter](https://github.com/andosa/treeinterpreter) is a package for interpreting scikit-learn's decision tree and random forest predictions.\n- Allows decomposing each prediction into bias and feature contribution components as described in this [blog post](http://blog.datadive.net/random-forest-interpretation-with-scikit-learn/).\n- For the original code of this section, check out the [github repo](https://github.com/fastai/fastai/blob/master/courses/ml1/lesson2-rf_interpretation.ipynb); for the explanations, watch the [video-lecture](https://youtu.be/3jl2h9hSRvc?t=44m26s)."
    },
    {
      "metadata": {
        "_uuid": "c8962dfe9b6f78afe56376744f29c88c08914fe5"
      },
      "cell_type": "markdown",
      "source": "# Extrapolation"
    },
    {
      "metadata": {
        "_uuid": "0f609526df0f8d4e0ba846206d26f3ffcfb5a706"
      },
      "cell_type": "markdown",
      "source": "Random Forest **do not extrapolate**, wich basically means they cannot predict future trends. \n-  \"In a general sense, to extrapolate is to infer something that is not explicitly stated from existing information\" ([source](https://whatis.techtarget.com/definition/extrapolation-and-interpolation)).\n- Unlike linear models, random forests will never be able to predict values bigger or smaller than the max and min in the training data ([source](https://www.quantopian.com/posts/random-forest-unable-to-predict-outside-of-training-data)).\n- That means random forests are limited to short-range prediction, assuming the new data won't be much different from the original training data (sources: [1](http://www.breakingbayes.com/2017/05/30/detemporalized-random-forest-time-series-modeling/), [2](http://freerangestats.info/blog/2016/12/10/extrapolation)).\n\nLuckily, we are making **short-range predictions**, but even there extrapolation can be problematic.\n- One way to improve the ability of our model of predicting future prices is to try to detemporalize the training set.\n- That is to **avoid using time related variables** as predictors in order to force the model to find other variables that have a strong relationship with the oucome and that might work better when trying to predict the future.\n\nWe can use random forest **interpretation** to figure out the best way to **detemporalize** the training set.\n- We'll build a model that is the **opposite** of what we want: it will rely heavily on time related variables to make predictions.\n- Next, we'll use what it has learned as a **guide** of which variables not to use.\n- The way we do it is by performing a little **experiment**:\n - instead of training the model to predict the **price** (regression problem),\n - we are going to train it to predict if a given row can be found or not **in the validation set** (classification problem).\n- Since our validation set is new data in the near future, the model will need to learn which variables are more likely to appear in the **future**.\n- Essentially, this will force the model to recognize **temporal patterns** in the data that may be hidden to us.\n- Next, we'll use **feature importance** to know which variables have a stronger temporal component."
    },
    {
      "metadata": {
        "trusted": true,
        "_uuid": "5c07033836797a3e690aebc04c7d4dd98c534034",
        "collapsed": true
      },
      "cell_type": "code",
      "source": "# make a copy\nX = X_keep.copy()\n\n# create a new target column (empty)\nX['in_validation_set'] = None\n\n# set rows in the training set to False (up to last 12000 rows)\nX.in_validation_set[:split_point] = False\n\n# set rows in the validation set to True (last 12000 rows)\nX.in_validation_set[split_point:] = True\n\n# split X, y\nX, y, nas = proc_df(X, 'in_validation_set')",
      "execution_count": null,
      "outputs": []
    },
    {
      "metadata": {
        "scrolled": false,
        "trusted": true,
        "_uuid": "259fb6337883f2bfa818b929e528b462332d2f6b",
        "collapsed": true
      },
      "cell_type": "code",
      "source": "# import the class\nfrom sklearn.ensemble import RandomForestClassifier\n\nm = RandomForestClassifier(n_estimators=40, min_samples_leaf=3, max_features=0.5, n_jobs=-1, oob_score=True)\nm.fit(X, y)\nm.oob_score_ # if the validation set was random (not time dependent), this experiment would not work and the oob error would be bad (far from 1).",
      "execution_count": null,
      "outputs": []
    },
    {
      "metadata": {
        "scrolled": true,
        "trusted": true,
        "_uuid": "cf0a96091db46175bcaa852ba47ce9fc5abdfc00",
        "collapsed": true
      },
      "cell_type": "code",
      "source": "# create a dataframe of the feature importance\nfi = rf_feat_importance(m, X)\n\n# plot the feature importance of first 5 columns\nfi.head().plot('cols', 'imp', 'barh')",
      "execution_count": null,
      "outputs": []
    },
    {
      "metadata": {
        "_uuid": "4f547f36d4f12fd287189788d5194402be1bc38f"
      },
      "cell_type": "markdown",
      "source": "Let's take a look at these columns.\n- SalesID: \"unique identifier of a particular sale of a machine at auction\".\n- saleElapsed:  It's a [unix timestamp](https://en.wikipedia.org/wiki/Unix_time) (time elapsed in seconds since a universal point in the past).\n - column created by add_datepart method from original column saledate:  \"time of sale\".\n- MachineID: \"identifier for a particular machine;  machines may have multiple sales\"."
    },
    {
      "metadata": {
        "trusted": true,
        "_uuid": "5c48bd64d6f5bb5bb05155400f596848e60cd1ae",
        "collapsed": true
      },
      "cell_type": "code",
      "source": "X['SalesID'].plot()",
      "execution_count": null,
      "outputs": []
    },
    {
      "metadata": {
        "trusted": true,
        "_uuid": "0f68bd83ff9bbf3a1489be207c3447b6b5164674",
        "collapsed": true
      },
      "cell_type": "code",
      "source": "X['saleElapsed'].plot()",
      "execution_count": null,
      "outputs": []
    },
    {
      "metadata": {
        "trusted": true,
        "_uuid": "6554e719c6062226f9acde49cec2abafd7a4f4eb",
        "collapsed": true
      },
      "cell_type": "code",
      "source": "X['MachineID'].plot()",
      "execution_count": null,
      "outputs": []
    },
    {
      "metadata": {
        "_uuid": "1f4a9b995d89a519393976ad43b81907ed82be5c"
      },
      "cell_type": "markdown",
      "source": "Clearly there is a pattern in the validation set that the model has learnt which suggest a strong temporal component.\n- Let's try to remove these variables one at a time to see how the model perfoms."
    },
    {
      "metadata": {
        "trusted": true,
        "_uuid": "10f141e05b33ae9fafb3f530c20a7d958da762c2",
        "collapsed": true
      },
      "cell_type": "code",
      "source": "# baseline to compare to\n\nX_train, X_valid = split_vals(X_keep, split_point)\nm = RandomForestRegressor(n_estimators=40, min_samples_leaf=3, max_features=0.5, n_jobs=-1, oob_score=True)\nm.fit(X_train, y_train)\nprint_scores(m)",
      "execution_count": null,
      "outputs": []
    },
    {
      "metadata": {
        "trusted": true,
        "_uuid": "b8c76e5a6f7561c45b95f6a428fea459b84bc9fa",
        "collapsed": true
      },
      "cell_type": "code",
      "source": "# loop through the selected columns and print the scores of a random forest trained with that column removed from the training set.\nfor column in ('SalesID', 'saleElapsed', 'MachineID'):\n    X_train, X_valid = split_vals(X_keep.drop(column, axis=1), split_point)\n    m = RandomForestRegressor(n_estimators=40, min_samples_leaf=3, max_features=0.5, n_jobs=-1, oob_score=True)\n    m.fit(X_train, y_train)\n    print(column)\n    print_scores(m)",
      "execution_count": null,
      "outputs": []
    },
    {
      "metadata": {
        "_uuid": "833f7f0c99f0ab559ed0a390c66a677b62783d13"
      },
      "cell_type": "markdown",
      "source": "Let's drop the ones that improved our score and try the model on the **full dataset**.\n"
    },
    {
      "metadata": {
        "collapsed": true,
        "trusted": true,
        "_uuid": "64c5702e1dacd5e6f23ef4f08c38a1043b5d13b5"
      },
      "cell_type": "code",
      "source": "# use full bootstrap sample\nreset_rf_samples()",
      "execution_count": null,
      "outputs": []
    },
    {
      "metadata": {
        "trusted": true,
        "_uuid": "d579894b6c7fef65555eccd12ef695f147cb957e",
        "collapsed": true
      },
      "cell_type": "code",
      "source": "X_train, X_valid = split_vals(X_keep.drop(['SalesID', 'MachineID'], axis=1), split_point)\nm = RandomForestRegressor(n_estimators=40, min_samples_leaf=3, max_features=0.5, n_jobs=-1, oob_score=True)\nm.fit(X_train, y_train)\nprint_scores(m)",
      "execution_count": null,
      "outputs": []
    },
    {
      "metadata": {
        "trusted": true,
        "_uuid": "788a7bfbbff1aaceadeb009831f8c8887b817da8",
        "collapsed": true
      },
      "cell_type": "code",
      "source": "# plot the feature importance of the column names in 'cols'\nrf_feat_importance(m, X_train).plot('cols', 'imp', 'barh', figsize=(12,7))",
      "execution_count": null,
      "outputs": []
    },
    {
      "metadata": {
        "_uuid": "794b824af1852385f3f5d40698e571203749f69e"
      },
      "cell_type": "markdown",
      "source": "# Final model"
    },
    {
      "metadata": {
        "_uuid": "3539d760fac54d8244b47a80a407e0ae9e55f819"
      },
      "cell_type": "markdown",
      "source": "Let's train it one last time using more trees."
    },
    {
      "metadata": {
        "trusted": true,
        "_uuid": "5539669f9c09f9c696cde6243a6fe1c8ef57055c",
        "collapsed": true
      },
      "cell_type": "code",
      "source": "m = RandomForestRegressor(n_estimators=160, max_features=0.5, n_jobs=-1, oob_score=True)\n%time m.fit(X_train, y_train)\nprint_scores(m)",
      "execution_count": null,
      "outputs": []
    }
  ],
  "metadata": {
    "kernelspec": {
      "display_name": "Python 3",
      "language": "python",
      "name": "python3"
    },
    "language_info": {
      "name": "python",
      "version": "3.6.6",
      "mimetype": "text/x-python",
      "codemirror_mode": {
        "name": "ipython",
        "version": 3
      },
      "pygments_lexer": "ipython3",
      "nbconvert_exporter": "python",
      "file_extension": ".py"
    },
    "toc": {
      "colors": {
        "hover_highlight": "#DAA520",
        "navigate_num": "#000000",
        "navigate_text": "#333333",
        "running_highlight": "#FF0000",
        "selected_highlight": "#FFD700",
        "sidebar_border": "#EEEEEE",
        "wrapper_background": "#FFFFFF"
      },
      "moveMenuLeft": true,
      "nav_menu": {
        "height": "512px",
        "width": "252px"
      },
      "navigate_menu": true,
      "number_sections": true,
      "sideBar": true,
      "threshold": 4,
      "toc_cell": false,
      "toc_section_display": "block",
      "toc_window_display": false,
      "widenNotebook": false
    }
  },
  "nbformat": 4,
  "nbformat_minor": 1
}