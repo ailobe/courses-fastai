{
  "nbformat": 4,
  "nbformat_minor": 0,
  "metadata": {
    "colab": {
      "name": "lesson1-rf.ipynb",
      "version": "0.3.2",
      "views": {},
      "default_view": {},
      "provenance": [],
      "collapsed_sections": []
    },
    "kernelspec": {
      "display_name": "Python 3",
      "language": "python",
      "name": "python3"
    },
    "accelerator": "GPU"
  },
  "cells": [
    {
      "metadata": {
        "id": "eirndQVvL9_Q",
        "colab_type": "text"
      },
      "cell_type": "markdown",
      "source": [
        "# Machine Learning 1"
      ]
    },
    {
      "metadata": {
        "id": "YtZr67xsQ2YO",
        "colab_type": "text"
      },
      "cell_type": "markdown",
      "source": [
        "## About this course\n",
        "Some machine learning courses can leave you confused by the enormous range of techniques shown and can make it difficult to have a practical understanding of how to apply them.\n",
        "\n",
        "The good news is that modern machine learning can be distilled down to a couple of key techniques that are of very wide applicability. Recent studies have shown that the vast majority of datasets can be best modeled with just two methods:\n",
        "\n",
        "- **Ensembles of decision trees** (i.e. Random Forests and Gradient Boosting Machines), mainly for **structured data** (such as you might find in a database table at most companies)\n",
        "- **Multi-layered neural networks learnt with Stochastic Gradient Descent** (SGD) (i.e. shallow and/or deep learning), mainly for **unstructured data** (such as audio, vision, and natural language)\n",
        "\n",
        "### The lessons\n",
        "In this course we'll be learning about:\n",
        "- **Random Forests** \n",
        "- **Stochastic Gradient Descent**.\n",
        "- **Gradient Boosting** \n",
        "- **Deep Learning**\n",
        "\n",
        "### The dataset\n",
        "We will be teaching the course using the [Blue Book for Bulldozers Kaggle Competition](https://www.kaggle.com/c/bluebook-for-bulldozers): \n",
        "- \"The goal of the contest is to predict the sale price of a particular piece of heavy equiment at auction based on it's usage, equipment type, and configuration. The data is sourced from auction result postings and includes information on usage and equipment configurations.\"\n"
      ]
    },
    {
      "metadata": {
        "id": "MWR-ORFuW1fJ",
        "colab_type": "text"
      },
      "cell_type": "markdown",
      "source": [
        "# Google Colab\n",
        "The notebooks of this series are to be runned in Google Colab using the **free GPU**.\n",
        "\n",
        "Let's confirm that the GPU is enabled ([source](https://colab.research.google.com/notebooks/gpu.ipynb#scrollTo=3IEVK-KFxi5Z)). If not, simply select \"GPU\" in the Notebook **Runtime** Settings (**change runtime type**)."
      ]
    },
    {
      "metadata": {
        "id": "dz8uBZqIXrk2",
        "colab_type": "code",
        "colab": {
          "autoexec": {
            "startup": false,
            "wait_interval": 0
          },
          "base_uri": "https://localhost:8080/",
          "height": 34
        },
        "outputId": "961fe855-17ad-477a-d18a-202e187e4ec6",
        "executionInfo": {
          "status": "ok",
          "timestamp": 1533319204470,
          "user_tz": -120,
          "elapsed": 8310,
          "user": {
            "displayName": "Aitor Lopez Beltran",
            "photoUrl": "//lh4.googleusercontent.com/-kAX-3fy5FU0/AAAAAAAAAAI/AAAAAAAAAAU/ogUhdJGBADs/s50-c-k-no/photo.jpg",
            "userId": "101613793608418592140"
          }
        }
      },
      "cell_type": "code",
      "source": [
        "import tensorflow as tf\n",
        "device_name = tf.test.gpu_device_name()\n",
        "if device_name != '/device:GPU:0':\n",
        "  raise SystemError('GPU device not found')\n",
        "print('Found GPU at: {}'.format(device_name))"
      ],
      "execution_count": 1,
      "outputs": [
        {
          "output_type": "stream",
          "text": [
            "Found GPU at: /device:GPU:0\n"
          ],
          "name": "stdout"
        }
      ]
    },
    {
      "metadata": {
        "id": "rO7LCDczYPo9",
        "colab_type": "text"
      },
      "cell_type": "markdown",
      "source": [
        "The notebooks have been adapted to run on little GPU ram (**564MB**), because that is what is available using Colab where I live.\n",
        "\n",
        "To  check how much GPU ram you have available, use the code below ([source](https://stackoverflow.com/questions/48750199/google-colaboratory-misleading-information-about-its-gpu-only-5-ram-available)) and check for 'GPU RAM Free''. "
      ]
    },
    {
      "metadata": {
        "id": "67AE3WEYZIj-",
        "colab_type": "code",
        "colab": {
          "autoexec": {
            "startup": false,
            "wait_interval": 0
          },
          "base_uri": "https://localhost:8080/",
          "height": 364
        },
        "outputId": "24be4491-114e-4080-9958-34714bb6c403",
        "executionInfo": {
          "status": "ok",
          "timestamp": 1533319215709,
          "user_tz": -120,
          "elapsed": 9563,
          "user": {
            "displayName": "Aitor Lopez Beltran",
            "photoUrl": "//lh4.googleusercontent.com/-kAX-3fy5FU0/AAAAAAAAAAI/AAAAAAAAAAU/ogUhdJGBADs/s50-c-k-no/photo.jpg",
            "userId": "101613793608418592140"
          }
        }
      },
      "cell_type": "code",
      "source": [
        "# memory footprint support libraries/code\n",
        "!ln -sf /opt/bin/nvidia-smi /usr/bin/nvidia-smi\n",
        "!pip install gputil\n",
        "!pip install psutil\n",
        "!pip install humanize\n",
        "import psutil\n",
        "import humanize\n",
        "import os\n",
        "import GPUtil as GPU\n",
        "GPUs = GPU.getGPUs()\n",
        "# XXX: only one GPU on Colab and isn’t guaranteed\n",
        "gpu = GPUs[0]\n",
        "def printm():\n",
        " process = psutil.Process(os.getpid())\n",
        " print(\"Gen RAM Free: \" + humanize.naturalsize( psutil.virtual_memory().available ), \" | Proc size: \" + humanize.naturalsize( process.memory_info().rss))\n",
        " print(\"GPU RAM Free: {0:.0f}MB | Used: {1:.0f}MB | Util {2:3.0f}% | Total {3:.0f}MB\".format(gpu.memoryFree, gpu.memoryUsed, gpu.memoryUtil*100, gpu.memoryTotal))\n",
        "printm()"
      ],
      "execution_count": 2,
      "outputs": [
        {
          "output_type": "stream",
          "text": [
            "Collecting gputil\n",
            "  Downloading https://files.pythonhosted.org/packages/45/99/837428d26b47ebd6b66d6e1b180e98ec4a557767a93a81a02ea9d6242611/GPUtil-1.3.0.tar.gz\n",
            "Requirement already satisfied: numpy in /usr/local/lib/python3.6/dist-packages (from gputil) (1.14.5)\n",
            "Building wheels for collected packages: gputil\n",
            "  Running setup.py bdist_wheel for gputil ... \u001b[?25l-\b \bdone\n",
            "\u001b[?25h  Stored in directory: /content/.cache/pip/wheels/17/0f/04/b79c006972335e35472c0b835ed52bfc0815258d409f560108\n",
            "Successfully built gputil\n",
            "Installing collected packages: gputil\n",
            "Successfully installed gputil-1.3.0\n",
            "Requirement already satisfied: psutil in /usr/local/lib/python3.6/dist-packages (5.4.6)\n",
            "Collecting humanize\n",
            "  Downloading https://files.pythonhosted.org/packages/8c/e0/e512e4ac6d091fc990bbe13f9e0378f34cf6eecd1c6c268c9e598dcf5bb9/humanize-0.5.1.tar.gz\n",
            "Building wheels for collected packages: humanize\n",
            "  Running setup.py bdist_wheel for humanize ... \u001b[?25l-\b \bdone\n",
            "\u001b[?25h  Stored in directory: /content/.cache/pip/wheels/69/86/6c/f8b8593bc273ec4b0c653d3827f7482bb2001a2781a73b7f44\n",
            "Successfully built humanize\n",
            "Installing collected packages: humanize\n",
            "Successfully installed humanize-0.5.1\n",
            "Gen RAM Free: 11.9 GB  | Proc size: 1.0 GB\n",
            "GPU RAM Free: 564MB | Used: 10875MB | Util  95% | Total 11439MB\n"
          ],
          "name": "stdout"
        }
      ]
    },
    {
      "metadata": {
        "id": "9Du69QZ8L-BJ",
        "colab_type": "text"
      },
      "cell_type": "markdown",
      "source": [
        "## Install fastai library"
      ]
    },
    {
      "metadata": {
        "id": "rNyDszRpSi9t",
        "colab_type": "code",
        "colab": {
          "autoexec": {
            "startup": false,
            "wait_interval": 0
          },
          "base_uri": "https://localhost:8080/",
          "height": 2711
        },
        "outputId": "868d8cb3-1dc3-4b81-a5a0-51f084178ea7",
        "executionInfo": {
          "status": "ok",
          "timestamp": 1533319362550,
          "user_tz": -120,
          "elapsed": 146802,
          "user": {
            "displayName": "Aitor Lopez Beltran",
            "photoUrl": "//lh4.googleusercontent.com/-kAX-3fy5FU0/AAAAAAAAAAI/AAAAAAAAAAU/ogUhdJGBADs/s50-c-k-no/photo.jpg",
            "userId": "101613793608418592140"
          }
        }
      },
      "cell_type": "code",
      "source": [
        "!pip install git+https://github.com/fastai/fastai.git"
      ],
      "execution_count": 3,
      "outputs": [
        {
          "output_type": "stream",
          "text": [
            "Collecting git+https://github.com/fastai/fastai.git\r\n",
            "  Cloning https://github.com/fastai/fastai.git to /tmp/pip-req-build-s4zwfhbw\n",
            "Collecting bcolz (from fastai==0.7.0)\n",
            "\u001b[?25l  Downloading https://files.pythonhosted.org/packages/5c/4e/23942de9d5c0fb16f10335fa83e52b431bcb8c0d4a8419c9ac206268c279/bcolz-1.2.1.tar.gz (1.5MB)\n",
            "\u001b[K    100% |████████████████████████████████| 1.5MB 8.5MB/s \n",
            "\u001b[?25hRequirement already satisfied: bleach in /usr/local/lib/python3.6/dist-packages (from fastai==0.7.0) (2.1.3)\n",
            "Requirement already satisfied: certifi in /usr/local/lib/python3.6/dist-packages (from fastai==0.7.0) (2018.4.16)\n",
            "Requirement already satisfied: cycler in /usr/local/lib/python3.6/dist-packages (from fastai==0.7.0) (0.10.0)\n",
            "Requirement already satisfied: decorator in /usr/local/lib/python3.6/dist-packages (from fastai==0.7.0) (4.3.0)\n",
            "Requirement already satisfied: entrypoints in /usr/local/lib/python3.6/dist-packages (from fastai==0.7.0) (0.2.3)\n",
            "Collecting feather-format (from fastai==0.7.0)\n",
            "  Downloading https://files.pythonhosted.org/packages/08/55/940b97cc6f19a19f5dab9efef2f68a0ce43a7632f858b272391f0b851a7e/feather-format-0.4.0.tar.gz\n",
            "Collecting graphviz (from fastai==0.7.0)\n",
            "  Downloading https://files.pythonhosted.org/packages/53/39/4ab213673844e0c004bed8a0781a0721a3f6bb23eb8854ee75c236428892/graphviz-0.8.4-py2.py3-none-any.whl\n",
            "Requirement already satisfied: html5lib in /usr/local/lib/python3.6/dist-packages (from fastai==0.7.0) (1.0.1)\n",
            "Requirement already satisfied: ipykernel in /usr/local/lib/python3.6/dist-packages (from fastai==0.7.0) (4.6.1)\n",
            "Requirement already satisfied: ipython in /usr/local/lib/python3.6/dist-packages (from fastai==0.7.0) (5.5.0)\n",
            "Requirement already satisfied: ipython-genutils in /usr/local/lib/python3.6/dist-packages (from fastai==0.7.0) (0.2.0)\n",
            "Collecting ipywidgets (from fastai==0.7.0)\n",
            "\u001b[?25l  Downloading https://files.pythonhosted.org/packages/ed/96/8ad75d90820d7e1a06fa0f4cc25521a5854e35e75f2b22e65299343a0c3d/ipywidgets-7.3.2-py2.py3-none-any.whl (110kB)\n",
            "\u001b[K    100% |████████████████████████████████| 112kB 10.6MB/s \n",
            "\u001b[?25hCollecting isoweek (from fastai==0.7.0)\n",
            "  Downloading https://files.pythonhosted.org/packages/c2/d4/fe7e2637975c476734fcbf53776e650a29680194eb0dd21dbdc020ca92de/isoweek-1.3.3-py2.py3-none-any.whl\n",
            "Collecting jedi (from fastai==0.7.0)\n",
            "\u001b[?25l  Downloading https://files.pythonhosted.org/packages/3d/68/8bbf0ef969095a13ba0d4c77c1945bd86e9811960d052510551d29a2f23b/jedi-0.12.1-py2.py3-none-any.whl (174kB)\n",
            "\u001b[K    100% |████████████████████████████████| 184kB 10.2MB/s \n",
            "\u001b[?25hRequirement already satisfied: Jinja2 in /usr/local/lib/python3.6/dist-packages (from fastai==0.7.0) (2.10)\n",
            "Requirement already satisfied: jsonschema in /usr/local/lib/python3.6/dist-packages (from fastai==0.7.0) (2.6.0)\n",
            "Collecting jupyter (from fastai==0.7.0)\n",
            "  Downloading https://files.pythonhosted.org/packages/83/df/0f5dd132200728a86190397e1ea87cd76244e42d39ec5e88efd25b2abd7e/jupyter-1.0.0-py2.py3-none-any.whl\n",
            "Requirement already satisfied: MarkupSafe in /usr/local/lib/python3.6/dist-packages (from fastai==0.7.0) (1.0)\n",
            "Requirement already satisfied: matplotlib in /usr/local/lib/python3.6/dist-packages (from fastai==0.7.0) (2.1.2)\n",
            "Requirement already satisfied: numpy in /usr/local/lib/python3.6/dist-packages (from fastai==0.7.0) (1.14.5)\n",
            "Requirement already satisfied: opencv-python in /usr/local/lib/python3.6/dist-packages (from fastai==0.7.0) (3.4.2.17)\n",
            "Requirement already satisfied: pandas in /usr/local/lib/python3.6/dist-packages (from fastai==0.7.0) (0.22.0)\n",
            "Collecting pandas_summary (from fastai==0.7.0)\n",
            "  Downloading https://files.pythonhosted.org/packages/97/55/ea54109a4e7a8e7342bdf23e9382c858224263d984b0d95610568e564f59/pandas_summary-0.0.5-py2.py3-none-any.whl\n",
            "Requirement already satisfied: pickleshare in /usr/local/lib/python3.6/dist-packages (from fastai==0.7.0) (0.7.4)\n",
            "Requirement already satisfied: Pillow in /usr/local/lib/python3.6/dist-packages (from fastai==0.7.0) (4.0.0)\n",
            "Collecting plotnine (from fastai==0.7.0)\n",
            "\u001b[?25l  Downloading https://files.pythonhosted.org/packages/fe/49/7af942bc63277dfca6ad397415f4cff60789c56d173b1f7edf0bd30e27e0/plotnine-0.4.0-py2.py3-none-any.whl (3.6MB)\n",
            "\u001b[K    100% |████████████████████████████████| 3.6MB 9.7MB/s \n",
            "\u001b[?25hRequirement already satisfied: ptyprocess in /usr/local/lib/python3.6/dist-packages (from fastai==0.7.0) (0.6.0)\n",
            "Requirement already satisfied: Pygments in /usr/local/lib/python3.6/dist-packages (from fastai==0.7.0) (2.1.3)\n",
            "Requirement already satisfied: pyparsing in /usr/local/lib/python3.6/dist-packages (from fastai==0.7.0) (2.2.0)\n",
            "Requirement already satisfied: python-dateutil in /usr/local/lib/python3.6/dist-packages (from fastai==0.7.0) (2.5.3)\n",
            "Requirement already satisfied: pytz in /usr/local/lib/python3.6/dist-packages (from fastai==0.7.0) (2018.5)\n",
            "Requirement already satisfied: PyYAML in /usr/local/lib/python3.6/dist-packages (from fastai==0.7.0) (3.13)\n",
            "Requirement already satisfied: pyzmq in /usr/local/lib/python3.6/dist-packages (from fastai==0.7.0) (16.0.4)\n",
            "Requirement already satisfied: scipy in /usr/local/lib/python3.6/dist-packages (from fastai==0.7.0) (0.19.1)\n",
            "Requirement already satisfied: seaborn in /usr/local/lib/python3.6/dist-packages (from fastai==0.7.0) (0.7.1)\n",
            "Requirement already satisfied: simplegeneric in /usr/local/lib/python3.6/dist-packages (from fastai==0.7.0) (0.8.1)\n",
            "Collecting sklearn_pandas (from fastai==0.7.0)\n",
            "  Downloading https://files.pythonhosted.org/packages/c5/9e/42d7bcddb09a3ff52d0c60c810ba5d0fded28abbe320c85bbf7368192956/sklearn_pandas-1.6.0-py2.py3-none-any.whl\n",
            "Requirement already satisfied: testpath in /usr/local/lib/python3.6/dist-packages (from fastai==0.7.0) (0.3.1)\n",
            "Collecting torch<0.4 (from fastai==0.7.0)\n",
            "\u001b[?25l  Downloading https://files.pythonhosted.org/packages/5b/a5/e8b50b55b1abac9f1e3346c4242f1e42a82d368a8442cbd50c532922f6c4/torch-0.3.1-cp36-cp36m-manylinux1_x86_64.whl (496.4MB)\n",
            "\u001b[K    0% |▏                               | 3.0MB 30.4MB/s eta 0:00:17"
          ],
          "name": "stdout"
        },
        {
          "output_type": "stream",
          "text": [
            "\u001b[K    100% |████████████████████████████████| 496.4MB 36kB/s \n",
            "\u001b[?25hCollecting torchtext (from fastai==0.7.0)\n",
            "\u001b[?25l  Downloading https://files.pythonhosted.org/packages/78/90/474d5944d43001a6e72b9aaed5c3e4f77516fbef2317002da2096fd8b5ea/torchtext-0.2.3.tar.gz (42kB)\n",
            "\u001b[K    100% |████████████████████████████████| 51kB 12.8MB/s \n",
            "\u001b[?25hCollecting torchvision (from fastai==0.7.0)\n",
            "\u001b[?25l  Downloading https://files.pythonhosted.org/packages/ca/0d/f00b2885711e08bd71242ebe7b96561e6f6d01fdb4b9dcf4d37e2e13c5e1/torchvision-0.2.1-py2.py3-none-any.whl (54kB)\n",
            "\u001b[K    100% |████████████████████████████████| 61kB 15.2MB/s \n",
            "\u001b[?25hRequirement already satisfied: tornado in /usr/local/lib/python3.6/dist-packages (from fastai==0.7.0) (4.5.3)\n",
            "Collecting tqdm (from fastai==0.7.0)\n",
            "\u001b[?25l  Downloading https://files.pythonhosted.org/packages/7d/e6/19dfaff08fcbee7f3453e5b537e65a8364f1945f921a36d08be1e2ff3475/tqdm-4.24.0-py2.py3-none-any.whl (43kB)\n",
            "\u001b[K    100% |████████████████████████████████| 51kB 13.9MB/s \n",
            "\u001b[?25hRequirement already satisfied: traitlets in /usr/local/lib/python3.6/dist-packages (from fastai==0.7.0) (4.3.2)\n",
            "Requirement already satisfied: wcwidth in /usr/local/lib/python3.6/dist-packages (from fastai==0.7.0) (0.1.7)\n",
            "Requirement already satisfied: webencodings in /usr/local/lib/python3.6/dist-packages (from fastai==0.7.0) (0.5.1)\n",
            "Collecting widgetsnbextension (from fastai==0.7.0)\n",
            "\u001b[?25l  Downloading https://files.pythonhosted.org/packages/1e/dd/847f6e5cb98caf819e2dca50109611cc0e43b54e0f0d740ee8586a954b18/widgetsnbextension-3.3.1-py2.py3-none-any.whl (2.2MB)\n",
            "\u001b[K    100% |████████████████████████████████| 2.2MB 3.1MB/s \n",
            "\u001b[?25hRequirement already satisfied: six in /usr/local/lib/python3.6/dist-packages (from bleach->fastai==0.7.0) (1.11.0)\n",
            "Collecting pyarrow>=0.4.0 (from feather-format->fastai==0.7.0)\n",
            "\u001b[?25l  Downloading https://files.pythonhosted.org/packages/fe/27/576e6c979bfa5f63070f809c930aa85d6198b91d17a64866234597ba861f/pyarrow-0.9.0-cp36-cp36m-manylinux1_x86_64.whl (13.7MB)\n",
            "\u001b[K    100% |████████████████████████████████| 13.7MB 1.6MB/s \n",
            "\u001b[?25hRequirement already satisfied: jupyter-client in /usr/local/lib/python3.6/dist-packages (from ipykernel->fastai==0.7.0) (5.2.3)\n",
            "Requirement already satisfied: prompt-toolkit<2.0.0,>=1.0.4 in /usr/local/lib/python3.6/dist-packages (from ipython->fastai==0.7.0) (1.0.15)\n",
            "Requirement already satisfied: setuptools>=18.5 in /usr/local/lib/python3.6/dist-packages (from ipython->fastai==0.7.0) (39.1.0)\n",
            "Requirement already satisfied: pexpect; sys_platform != \"win32\" in /usr/local/lib/python3.6/dist-packages (from ipython->fastai==0.7.0) (4.6.0)\n",
            "Requirement already satisfied: nbformat>=4.2.0 in /usr/local/lib/python3.6/dist-packages (from ipywidgets->fastai==0.7.0) (4.4.0)\n",
            "Collecting parso>=0.3.0 (from jedi->fastai==0.7.0)\n",
            "\u001b[?25l  Downloading https://files.pythonhosted.org/packages/09/51/9c48a46334be50c13d25a3afe55fa05c445699304c5ad32619de953a2305/parso-0.3.1-py2.py3-none-any.whl (88kB)\n",
            "\u001b[K    100% |████████████████████████████████| 92kB 23.5MB/s \n",
            "\u001b[?25hCollecting jupyter-console (from jupyter->fastai==0.7.0)\n",
            "  Downloading https://files.pythonhosted.org/packages/77/82/6469cd7fccf7958cbe5dce2e623f1e3c5e27f1bb1ad36d90519bc2d5d370/jupyter_console-5.2.0-py2.py3-none-any.whl\n",
            "Requirement already satisfied: nbconvert in /usr/local/lib/python3.6/dist-packages (from jupyter->fastai==0.7.0) (5.3.1)\n",
            "Collecting qtconsole (from jupyter->fastai==0.7.0)\n",
            "\u001b[?25l  Downloading https://files.pythonhosted.org/packages/90/ff/047e0dca2627b162866920e7aa93f04523c0ae81e5c67060eec85701992d/qtconsole-4.3.1-py2.py3-none-any.whl (108kB)\n",
            "\u001b[K    100% |████████████████████████████████| 112kB 23.9MB/s \n",
            "\u001b[?25hRequirement already satisfied: notebook in /usr/local/lib/python3.6/dist-packages (from jupyter->fastai==0.7.0) (5.2.2)\n",
            "Requirement already satisfied: olefile in /usr/local/lib/python3.6/dist-packages (from Pillow->fastai==0.7.0) (0.45.1)\n",
            "Requirement already satisfied: statsmodels>=0.8.0 in /usr/local/lib/python3.6/dist-packages (from plotnine->fastai==0.7.0) (0.8.0)\n",
            "Collecting mizani>=0.4.5 (from plotnine->fastai==0.7.0)\n"
          ],
          "name": "stdout"
        },
        {
          "output_type": "stream",
          "text": [
            "\u001b[?25l  Downloading https://files.pythonhosted.org/packages/52/01/8a3b4c6e45749674a1e5241174b4b63cd6435125e124bec275f3e02c96ac/mizani-0.4.6-py2.py3-none-any.whl (65kB)\r\n",
            "\u001b[K    100% |████████████████████████████████| 71kB 11.9MB/s \n",
            "\u001b[?25hCollecting geopandas>=0.3.0 (from plotnine->fastai==0.7.0)\n",
            "\u001b[?25l  Downloading https://files.pythonhosted.org/packages/24/11/d77c157c16909bd77557d00798b05a5b6615ed60acb5900fbe6a65d35e93/geopandas-0.4.0-py2.py3-none-any.whl (899kB)\n",
            "\u001b[K    100% |████████████████████████████████| 901kB 1.9MB/s \n",
            "\u001b[?25hRequirement already satisfied: patsy>=0.4.1 in /usr/local/lib/python3.6/dist-packages (from plotnine->fastai==0.7.0) (0.5.0)\n",
            "Collecting descartes>=1.1.0 (from plotnine->fastai==0.7.0)\n",
            "  Downloading https://files.pythonhosted.org/packages/e5/b6/1ed2eb03989ae574584664985367ba70cd9cf8b32ee8cad0e8aaeac819f3/descartes-1.1.0-py3-none-any.whl\n",
            "Requirement already satisfied: scikit-learn>=0.15.0 in /usr/local/lib/python3.6/dist-packages (from sklearn_pandas->fastai==0.7.0) (0.19.2)\n",
            "Requirement already satisfied: requests in /usr/local/lib/python3.6/dist-packages (from torchtext->fastai==0.7.0) (2.18.4)\n",
            "Requirement already satisfied: jupyter-core in /usr/local/lib/python3.6/dist-packages (from jupyter-client->ipykernel->fastai==0.7.0) (4.4.0)\n",
            "Requirement already satisfied: pandocfilters>=1.4.1 in /usr/local/lib/python3.6/dist-packages (from nbconvert->jupyter->fastai==0.7.0) (1.4.2)\n",
            "Requirement already satisfied: mistune>=0.7.4 in /usr/local/lib/python3.6/dist-packages (from nbconvert->jupyter->fastai==0.7.0) (0.8.3)\n",
            "Requirement already satisfied: terminado>=0.3.3; sys_platform != \"win32\" in /usr/local/lib/python3.6/dist-packages (from notebook->jupyter->fastai==0.7.0) (0.8.1)\n",
            "Collecting palettable (from mizani>=0.4.5->plotnine->fastai==0.7.0)\n",
            "\u001b[?25l  Downloading https://files.pythonhosted.org/packages/56/8a/84537c0354f0d1f03bf644b71bf8e0a50db9c1294181905721a5f3efbf66/palettable-3.1.1-py2.py3-none-any.whl (77kB)\n",
            "\u001b[K    100% |████████████████████████████████| 81kB 12.6MB/s \n",
            "\u001b[?25hCollecting pyproj (from geopandas>=0.3.0->plotnine->fastai==0.7.0)\n",
            "\u001b[?25l  Downloading https://files.pythonhosted.org/packages/29/72/5c1888c4948a0c7b736d10e0f0f69966e7c0874a660222ed0a2c2c6daa9f/pyproj-1.9.5.1.tar.gz (4.4MB)\n",
            "\u001b[K    100% |████████████████████████████████| 4.4MB 2.4MB/s \n",
            "\u001b[?25hCollecting shapely (from geopandas>=0.3.0->plotnine->fastai==0.7.0)\n",
            "\u001b[?25l  Downloading https://files.pythonhosted.org/packages/38/b6/b53f19062afd49bb5abd049aeed36f13bf8d57ef8f3fa07a5203531a0252/Shapely-1.6.4.post2-cp36-cp36m-manylinux1_x86_64.whl (1.5MB)\n",
            "\u001b[K    100% |████████████████████████████████| 1.5MB 3.6MB/s \n",
            "\u001b[?25hCollecting fiona (from geopandas>=0.3.0->plotnine->fastai==0.7.0)\n",
            "\u001b[?25l  Downloading https://files.pythonhosted.org/packages/e3/bf/029958f4e3811ce7017fb5805d5203e8bde6c1816b902964acb2dec67863/Fiona-1.7.13-cp36-cp36m-manylinux1_x86_64.whl (15.8MB)\n",
            "\u001b[K    100% |████████████████████████████████| 15.8MB 1.7MB/s \n",
            "\u001b[?25hRequirement already satisfied: urllib3<1.23,>=1.21.1 in /usr/local/lib/python3.6/dist-packages (from requests->torchtext->fastai==0.7.0) (1.22)\n",
            "Requirement already satisfied: idna<2.7,>=2.5 in /usr/local/lib/python3.6/dist-packages (from requests->torchtext->fastai==0.7.0) (2.6)\n",
            "Requirement already satisfied: chardet<3.1.0,>=3.0.2 in /usr/local/lib/python3.6/dist-packages (from requests->torchtext->fastai==0.7.0) (3.0.4)\n",
            "Collecting cligj>=0.4 (from fiona->geopandas>=0.3.0->plotnine->fastai==0.7.0)\n",
            "  Downloading https://files.pythonhosted.org/packages/fc/05/e8384e1f7c8689cd1b91818a24cc860077c73368fb285ba53fbd8556ec98/cligj-0.4.0-py3-none-any.whl\n",
            "Collecting munch (from fiona->geopandas>=0.3.0->plotnine->fastai==0.7.0)\n",
            "  Downloading https://files.pythonhosted.org/packages/68/f4/260ec98ea840757a0da09e0ed8135333d59b8dfebe9752a365b04857660a/munch-2.3.2.tar.gz\n",
            "Collecting click-plugins (from fiona->geopandas>=0.3.0->plotnine->fastai==0.7.0)\n",
            "  Downloading https://files.pythonhosted.org/packages/77/05/da5c9e19457f20cadfe22c397cd3852577066066f63e40f2baa0831b1693/click-plugins-1.0.3.tar.gz\n",
            "Collecting click>=4.0 (from cligj>=0.4->fiona->geopandas>=0.3.0->plotnine->fastai==0.7.0)\n",
            "\u001b[?25l  Downloading https://files.pythonhosted.org/packages/34/c1/8806f99713ddb993c5366c362b2f908f18269f8d792aff1abfd700775a77/click-6.7-py2.py3-none-any.whl (71kB)\n",
            "\u001b[K    100% |████████████████████████████████| 71kB 12.8MB/s \n"
          ],
          "name": "stdout"
        },
        {
          "output_type": "stream",
          "text": [
            "\u001b[?25hBuilding wheels for collected packages: fastai, bcolz, feather-format, torchtext, pyproj, munch, click-plugins\n",
            "  Running setup.py bdist_wheel for fastai ... \u001b[?25l-\b \b\\\b \bdone\n",
            "\u001b[?25h  Stored in directory: /tmp/pip-ephem-wheel-cache-g4qx1cb3/wheels/cf/46/39/b2d08762125ed2376861976ab2c4ac30c029b86e375735d9b8\n",
            "  Running setup.py bdist_wheel for bcolz ... \u001b[?25l-\b \b\\\b \b|\b \b/\b \b-\b \b\\\b \b|\b \b/\b \b-\b \b\\\b \b|\b \b/\b \b-\b \b\\\b \b|\b \b/\b \b-\b \b\\\b \b|\b \b/\b \b-\b \b\\\b \b|\b \b/\b \b-\b \b\\\b \b|\b \b/\b \b-\b \b\\\b \b|\b \b/\b \b-\b \b\\\b \b|\b \b/\b \b-\b \b\\\b \b|\b \b/\b \b-\b \b\\\b \b|\b \b/\b \b-\b \b\\\b \b|\b \b/\b \b-\b \b\\\b \b|\b \b/\b \b-\b \b\\\b \b|\b \b/\b \b-\b \b\\\b \b|\b \b/\b \b-\b \bdone\n",
            "\u001b[?25h  Stored in directory: /content/.cache/pip/wheels/9f/78/26/fb8c0acb91a100dc8914bf236c4eaa4b207cb876893c40b745\n",
            "  Running setup.py bdist_wheel for feather-format ... \u001b[?25l-\b \bdone\n",
            "\u001b[?25h  Stored in directory: /content/.cache/pip/wheels/85/7d/12/2dfa5c0195f921ac935f5e8f27deada74972edc0ae9988a9c1\n",
            "  Running setup.py bdist_wheel for torchtext ... \u001b[?25l-\b \b\\\b \bdone\n",
            "\u001b[?25h  Stored in directory: /content/.cache/pip/wheels/42/a6/f4/b267328bde6bb680094a0c173e8e5627ccc99543abded97204\n",
            "  Running setup.py bdist_wheel for pyproj ... \u001b[?25l-\b \b\\\b \b|\b \b/\b \b-\b \b\\\b \b|\b \b/\b \b-\b \b\\\b \b|\b \b/\b \b-\b \b\\\b \b|\b \b/\b \b-\b \b\\\b \b|\b \b/\b \b-\b \b\\\b \b|\b \b/\b \b-\b \b\\\b \b|\b \b/\b \b-\b \b\\\b \b|\b \b/\b \b-\b \b\\\b \b|\b \b/\b \b-\b \b\\\b \b|\b \b/\b \b-\b \b\\\b \b|\b \b/\b \b-\b \b\\\b \b|\b \b/\b \b-\b \b\\\b \b|"
          ],
          "name": "stdout"
        },
        {
          "output_type": "stream",
          "text": [
            "\b \b/\b \b-\b \b\\\b \b|\b \b/\b \b-\b \b\\\b \b|\b \b/\b \b-\b \b\\\b \b|\b \b/\b \b-\b \b\\\b \b|\b \b/\b \b-\b \b\\\b \b|\b \b/\b \b-\b \b\\\b \b|\b \b/\b \b-\b \b\\\b \b|\b \b/\b \b-\b \b\\\b \b|\b \b/\b \b-\b \b\\\b \b|\b \b/\b \b-\b \b\\\b \b|\b \b/\b \b-\b \b\\\b \b|\b \b/\b \b-\b \b\\\b \b|\b \b/\b \b-\b \b\\\b \b|\b \b/\b \b-\b \b\\\b \b|\b \b/\b \b-\b \b\\\b \b|\b \b/\b \b-\b \b\\\b \b|\b \b/\b \b-\b \b\\\b \b|\b \b/\b \b-\b \b\\\b \b|\b \bdone\n",
            "\u001b[?25h  Stored in directory: /content/.cache/pip/wheels/89/77/ec/a537585d1022dafde0317dd19d33c4a30d4ee61e19f25ebd8e\n",
            "  Running setup.py bdist_wheel for munch ... \u001b[?25l-\b \bdone\n",
            "\u001b[?25h  Stored in directory: /content/.cache/pip/wheels/db/bf/bc/06a3e1bfe0ab27d2e720ceb3cff3159398d92644c0cec2c125\n",
            "  Running setup.py bdist_wheel for click-plugins ... \u001b[?25l-\b \bdone\n",
            "\u001b[?25h  Stored in directory: /content/.cache/pip/wheels/bc/86/aa/7680e54728998edc1e966a20249b920e582012ed6bdd3815c4\n",
            "Successfully built fastai bcolz feather-format torchtext pyproj munch click-plugins\n",
            "\u001b[31mplotnine 0.4.0 has requirement scipy>=1.0.0, but you'll have scipy 0.19.1 which is incompatible.\u001b[0m\n",
            "\u001b[31mtorchvision 0.2.1 has requirement pillow>=4.1.1, but you'll have pillow 4.0.0 which is incompatible.\u001b[0m\n",
            "Installing collected packages: bcolz, pyarrow, feather-format, graphviz, widgetsnbextension, ipywidgets, isoweek, parso, jedi, jupyter-console, qtconsole, jupyter, pandas-summary, palettable, mizani, pyproj, shapely, click, cligj, munch, click-plugins, fiona, geopandas, descartes, plotnine, sklearn-pandas, torch, tqdm, torchtext, torchvision, fastai\n",
            "Successfully installed bcolz-1.2.1 click-6.7 click-plugins-1.0.3 cligj-0.4.0 descartes-1.1.0 fastai-0.7.0 feather-format-0.4.0 fiona-1.7.13 geopandas-0.4.0 graphviz-0.8.4 ipywidgets-7.3.2 isoweek-1.3.3 jedi-0.12.1 jupyter-1.0.0 jupyter-console-5.2.0 mizani-0.4.6 munch-2.3.2 palettable-3.1.1 pandas-summary-0.0.5 parso-0.3.1 plotnine-0.4.0 pyarrow-0.9.0 pyproj-1.9.5.1 qtconsole-4.3.1 shapely-1.6.4.post2 sklearn-pandas-1.6.0 torch-0.3.1 torchtext-0.2.3 torchvision-0.2.1 tqdm-4.24.0 widgetsnbextension-3.3.1\n"
          ],
          "name": "stdout"
        }
      ]
    },
    {
      "metadata": {
        "id": "CY5ThNUDQxNp",
        "colab_type": "text"
      },
      "cell_type": "markdown",
      "source": [
        "# Lesson 1: Introduction to Random Forests"
      ]
    },
    {
      "metadata": {
        "id": "2NmNG3PwFmgR",
        "colab_type": "text"
      },
      "cell_type": "markdown",
      "source": [
        "It is recommended to [watch the lesson first](https://youtu.be/CzdWqFTmn0Y), then follow the notebook."
      ]
    },
    {
      "metadata": {
        "id": "jz0lZvVB4cdB",
        "colab_type": "text"
      },
      "cell_type": "markdown",
      "source": [
        "## Imports"
      ]
    },
    {
      "metadata": {
        "id": "lRBplxBp4kM7",
        "colab_type": "text"
      },
      "cell_type": "markdown",
      "source": [
        "I will be importing things **as I need them**, because I'm not that experienced and it **helps me to learn** where do things come from."
      ]
    },
    {
      "metadata": {
        "id": "rMIj6UD6L-CP",
        "colab_type": "text"
      },
      "cell_type": "markdown",
      "source": [
        "## The data"
      ]
    },
    {
      "metadata": {
        "id": "Rc6l_PkHeCot",
        "colab_type": "text"
      },
      "cell_type": "markdown",
      "source": [
        "For [this competition](https://www.kaggle.com/c/bluebook-for-bulldozers/data), you are **predicting the sale price of bulldozers sold at auctions**.\n",
        "\n",
        "The data for this competition is split into three parts:\n",
        "\n",
        "- **Train.csv** is the training set, which contains data through the end of 2011.\n",
        "- **Valid.csv** is the validation set, which contains data from January 1, 2012 - April 30, 2012 You make predictions on this set throughout the majority of the competition. Your score on this set is used to create the public leaderboard.\n",
        "- **Test.csv** is the test set, which won't be released until the last week of the competition. It contains data from May 1, 2012 - November 2012. Your score on the test set determines your final rank for the competition.\n",
        "\n",
        "The key fields are in train.csv are:\n",
        "\n",
        "- **SalesID**: the uniue identifier of the sale\n",
        "- **MachineID**: the unique identifier of a machine. A machine can be sold multiple times\n",
        "- **saleprice**: what the machine sold for at auction (only provided in train.csv)\n",
        "- **saledate**: the date of the sale"
      ]
    },
    {
      "metadata": {
        "id": "SwoAuGNbL-CU",
        "colab_type": "text"
      },
      "cell_type": "markdown",
      "source": [
        "### Importing the data"
      ]
    },
    {
      "metadata": {
        "id": "u7ow9cDtL-CZ",
        "colab_type": "text"
      },
      "cell_type": "markdown",
      "source": [
        "We'll be importing the data from a gitlab repository ([source](https://medium.com/@yuraist/how-to-upload-your-own-dataset-into-google-colab-e228727c87e9))."
      ]
    },
    {
      "metadata": {
        "id": "-N7CjcyndBie",
        "colab_type": "code",
        "colab": {
          "autoexec": {
            "startup": false,
            "wait_interval": 0
          },
          "base_uri": "https://localhost:8080/",
          "height": 121
        },
        "outputId": "09136b57-f06d-4454-8b93-d2a4f087faa8",
        "executionInfo": {
          "status": "ok",
          "timestamp": 1533319369295,
          "user_tz": -120,
          "elapsed": 6704,
          "user": {
            "displayName": "Aitor Lopez Beltran",
            "photoUrl": "//lh4.googleusercontent.com/-kAX-3fy5FU0/AAAAAAAAAAI/AAAAAAAAAAU/ogUhdJGBADs/s50-c-k-no/photo.jpg",
            "userId": "101613793608418592140"
          }
        }
      },
      "cell_type": "code",
      "source": [
        "! git clone https://gitlab.com/ailobe/data.git"
      ],
      "execution_count": 4,
      "outputs": [
        {
          "output_type": "stream",
          "text": [
            "Cloning into 'data'...\n",
            "remote: Enumerating objects: 11, done.\u001b[K\n",
            "remote: Counting objects: 100% (11/11), done.\u001b[K\n",
            "remote: Compressing objects: 100% (8/8), done.\u001b[K\n",
            "remote: Total 11 (delta 0), reused 0 (delta 0)\u001b[K\n",
            "Unpacking objects: 100% (11/11), done.\n"
          ],
          "name": "stdout"
        }
      ]
    },
    {
      "metadata": {
        "id": "h8-q_KVafSrR",
        "colab_type": "code",
        "colab": {
          "autoexec": {
            "startup": false,
            "wait_interval": 0
          },
          "base_uri": "https://localhost:8080/",
          "height": 34
        },
        "outputId": "eedd11ff-eb1f-422f-e443-7e70d45666cd",
        "executionInfo": {
          "status": "ok",
          "timestamp": 1533319371060,
          "user_tz": -120,
          "elapsed": 1686,
          "user": {
            "displayName": "Aitor Lopez Beltran",
            "photoUrl": "//lh4.googleusercontent.com/-kAX-3fy5FU0/AAAAAAAAAAI/AAAAAAAAAAU/ogUhdJGBADs/s50-c-k-no/photo.jpg",
            "userId": "101613793608418592140"
          }
        }
      },
      "cell_type": "code",
      "source": [
        "# list all the files in the current directory\n",
        "! ls"
      ],
      "execution_count": 5,
      "outputs": [
        {
          "output_type": "stream",
          "text": [
            "data  datalab\r\n"
          ],
          "name": "stdout"
        }
      ]
    },
    {
      "metadata": {
        "id": "S73YV3XHfGjj",
        "colab_type": "text"
      },
      "cell_type": "markdown",
      "source": [
        "### Exploring the data"
      ]
    },
    {
      "metadata": {
        "id": "78yfUkWxL-Cl",
        "colab_type": "code",
        "colab": {
          "autoexec": {
            "startup": false,
            "wait_interval": 0
          }
        }
      },
      "cell_type": "code",
      "source": [
        "# import pandas\n",
        "import pandas as pd\n",
        "\n",
        "# set the path to read Train.csv\n",
        "path = 'data/bulldozers/Train.csv'\n",
        "\n",
        "# read the data into a pandas DataFrame\n",
        "df_raw = pd.read_csv(path,\n",
        "                     low_memory=False, # use as much memory as necessary to figure out dtypes\n",
        "                     parse_dates=[\"saledate\"]) # read saledate column as datetime dtype"
      ],
      "execution_count": 0,
      "outputs": []
    },
    {
      "metadata": {
        "id": "dDjFACw-L-C3",
        "colab_type": "code",
        "colab": {
          "autoexec": {
            "startup": false,
            "wait_interval": 0
          },
          "base_uri": "https://localhost:8080/",
          "height": 34
        },
        "outputId": "050bd911-f902-4139-fbdd-b97e2dd6cc1d",
        "executionInfo": {
          "status": "ok",
          "timestamp": 1533319443624,
          "user_tz": -120,
          "elapsed": 466,
          "user": {
            "displayName": "Aitor Lopez Beltran",
            "photoUrl": "//lh4.googleusercontent.com/-kAX-3fy5FU0/AAAAAAAAAAI/AAAAAAAAAAU/ogUhdJGBADs/s50-c-k-no/photo.jpg",
            "userId": "101613793608418592140"
          }
        }
      },
      "cell_type": "code",
      "source": [
        "# dimensions (rows, columns)\n",
        "df_raw.shape"
      ],
      "execution_count": 7,
      "outputs": [
        {
          "output_type": "execute_result",
          "data": {
            "text/plain": [
              "(401125, 53)"
            ]
          },
          "metadata": {
            "tags": []
          },
          "execution_count": 7
        }
      ]
    },
    {
      "metadata": {
        "id": "0Z2qo1fGLPRZ",
        "colab_type": "text"
      },
      "cell_type": "markdown",
      "source": [
        "It's a **large dataset**."
      ]
    },
    {
      "metadata": {
        "id": "R3fHc3GTL-DG",
        "colab_type": "code",
        "colab": {
          "autoexec": {
            "startup": false,
            "wait_interval": 0
          },
          "base_uri": "https://localhost:8080/",
          "height": 256
        },
        "outputId": "e01c5cb5-d849-402b-8c65-59cd61d692d5",
        "executionInfo": {
          "status": "ok",
          "timestamp": 1533319444608,
          "user_tz": -120,
          "elapsed": 474,
          "user": {
            "displayName": "Aitor Lopez Beltran",
            "photoUrl": "//lh4.googleusercontent.com/-kAX-3fy5FU0/AAAAAAAAAAI/AAAAAAAAAAU/ogUhdJGBADs/s50-c-k-no/photo.jpg",
            "userId": "101613793608418592140"
          }
        }
      },
      "cell_type": "code",
      "source": [
        "# print 5 first rows\n",
        "df_raw.head()"
      ],
      "execution_count": 8,
      "outputs": [
        {
          "output_type": "execute_result",
          "data": {
            "text/html": [
              "<div>\n",
              "<style scoped>\n",
              "    .dataframe tbody tr th:only-of-type {\n",
              "        vertical-align: middle;\n",
              "    }\n",
              "\n",
              "    .dataframe tbody tr th {\n",
              "        vertical-align: top;\n",
              "    }\n",
              "\n",
              "    .dataframe thead th {\n",
              "        text-align: right;\n",
              "    }\n",
              "</style>\n",
              "<table border=\"1\" class=\"dataframe\">\n",
              "  <thead>\n",
              "    <tr style=\"text-align: right;\">\n",
              "      <th></th>\n",
              "      <th>SalesID</th>\n",
              "      <th>SalePrice</th>\n",
              "      <th>MachineID</th>\n",
              "      <th>ModelID</th>\n",
              "      <th>datasource</th>\n",
              "      <th>auctioneerID</th>\n",
              "      <th>YearMade</th>\n",
              "      <th>MachineHoursCurrentMeter</th>\n",
              "      <th>UsageBand</th>\n",
              "      <th>saledate</th>\n",
              "      <th>...</th>\n",
              "      <th>Undercarriage_Pad_Width</th>\n",
              "      <th>Stick_Length</th>\n",
              "      <th>Thumb</th>\n",
              "      <th>Pattern_Changer</th>\n",
              "      <th>Grouser_Type</th>\n",
              "      <th>Backhoe_Mounting</th>\n",
              "      <th>Blade_Type</th>\n",
              "      <th>Travel_Controls</th>\n",
              "      <th>Differential_Type</th>\n",
              "      <th>Steering_Controls</th>\n",
              "    </tr>\n",
              "  </thead>\n",
              "  <tbody>\n",
              "    <tr>\n",
              "      <th>0</th>\n",
              "      <td>1139246</td>\n",
              "      <td>66000</td>\n",
              "      <td>999089</td>\n",
              "      <td>3157</td>\n",
              "      <td>121</td>\n",
              "      <td>3.0</td>\n",
              "      <td>2004</td>\n",
              "      <td>68.0</td>\n",
              "      <td>Low</td>\n",
              "      <td>2006-11-16</td>\n",
              "      <td>...</td>\n",
              "      <td>NaN</td>\n",
              "      <td>NaN</td>\n",
              "      <td>NaN</td>\n",
              "      <td>NaN</td>\n",
              "      <td>NaN</td>\n",
              "      <td>NaN</td>\n",
              "      <td>NaN</td>\n",
              "      <td>NaN</td>\n",
              "      <td>Standard</td>\n",
              "      <td>Conventional</td>\n",
              "    </tr>\n",
              "    <tr>\n",
              "      <th>1</th>\n",
              "      <td>1139248</td>\n",
              "      <td>57000</td>\n",
              "      <td>117657</td>\n",
              "      <td>77</td>\n",
              "      <td>121</td>\n",
              "      <td>3.0</td>\n",
              "      <td>1996</td>\n",
              "      <td>4640.0</td>\n",
              "      <td>Low</td>\n",
              "      <td>2004-03-26</td>\n",
              "      <td>...</td>\n",
              "      <td>NaN</td>\n",
              "      <td>NaN</td>\n",
              "      <td>NaN</td>\n",
              "      <td>NaN</td>\n",
              "      <td>NaN</td>\n",
              "      <td>NaN</td>\n",
              "      <td>NaN</td>\n",
              "      <td>NaN</td>\n",
              "      <td>Standard</td>\n",
              "      <td>Conventional</td>\n",
              "    </tr>\n",
              "    <tr>\n",
              "      <th>2</th>\n",
              "      <td>1139249</td>\n",
              "      <td>10000</td>\n",
              "      <td>434808</td>\n",
              "      <td>7009</td>\n",
              "      <td>121</td>\n",
              "      <td>3.0</td>\n",
              "      <td>2001</td>\n",
              "      <td>2838.0</td>\n",
              "      <td>High</td>\n",
              "      <td>2004-02-26</td>\n",
              "      <td>...</td>\n",
              "      <td>NaN</td>\n",
              "      <td>NaN</td>\n",
              "      <td>NaN</td>\n",
              "      <td>NaN</td>\n",
              "      <td>NaN</td>\n",
              "      <td>NaN</td>\n",
              "      <td>NaN</td>\n",
              "      <td>NaN</td>\n",
              "      <td>NaN</td>\n",
              "      <td>NaN</td>\n",
              "    </tr>\n",
              "    <tr>\n",
              "      <th>3</th>\n",
              "      <td>1139251</td>\n",
              "      <td>38500</td>\n",
              "      <td>1026470</td>\n",
              "      <td>332</td>\n",
              "      <td>121</td>\n",
              "      <td>3.0</td>\n",
              "      <td>2001</td>\n",
              "      <td>3486.0</td>\n",
              "      <td>High</td>\n",
              "      <td>2011-05-19</td>\n",
              "      <td>...</td>\n",
              "      <td>NaN</td>\n",
              "      <td>NaN</td>\n",
              "      <td>NaN</td>\n",
              "      <td>NaN</td>\n",
              "      <td>NaN</td>\n",
              "      <td>NaN</td>\n",
              "      <td>NaN</td>\n",
              "      <td>NaN</td>\n",
              "      <td>NaN</td>\n",
              "      <td>NaN</td>\n",
              "    </tr>\n",
              "    <tr>\n",
              "      <th>4</th>\n",
              "      <td>1139253</td>\n",
              "      <td>11000</td>\n",
              "      <td>1057373</td>\n",
              "      <td>17311</td>\n",
              "      <td>121</td>\n",
              "      <td>3.0</td>\n",
              "      <td>2007</td>\n",
              "      <td>722.0</td>\n",
              "      <td>Medium</td>\n",
              "      <td>2009-07-23</td>\n",
              "      <td>...</td>\n",
              "      <td>NaN</td>\n",
              "      <td>NaN</td>\n",
              "      <td>NaN</td>\n",
              "      <td>NaN</td>\n",
              "      <td>NaN</td>\n",
              "      <td>NaN</td>\n",
              "      <td>NaN</td>\n",
              "      <td>NaN</td>\n",
              "      <td>NaN</td>\n",
              "      <td>NaN</td>\n",
              "    </tr>\n",
              "  </tbody>\n",
              "</table>\n",
              "<p>5 rows × 53 columns</p>\n",
              "</div>"
            ],
            "text/plain": [
              "   SalesID  SalePrice  MachineID  ModelID  datasource  auctioneerID  YearMade  \\\n",
              "0  1139246      66000     999089     3157         121           3.0      2004   \n",
              "1  1139248      57000     117657       77         121           3.0      1996   \n",
              "2  1139249      10000     434808     7009         121           3.0      2001   \n",
              "3  1139251      38500    1026470      332         121           3.0      2001   \n",
              "4  1139253      11000    1057373    17311         121           3.0      2007   \n",
              "\n",
              "   MachineHoursCurrentMeter UsageBand   saledate        ...         \\\n",
              "0                      68.0       Low 2006-11-16        ...          \n",
              "1                    4640.0       Low 2004-03-26        ...          \n",
              "2                    2838.0      High 2004-02-26        ...          \n",
              "3                    3486.0      High 2011-05-19        ...          \n",
              "4                     722.0    Medium 2009-07-23        ...          \n",
              "\n",
              "  Undercarriage_Pad_Width Stick_Length Thumb Pattern_Changer Grouser_Type  \\\n",
              "0                     NaN          NaN   NaN             NaN          NaN   \n",
              "1                     NaN          NaN   NaN             NaN          NaN   \n",
              "2                     NaN          NaN   NaN             NaN          NaN   \n",
              "3                     NaN          NaN   NaN             NaN          NaN   \n",
              "4                     NaN          NaN   NaN             NaN          NaN   \n",
              "\n",
              "  Backhoe_Mounting Blade_Type Travel_Controls Differential_Type  \\\n",
              "0              NaN        NaN             NaN          Standard   \n",
              "1              NaN        NaN             NaN          Standard   \n",
              "2              NaN        NaN             NaN               NaN   \n",
              "3              NaN        NaN             NaN               NaN   \n",
              "4              NaN        NaN             NaN               NaN   \n",
              "\n",
              "  Steering_Controls  \n",
              "0      Conventional  \n",
              "1      Conventional  \n",
              "2               NaN  \n",
              "3               NaN  \n",
              "4               NaN  \n",
              "\n",
              "[5 rows x 53 columns]"
            ]
          },
          "metadata": {
            "tags": []
          },
          "execution_count": 8
        }
      ]
    },
    {
      "metadata": {
        "id": "YNXU7EECgLPG",
        "colab_type": "text"
      },
      "cell_type": "markdown",
      "source": [
        "Pandas switchs to **truncate view** when there are too many rows and columns, but we can change the display options if we want to see all of them."
      ]
    },
    {
      "metadata": {
        "id": "GbZAJkq3L-DU",
        "colab_type": "code",
        "colab": {
          "autoexec": {
            "startup": false,
            "wait_interval": 0
          }
        }
      },
      "cell_type": "code",
      "source": [
        "# create a function that displays up to a thousand rows and columns of a dataframe\n",
        "# pd.option_context(*args) is a context manager to temporarily set options in the `with` statement context\n",
        "def display_all(df):\n",
        "    with pd.option_context(\"display.max_rows\", 1000, \"display.max_columns\", 1000): \n",
        "        display(df)"
      ],
      "execution_count": 0,
      "outputs": []
    },
    {
      "metadata": {
        "id": "7dDQrDV9L-ED",
        "colab_type": "code",
        "colab": {
          "autoexec": {
            "startup": false,
            "wait_interval": 0
          },
          "base_uri": "https://localhost:8080/",
          "height": 1729
        },
        "outputId": "e024169b-a31d-47aa-ec33-5c7de0a079c7",
        "executionInfo": {
          "status": "ok",
          "timestamp": 1533319446436,
          "user_tz": -120,
          "elapsed": 476,
          "user": {
            "displayName": "Aitor Lopez Beltran",
            "photoUrl": "//lh4.googleusercontent.com/-kAX-3fy5FU0/AAAAAAAAAAI/AAAAAAAAAAU/ogUhdJGBADs/s50-c-k-no/photo.jpg",
            "userId": "101613793608418592140"
          }
        }
      },
      "cell_type": "code",
      "source": [
        "# show the tail (last 5 rows)\n",
        "# for readability, we use the .T attribute (equal to the .transpose() method) to transpose the df so we have to scroll down instead of sideways.\n",
        "display_all(df_raw.tail().T)"
      ],
      "execution_count": 10,
      "outputs": [
        {
          "output_type": "display_data",
          "data": {
            "text/html": [
              "<div>\n",
              "<style scoped>\n",
              "    .dataframe tbody tr th:only-of-type {\n",
              "        vertical-align: middle;\n",
              "    }\n",
              "\n",
              "    .dataframe tbody tr th {\n",
              "        vertical-align: top;\n",
              "    }\n",
              "\n",
              "    .dataframe thead th {\n",
              "        text-align: right;\n",
              "    }\n",
              "</style>\n",
              "<table border=\"1\" class=\"dataframe\">\n",
              "  <thead>\n",
              "    <tr style=\"text-align: right;\">\n",
              "      <th></th>\n",
              "      <th>401120</th>\n",
              "      <th>401121</th>\n",
              "      <th>401122</th>\n",
              "      <th>401123</th>\n",
              "      <th>401124</th>\n",
              "    </tr>\n",
              "  </thead>\n",
              "  <tbody>\n",
              "    <tr>\n",
              "      <th>SalesID</th>\n",
              "      <td>6333336</td>\n",
              "      <td>6333337</td>\n",
              "      <td>6333338</td>\n",
              "      <td>6333341</td>\n",
              "      <td>6333342</td>\n",
              "    </tr>\n",
              "    <tr>\n",
              "      <th>SalePrice</th>\n",
              "      <td>10500</td>\n",
              "      <td>11000</td>\n",
              "      <td>11500</td>\n",
              "      <td>9000</td>\n",
              "      <td>7750</td>\n",
              "    </tr>\n",
              "    <tr>\n",
              "      <th>MachineID</th>\n",
              "      <td>1840702</td>\n",
              "      <td>1830472</td>\n",
              "      <td>1887659</td>\n",
              "      <td>1903570</td>\n",
              "      <td>1926965</td>\n",
              "    </tr>\n",
              "    <tr>\n",
              "      <th>ModelID</th>\n",
              "      <td>21439</td>\n",
              "      <td>21439</td>\n",
              "      <td>21439</td>\n",
              "      <td>21435</td>\n",
              "      <td>21435</td>\n",
              "    </tr>\n",
              "    <tr>\n",
              "      <th>datasource</th>\n",
              "      <td>149</td>\n",
              "      <td>149</td>\n",
              "      <td>149</td>\n",
              "      <td>149</td>\n",
              "      <td>149</td>\n",
              "    </tr>\n",
              "    <tr>\n",
              "      <th>auctioneerID</th>\n",
              "      <td>1</td>\n",
              "      <td>1</td>\n",
              "      <td>1</td>\n",
              "      <td>2</td>\n",
              "      <td>2</td>\n",
              "    </tr>\n",
              "    <tr>\n",
              "      <th>YearMade</th>\n",
              "      <td>2005</td>\n",
              "      <td>2005</td>\n",
              "      <td>2005</td>\n",
              "      <td>2005</td>\n",
              "      <td>2005</td>\n",
              "    </tr>\n",
              "    <tr>\n",
              "      <th>MachineHoursCurrentMeter</th>\n",
              "      <td>NaN</td>\n",
              "      <td>NaN</td>\n",
              "      <td>NaN</td>\n",
              "      <td>NaN</td>\n",
              "      <td>NaN</td>\n",
              "    </tr>\n",
              "    <tr>\n",
              "      <th>UsageBand</th>\n",
              "      <td>NaN</td>\n",
              "      <td>NaN</td>\n",
              "      <td>NaN</td>\n",
              "      <td>NaN</td>\n",
              "      <td>NaN</td>\n",
              "    </tr>\n",
              "    <tr>\n",
              "      <th>saledate</th>\n",
              "      <td>2011-11-02 00:00:00</td>\n",
              "      <td>2011-11-02 00:00:00</td>\n",
              "      <td>2011-11-02 00:00:00</td>\n",
              "      <td>2011-10-25 00:00:00</td>\n",
              "      <td>2011-10-25 00:00:00</td>\n",
              "    </tr>\n",
              "    <tr>\n",
              "      <th>fiModelDesc</th>\n",
              "      <td>35NX2</td>\n",
              "      <td>35NX2</td>\n",
              "      <td>35NX2</td>\n",
              "      <td>30NX</td>\n",
              "      <td>30NX</td>\n",
              "    </tr>\n",
              "    <tr>\n",
              "      <th>fiBaseModel</th>\n",
              "      <td>35</td>\n",
              "      <td>35</td>\n",
              "      <td>35</td>\n",
              "      <td>30</td>\n",
              "      <td>30</td>\n",
              "    </tr>\n",
              "    <tr>\n",
              "      <th>fiSecondaryDesc</th>\n",
              "      <td>NX</td>\n",
              "      <td>NX</td>\n",
              "      <td>NX</td>\n",
              "      <td>NX</td>\n",
              "      <td>NX</td>\n",
              "    </tr>\n",
              "    <tr>\n",
              "      <th>fiModelSeries</th>\n",
              "      <td>2</td>\n",
              "      <td>2</td>\n",
              "      <td>2</td>\n",
              "      <td>NaN</td>\n",
              "      <td>NaN</td>\n",
              "    </tr>\n",
              "    <tr>\n",
              "      <th>fiModelDescriptor</th>\n",
              "      <td>NaN</td>\n",
              "      <td>NaN</td>\n",
              "      <td>NaN</td>\n",
              "      <td>NaN</td>\n",
              "      <td>NaN</td>\n",
              "    </tr>\n",
              "    <tr>\n",
              "      <th>ProductSize</th>\n",
              "      <td>Mini</td>\n",
              "      <td>Mini</td>\n",
              "      <td>Mini</td>\n",
              "      <td>Mini</td>\n",
              "      <td>Mini</td>\n",
              "    </tr>\n",
              "    <tr>\n",
              "      <th>fiProductClassDesc</th>\n",
              "      <td>Hydraulic Excavator, Track - 3.0 to 4.0 Metric...</td>\n",
              "      <td>Hydraulic Excavator, Track - 3.0 to 4.0 Metric...</td>\n",
              "      <td>Hydraulic Excavator, Track - 3.0 to 4.0 Metric...</td>\n",
              "      <td>Hydraulic Excavator, Track - 2.0 to 3.0 Metric...</td>\n",
              "      <td>Hydraulic Excavator, Track - 2.0 to 3.0 Metric...</td>\n",
              "    </tr>\n",
              "    <tr>\n",
              "      <th>state</th>\n",
              "      <td>Maryland</td>\n",
              "      <td>Maryland</td>\n",
              "      <td>Maryland</td>\n",
              "      <td>Florida</td>\n",
              "      <td>Florida</td>\n",
              "    </tr>\n",
              "    <tr>\n",
              "      <th>ProductGroup</th>\n",
              "      <td>TEX</td>\n",
              "      <td>TEX</td>\n",
              "      <td>TEX</td>\n",
              "      <td>TEX</td>\n",
              "      <td>TEX</td>\n",
              "    </tr>\n",
              "    <tr>\n",
              "      <th>ProductGroupDesc</th>\n",
              "      <td>Track Excavators</td>\n",
              "      <td>Track Excavators</td>\n",
              "      <td>Track Excavators</td>\n",
              "      <td>Track Excavators</td>\n",
              "      <td>Track Excavators</td>\n",
              "    </tr>\n",
              "    <tr>\n",
              "      <th>Drive_System</th>\n",
              "      <td>NaN</td>\n",
              "      <td>NaN</td>\n",
              "      <td>NaN</td>\n",
              "      <td>NaN</td>\n",
              "      <td>NaN</td>\n",
              "    </tr>\n",
              "    <tr>\n",
              "      <th>Enclosure</th>\n",
              "      <td>EROPS</td>\n",
              "      <td>EROPS</td>\n",
              "      <td>EROPS</td>\n",
              "      <td>EROPS</td>\n",
              "      <td>EROPS</td>\n",
              "    </tr>\n",
              "    <tr>\n",
              "      <th>Forks</th>\n",
              "      <td>NaN</td>\n",
              "      <td>NaN</td>\n",
              "      <td>NaN</td>\n",
              "      <td>NaN</td>\n",
              "      <td>NaN</td>\n",
              "    </tr>\n",
              "    <tr>\n",
              "      <th>Pad_Type</th>\n",
              "      <td>NaN</td>\n",
              "      <td>NaN</td>\n",
              "      <td>NaN</td>\n",
              "      <td>NaN</td>\n",
              "      <td>NaN</td>\n",
              "    </tr>\n",
              "    <tr>\n",
              "      <th>Ride_Control</th>\n",
              "      <td>NaN</td>\n",
              "      <td>NaN</td>\n",
              "      <td>NaN</td>\n",
              "      <td>NaN</td>\n",
              "      <td>NaN</td>\n",
              "    </tr>\n",
              "    <tr>\n",
              "      <th>Stick</th>\n",
              "      <td>NaN</td>\n",
              "      <td>NaN</td>\n",
              "      <td>NaN</td>\n",
              "      <td>NaN</td>\n",
              "      <td>NaN</td>\n",
              "    </tr>\n",
              "    <tr>\n",
              "      <th>Transmission</th>\n",
              "      <td>NaN</td>\n",
              "      <td>NaN</td>\n",
              "      <td>NaN</td>\n",
              "      <td>NaN</td>\n",
              "      <td>NaN</td>\n",
              "    </tr>\n",
              "    <tr>\n",
              "      <th>Turbocharged</th>\n",
              "      <td>NaN</td>\n",
              "      <td>NaN</td>\n",
              "      <td>NaN</td>\n",
              "      <td>NaN</td>\n",
              "      <td>NaN</td>\n",
              "    </tr>\n",
              "    <tr>\n",
              "      <th>Blade_Extension</th>\n",
              "      <td>NaN</td>\n",
              "      <td>NaN</td>\n",
              "      <td>NaN</td>\n",
              "      <td>NaN</td>\n",
              "      <td>NaN</td>\n",
              "    </tr>\n",
              "    <tr>\n",
              "      <th>Blade_Width</th>\n",
              "      <td>NaN</td>\n",
              "      <td>NaN</td>\n",
              "      <td>NaN</td>\n",
              "      <td>NaN</td>\n",
              "      <td>NaN</td>\n",
              "    </tr>\n",
              "    <tr>\n",
              "      <th>Enclosure_Type</th>\n",
              "      <td>NaN</td>\n",
              "      <td>NaN</td>\n",
              "      <td>NaN</td>\n",
              "      <td>NaN</td>\n",
              "      <td>NaN</td>\n",
              "    </tr>\n",
              "    <tr>\n",
              "      <th>Engine_Horsepower</th>\n",
              "      <td>NaN</td>\n",
              "      <td>NaN</td>\n",
              "      <td>NaN</td>\n",
              "      <td>NaN</td>\n",
              "      <td>NaN</td>\n",
              "    </tr>\n",
              "    <tr>\n",
              "      <th>Hydraulics</th>\n",
              "      <td>Auxiliary</td>\n",
              "      <td>Standard</td>\n",
              "      <td>Auxiliary</td>\n",
              "      <td>Standard</td>\n",
              "      <td>Standard</td>\n",
              "    </tr>\n",
              "    <tr>\n",
              "      <th>Pushblock</th>\n",
              "      <td>NaN</td>\n",
              "      <td>NaN</td>\n",
              "      <td>NaN</td>\n",
              "      <td>NaN</td>\n",
              "      <td>NaN</td>\n",
              "    </tr>\n",
              "    <tr>\n",
              "      <th>Ripper</th>\n",
              "      <td>NaN</td>\n",
              "      <td>NaN</td>\n",
              "      <td>NaN</td>\n",
              "      <td>NaN</td>\n",
              "      <td>NaN</td>\n",
              "    </tr>\n",
              "    <tr>\n",
              "      <th>Scarifier</th>\n",
              "      <td>NaN</td>\n",
              "      <td>NaN</td>\n",
              "      <td>NaN</td>\n",
              "      <td>NaN</td>\n",
              "      <td>NaN</td>\n",
              "    </tr>\n",
              "    <tr>\n",
              "      <th>Tip_Control</th>\n",
              "      <td>NaN</td>\n",
              "      <td>NaN</td>\n",
              "      <td>NaN</td>\n",
              "      <td>NaN</td>\n",
              "      <td>NaN</td>\n",
              "    </tr>\n",
              "    <tr>\n",
              "      <th>Tire_Size</th>\n",
              "      <td>NaN</td>\n",
              "      <td>NaN</td>\n",
              "      <td>NaN</td>\n",
              "      <td>NaN</td>\n",
              "      <td>NaN</td>\n",
              "    </tr>\n",
              "    <tr>\n",
              "      <th>Coupler</th>\n",
              "      <td>None or Unspecified</td>\n",
              "      <td>None or Unspecified</td>\n",
              "      <td>None or Unspecified</td>\n",
              "      <td>None or Unspecified</td>\n",
              "      <td>None or Unspecified</td>\n",
              "    </tr>\n",
              "    <tr>\n",
              "      <th>Coupler_System</th>\n",
              "      <td>NaN</td>\n",
              "      <td>NaN</td>\n",
              "      <td>NaN</td>\n",
              "      <td>NaN</td>\n",
              "      <td>NaN</td>\n",
              "    </tr>\n",
              "    <tr>\n",
              "      <th>Grouser_Tracks</th>\n",
              "      <td>NaN</td>\n",
              "      <td>NaN</td>\n",
              "      <td>NaN</td>\n",
              "      <td>NaN</td>\n",
              "      <td>NaN</td>\n",
              "    </tr>\n",
              "    <tr>\n",
              "      <th>Hydraulics_Flow</th>\n",
              "      <td>NaN</td>\n",
              "      <td>NaN</td>\n",
              "      <td>NaN</td>\n",
              "      <td>NaN</td>\n",
              "      <td>NaN</td>\n",
              "    </tr>\n",
              "    <tr>\n",
              "      <th>Track_Type</th>\n",
              "      <td>Steel</td>\n",
              "      <td>Steel</td>\n",
              "      <td>Steel</td>\n",
              "      <td>Steel</td>\n",
              "      <td>Steel</td>\n",
              "    </tr>\n",
              "    <tr>\n",
              "      <th>Undercarriage_Pad_Width</th>\n",
              "      <td>None or Unspecified</td>\n",
              "      <td>None or Unspecified</td>\n",
              "      <td>None or Unspecified</td>\n",
              "      <td>None or Unspecified</td>\n",
              "      <td>None or Unspecified</td>\n",
              "    </tr>\n",
              "    <tr>\n",
              "      <th>Stick_Length</th>\n",
              "      <td>None or Unspecified</td>\n",
              "      <td>None or Unspecified</td>\n",
              "      <td>None or Unspecified</td>\n",
              "      <td>None or Unspecified</td>\n",
              "      <td>None or Unspecified</td>\n",
              "    </tr>\n",
              "    <tr>\n",
              "      <th>Thumb</th>\n",
              "      <td>None or Unspecified</td>\n",
              "      <td>None or Unspecified</td>\n",
              "      <td>None or Unspecified</td>\n",
              "      <td>None or Unspecified</td>\n",
              "      <td>None or Unspecified</td>\n",
              "    </tr>\n",
              "    <tr>\n",
              "      <th>Pattern_Changer</th>\n",
              "      <td>None or Unspecified</td>\n",
              "      <td>None or Unspecified</td>\n",
              "      <td>None or Unspecified</td>\n",
              "      <td>None or Unspecified</td>\n",
              "      <td>None or Unspecified</td>\n",
              "    </tr>\n",
              "    <tr>\n",
              "      <th>Grouser_Type</th>\n",
              "      <td>Double</td>\n",
              "      <td>Double</td>\n",
              "      <td>Double</td>\n",
              "      <td>Double</td>\n",
              "      <td>Double</td>\n",
              "    </tr>\n",
              "    <tr>\n",
              "      <th>Backhoe_Mounting</th>\n",
              "      <td>NaN</td>\n",
              "      <td>NaN</td>\n",
              "      <td>NaN</td>\n",
              "      <td>NaN</td>\n",
              "      <td>NaN</td>\n",
              "    </tr>\n",
              "    <tr>\n",
              "      <th>Blade_Type</th>\n",
              "      <td>NaN</td>\n",
              "      <td>NaN</td>\n",
              "      <td>NaN</td>\n",
              "      <td>NaN</td>\n",
              "      <td>NaN</td>\n",
              "    </tr>\n",
              "    <tr>\n",
              "      <th>Travel_Controls</th>\n",
              "      <td>NaN</td>\n",
              "      <td>NaN</td>\n",
              "      <td>NaN</td>\n",
              "      <td>NaN</td>\n",
              "      <td>NaN</td>\n",
              "    </tr>\n",
              "    <tr>\n",
              "      <th>Differential_Type</th>\n",
              "      <td>NaN</td>\n",
              "      <td>NaN</td>\n",
              "      <td>NaN</td>\n",
              "      <td>NaN</td>\n",
              "      <td>NaN</td>\n",
              "    </tr>\n",
              "    <tr>\n",
              "      <th>Steering_Controls</th>\n",
              "      <td>NaN</td>\n",
              "      <td>NaN</td>\n",
              "      <td>NaN</td>\n",
              "      <td>NaN</td>\n",
              "      <td>NaN</td>\n",
              "    </tr>\n",
              "  </tbody>\n",
              "</table>\n",
              "</div>"
            ],
            "text/plain": [
              "                                                                     401120  \\\n",
              "SalesID                                                             6333336   \n",
              "SalePrice                                                             10500   \n",
              "MachineID                                                           1840702   \n",
              "ModelID                                                               21439   \n",
              "datasource                                                              149   \n",
              "auctioneerID                                                              1   \n",
              "YearMade                                                               2005   \n",
              "MachineHoursCurrentMeter                                                NaN   \n",
              "UsageBand                                                               NaN   \n",
              "saledate                                                2011-11-02 00:00:00   \n",
              "fiModelDesc                                                           35NX2   \n",
              "fiBaseModel                                                              35   \n",
              "fiSecondaryDesc                                                          NX   \n",
              "fiModelSeries                                                             2   \n",
              "fiModelDescriptor                                                       NaN   \n",
              "ProductSize                                                            Mini   \n",
              "fiProductClassDesc        Hydraulic Excavator, Track - 3.0 to 4.0 Metric...   \n",
              "state                                                              Maryland   \n",
              "ProductGroup                                                            TEX   \n",
              "ProductGroupDesc                                           Track Excavators   \n",
              "Drive_System                                                            NaN   \n",
              "Enclosure                                                             EROPS   \n",
              "Forks                                                                   NaN   \n",
              "Pad_Type                                                                NaN   \n",
              "Ride_Control                                                            NaN   \n",
              "Stick                                                                   NaN   \n",
              "Transmission                                                            NaN   \n",
              "Turbocharged                                                            NaN   \n",
              "Blade_Extension                                                         NaN   \n",
              "Blade_Width                                                             NaN   \n",
              "Enclosure_Type                                                          NaN   \n",
              "Engine_Horsepower                                                       NaN   \n",
              "Hydraulics                                                        Auxiliary   \n",
              "Pushblock                                                               NaN   \n",
              "Ripper                                                                  NaN   \n",
              "Scarifier                                                               NaN   \n",
              "Tip_Control                                                             NaN   \n",
              "Tire_Size                                                               NaN   \n",
              "Coupler                                                 None or Unspecified   \n",
              "Coupler_System                                                          NaN   \n",
              "Grouser_Tracks                                                          NaN   \n",
              "Hydraulics_Flow                                                         NaN   \n",
              "Track_Type                                                            Steel   \n",
              "Undercarriage_Pad_Width                                 None or Unspecified   \n",
              "Stick_Length                                            None or Unspecified   \n",
              "Thumb                                                   None or Unspecified   \n",
              "Pattern_Changer                                         None or Unspecified   \n",
              "Grouser_Type                                                         Double   \n",
              "Backhoe_Mounting                                                        NaN   \n",
              "Blade_Type                                                              NaN   \n",
              "Travel_Controls                                                         NaN   \n",
              "Differential_Type                                                       NaN   \n",
              "Steering_Controls                                                       NaN   \n",
              "\n",
              "                                                                     401121  \\\n",
              "SalesID                                                             6333337   \n",
              "SalePrice                                                             11000   \n",
              "MachineID                                                           1830472   \n",
              "ModelID                                                               21439   \n",
              "datasource                                                              149   \n",
              "auctioneerID                                                              1   \n",
              "YearMade                                                               2005   \n",
              "MachineHoursCurrentMeter                                                NaN   \n",
              "UsageBand                                                               NaN   \n",
              "saledate                                                2011-11-02 00:00:00   \n",
              "fiModelDesc                                                           35NX2   \n",
              "fiBaseModel                                                              35   \n",
              "fiSecondaryDesc                                                          NX   \n",
              "fiModelSeries                                                             2   \n",
              "fiModelDescriptor                                                       NaN   \n",
              "ProductSize                                                            Mini   \n",
              "fiProductClassDesc        Hydraulic Excavator, Track - 3.0 to 4.0 Metric...   \n",
              "state                                                              Maryland   \n",
              "ProductGroup                                                            TEX   \n",
              "ProductGroupDesc                                           Track Excavators   \n",
              "Drive_System                                                            NaN   \n",
              "Enclosure                                                             EROPS   \n",
              "Forks                                                                   NaN   \n",
              "Pad_Type                                                                NaN   \n",
              "Ride_Control                                                            NaN   \n",
              "Stick                                                                   NaN   \n",
              "Transmission                                                            NaN   \n",
              "Turbocharged                                                            NaN   \n",
              "Blade_Extension                                                         NaN   \n",
              "Blade_Width                                                             NaN   \n",
              "Enclosure_Type                                                          NaN   \n",
              "Engine_Horsepower                                                       NaN   \n",
              "Hydraulics                                                         Standard   \n",
              "Pushblock                                                               NaN   \n",
              "Ripper                                                                  NaN   \n",
              "Scarifier                                                               NaN   \n",
              "Tip_Control                                                             NaN   \n",
              "Tire_Size                                                               NaN   \n",
              "Coupler                                                 None or Unspecified   \n",
              "Coupler_System                                                          NaN   \n",
              "Grouser_Tracks                                                          NaN   \n",
              "Hydraulics_Flow                                                         NaN   \n",
              "Track_Type                                                            Steel   \n",
              "Undercarriage_Pad_Width                                 None or Unspecified   \n",
              "Stick_Length                                            None or Unspecified   \n",
              "Thumb                                                   None or Unspecified   \n",
              "Pattern_Changer                                         None or Unspecified   \n",
              "Grouser_Type                                                         Double   \n",
              "Backhoe_Mounting                                                        NaN   \n",
              "Blade_Type                                                              NaN   \n",
              "Travel_Controls                                                         NaN   \n",
              "Differential_Type                                                       NaN   \n",
              "Steering_Controls                                                       NaN   \n",
              "\n",
              "                                                                     401122  \\\n",
              "SalesID                                                             6333338   \n",
              "SalePrice                                                             11500   \n",
              "MachineID                                                           1887659   \n",
              "ModelID                                                               21439   \n",
              "datasource                                                              149   \n",
              "auctioneerID                                                              1   \n",
              "YearMade                                                               2005   \n",
              "MachineHoursCurrentMeter                                                NaN   \n",
              "UsageBand                                                               NaN   \n",
              "saledate                                                2011-11-02 00:00:00   \n",
              "fiModelDesc                                                           35NX2   \n",
              "fiBaseModel                                                              35   \n",
              "fiSecondaryDesc                                                          NX   \n",
              "fiModelSeries                                                             2   \n",
              "fiModelDescriptor                                                       NaN   \n",
              "ProductSize                                                            Mini   \n",
              "fiProductClassDesc        Hydraulic Excavator, Track - 3.0 to 4.0 Metric...   \n",
              "state                                                              Maryland   \n",
              "ProductGroup                                                            TEX   \n",
              "ProductGroupDesc                                           Track Excavators   \n",
              "Drive_System                                                            NaN   \n",
              "Enclosure                                                             EROPS   \n",
              "Forks                                                                   NaN   \n",
              "Pad_Type                                                                NaN   \n",
              "Ride_Control                                                            NaN   \n",
              "Stick                                                                   NaN   \n",
              "Transmission                                                            NaN   \n",
              "Turbocharged                                                            NaN   \n",
              "Blade_Extension                                                         NaN   \n",
              "Blade_Width                                                             NaN   \n",
              "Enclosure_Type                                                          NaN   \n",
              "Engine_Horsepower                                                       NaN   \n",
              "Hydraulics                                                        Auxiliary   \n",
              "Pushblock                                                               NaN   \n",
              "Ripper                                                                  NaN   \n",
              "Scarifier                                                               NaN   \n",
              "Tip_Control                                                             NaN   \n",
              "Tire_Size                                                               NaN   \n",
              "Coupler                                                 None or Unspecified   \n",
              "Coupler_System                                                          NaN   \n",
              "Grouser_Tracks                                                          NaN   \n",
              "Hydraulics_Flow                                                         NaN   \n",
              "Track_Type                                                            Steel   \n",
              "Undercarriage_Pad_Width                                 None or Unspecified   \n",
              "Stick_Length                                            None or Unspecified   \n",
              "Thumb                                                   None or Unspecified   \n",
              "Pattern_Changer                                         None or Unspecified   \n",
              "Grouser_Type                                                         Double   \n",
              "Backhoe_Mounting                                                        NaN   \n",
              "Blade_Type                                                              NaN   \n",
              "Travel_Controls                                                         NaN   \n",
              "Differential_Type                                                       NaN   \n",
              "Steering_Controls                                                       NaN   \n",
              "\n",
              "                                                                     401123  \\\n",
              "SalesID                                                             6333341   \n",
              "SalePrice                                                              9000   \n",
              "MachineID                                                           1903570   \n",
              "ModelID                                                               21435   \n",
              "datasource                                                              149   \n",
              "auctioneerID                                                              2   \n",
              "YearMade                                                               2005   \n",
              "MachineHoursCurrentMeter                                                NaN   \n",
              "UsageBand                                                               NaN   \n",
              "saledate                                                2011-10-25 00:00:00   \n",
              "fiModelDesc                                                            30NX   \n",
              "fiBaseModel                                                              30   \n",
              "fiSecondaryDesc                                                          NX   \n",
              "fiModelSeries                                                           NaN   \n",
              "fiModelDescriptor                                                       NaN   \n",
              "ProductSize                                                            Mini   \n",
              "fiProductClassDesc        Hydraulic Excavator, Track - 2.0 to 3.0 Metric...   \n",
              "state                                                               Florida   \n",
              "ProductGroup                                                            TEX   \n",
              "ProductGroupDesc                                           Track Excavators   \n",
              "Drive_System                                                            NaN   \n",
              "Enclosure                                                             EROPS   \n",
              "Forks                                                                   NaN   \n",
              "Pad_Type                                                                NaN   \n",
              "Ride_Control                                                            NaN   \n",
              "Stick                                                                   NaN   \n",
              "Transmission                                                            NaN   \n",
              "Turbocharged                                                            NaN   \n",
              "Blade_Extension                                                         NaN   \n",
              "Blade_Width                                                             NaN   \n",
              "Enclosure_Type                                                          NaN   \n",
              "Engine_Horsepower                                                       NaN   \n",
              "Hydraulics                                                         Standard   \n",
              "Pushblock                                                               NaN   \n",
              "Ripper                                                                  NaN   \n",
              "Scarifier                                                               NaN   \n",
              "Tip_Control                                                             NaN   \n",
              "Tire_Size                                                               NaN   \n",
              "Coupler                                                 None or Unspecified   \n",
              "Coupler_System                                                          NaN   \n",
              "Grouser_Tracks                                                          NaN   \n",
              "Hydraulics_Flow                                                         NaN   \n",
              "Track_Type                                                            Steel   \n",
              "Undercarriage_Pad_Width                                 None or Unspecified   \n",
              "Stick_Length                                            None or Unspecified   \n",
              "Thumb                                                   None or Unspecified   \n",
              "Pattern_Changer                                         None or Unspecified   \n",
              "Grouser_Type                                                         Double   \n",
              "Backhoe_Mounting                                                        NaN   \n",
              "Blade_Type                                                              NaN   \n",
              "Travel_Controls                                                         NaN   \n",
              "Differential_Type                                                       NaN   \n",
              "Steering_Controls                                                       NaN   \n",
              "\n",
              "                                                                     401124  \n",
              "SalesID                                                             6333342  \n",
              "SalePrice                                                              7750  \n",
              "MachineID                                                           1926965  \n",
              "ModelID                                                               21435  \n",
              "datasource                                                              149  \n",
              "auctioneerID                                                              2  \n",
              "YearMade                                                               2005  \n",
              "MachineHoursCurrentMeter                                                NaN  \n",
              "UsageBand                                                               NaN  \n",
              "saledate                                                2011-10-25 00:00:00  \n",
              "fiModelDesc                                                            30NX  \n",
              "fiBaseModel                                                              30  \n",
              "fiSecondaryDesc                                                          NX  \n",
              "fiModelSeries                                                           NaN  \n",
              "fiModelDescriptor                                                       NaN  \n",
              "ProductSize                                                            Mini  \n",
              "fiProductClassDesc        Hydraulic Excavator, Track - 2.0 to 3.0 Metric...  \n",
              "state                                                               Florida  \n",
              "ProductGroup                                                            TEX  \n",
              "ProductGroupDesc                                           Track Excavators  \n",
              "Drive_System                                                            NaN  \n",
              "Enclosure                                                             EROPS  \n",
              "Forks                                                                   NaN  \n",
              "Pad_Type                                                                NaN  \n",
              "Ride_Control                                                            NaN  \n",
              "Stick                                                                   NaN  \n",
              "Transmission                                                            NaN  \n",
              "Turbocharged                                                            NaN  \n",
              "Blade_Extension                                                         NaN  \n",
              "Blade_Width                                                             NaN  \n",
              "Enclosure_Type                                                          NaN  \n",
              "Engine_Horsepower                                                       NaN  \n",
              "Hydraulics                                                         Standard  \n",
              "Pushblock                                                               NaN  \n",
              "Ripper                                                                  NaN  \n",
              "Scarifier                                                               NaN  \n",
              "Tip_Control                                                             NaN  \n",
              "Tire_Size                                                               NaN  \n",
              "Coupler                                                 None or Unspecified  \n",
              "Coupler_System                                                          NaN  \n",
              "Grouser_Tracks                                                          NaN  \n",
              "Hydraulics_Flow                                                         NaN  \n",
              "Track_Type                                                            Steel  \n",
              "Undercarriage_Pad_Width                                 None or Unspecified  \n",
              "Stick_Length                                            None or Unspecified  \n",
              "Thumb                                                   None or Unspecified  \n",
              "Pattern_Changer                                         None or Unspecified  \n",
              "Grouser_Type                                                         Double  \n",
              "Backhoe_Mounting                                                        NaN  \n",
              "Blade_Type                                                              NaN  \n",
              "Travel_Controls                                                         NaN  \n",
              "Differential_Type                                                       NaN  \n",
              "Steering_Controls                                                       NaN  "
            ]
          },
          "metadata": {
            "tags": []
          }
        }
      ]
    },
    {
      "metadata": {
        "id": "CxYnT1eJL-EW",
        "colab_type": "code",
        "colab": {
          "autoexec": {
            "startup": false,
            "wait_interval": 0
          },
          "base_uri": "https://localhost:8080/",
          "height": 2183
        },
        "outputId": "1d4a69cb-7412-46eb-e552-a4f413dda8f6",
        "executionInfo": {
          "status": "ok",
          "timestamp": 1533319449779,
          "user_tz": -120,
          "elapsed": 2931,
          "user": {
            "displayName": "Aitor Lopez Beltran",
            "photoUrl": "//lh4.googleusercontent.com/-kAX-3fy5FU0/AAAAAAAAAAI/AAAAAAAAAAU/ogUhdJGBADs/s50-c-k-no/photo.jpg",
            "userId": "101613793608418592140"
          }
        }
      },
      "cell_type": "code",
      "source": [
        "# generate descriptive statistics of all columns (including object columns). View transposed for readability.\n",
        "display_all(df_raw.describe(include='all').T)"
      ],
      "execution_count": 11,
      "outputs": [
        {
          "output_type": "display_data",
          "data": {
            "text/html": [
              "<div>\n",
              "<style scoped>\n",
              "    .dataframe tbody tr th:only-of-type {\n",
              "        vertical-align: middle;\n",
              "    }\n",
              "\n",
              "    .dataframe tbody tr th {\n",
              "        vertical-align: top;\n",
              "    }\n",
              "\n",
              "    .dataframe thead th {\n",
              "        text-align: right;\n",
              "    }\n",
              "</style>\n",
              "<table border=\"1\" class=\"dataframe\">\n",
              "  <thead>\n",
              "    <tr style=\"text-align: right;\">\n",
              "      <th></th>\n",
              "      <th>count</th>\n",
              "      <th>unique</th>\n",
              "      <th>top</th>\n",
              "      <th>freq</th>\n",
              "      <th>first</th>\n",
              "      <th>last</th>\n",
              "      <th>mean</th>\n",
              "      <th>std</th>\n",
              "      <th>min</th>\n",
              "      <th>25%</th>\n",
              "      <th>50%</th>\n",
              "      <th>75%</th>\n",
              "      <th>max</th>\n",
              "    </tr>\n",
              "  </thead>\n",
              "  <tbody>\n",
              "    <tr>\n",
              "      <th>SalesID</th>\n",
              "      <td>401125</td>\n",
              "      <td>NaN</td>\n",
              "      <td>NaN</td>\n",
              "      <td>NaN</td>\n",
              "      <td>NaN</td>\n",
              "      <td>NaN</td>\n",
              "      <td>1.91971e+06</td>\n",
              "      <td>909021</td>\n",
              "      <td>1.13925e+06</td>\n",
              "      <td>1.41837e+06</td>\n",
              "      <td>1.63942e+06</td>\n",
              "      <td>2.24271e+06</td>\n",
              "      <td>6.33334e+06</td>\n",
              "    </tr>\n",
              "    <tr>\n",
              "      <th>SalePrice</th>\n",
              "      <td>401125</td>\n",
              "      <td>NaN</td>\n",
              "      <td>NaN</td>\n",
              "      <td>NaN</td>\n",
              "      <td>NaN</td>\n",
              "      <td>NaN</td>\n",
              "      <td>31099.7</td>\n",
              "      <td>23036.9</td>\n",
              "      <td>4750</td>\n",
              "      <td>14500</td>\n",
              "      <td>24000</td>\n",
              "      <td>40000</td>\n",
              "      <td>142000</td>\n",
              "    </tr>\n",
              "    <tr>\n",
              "      <th>MachineID</th>\n",
              "      <td>401125</td>\n",
              "      <td>NaN</td>\n",
              "      <td>NaN</td>\n",
              "      <td>NaN</td>\n",
              "      <td>NaN</td>\n",
              "      <td>NaN</td>\n",
              "      <td>1.2179e+06</td>\n",
              "      <td>440992</td>\n",
              "      <td>0</td>\n",
              "      <td>1.0887e+06</td>\n",
              "      <td>1.27949e+06</td>\n",
              "      <td>1.46807e+06</td>\n",
              "      <td>2.48633e+06</td>\n",
              "    </tr>\n",
              "    <tr>\n",
              "      <th>ModelID</th>\n",
              "      <td>401125</td>\n",
              "      <td>NaN</td>\n",
              "      <td>NaN</td>\n",
              "      <td>NaN</td>\n",
              "      <td>NaN</td>\n",
              "      <td>NaN</td>\n",
              "      <td>6889.7</td>\n",
              "      <td>6221.78</td>\n",
              "      <td>28</td>\n",
              "      <td>3259</td>\n",
              "      <td>4604</td>\n",
              "      <td>8724</td>\n",
              "      <td>37198</td>\n",
              "    </tr>\n",
              "    <tr>\n",
              "      <th>datasource</th>\n",
              "      <td>401125</td>\n",
              "      <td>NaN</td>\n",
              "      <td>NaN</td>\n",
              "      <td>NaN</td>\n",
              "      <td>NaN</td>\n",
              "      <td>NaN</td>\n",
              "      <td>134.666</td>\n",
              "      <td>8.96224</td>\n",
              "      <td>121</td>\n",
              "      <td>132</td>\n",
              "      <td>132</td>\n",
              "      <td>136</td>\n",
              "      <td>172</td>\n",
              "    </tr>\n",
              "    <tr>\n",
              "      <th>auctioneerID</th>\n",
              "      <td>380989</td>\n",
              "      <td>NaN</td>\n",
              "      <td>NaN</td>\n",
              "      <td>NaN</td>\n",
              "      <td>NaN</td>\n",
              "      <td>NaN</td>\n",
              "      <td>6.55604</td>\n",
              "      <td>16.9768</td>\n",
              "      <td>0</td>\n",
              "      <td>1</td>\n",
              "      <td>2</td>\n",
              "      <td>4</td>\n",
              "      <td>99</td>\n",
              "    </tr>\n",
              "    <tr>\n",
              "      <th>YearMade</th>\n",
              "      <td>401125</td>\n",
              "      <td>NaN</td>\n",
              "      <td>NaN</td>\n",
              "      <td>NaN</td>\n",
              "      <td>NaN</td>\n",
              "      <td>NaN</td>\n",
              "      <td>1899.16</td>\n",
              "      <td>291.797</td>\n",
              "      <td>1000</td>\n",
              "      <td>1985</td>\n",
              "      <td>1995</td>\n",
              "      <td>2000</td>\n",
              "      <td>2013</td>\n",
              "    </tr>\n",
              "    <tr>\n",
              "      <th>MachineHoursCurrentMeter</th>\n",
              "      <td>142765</td>\n",
              "      <td>NaN</td>\n",
              "      <td>NaN</td>\n",
              "      <td>NaN</td>\n",
              "      <td>NaN</td>\n",
              "      <td>NaN</td>\n",
              "      <td>3457.96</td>\n",
              "      <td>27590.3</td>\n",
              "      <td>0</td>\n",
              "      <td>0</td>\n",
              "      <td>0</td>\n",
              "      <td>3025</td>\n",
              "      <td>2.4833e+06</td>\n",
              "    </tr>\n",
              "    <tr>\n",
              "      <th>UsageBand</th>\n",
              "      <td>69639</td>\n",
              "      <td>3</td>\n",
              "      <td>Medium</td>\n",
              "      <td>33985</td>\n",
              "      <td>NaN</td>\n",
              "      <td>NaN</td>\n",
              "      <td>NaN</td>\n",
              "      <td>NaN</td>\n",
              "      <td>NaN</td>\n",
              "      <td>NaN</td>\n",
              "      <td>NaN</td>\n",
              "      <td>NaN</td>\n",
              "      <td>NaN</td>\n",
              "    </tr>\n",
              "    <tr>\n",
              "      <th>saledate</th>\n",
              "      <td>401125</td>\n",
              "      <td>3919</td>\n",
              "      <td>2009-02-16 00:00:00</td>\n",
              "      <td>1932</td>\n",
              "      <td>1989-01-17 00:00:00</td>\n",
              "      <td>2011-12-30 00:00:00</td>\n",
              "      <td>NaN</td>\n",
              "      <td>NaN</td>\n",
              "      <td>NaN</td>\n",
              "      <td>NaN</td>\n",
              "      <td>NaN</td>\n",
              "      <td>NaN</td>\n",
              "      <td>NaN</td>\n",
              "    </tr>\n",
              "    <tr>\n",
              "      <th>fiModelDesc</th>\n",
              "      <td>401125</td>\n",
              "      <td>4999</td>\n",
              "      <td>310G</td>\n",
              "      <td>5039</td>\n",
              "      <td>NaN</td>\n",
              "      <td>NaN</td>\n",
              "      <td>NaN</td>\n",
              "      <td>NaN</td>\n",
              "      <td>NaN</td>\n",
              "      <td>NaN</td>\n",
              "      <td>NaN</td>\n",
              "      <td>NaN</td>\n",
              "      <td>NaN</td>\n",
              "    </tr>\n",
              "    <tr>\n",
              "      <th>fiBaseModel</th>\n",
              "      <td>401125</td>\n",
              "      <td>1950</td>\n",
              "      <td>580</td>\n",
              "      <td>19798</td>\n",
              "      <td>NaN</td>\n",
              "      <td>NaN</td>\n",
              "      <td>NaN</td>\n",
              "      <td>NaN</td>\n",
              "      <td>NaN</td>\n",
              "      <td>NaN</td>\n",
              "      <td>NaN</td>\n",
              "      <td>NaN</td>\n",
              "      <td>NaN</td>\n",
              "    </tr>\n",
              "    <tr>\n",
              "      <th>fiSecondaryDesc</th>\n",
              "      <td>263934</td>\n",
              "      <td>175</td>\n",
              "      <td>C</td>\n",
              "      <td>43235</td>\n",
              "      <td>NaN</td>\n",
              "      <td>NaN</td>\n",
              "      <td>NaN</td>\n",
              "      <td>NaN</td>\n",
              "      <td>NaN</td>\n",
              "      <td>NaN</td>\n",
              "      <td>NaN</td>\n",
              "      <td>NaN</td>\n",
              "      <td>NaN</td>\n",
              "    </tr>\n",
              "    <tr>\n",
              "      <th>fiModelSeries</th>\n",
              "      <td>56908</td>\n",
              "      <td>122</td>\n",
              "      <td>II</td>\n",
              "      <td>13202</td>\n",
              "      <td>NaN</td>\n",
              "      <td>NaN</td>\n",
              "      <td>NaN</td>\n",
              "      <td>NaN</td>\n",
              "      <td>NaN</td>\n",
              "      <td>NaN</td>\n",
              "      <td>NaN</td>\n",
              "      <td>NaN</td>\n",
              "      <td>NaN</td>\n",
              "    </tr>\n",
              "    <tr>\n",
              "      <th>fiModelDescriptor</th>\n",
              "      <td>71919</td>\n",
              "      <td>139</td>\n",
              "      <td>L</td>\n",
              "      <td>15875</td>\n",
              "      <td>NaN</td>\n",
              "      <td>NaN</td>\n",
              "      <td>NaN</td>\n",
              "      <td>NaN</td>\n",
              "      <td>NaN</td>\n",
              "      <td>NaN</td>\n",
              "      <td>NaN</td>\n",
              "      <td>NaN</td>\n",
              "      <td>NaN</td>\n",
              "    </tr>\n",
              "    <tr>\n",
              "      <th>ProductSize</th>\n",
              "      <td>190350</td>\n",
              "      <td>6</td>\n",
              "      <td>Medium</td>\n",
              "      <td>62274</td>\n",
              "      <td>NaN</td>\n",
              "      <td>NaN</td>\n",
              "      <td>NaN</td>\n",
              "      <td>NaN</td>\n",
              "      <td>NaN</td>\n",
              "      <td>NaN</td>\n",
              "      <td>NaN</td>\n",
              "      <td>NaN</td>\n",
              "      <td>NaN</td>\n",
              "    </tr>\n",
              "    <tr>\n",
              "      <th>fiProductClassDesc</th>\n",
              "      <td>401125</td>\n",
              "      <td>74</td>\n",
              "      <td>Backhoe Loader - 14.0 to 15.0 Ft Standard Digg...</td>\n",
              "      <td>56166</td>\n",
              "      <td>NaN</td>\n",
              "      <td>NaN</td>\n",
              "      <td>NaN</td>\n",
              "      <td>NaN</td>\n",
              "      <td>NaN</td>\n",
              "      <td>NaN</td>\n",
              "      <td>NaN</td>\n",
              "      <td>NaN</td>\n",
              "      <td>NaN</td>\n",
              "    </tr>\n",
              "    <tr>\n",
              "      <th>state</th>\n",
              "      <td>401125</td>\n",
              "      <td>53</td>\n",
              "      <td>Florida</td>\n",
              "      <td>63944</td>\n",
              "      <td>NaN</td>\n",
              "      <td>NaN</td>\n",
              "      <td>NaN</td>\n",
              "      <td>NaN</td>\n",
              "      <td>NaN</td>\n",
              "      <td>NaN</td>\n",
              "      <td>NaN</td>\n",
              "      <td>NaN</td>\n",
              "      <td>NaN</td>\n",
              "    </tr>\n",
              "    <tr>\n",
              "      <th>ProductGroup</th>\n",
              "      <td>401125</td>\n",
              "      <td>6</td>\n",
              "      <td>TEX</td>\n",
              "      <td>101167</td>\n",
              "      <td>NaN</td>\n",
              "      <td>NaN</td>\n",
              "      <td>NaN</td>\n",
              "      <td>NaN</td>\n",
              "      <td>NaN</td>\n",
              "      <td>NaN</td>\n",
              "      <td>NaN</td>\n",
              "      <td>NaN</td>\n",
              "      <td>NaN</td>\n",
              "    </tr>\n",
              "    <tr>\n",
              "      <th>ProductGroupDesc</th>\n",
              "      <td>401125</td>\n",
              "      <td>6</td>\n",
              "      <td>Track Excavators</td>\n",
              "      <td>101167</td>\n",
              "      <td>NaN</td>\n",
              "      <td>NaN</td>\n",
              "      <td>NaN</td>\n",
              "      <td>NaN</td>\n",
              "      <td>NaN</td>\n",
              "      <td>NaN</td>\n",
              "      <td>NaN</td>\n",
              "      <td>NaN</td>\n",
              "      <td>NaN</td>\n",
              "    </tr>\n",
              "    <tr>\n",
              "      <th>Drive_System</th>\n",
              "      <td>104361</td>\n",
              "      <td>4</td>\n",
              "      <td>Two Wheel Drive</td>\n",
              "      <td>46139</td>\n",
              "      <td>NaN</td>\n",
              "      <td>NaN</td>\n",
              "      <td>NaN</td>\n",
              "      <td>NaN</td>\n",
              "      <td>NaN</td>\n",
              "      <td>NaN</td>\n",
              "      <td>NaN</td>\n",
              "      <td>NaN</td>\n",
              "      <td>NaN</td>\n",
              "    </tr>\n",
              "    <tr>\n",
              "      <th>Enclosure</th>\n",
              "      <td>400800</td>\n",
              "      <td>6</td>\n",
              "      <td>OROPS</td>\n",
              "      <td>173932</td>\n",
              "      <td>NaN</td>\n",
              "      <td>NaN</td>\n",
              "      <td>NaN</td>\n",
              "      <td>NaN</td>\n",
              "      <td>NaN</td>\n",
              "      <td>NaN</td>\n",
              "      <td>NaN</td>\n",
              "      <td>NaN</td>\n",
              "      <td>NaN</td>\n",
              "    </tr>\n",
              "    <tr>\n",
              "      <th>Forks</th>\n",
              "      <td>192077</td>\n",
              "      <td>2</td>\n",
              "      <td>None or Unspecified</td>\n",
              "      <td>178300</td>\n",
              "      <td>NaN</td>\n",
              "      <td>NaN</td>\n",
              "      <td>NaN</td>\n",
              "      <td>NaN</td>\n",
              "      <td>NaN</td>\n",
              "      <td>NaN</td>\n",
              "      <td>NaN</td>\n",
              "      <td>NaN</td>\n",
              "      <td>NaN</td>\n",
              "    </tr>\n",
              "    <tr>\n",
              "      <th>Pad_Type</th>\n",
              "      <td>79134</td>\n",
              "      <td>4</td>\n",
              "      <td>None or Unspecified</td>\n",
              "      <td>70614</td>\n",
              "      <td>NaN</td>\n",
              "      <td>NaN</td>\n",
              "      <td>NaN</td>\n",
              "      <td>NaN</td>\n",
              "      <td>NaN</td>\n",
              "      <td>NaN</td>\n",
              "      <td>NaN</td>\n",
              "      <td>NaN</td>\n",
              "      <td>NaN</td>\n",
              "    </tr>\n",
              "    <tr>\n",
              "      <th>Ride_Control</th>\n",
              "      <td>148606</td>\n",
              "      <td>3</td>\n",
              "      <td>No</td>\n",
              "      <td>77685</td>\n",
              "      <td>NaN</td>\n",
              "      <td>NaN</td>\n",
              "      <td>NaN</td>\n",
              "      <td>NaN</td>\n",
              "      <td>NaN</td>\n",
              "      <td>NaN</td>\n",
              "      <td>NaN</td>\n",
              "      <td>NaN</td>\n",
              "      <td>NaN</td>\n",
              "    </tr>\n",
              "    <tr>\n",
              "      <th>Stick</th>\n",
              "      <td>79134</td>\n",
              "      <td>2</td>\n",
              "      <td>Standard</td>\n",
              "      <td>48829</td>\n",
              "      <td>NaN</td>\n",
              "      <td>NaN</td>\n",
              "      <td>NaN</td>\n",
              "      <td>NaN</td>\n",
              "      <td>NaN</td>\n",
              "      <td>NaN</td>\n",
              "      <td>NaN</td>\n",
              "      <td>NaN</td>\n",
              "      <td>NaN</td>\n",
              "    </tr>\n",
              "    <tr>\n",
              "      <th>Transmission</th>\n",
              "      <td>183230</td>\n",
              "      <td>8</td>\n",
              "      <td>Standard</td>\n",
              "      <td>140328</td>\n",
              "      <td>NaN</td>\n",
              "      <td>NaN</td>\n",
              "      <td>NaN</td>\n",
              "      <td>NaN</td>\n",
              "      <td>NaN</td>\n",
              "      <td>NaN</td>\n",
              "      <td>NaN</td>\n",
              "      <td>NaN</td>\n",
              "      <td>NaN</td>\n",
              "    </tr>\n",
              "    <tr>\n",
              "      <th>Turbocharged</th>\n",
              "      <td>79134</td>\n",
              "      <td>2</td>\n",
              "      <td>None or Unspecified</td>\n",
              "      <td>75211</td>\n",
              "      <td>NaN</td>\n",
              "      <td>NaN</td>\n",
              "      <td>NaN</td>\n",
              "      <td>NaN</td>\n",
              "      <td>NaN</td>\n",
              "      <td>NaN</td>\n",
              "      <td>NaN</td>\n",
              "      <td>NaN</td>\n",
              "      <td>NaN</td>\n",
              "    </tr>\n",
              "    <tr>\n",
              "      <th>Blade_Extension</th>\n",
              "      <td>25219</td>\n",
              "      <td>2</td>\n",
              "      <td>None or Unspecified</td>\n",
              "      <td>24692</td>\n",
              "      <td>NaN</td>\n",
              "      <td>NaN</td>\n",
              "      <td>NaN</td>\n",
              "      <td>NaN</td>\n",
              "      <td>NaN</td>\n",
              "      <td>NaN</td>\n",
              "      <td>NaN</td>\n",
              "      <td>NaN</td>\n",
              "      <td>NaN</td>\n",
              "    </tr>\n",
              "    <tr>\n",
              "      <th>Blade_Width</th>\n",
              "      <td>25219</td>\n",
              "      <td>6</td>\n",
              "      <td>14'</td>\n",
              "      <td>9615</td>\n",
              "      <td>NaN</td>\n",
              "      <td>NaN</td>\n",
              "      <td>NaN</td>\n",
              "      <td>NaN</td>\n",
              "      <td>NaN</td>\n",
              "      <td>NaN</td>\n",
              "      <td>NaN</td>\n",
              "      <td>NaN</td>\n",
              "      <td>NaN</td>\n",
              "    </tr>\n",
              "    <tr>\n",
              "      <th>Enclosure_Type</th>\n",
              "      <td>25219</td>\n",
              "      <td>3</td>\n",
              "      <td>None or Unspecified</td>\n",
              "      <td>21923</td>\n",
              "      <td>NaN</td>\n",
              "      <td>NaN</td>\n",
              "      <td>NaN</td>\n",
              "      <td>NaN</td>\n",
              "      <td>NaN</td>\n",
              "      <td>NaN</td>\n",
              "      <td>NaN</td>\n",
              "      <td>NaN</td>\n",
              "      <td>NaN</td>\n",
              "    </tr>\n",
              "    <tr>\n",
              "      <th>Engine_Horsepower</th>\n",
              "      <td>25219</td>\n",
              "      <td>2</td>\n",
              "      <td>No</td>\n",
              "      <td>23937</td>\n",
              "      <td>NaN</td>\n",
              "      <td>NaN</td>\n",
              "      <td>NaN</td>\n",
              "      <td>NaN</td>\n",
              "      <td>NaN</td>\n",
              "      <td>NaN</td>\n",
              "      <td>NaN</td>\n",
              "      <td>NaN</td>\n",
              "      <td>NaN</td>\n",
              "    </tr>\n",
              "    <tr>\n",
              "      <th>Hydraulics</th>\n",
              "      <td>320570</td>\n",
              "      <td>12</td>\n",
              "      <td>2 Valve</td>\n",
              "      <td>141404</td>\n",
              "      <td>NaN</td>\n",
              "      <td>NaN</td>\n",
              "      <td>NaN</td>\n",
              "      <td>NaN</td>\n",
              "      <td>NaN</td>\n",
              "      <td>NaN</td>\n",
              "      <td>NaN</td>\n",
              "      <td>NaN</td>\n",
              "      <td>NaN</td>\n",
              "    </tr>\n",
              "    <tr>\n",
              "      <th>Pushblock</th>\n",
              "      <td>25219</td>\n",
              "      <td>2</td>\n",
              "      <td>None or Unspecified</td>\n",
              "      <td>19463</td>\n",
              "      <td>NaN</td>\n",
              "      <td>NaN</td>\n",
              "      <td>NaN</td>\n",
              "      <td>NaN</td>\n",
              "      <td>NaN</td>\n",
              "      <td>NaN</td>\n",
              "      <td>NaN</td>\n",
              "      <td>NaN</td>\n",
              "      <td>NaN</td>\n",
              "    </tr>\n",
              "    <tr>\n",
              "      <th>Ripper</th>\n",
              "      <td>104137</td>\n",
              "      <td>4</td>\n",
              "      <td>None or Unspecified</td>\n",
              "      <td>83452</td>\n",
              "      <td>NaN</td>\n",
              "      <td>NaN</td>\n",
              "      <td>NaN</td>\n",
              "      <td>NaN</td>\n",
              "      <td>NaN</td>\n",
              "      <td>NaN</td>\n",
              "      <td>NaN</td>\n",
              "      <td>NaN</td>\n",
              "      <td>NaN</td>\n",
              "    </tr>\n",
              "    <tr>\n",
              "      <th>Scarifier</th>\n",
              "      <td>25230</td>\n",
              "      <td>2</td>\n",
              "      <td>None or Unspecified</td>\n",
              "      <td>12719</td>\n",
              "      <td>NaN</td>\n",
              "      <td>NaN</td>\n",
              "      <td>NaN</td>\n",
              "      <td>NaN</td>\n",
              "      <td>NaN</td>\n",
              "      <td>NaN</td>\n",
              "      <td>NaN</td>\n",
              "      <td>NaN</td>\n",
              "      <td>NaN</td>\n",
              "    </tr>\n",
              "    <tr>\n",
              "      <th>Tip_Control</th>\n",
              "      <td>25219</td>\n",
              "      <td>3</td>\n",
              "      <td>None or Unspecified</td>\n",
              "      <td>16207</td>\n",
              "      <td>NaN</td>\n",
              "      <td>NaN</td>\n",
              "      <td>NaN</td>\n",
              "      <td>NaN</td>\n",
              "      <td>NaN</td>\n",
              "      <td>NaN</td>\n",
              "      <td>NaN</td>\n",
              "      <td>NaN</td>\n",
              "      <td>NaN</td>\n",
              "    </tr>\n",
              "    <tr>\n",
              "      <th>Tire_Size</th>\n",
              "      <td>94718</td>\n",
              "      <td>17</td>\n",
              "      <td>None or Unspecified</td>\n",
              "      <td>46339</td>\n",
              "      <td>NaN</td>\n",
              "      <td>NaN</td>\n",
              "      <td>NaN</td>\n",
              "      <td>NaN</td>\n",
              "      <td>NaN</td>\n",
              "      <td>NaN</td>\n",
              "      <td>NaN</td>\n",
              "      <td>NaN</td>\n",
              "      <td>NaN</td>\n",
              "    </tr>\n",
              "    <tr>\n",
              "      <th>Coupler</th>\n",
              "      <td>213952</td>\n",
              "      <td>3</td>\n",
              "      <td>None or Unspecified</td>\n",
              "      <td>184582</td>\n",
              "      <td>NaN</td>\n",
              "      <td>NaN</td>\n",
              "      <td>NaN</td>\n",
              "      <td>NaN</td>\n",
              "      <td>NaN</td>\n",
              "      <td>NaN</td>\n",
              "      <td>NaN</td>\n",
              "      <td>NaN</td>\n",
              "      <td>NaN</td>\n",
              "    </tr>\n",
              "    <tr>\n",
              "      <th>Coupler_System</th>\n",
              "      <td>43458</td>\n",
              "      <td>2</td>\n",
              "      <td>None or Unspecified</td>\n",
              "      <td>40430</td>\n",
              "      <td>NaN</td>\n",
              "      <td>NaN</td>\n",
              "      <td>NaN</td>\n",
              "      <td>NaN</td>\n",
              "      <td>NaN</td>\n",
              "      <td>NaN</td>\n",
              "      <td>NaN</td>\n",
              "      <td>NaN</td>\n",
              "      <td>NaN</td>\n",
              "    </tr>\n",
              "    <tr>\n",
              "      <th>Grouser_Tracks</th>\n",
              "      <td>43362</td>\n",
              "      <td>2</td>\n",
              "      <td>None or Unspecified</td>\n",
              "      <td>40515</td>\n",
              "      <td>NaN</td>\n",
              "      <td>NaN</td>\n",
              "      <td>NaN</td>\n",
              "      <td>NaN</td>\n",
              "      <td>NaN</td>\n",
              "      <td>NaN</td>\n",
              "      <td>NaN</td>\n",
              "      <td>NaN</td>\n",
              "      <td>NaN</td>\n",
              "    </tr>\n",
              "    <tr>\n",
              "      <th>Hydraulics_Flow</th>\n",
              "      <td>43362</td>\n",
              "      <td>3</td>\n",
              "      <td>Standard</td>\n",
              "      <td>42784</td>\n",
              "      <td>NaN</td>\n",
              "      <td>NaN</td>\n",
              "      <td>NaN</td>\n",
              "      <td>NaN</td>\n",
              "      <td>NaN</td>\n",
              "      <td>NaN</td>\n",
              "      <td>NaN</td>\n",
              "      <td>NaN</td>\n",
              "      <td>NaN</td>\n",
              "    </tr>\n",
              "    <tr>\n",
              "      <th>Track_Type</th>\n",
              "      <td>99153</td>\n",
              "      <td>2</td>\n",
              "      <td>Steel</td>\n",
              "      <td>84880</td>\n",
              "      <td>NaN</td>\n",
              "      <td>NaN</td>\n",
              "      <td>NaN</td>\n",
              "      <td>NaN</td>\n",
              "      <td>NaN</td>\n",
              "      <td>NaN</td>\n",
              "      <td>NaN</td>\n",
              "      <td>NaN</td>\n",
              "      <td>NaN</td>\n",
              "    </tr>\n",
              "    <tr>\n",
              "      <th>Undercarriage_Pad_Width</th>\n",
              "      <td>99872</td>\n",
              "      <td>19</td>\n",
              "      <td>None or Unspecified</td>\n",
              "      <td>79651</td>\n",
              "      <td>NaN</td>\n",
              "      <td>NaN</td>\n",
              "      <td>NaN</td>\n",
              "      <td>NaN</td>\n",
              "      <td>NaN</td>\n",
              "      <td>NaN</td>\n",
              "      <td>NaN</td>\n",
              "      <td>NaN</td>\n",
              "      <td>NaN</td>\n",
              "    </tr>\n",
              "    <tr>\n",
              "      <th>Stick_Length</th>\n",
              "      <td>99218</td>\n",
              "      <td>29</td>\n",
              "      <td>None or Unspecified</td>\n",
              "      <td>78820</td>\n",
              "      <td>NaN</td>\n",
              "      <td>NaN</td>\n",
              "      <td>NaN</td>\n",
              "      <td>NaN</td>\n",
              "      <td>NaN</td>\n",
              "      <td>NaN</td>\n",
              "      <td>NaN</td>\n",
              "      <td>NaN</td>\n",
              "      <td>NaN</td>\n",
              "    </tr>\n",
              "    <tr>\n",
              "      <th>Thumb</th>\n",
              "      <td>99288</td>\n",
              "      <td>3</td>\n",
              "      <td>None or Unspecified</td>\n",
              "      <td>83093</td>\n",
              "      <td>NaN</td>\n",
              "      <td>NaN</td>\n",
              "      <td>NaN</td>\n",
              "      <td>NaN</td>\n",
              "      <td>NaN</td>\n",
              "      <td>NaN</td>\n",
              "      <td>NaN</td>\n",
              "      <td>NaN</td>\n",
              "      <td>NaN</td>\n",
              "    </tr>\n",
              "    <tr>\n",
              "      <th>Pattern_Changer</th>\n",
              "      <td>99218</td>\n",
              "      <td>3</td>\n",
              "      <td>None or Unspecified</td>\n",
              "      <td>90255</td>\n",
              "      <td>NaN</td>\n",
              "      <td>NaN</td>\n",
              "      <td>NaN</td>\n",
              "      <td>NaN</td>\n",
              "      <td>NaN</td>\n",
              "      <td>NaN</td>\n",
              "      <td>NaN</td>\n",
              "      <td>NaN</td>\n",
              "      <td>NaN</td>\n",
              "    </tr>\n",
              "    <tr>\n",
              "      <th>Grouser_Type</th>\n",
              "      <td>99153</td>\n",
              "      <td>3</td>\n",
              "      <td>Double</td>\n",
              "      <td>84653</td>\n",
              "      <td>NaN</td>\n",
              "      <td>NaN</td>\n",
              "      <td>NaN</td>\n",
              "      <td>NaN</td>\n",
              "      <td>NaN</td>\n",
              "      <td>NaN</td>\n",
              "      <td>NaN</td>\n",
              "      <td>NaN</td>\n",
              "      <td>NaN</td>\n",
              "    </tr>\n",
              "    <tr>\n",
              "      <th>Backhoe_Mounting</th>\n",
              "      <td>78672</td>\n",
              "      <td>2</td>\n",
              "      <td>None or Unspecified</td>\n",
              "      <td>78652</td>\n",
              "      <td>NaN</td>\n",
              "      <td>NaN</td>\n",
              "      <td>NaN</td>\n",
              "      <td>NaN</td>\n",
              "      <td>NaN</td>\n",
              "      <td>NaN</td>\n",
              "      <td>NaN</td>\n",
              "      <td>NaN</td>\n",
              "      <td>NaN</td>\n",
              "    </tr>\n",
              "    <tr>\n",
              "      <th>Blade_Type</th>\n",
              "      <td>79833</td>\n",
              "      <td>10</td>\n",
              "      <td>PAT</td>\n",
              "      <td>38612</td>\n",
              "      <td>NaN</td>\n",
              "      <td>NaN</td>\n",
              "      <td>NaN</td>\n",
              "      <td>NaN</td>\n",
              "      <td>NaN</td>\n",
              "      <td>NaN</td>\n",
              "      <td>NaN</td>\n",
              "      <td>NaN</td>\n",
              "      <td>NaN</td>\n",
              "    </tr>\n",
              "    <tr>\n",
              "      <th>Travel_Controls</th>\n",
              "      <td>79834</td>\n",
              "      <td>7</td>\n",
              "      <td>None or Unspecified</td>\n",
              "      <td>69923</td>\n",
              "      <td>NaN</td>\n",
              "      <td>NaN</td>\n",
              "      <td>NaN</td>\n",
              "      <td>NaN</td>\n",
              "      <td>NaN</td>\n",
              "      <td>NaN</td>\n",
              "      <td>NaN</td>\n",
              "      <td>NaN</td>\n",
              "      <td>NaN</td>\n",
              "    </tr>\n",
              "    <tr>\n",
              "      <th>Differential_Type</th>\n",
              "      <td>69411</td>\n",
              "      <td>4</td>\n",
              "      <td>Standard</td>\n",
              "      <td>68073</td>\n",
              "      <td>NaN</td>\n",
              "      <td>NaN</td>\n",
              "      <td>NaN</td>\n",
              "      <td>NaN</td>\n",
              "      <td>NaN</td>\n",
              "      <td>NaN</td>\n",
              "      <td>NaN</td>\n",
              "      <td>NaN</td>\n",
              "      <td>NaN</td>\n",
              "    </tr>\n",
              "    <tr>\n",
              "      <th>Steering_Controls</th>\n",
              "      <td>69369</td>\n",
              "      <td>5</td>\n",
              "      <td>Conventional</td>\n",
              "      <td>68679</td>\n",
              "      <td>NaN</td>\n",
              "      <td>NaN</td>\n",
              "      <td>NaN</td>\n",
              "      <td>NaN</td>\n",
              "      <td>NaN</td>\n",
              "      <td>NaN</td>\n",
              "      <td>NaN</td>\n",
              "      <td>NaN</td>\n",
              "      <td>NaN</td>\n",
              "    </tr>\n",
              "  </tbody>\n",
              "</table>\n",
              "</div>"
            ],
            "text/plain": [
              "                           count unique  \\\n",
              "SalesID                   401125    NaN   \n",
              "SalePrice                 401125    NaN   \n",
              "MachineID                 401125    NaN   \n",
              "ModelID                   401125    NaN   \n",
              "datasource                401125    NaN   \n",
              "auctioneerID              380989    NaN   \n",
              "YearMade                  401125    NaN   \n",
              "MachineHoursCurrentMeter  142765    NaN   \n",
              "UsageBand                  69639      3   \n",
              "saledate                  401125   3919   \n",
              "fiModelDesc               401125   4999   \n",
              "fiBaseModel               401125   1950   \n",
              "fiSecondaryDesc           263934    175   \n",
              "fiModelSeries              56908    122   \n",
              "fiModelDescriptor          71919    139   \n",
              "ProductSize               190350      6   \n",
              "fiProductClassDesc        401125     74   \n",
              "state                     401125     53   \n",
              "ProductGroup              401125      6   \n",
              "ProductGroupDesc          401125      6   \n",
              "Drive_System              104361      4   \n",
              "Enclosure                 400800      6   \n",
              "Forks                     192077      2   \n",
              "Pad_Type                   79134      4   \n",
              "Ride_Control              148606      3   \n",
              "Stick                      79134      2   \n",
              "Transmission              183230      8   \n",
              "Turbocharged               79134      2   \n",
              "Blade_Extension            25219      2   \n",
              "Blade_Width                25219      6   \n",
              "Enclosure_Type             25219      3   \n",
              "Engine_Horsepower          25219      2   \n",
              "Hydraulics                320570     12   \n",
              "Pushblock                  25219      2   \n",
              "Ripper                    104137      4   \n",
              "Scarifier                  25230      2   \n",
              "Tip_Control                25219      3   \n",
              "Tire_Size                  94718     17   \n",
              "Coupler                   213952      3   \n",
              "Coupler_System             43458      2   \n",
              "Grouser_Tracks             43362      2   \n",
              "Hydraulics_Flow            43362      3   \n",
              "Track_Type                 99153      2   \n",
              "Undercarriage_Pad_Width    99872     19   \n",
              "Stick_Length               99218     29   \n",
              "Thumb                      99288      3   \n",
              "Pattern_Changer            99218      3   \n",
              "Grouser_Type               99153      3   \n",
              "Backhoe_Mounting           78672      2   \n",
              "Blade_Type                 79833     10   \n",
              "Travel_Controls            79834      7   \n",
              "Differential_Type          69411      4   \n",
              "Steering_Controls          69369      5   \n",
              "\n",
              "                                                                        top  \\\n",
              "SalesID                                                                 NaN   \n",
              "SalePrice                                                               NaN   \n",
              "MachineID                                                               NaN   \n",
              "ModelID                                                                 NaN   \n",
              "datasource                                                              NaN   \n",
              "auctioneerID                                                            NaN   \n",
              "YearMade                                                                NaN   \n",
              "MachineHoursCurrentMeter                                                NaN   \n",
              "UsageBand                                                            Medium   \n",
              "saledate                                                2009-02-16 00:00:00   \n",
              "fiModelDesc                                                            310G   \n",
              "fiBaseModel                                                             580   \n",
              "fiSecondaryDesc                                                           C   \n",
              "fiModelSeries                                                            II   \n",
              "fiModelDescriptor                                                         L   \n",
              "ProductSize                                                          Medium   \n",
              "fiProductClassDesc        Backhoe Loader - 14.0 to 15.0 Ft Standard Digg...   \n",
              "state                                                               Florida   \n",
              "ProductGroup                                                            TEX   \n",
              "ProductGroupDesc                                           Track Excavators   \n",
              "Drive_System                                                Two Wheel Drive   \n",
              "Enclosure                                                             OROPS   \n",
              "Forks                                                   None or Unspecified   \n",
              "Pad_Type                                                None or Unspecified   \n",
              "Ride_Control                                                             No   \n",
              "Stick                                                              Standard   \n",
              "Transmission                                                       Standard   \n",
              "Turbocharged                                            None or Unspecified   \n",
              "Blade_Extension                                         None or Unspecified   \n",
              "Blade_Width                                                             14'   \n",
              "Enclosure_Type                                          None or Unspecified   \n",
              "Engine_Horsepower                                                        No   \n",
              "Hydraulics                                                          2 Valve   \n",
              "Pushblock                                               None or Unspecified   \n",
              "Ripper                                                  None or Unspecified   \n",
              "Scarifier                                               None or Unspecified   \n",
              "Tip_Control                                             None or Unspecified   \n",
              "Tire_Size                                               None or Unspecified   \n",
              "Coupler                                                 None or Unspecified   \n",
              "Coupler_System                                          None or Unspecified   \n",
              "Grouser_Tracks                                          None or Unspecified   \n",
              "Hydraulics_Flow                                                    Standard   \n",
              "Track_Type                                                            Steel   \n",
              "Undercarriage_Pad_Width                                 None or Unspecified   \n",
              "Stick_Length                                            None or Unspecified   \n",
              "Thumb                                                   None or Unspecified   \n",
              "Pattern_Changer                                         None or Unspecified   \n",
              "Grouser_Type                                                         Double   \n",
              "Backhoe_Mounting                                        None or Unspecified   \n",
              "Blade_Type                                                              PAT   \n",
              "Travel_Controls                                         None or Unspecified   \n",
              "Differential_Type                                                  Standard   \n",
              "Steering_Controls                                              Conventional   \n",
              "\n",
              "                            freq                first                 last  \\\n",
              "SalesID                      NaN                  NaN                  NaN   \n",
              "SalePrice                    NaN                  NaN                  NaN   \n",
              "MachineID                    NaN                  NaN                  NaN   \n",
              "ModelID                      NaN                  NaN                  NaN   \n",
              "datasource                   NaN                  NaN                  NaN   \n",
              "auctioneerID                 NaN                  NaN                  NaN   \n",
              "YearMade                     NaN                  NaN                  NaN   \n",
              "MachineHoursCurrentMeter     NaN                  NaN                  NaN   \n",
              "UsageBand                  33985                  NaN                  NaN   \n",
              "saledate                    1932  1989-01-17 00:00:00  2011-12-30 00:00:00   \n",
              "fiModelDesc                 5039                  NaN                  NaN   \n",
              "fiBaseModel                19798                  NaN                  NaN   \n",
              "fiSecondaryDesc            43235                  NaN                  NaN   \n",
              "fiModelSeries              13202                  NaN                  NaN   \n",
              "fiModelDescriptor          15875                  NaN                  NaN   \n",
              "ProductSize                62274                  NaN                  NaN   \n",
              "fiProductClassDesc         56166                  NaN                  NaN   \n",
              "state                      63944                  NaN                  NaN   \n",
              "ProductGroup              101167                  NaN                  NaN   \n",
              "ProductGroupDesc          101167                  NaN                  NaN   \n",
              "Drive_System               46139                  NaN                  NaN   \n",
              "Enclosure                 173932                  NaN                  NaN   \n",
              "Forks                     178300                  NaN                  NaN   \n",
              "Pad_Type                   70614                  NaN                  NaN   \n",
              "Ride_Control               77685                  NaN                  NaN   \n",
              "Stick                      48829                  NaN                  NaN   \n",
              "Transmission              140328                  NaN                  NaN   \n",
              "Turbocharged               75211                  NaN                  NaN   \n",
              "Blade_Extension            24692                  NaN                  NaN   \n",
              "Blade_Width                 9615                  NaN                  NaN   \n",
              "Enclosure_Type             21923                  NaN                  NaN   \n",
              "Engine_Horsepower          23937                  NaN                  NaN   \n",
              "Hydraulics                141404                  NaN                  NaN   \n",
              "Pushblock                  19463                  NaN                  NaN   \n",
              "Ripper                     83452                  NaN                  NaN   \n",
              "Scarifier                  12719                  NaN                  NaN   \n",
              "Tip_Control                16207                  NaN                  NaN   \n",
              "Tire_Size                  46339                  NaN                  NaN   \n",
              "Coupler                   184582                  NaN                  NaN   \n",
              "Coupler_System             40430                  NaN                  NaN   \n",
              "Grouser_Tracks             40515                  NaN                  NaN   \n",
              "Hydraulics_Flow            42784                  NaN                  NaN   \n",
              "Track_Type                 84880                  NaN                  NaN   \n",
              "Undercarriage_Pad_Width    79651                  NaN                  NaN   \n",
              "Stick_Length               78820                  NaN                  NaN   \n",
              "Thumb                      83093                  NaN                  NaN   \n",
              "Pattern_Changer            90255                  NaN                  NaN   \n",
              "Grouser_Type               84653                  NaN                  NaN   \n",
              "Backhoe_Mounting           78652                  NaN                  NaN   \n",
              "Blade_Type                 38612                  NaN                  NaN   \n",
              "Travel_Controls            69923                  NaN                  NaN   \n",
              "Differential_Type          68073                  NaN                  NaN   \n",
              "Steering_Controls          68679                  NaN                  NaN   \n",
              "\n",
              "                                 mean      std          min          25%  \\\n",
              "SalesID                   1.91971e+06   909021  1.13925e+06  1.41837e+06   \n",
              "SalePrice                     31099.7  23036.9         4750        14500   \n",
              "MachineID                  1.2179e+06   440992            0   1.0887e+06   \n",
              "ModelID                        6889.7  6221.78           28         3259   \n",
              "datasource                    134.666  8.96224          121          132   \n",
              "auctioneerID                  6.55604  16.9768            0            1   \n",
              "YearMade                      1899.16  291.797         1000         1985   \n",
              "MachineHoursCurrentMeter      3457.96  27590.3            0            0   \n",
              "UsageBand                         NaN      NaN          NaN          NaN   \n",
              "saledate                          NaN      NaN          NaN          NaN   \n",
              "fiModelDesc                       NaN      NaN          NaN          NaN   \n",
              "fiBaseModel                       NaN      NaN          NaN          NaN   \n",
              "fiSecondaryDesc                   NaN      NaN          NaN          NaN   \n",
              "fiModelSeries                     NaN      NaN          NaN          NaN   \n",
              "fiModelDescriptor                 NaN      NaN          NaN          NaN   \n",
              "ProductSize                       NaN      NaN          NaN          NaN   \n",
              "fiProductClassDesc                NaN      NaN          NaN          NaN   \n",
              "state                             NaN      NaN          NaN          NaN   \n",
              "ProductGroup                      NaN      NaN          NaN          NaN   \n",
              "ProductGroupDesc                  NaN      NaN          NaN          NaN   \n",
              "Drive_System                      NaN      NaN          NaN          NaN   \n",
              "Enclosure                         NaN      NaN          NaN          NaN   \n",
              "Forks                             NaN      NaN          NaN          NaN   \n",
              "Pad_Type                          NaN      NaN          NaN          NaN   \n",
              "Ride_Control                      NaN      NaN          NaN          NaN   \n",
              "Stick                             NaN      NaN          NaN          NaN   \n",
              "Transmission                      NaN      NaN          NaN          NaN   \n",
              "Turbocharged                      NaN      NaN          NaN          NaN   \n",
              "Blade_Extension                   NaN      NaN          NaN          NaN   \n",
              "Blade_Width                       NaN      NaN          NaN          NaN   \n",
              "Enclosure_Type                    NaN      NaN          NaN          NaN   \n",
              "Engine_Horsepower                 NaN      NaN          NaN          NaN   \n",
              "Hydraulics                        NaN      NaN          NaN          NaN   \n",
              "Pushblock                         NaN      NaN          NaN          NaN   \n",
              "Ripper                            NaN      NaN          NaN          NaN   \n",
              "Scarifier                         NaN      NaN          NaN          NaN   \n",
              "Tip_Control                       NaN      NaN          NaN          NaN   \n",
              "Tire_Size                         NaN      NaN          NaN          NaN   \n",
              "Coupler                           NaN      NaN          NaN          NaN   \n",
              "Coupler_System                    NaN      NaN          NaN          NaN   \n",
              "Grouser_Tracks                    NaN      NaN          NaN          NaN   \n",
              "Hydraulics_Flow                   NaN      NaN          NaN          NaN   \n",
              "Track_Type                        NaN      NaN          NaN          NaN   \n",
              "Undercarriage_Pad_Width           NaN      NaN          NaN          NaN   \n",
              "Stick_Length                      NaN      NaN          NaN          NaN   \n",
              "Thumb                             NaN      NaN          NaN          NaN   \n",
              "Pattern_Changer                   NaN      NaN          NaN          NaN   \n",
              "Grouser_Type                      NaN      NaN          NaN          NaN   \n",
              "Backhoe_Mounting                  NaN      NaN          NaN          NaN   \n",
              "Blade_Type                        NaN      NaN          NaN          NaN   \n",
              "Travel_Controls                   NaN      NaN          NaN          NaN   \n",
              "Differential_Type                 NaN      NaN          NaN          NaN   \n",
              "Steering_Controls                 NaN      NaN          NaN          NaN   \n",
              "\n",
              "                                  50%          75%          max  \n",
              "SalesID                   1.63942e+06  2.24271e+06  6.33334e+06  \n",
              "SalePrice                       24000        40000       142000  \n",
              "MachineID                 1.27949e+06  1.46807e+06  2.48633e+06  \n",
              "ModelID                          4604         8724        37198  \n",
              "datasource                        132          136          172  \n",
              "auctioneerID                        2            4           99  \n",
              "YearMade                         1995         2000         2013  \n",
              "MachineHoursCurrentMeter            0         3025   2.4833e+06  \n",
              "UsageBand                         NaN          NaN          NaN  \n",
              "saledate                          NaN          NaN          NaN  \n",
              "fiModelDesc                       NaN          NaN          NaN  \n",
              "fiBaseModel                       NaN          NaN          NaN  \n",
              "fiSecondaryDesc                   NaN          NaN          NaN  \n",
              "fiModelSeries                     NaN          NaN          NaN  \n",
              "fiModelDescriptor                 NaN          NaN          NaN  \n",
              "ProductSize                       NaN          NaN          NaN  \n",
              "fiProductClassDesc                NaN          NaN          NaN  \n",
              "state                             NaN          NaN          NaN  \n",
              "ProductGroup                      NaN          NaN          NaN  \n",
              "ProductGroupDesc                  NaN          NaN          NaN  \n",
              "Drive_System                      NaN          NaN          NaN  \n",
              "Enclosure                         NaN          NaN          NaN  \n",
              "Forks                             NaN          NaN          NaN  \n",
              "Pad_Type                          NaN          NaN          NaN  \n",
              "Ride_Control                      NaN          NaN          NaN  \n",
              "Stick                             NaN          NaN          NaN  \n",
              "Transmission                      NaN          NaN          NaN  \n",
              "Turbocharged                      NaN          NaN          NaN  \n",
              "Blade_Extension                   NaN          NaN          NaN  \n",
              "Blade_Width                       NaN          NaN          NaN  \n",
              "Enclosure_Type                    NaN          NaN          NaN  \n",
              "Engine_Horsepower                 NaN          NaN          NaN  \n",
              "Hydraulics                        NaN          NaN          NaN  \n",
              "Pushblock                         NaN          NaN          NaN  \n",
              "Ripper                            NaN          NaN          NaN  \n",
              "Scarifier                         NaN          NaN          NaN  \n",
              "Tip_Control                       NaN          NaN          NaN  \n",
              "Tire_Size                         NaN          NaN          NaN  \n",
              "Coupler                           NaN          NaN          NaN  \n",
              "Coupler_System                    NaN          NaN          NaN  \n",
              "Grouser_Tracks                    NaN          NaN          NaN  \n",
              "Hydraulics_Flow                   NaN          NaN          NaN  \n",
              "Track_Type                        NaN          NaN          NaN  \n",
              "Undercarriage_Pad_Width           NaN          NaN          NaN  \n",
              "Stick_Length                      NaN          NaN          NaN  \n",
              "Thumb                             NaN          NaN          NaN  \n",
              "Pattern_Changer                   NaN          NaN          NaN  \n",
              "Grouser_Type                      NaN          NaN          NaN  \n",
              "Backhoe_Mounting                  NaN          NaN          NaN  \n",
              "Blade_Type                        NaN          NaN          NaN  \n",
              "Travel_Controls                   NaN          NaN          NaN  \n",
              "Differential_Type                 NaN          NaN          NaN  \n",
              "Steering_Controls                 NaN          NaN          NaN  "
            ]
          },
          "metadata": {
            "tags": []
          }
        }
      ]
    },
    {
      "metadata": {
        "id": "zUl2lY7yL-FN",
        "colab_type": "text"
      },
      "cell_type": "markdown",
      "source": [
        "### Initial processing\n"
      ]
    },
    {
      "metadata": {
        "id": "roX-BueAL-Es",
        "colab_type": "text"
      },
      "cell_type": "markdown",
      "source": [
        "#### SalePrice"
      ]
    },
    {
      "metadata": {
        "id": "8tUsrZmHmW8q",
        "colab_type": "text"
      },
      "cell_type": "markdown",
      "source": [
        "- SalePrice is the **dependent variable**, the target.\n",
        "- Kaggle tells us that the evaluation metric for this competition is the **RMSLE** (root mean squared log error) between the actual and predicted auction prices.\n",
        "- Therefore we take the **log of the prices**, so that RMSE will give us what we need."
      ]
    },
    {
      "metadata": {
        "id": "0pcScd3GL-Ey",
        "colab_type": "code",
        "colab": {
          "autoexec": {
            "startup": false,
            "wait_interval": 0
          },
          "base_uri": "https://localhost:8080/",
          "height": 121
        },
        "outputId": "ee375639-f687-4de9-d56c-2303d26f37a5",
        "executionInfo": {
          "status": "ok",
          "timestamp": 1533319450532,
          "user_tz": -120,
          "elapsed": 477,
          "user": {
            "displayName": "Aitor Lopez Beltran",
            "photoUrl": "//lh4.googleusercontent.com/-kAX-3fy5FU0/AAAAAAAAAAI/AAAAAAAAAAU/ogUhdJGBADs/s50-c-k-no/photo.jpg",
            "userId": "101613793608418592140"
          }
        }
      },
      "cell_type": "code",
      "source": [
        "#import numpy\n",
        "import numpy as np\n",
        "\n",
        "# replacing SalePrice column values with the calculated natural logarithm of SalePrice values.\n",
        "df_raw['SalePrice'] = np.log(df_raw.SalePrice)\n",
        "\n",
        "# show head of column\n",
        "df_raw.SalePrice.head()"
      ],
      "execution_count": 12,
      "outputs": [
        {
          "output_type": "execute_result",
          "data": {
            "text/plain": [
              "0    11.097410\n",
              "1    10.950807\n",
              "2     9.210340\n",
              "3    10.558414\n",
              "4     9.305651\n",
              "Name: SalePrice, dtype: float64"
            ]
          },
          "metadata": {
            "tags": []
          },
          "execution_count": 12
        }
      ]
    },
    {
      "metadata": {
        "id": "xrkzKRDUOl73",
        "colab_type": "text"
      },
      "cell_type": "markdown",
      "source": [
        "We need to **split** the **dependent variable** from the dataset.\n",
        "- Later on, we'll use a method from the **fastai library** , **`proc_df`**,  to do just that and more.\n",
        "- We show some alternative code below to illustrate the process."
      ]
    },
    {
      "metadata": {
        "id": "guxW0qdFOmhG",
        "colab_type": "code",
        "colab": {
          "autoexec": {
            "startup": false,
            "wait_interval": 0
          }
        }
      },
      "cell_type": "code",
      "source": [
        "# DataFrame with a column removed\n",
        "dataset = df_raw.drop('SalePrice', axis=1)\n",
        "\n",
        "# select a Series from the DataFrame\n",
        "dependent = df_raw.SalePrice"
      ],
      "execution_count": 0,
      "outputs": []
    },
    {
      "metadata": {
        "id": "s5YsRrPElvEJ",
        "colab_type": "text"
      },
      "cell_type": "markdown",
      "source": [
        "#### SaleDate"
      ]
    },
    {
      "metadata": {
        "id": "WX11fFC4n4S1",
        "colab_type": "text"
      },
      "cell_type": "markdown",
      "source": [
        "We already know that one of the features is a date and we've explicitly told pandas to read it as  **datetime dtype**."
      ]
    },
    {
      "metadata": {
        "id": "6ZmNXGMKnu_Y",
        "colab_type": "code",
        "colab": {
          "autoexec": {
            "startup": false,
            "wait_interval": 0
          },
          "base_uri": "https://localhost:8080/",
          "height": 121
        },
        "outputId": "879bb117-cc9c-4367-c6da-a6c14c960e9a",
        "executionInfo": {
          "status": "ok",
          "timestamp": 1533319452639,
          "user_tz": -120,
          "elapsed": 648,
          "user": {
            "displayName": "Aitor Lopez Beltran",
            "photoUrl": "//lh4.googleusercontent.com/-kAX-3fy5FU0/AAAAAAAAAAI/AAAAAAAAAAU/ogUhdJGBADs/s50-c-k-no/photo.jpg",
            "userId": "101613793608418592140"
          }
        }
      },
      "cell_type": "code",
      "source": [
        "# prints first 5 rows of the column\n",
        "df_raw.saledate.head()"
      ],
      "execution_count": 14,
      "outputs": [
        {
          "output_type": "execute_result",
          "data": {
            "text/plain": [
              "0   2006-11-16\n",
              "1   2004-03-26\n",
              "2   2004-02-26\n",
              "3   2011-05-19\n",
              "4   2009-07-23\n",
              "Name: saledate, dtype: datetime64[ns]"
            ]
          },
          "metadata": {
            "tags": []
          },
          "execution_count": 14
        }
      ]
    },
    {
      "metadata": {
        "id": "E4SeBD0hm3EX",
        "colab_type": "text"
      },
      "cell_type": "markdown",
      "source": [
        " **What's in a date is one of the more important pieces of feaute engineering you can do** (i.e. Was it a holiday? Was it raining?).\n",
        "\n",
        "- We'll use a method from the **fastai library**, **`add_datepart`**, that extracts particular date fields from a complete datetime for the purpose of constructing categoricals. \n",
        "- You should always consider this **feature extraction** step when working with date-time dtypes. Without expanding your date-time into these additional fields, you can't capture any trend/cyclical behavior as a function of time at any of these granularities."
      ]
    },
    {
      "metadata": {
        "id": "0Zfk_RvsL-Ga",
        "colab_type": "code",
        "colab": {
          "autoexec": {
            "startup": false,
            "wait_interval": 0
          }
        }
      },
      "cell_type": "code",
      "source": [
        "# import add_datepart\n",
        "from fastai.structured import add_datepart\n",
        "\n",
        "add_datepart(df_raw, 'saledate')"
      ],
      "execution_count": 0,
      "outputs": []
    },
    {
      "metadata": {
        "id": "l5nBAir9o2Pm",
        "colab_type": "text"
      },
      "cell_type": "markdown",
      "source": [
        "We can check the **source code** of a function  by typing its name and **??** (before or after the name)."
      ]
    },
    {
      "metadata": {
        "id": "-_xnk_oPphEc",
        "colab_type": "code",
        "colab": {
          "autoexec": {
            "startup": false,
            "wait_interval": 0
          }
        }
      },
      "cell_type": "code",
      "source": [
        "add_datepart??"
      ],
      "execution_count": 0,
      "outputs": []
    },
    {
      "metadata": {
        "id": "p3EcJkwrpz16",
        "colab_type": "text"
      },
      "cell_type": "markdown",
      "source": [
        "So `add_datepart` converts a column of a DataFramefrom a **datetime64 to many columns containing the information from the date** (changes occur inplace)."
      ]
    },
    {
      "metadata": {
        "id": "tbVdJcflqwnB",
        "colab_type": "code",
        "colab": {
          "autoexec": {
            "startup": false,
            "wait_interval": 0
          },
          "base_uri": "https://localhost:8080/",
          "height": 330
        },
        "outputId": "ec16fe91-0aa9-4047-8ba4-6c3b58daa417",
        "executionInfo": {
          "status": "ok",
          "timestamp": 1533319456803,
          "user_tz": -120,
          "elapsed": 477,
          "user": {
            "displayName": "Aitor Lopez Beltran",
            "photoUrl": "//lh4.googleusercontent.com/-kAX-3fy5FU0/AAAAAAAAAAI/AAAAAAAAAAU/ogUhdJGBADs/s50-c-k-no/photo.jpg",
            "userId": "101613793608418592140"
          }
        }
      },
      "cell_type": "code",
      "source": [
        "# column labels of the DataFrame.\n",
        "df_raw.columns"
      ],
      "execution_count": 17,
      "outputs": [
        {
          "output_type": "execute_result",
          "data": {
            "text/plain": [
              "Index(['SalesID', 'SalePrice', 'MachineID', 'ModelID', 'datasource',\n",
              "       'auctioneerID', 'YearMade', 'MachineHoursCurrentMeter', 'UsageBand',\n",
              "       'fiModelDesc', 'fiBaseModel', 'fiSecondaryDesc', 'fiModelSeries',\n",
              "       'fiModelDescriptor', 'ProductSize', 'fiProductClassDesc', 'state',\n",
              "       'ProductGroup', 'ProductGroupDesc', 'Drive_System', 'Enclosure',\n",
              "       'Forks', 'Pad_Type', 'Ride_Control', 'Stick', 'Transmission',\n",
              "       'Turbocharged', 'Blade_Extension', 'Blade_Width', 'Enclosure_Type',\n",
              "       'Engine_Horsepower', 'Hydraulics', 'Pushblock', 'Ripper', 'Scarifier',\n",
              "       'Tip_Control', 'Tire_Size', 'Coupler', 'Coupler_System',\n",
              "       'Grouser_Tracks', 'Hydraulics_Flow', 'Track_Type',\n",
              "       'Undercarriage_Pad_Width', 'Stick_Length', 'Thumb', 'Pattern_Changer',\n",
              "       'Grouser_Type', 'Backhoe_Mounting', 'Blade_Type', 'Travel_Controls',\n",
              "       'Differential_Type', 'Steering_Controls', 'saleYear', 'saleMonth',\n",
              "       'saleWeek', 'saleDay', 'saleDayofweek', 'saleDayofyear',\n",
              "       'saleIs_month_end', 'saleIs_month_start', 'saleIs_quarter_end',\n",
              "       'saleIs_quarter_start', 'saleIs_year_end', 'saleIs_year_start',\n",
              "       'saleElapsed'],\n",
              "      dtype='object')"
            ]
          },
          "metadata": {
            "tags": []
          },
          "execution_count": 17
        }
      ]
    },
    {
      "metadata": {
        "id": "P41PpXZFrTaR",
        "colab_type": "text"
      },
      "cell_type": "markdown",
      "source": [
        "There are a bunch of new columns. Let's take a look."
      ]
    },
    {
      "metadata": {
        "id": "Gf6jDjjnrtvY",
        "colab_type": "code",
        "colab": {
          "autoexec": {
            "startup": false,
            "wait_interval": 0
          },
          "base_uri": "https://localhost:8080/",
          "height": 507
        },
        "outputId": "4493bf38-0e71-4bac-af8f-cfc3eb0069ab",
        "executionInfo": {
          "status": "ok",
          "timestamp": 1533319457913,
          "user_tz": -120,
          "elapsed": 679,
          "user": {
            "displayName": "Aitor Lopez Beltran",
            "photoUrl": "//lh4.googleusercontent.com/-kAX-3fy5FU0/AAAAAAAAAAI/AAAAAAAAAAU/ogUhdJGBADs/s50-c-k-no/photo.jpg",
            "userId": "101613793608418592140"
          }
        }
      },
      "cell_type": "code",
      "source": [
        "# acces the selected [rows, columns]. View transposed.\n",
        "df_raw.loc[:,['saleYear', 'saleMonth',\n",
        "       'saleWeek', 'saleDay', 'saleDayofweek', 'saleDayofyear',\n",
        "       'saleIs_month_end', 'saleIs_month_start', 'saleIs_quarter_end',\n",
        "       'saleIs_quarter_start', 'saleIs_year_end', 'saleIs_year_start',\n",
        "       'saleElapsed']].T"
      ],
      "execution_count": 18,
      "outputs": [
        {
          "output_type": "execute_result",
          "data": {
            "text/html": [
              "<div>\n",
              "<style scoped>\n",
              "    .dataframe tbody tr th:only-of-type {\n",
              "        vertical-align: middle;\n",
              "    }\n",
              "\n",
              "    .dataframe tbody tr th {\n",
              "        vertical-align: top;\n",
              "    }\n",
              "\n",
              "    .dataframe thead th {\n",
              "        text-align: right;\n",
              "    }\n",
              "</style>\n",
              "<table border=\"1\" class=\"dataframe\">\n",
              "  <thead>\n",
              "    <tr style=\"text-align: right;\">\n",
              "      <th></th>\n",
              "      <th>0</th>\n",
              "      <th>1</th>\n",
              "      <th>2</th>\n",
              "      <th>3</th>\n",
              "      <th>4</th>\n",
              "      <th>5</th>\n",
              "      <th>6</th>\n",
              "      <th>7</th>\n",
              "      <th>8</th>\n",
              "      <th>9</th>\n",
              "      <th>...</th>\n",
              "      <th>401115</th>\n",
              "      <th>401116</th>\n",
              "      <th>401117</th>\n",
              "      <th>401118</th>\n",
              "      <th>401119</th>\n",
              "      <th>401120</th>\n",
              "      <th>401121</th>\n",
              "      <th>401122</th>\n",
              "      <th>401123</th>\n",
              "      <th>401124</th>\n",
              "    </tr>\n",
              "  </thead>\n",
              "  <tbody>\n",
              "    <tr>\n",
              "      <th>saleYear</th>\n",
              "      <td>2006</td>\n",
              "      <td>2004</td>\n",
              "      <td>2004</td>\n",
              "      <td>2011</td>\n",
              "      <td>2009</td>\n",
              "      <td>2008</td>\n",
              "      <td>2004</td>\n",
              "      <td>2005</td>\n",
              "      <td>2009</td>\n",
              "      <td>2007</td>\n",
              "      <td>...</td>\n",
              "      <td>2011</td>\n",
              "      <td>2011</td>\n",
              "      <td>2011</td>\n",
              "      <td>2011</td>\n",
              "      <td>2011</td>\n",
              "      <td>2011</td>\n",
              "      <td>2011</td>\n",
              "      <td>2011</td>\n",
              "      <td>2011</td>\n",
              "      <td>2011</td>\n",
              "    </tr>\n",
              "    <tr>\n",
              "      <th>saleMonth</th>\n",
              "      <td>11</td>\n",
              "      <td>3</td>\n",
              "      <td>2</td>\n",
              "      <td>5</td>\n",
              "      <td>7</td>\n",
              "      <td>12</td>\n",
              "      <td>8</td>\n",
              "      <td>11</td>\n",
              "      <td>8</td>\n",
              "      <td>8</td>\n",
              "      <td>...</td>\n",
              "      <td>10</td>\n",
              "      <td>10</td>\n",
              "      <td>10</td>\n",
              "      <td>10</td>\n",
              "      <td>10</td>\n",
              "      <td>11</td>\n",
              "      <td>11</td>\n",
              "      <td>11</td>\n",
              "      <td>10</td>\n",
              "      <td>10</td>\n",
              "    </tr>\n",
              "    <tr>\n",
              "      <th>saleWeek</th>\n",
              "      <td>46</td>\n",
              "      <td>13</td>\n",
              "      <td>9</td>\n",
              "      <td>20</td>\n",
              "      <td>30</td>\n",
              "      <td>51</td>\n",
              "      <td>35</td>\n",
              "      <td>46</td>\n",
              "      <td>35</td>\n",
              "      <td>32</td>\n",
              "      <td>...</td>\n",
              "      <td>43</td>\n",
              "      <td>43</td>\n",
              "      <td>43</td>\n",
              "      <td>43</td>\n",
              "      <td>43</td>\n",
              "      <td>44</td>\n",
              "      <td>44</td>\n",
              "      <td>44</td>\n",
              "      <td>43</td>\n",
              "      <td>43</td>\n",
              "    </tr>\n",
              "    <tr>\n",
              "      <th>saleDay</th>\n",
              "      <td>16</td>\n",
              "      <td>26</td>\n",
              "      <td>26</td>\n",
              "      <td>19</td>\n",
              "      <td>23</td>\n",
              "      <td>18</td>\n",
              "      <td>26</td>\n",
              "      <td>17</td>\n",
              "      <td>27</td>\n",
              "      <td>9</td>\n",
              "      <td>...</td>\n",
              "      <td>25</td>\n",
              "      <td>25</td>\n",
              "      <td>25</td>\n",
              "      <td>25</td>\n",
              "      <td>25</td>\n",
              "      <td>2</td>\n",
              "      <td>2</td>\n",
              "      <td>2</td>\n",
              "      <td>25</td>\n",
              "      <td>25</td>\n",
              "    </tr>\n",
              "    <tr>\n",
              "      <th>saleDayofweek</th>\n",
              "      <td>3</td>\n",
              "      <td>4</td>\n",
              "      <td>3</td>\n",
              "      <td>3</td>\n",
              "      <td>3</td>\n",
              "      <td>3</td>\n",
              "      <td>3</td>\n",
              "      <td>3</td>\n",
              "      <td>3</td>\n",
              "      <td>3</td>\n",
              "      <td>...</td>\n",
              "      <td>1</td>\n",
              "      <td>1</td>\n",
              "      <td>1</td>\n",
              "      <td>1</td>\n",
              "      <td>1</td>\n",
              "      <td>2</td>\n",
              "      <td>2</td>\n",
              "      <td>2</td>\n",
              "      <td>1</td>\n",
              "      <td>1</td>\n",
              "    </tr>\n",
              "    <tr>\n",
              "      <th>saleDayofyear</th>\n",
              "      <td>320</td>\n",
              "      <td>86</td>\n",
              "      <td>57</td>\n",
              "      <td>139</td>\n",
              "      <td>204</td>\n",
              "      <td>353</td>\n",
              "      <td>239</td>\n",
              "      <td>321</td>\n",
              "      <td>239</td>\n",
              "      <td>221</td>\n",
              "      <td>...</td>\n",
              "      <td>298</td>\n",
              "      <td>298</td>\n",
              "      <td>298</td>\n",
              "      <td>298</td>\n",
              "      <td>298</td>\n",
              "      <td>306</td>\n",
              "      <td>306</td>\n",
              "      <td>306</td>\n",
              "      <td>298</td>\n",
              "      <td>298</td>\n",
              "    </tr>\n",
              "    <tr>\n",
              "      <th>saleIs_month_end</th>\n",
              "      <td>False</td>\n",
              "      <td>False</td>\n",
              "      <td>False</td>\n",
              "      <td>False</td>\n",
              "      <td>False</td>\n",
              "      <td>False</td>\n",
              "      <td>False</td>\n",
              "      <td>False</td>\n",
              "      <td>False</td>\n",
              "      <td>False</td>\n",
              "      <td>...</td>\n",
              "      <td>False</td>\n",
              "      <td>False</td>\n",
              "      <td>False</td>\n",
              "      <td>False</td>\n",
              "      <td>False</td>\n",
              "      <td>False</td>\n",
              "      <td>False</td>\n",
              "      <td>False</td>\n",
              "      <td>False</td>\n",
              "      <td>False</td>\n",
              "    </tr>\n",
              "    <tr>\n",
              "      <th>saleIs_month_start</th>\n",
              "      <td>False</td>\n",
              "      <td>False</td>\n",
              "      <td>False</td>\n",
              "      <td>False</td>\n",
              "      <td>False</td>\n",
              "      <td>False</td>\n",
              "      <td>False</td>\n",
              "      <td>False</td>\n",
              "      <td>False</td>\n",
              "      <td>False</td>\n",
              "      <td>...</td>\n",
              "      <td>False</td>\n",
              "      <td>False</td>\n",
              "      <td>False</td>\n",
              "      <td>False</td>\n",
              "      <td>False</td>\n",
              "      <td>False</td>\n",
              "      <td>False</td>\n",
              "      <td>False</td>\n",
              "      <td>False</td>\n",
              "      <td>False</td>\n",
              "    </tr>\n",
              "    <tr>\n",
              "      <th>saleIs_quarter_end</th>\n",
              "      <td>False</td>\n",
              "      <td>False</td>\n",
              "      <td>False</td>\n",
              "      <td>False</td>\n",
              "      <td>False</td>\n",
              "      <td>False</td>\n",
              "      <td>False</td>\n",
              "      <td>False</td>\n",
              "      <td>False</td>\n",
              "      <td>False</td>\n",
              "      <td>...</td>\n",
              "      <td>False</td>\n",
              "      <td>False</td>\n",
              "      <td>False</td>\n",
              "      <td>False</td>\n",
              "      <td>False</td>\n",
              "      <td>False</td>\n",
              "      <td>False</td>\n",
              "      <td>False</td>\n",
              "      <td>False</td>\n",
              "      <td>False</td>\n",
              "    </tr>\n",
              "    <tr>\n",
              "      <th>saleIs_quarter_start</th>\n",
              "      <td>False</td>\n",
              "      <td>False</td>\n",
              "      <td>False</td>\n",
              "      <td>False</td>\n",
              "      <td>False</td>\n",
              "      <td>False</td>\n",
              "      <td>False</td>\n",
              "      <td>False</td>\n",
              "      <td>False</td>\n",
              "      <td>False</td>\n",
              "      <td>...</td>\n",
              "      <td>False</td>\n",
              "      <td>False</td>\n",
              "      <td>False</td>\n",
              "      <td>False</td>\n",
              "      <td>False</td>\n",
              "      <td>False</td>\n",
              "      <td>False</td>\n",
              "      <td>False</td>\n",
              "      <td>False</td>\n",
              "      <td>False</td>\n",
              "    </tr>\n",
              "    <tr>\n",
              "      <th>saleIs_year_end</th>\n",
              "      <td>False</td>\n",
              "      <td>False</td>\n",
              "      <td>False</td>\n",
              "      <td>False</td>\n",
              "      <td>False</td>\n",
              "      <td>False</td>\n",
              "      <td>False</td>\n",
              "      <td>False</td>\n",
              "      <td>False</td>\n",
              "      <td>False</td>\n",
              "      <td>...</td>\n",
              "      <td>False</td>\n",
              "      <td>False</td>\n",
              "      <td>False</td>\n",
              "      <td>False</td>\n",
              "      <td>False</td>\n",
              "      <td>False</td>\n",
              "      <td>False</td>\n",
              "      <td>False</td>\n",
              "      <td>False</td>\n",
              "      <td>False</td>\n",
              "    </tr>\n",
              "    <tr>\n",
              "      <th>saleIs_year_start</th>\n",
              "      <td>False</td>\n",
              "      <td>False</td>\n",
              "      <td>False</td>\n",
              "      <td>False</td>\n",
              "      <td>False</td>\n",
              "      <td>False</td>\n",
              "      <td>False</td>\n",
              "      <td>False</td>\n",
              "      <td>False</td>\n",
              "      <td>False</td>\n",
              "      <td>...</td>\n",
              "      <td>False</td>\n",
              "      <td>False</td>\n",
              "      <td>False</td>\n",
              "      <td>False</td>\n",
              "      <td>False</td>\n",
              "      <td>False</td>\n",
              "      <td>False</td>\n",
              "      <td>False</td>\n",
              "      <td>False</td>\n",
              "      <td>False</td>\n",
              "    </tr>\n",
              "    <tr>\n",
              "      <th>saleElapsed</th>\n",
              "      <td>1163635200</td>\n",
              "      <td>1080259200</td>\n",
              "      <td>1077753600</td>\n",
              "      <td>1305763200</td>\n",
              "      <td>1248307200</td>\n",
              "      <td>1229558400</td>\n",
              "      <td>1093478400</td>\n",
              "      <td>1132185600</td>\n",
              "      <td>1251331200</td>\n",
              "      <td>1186617600</td>\n",
              "      <td>...</td>\n",
              "      <td>1319500800</td>\n",
              "      <td>1319500800</td>\n",
              "      <td>1319500800</td>\n",
              "      <td>1319500800</td>\n",
              "      <td>1319500800</td>\n",
              "      <td>1320192000</td>\n",
              "      <td>1320192000</td>\n",
              "      <td>1320192000</td>\n",
              "      <td>1319500800</td>\n",
              "      <td>1319500800</td>\n",
              "    </tr>\n",
              "  </tbody>\n",
              "</table>\n",
              "<p>13 rows × 401125 columns</p>\n",
              "</div>"
            ],
            "text/plain": [
              "                          0           1           2           3       \\\n",
              "saleYear                    2006        2004        2004        2011   \n",
              "saleMonth                     11           3           2           5   \n",
              "saleWeek                      46          13           9          20   \n",
              "saleDay                       16          26          26          19   \n",
              "saleDayofweek                  3           4           3           3   \n",
              "saleDayofyear                320          86          57         139   \n",
              "saleIs_month_end           False       False       False       False   \n",
              "saleIs_month_start         False       False       False       False   \n",
              "saleIs_quarter_end         False       False       False       False   \n",
              "saleIs_quarter_start       False       False       False       False   \n",
              "saleIs_year_end            False       False       False       False   \n",
              "saleIs_year_start          False       False       False       False   \n",
              "saleElapsed           1163635200  1080259200  1077753600  1305763200   \n",
              "\n",
              "                          4           5           6           7       \\\n",
              "saleYear                    2009        2008        2004        2005   \n",
              "saleMonth                      7          12           8          11   \n",
              "saleWeek                      30          51          35          46   \n",
              "saleDay                       23          18          26          17   \n",
              "saleDayofweek                  3           3           3           3   \n",
              "saleDayofyear                204         353         239         321   \n",
              "saleIs_month_end           False       False       False       False   \n",
              "saleIs_month_start         False       False       False       False   \n",
              "saleIs_quarter_end         False       False       False       False   \n",
              "saleIs_quarter_start       False       False       False       False   \n",
              "saleIs_year_end            False       False       False       False   \n",
              "saleIs_year_start          False       False       False       False   \n",
              "saleElapsed           1248307200  1229558400  1093478400  1132185600   \n",
              "\n",
              "                          8           9          ...          401115  \\\n",
              "saleYear                    2009        2007     ...            2011   \n",
              "saleMonth                      8           8     ...              10   \n",
              "saleWeek                      35          32     ...              43   \n",
              "saleDay                       27           9     ...              25   \n",
              "saleDayofweek                  3           3     ...               1   \n",
              "saleDayofyear                239         221     ...             298   \n",
              "saleIs_month_end           False       False     ...           False   \n",
              "saleIs_month_start         False       False     ...           False   \n",
              "saleIs_quarter_end         False       False     ...           False   \n",
              "saleIs_quarter_start       False       False     ...           False   \n",
              "saleIs_year_end            False       False     ...           False   \n",
              "saleIs_year_start          False       False     ...           False   \n",
              "saleElapsed           1251331200  1186617600     ...      1319500800   \n",
              "\n",
              "                          401116      401117      401118      401119  \\\n",
              "saleYear                    2011        2011        2011        2011   \n",
              "saleMonth                     10          10          10          10   \n",
              "saleWeek                      43          43          43          43   \n",
              "saleDay                       25          25          25          25   \n",
              "saleDayofweek                  1           1           1           1   \n",
              "saleDayofyear                298         298         298         298   \n",
              "saleIs_month_end           False       False       False       False   \n",
              "saleIs_month_start         False       False       False       False   \n",
              "saleIs_quarter_end         False       False       False       False   \n",
              "saleIs_quarter_start       False       False       False       False   \n",
              "saleIs_year_end            False       False       False       False   \n",
              "saleIs_year_start          False       False       False       False   \n",
              "saleElapsed           1319500800  1319500800  1319500800  1319500800   \n",
              "\n",
              "                          401120      401121      401122      401123  \\\n",
              "saleYear                    2011        2011        2011        2011   \n",
              "saleMonth                     11          11          11          10   \n",
              "saleWeek                      44          44          44          43   \n",
              "saleDay                        2           2           2          25   \n",
              "saleDayofweek                  2           2           2           1   \n",
              "saleDayofyear                306         306         306         298   \n",
              "saleIs_month_end           False       False       False       False   \n",
              "saleIs_month_start         False       False       False       False   \n",
              "saleIs_quarter_end         False       False       False       False   \n",
              "saleIs_quarter_start       False       False       False       False   \n",
              "saleIs_year_end            False       False       False       False   \n",
              "saleIs_year_start          False       False       False       False   \n",
              "saleElapsed           1320192000  1320192000  1320192000  1319500800   \n",
              "\n",
              "                          401124  \n",
              "saleYear                    2011  \n",
              "saleMonth                     10  \n",
              "saleWeek                      43  \n",
              "saleDay                       25  \n",
              "saleDayofweek                  1  \n",
              "saleDayofyear                298  \n",
              "saleIs_month_end           False  \n",
              "saleIs_month_start         False  \n",
              "saleIs_quarter_end         False  \n",
              "saleIs_quarter_start       False  \n",
              "saleIs_year_end            False  \n",
              "saleIs_year_start          False  \n",
              "saleElapsed           1319500800  \n",
              "\n",
              "[13 rows x 401125 columns]"
            ]
          },
          "metadata": {
            "tags": []
          },
          "execution_count": 18
        }
      ]
    },
    {
      "metadata": {
        "id": "L_TndW3R1npu",
        "colab_type": "text"
      },
      "cell_type": "markdown",
      "source": [
        "#### Categorical Data"
      ]
    },
    {
      "metadata": {
        "id": "czl3fxYemQEc",
        "colab_type": "text"
      },
      "cell_type": "markdown",
      "source": [
        "As in most cases when dealing with datasets, this dataset contains a mix of **continuous** and **categorical** variables.\n",
        "- We need all of them to be **numeric** so they can be used by the model.\n",
        "- We must make the necessary changes (**feature engineering**)."
      ]
    },
    {
      "metadata": {
        "id": "F9Jhp4e6mhmo",
        "colab_type": "code",
        "colab": {
          "autoexec": {
            "startup": false,
            "wait_interval": 0
          },
          "base_uri": "https://localhost:8080/",
          "height": 104
        },
        "outputId": "8d587559-208e-44d4-cd8a-89a26be41dc5",
        "executionInfo": {
          "status": "ok",
          "timestamp": 1533319459572,
          "user_tz": -120,
          "elapsed": 1268,
          "user": {
            "displayName": "Aitor Lopez Beltran",
            "photoUrl": "//lh4.googleusercontent.com/-kAX-3fy5FU0/AAAAAAAAAAI/AAAAAAAAAAU/ogUhdJGBADs/s50-c-k-no/photo.jpg",
            "userId": "101613793608418592140"
          }
        }
      },
      "cell_type": "code",
      "source": [
        "# count dtypes in the dataframe\n",
        "df_raw.dtypes.value_counts()"
      ],
      "execution_count": 19,
      "outputs": [
        {
          "output_type": "execute_result",
          "data": {
            "text/plain": [
              "object     44\n",
              "int64      12\n",
              "bool        6\n",
              "float64     3\n",
              "dtype: int64"
            ]
          },
          "metadata": {
            "tags": []
          },
          "execution_count": 19
        }
      ]
    },
    {
      "metadata": {
        "id": "rYR8qDCw3rZ9",
        "colab_type": "text"
      },
      "cell_type": "markdown",
      "source": [
        "If we look at the numeric columns, we can se that **most of them** are not cotinuous but **categorical**.\n",
        "- Even though it's not ideal that they stay that way, **random forest** works fine with it so there is **no problem** (we'll learn why)."
      ]
    },
    {
      "metadata": {
        "id": "fv-PoSwe3sOS",
        "colab_type": "code",
        "colab": {
          "autoexec": {
            "startup": false,
            "wait_interval": 0
          },
          "base_uri": "https://localhost:8080/",
          "height": 226
        },
        "outputId": "b148ed6f-5184-49fc-d70d-46bddb795f69",
        "executionInfo": {
          "status": "ok",
          "timestamp": 1533319460550,
          "user_tz": -120,
          "elapsed": 578,
          "user": {
            "displayName": "Aitor Lopez Beltran",
            "photoUrl": "//lh4.googleusercontent.com/-kAX-3fy5FU0/AAAAAAAAAAI/AAAAAAAAAAU/ogUhdJGBADs/s50-c-k-no/photo.jpg",
            "userId": "101613793608418592140"
          }
        }
      },
      "cell_type": "code",
      "source": [
        "# select numerical columns\n",
        "df_raw.select_dtypes(['int64','float64']).head()"
      ],
      "execution_count": 20,
      "outputs": [
        {
          "output_type": "execute_result",
          "data": {
            "text/html": [
              "<div>\n",
              "<style scoped>\n",
              "    .dataframe tbody tr th:only-of-type {\n",
              "        vertical-align: middle;\n",
              "    }\n",
              "\n",
              "    .dataframe tbody tr th {\n",
              "        vertical-align: top;\n",
              "    }\n",
              "\n",
              "    .dataframe thead th {\n",
              "        text-align: right;\n",
              "    }\n",
              "</style>\n",
              "<table border=\"1\" class=\"dataframe\">\n",
              "  <thead>\n",
              "    <tr style=\"text-align: right;\">\n",
              "      <th></th>\n",
              "      <th>SalesID</th>\n",
              "      <th>SalePrice</th>\n",
              "      <th>MachineID</th>\n",
              "      <th>ModelID</th>\n",
              "      <th>datasource</th>\n",
              "      <th>auctioneerID</th>\n",
              "      <th>YearMade</th>\n",
              "      <th>MachineHoursCurrentMeter</th>\n",
              "      <th>saleYear</th>\n",
              "      <th>saleMonth</th>\n",
              "      <th>saleWeek</th>\n",
              "      <th>saleDay</th>\n",
              "      <th>saleDayofweek</th>\n",
              "      <th>saleDayofyear</th>\n",
              "      <th>saleElapsed</th>\n",
              "    </tr>\n",
              "  </thead>\n",
              "  <tbody>\n",
              "    <tr>\n",
              "      <th>0</th>\n",
              "      <td>1139246</td>\n",
              "      <td>11.097410</td>\n",
              "      <td>999089</td>\n",
              "      <td>3157</td>\n",
              "      <td>121</td>\n",
              "      <td>3.0</td>\n",
              "      <td>2004</td>\n",
              "      <td>68.0</td>\n",
              "      <td>2006</td>\n",
              "      <td>11</td>\n",
              "      <td>46</td>\n",
              "      <td>16</td>\n",
              "      <td>3</td>\n",
              "      <td>320</td>\n",
              "      <td>1163635200</td>\n",
              "    </tr>\n",
              "    <tr>\n",
              "      <th>1</th>\n",
              "      <td>1139248</td>\n",
              "      <td>10.950807</td>\n",
              "      <td>117657</td>\n",
              "      <td>77</td>\n",
              "      <td>121</td>\n",
              "      <td>3.0</td>\n",
              "      <td>1996</td>\n",
              "      <td>4640.0</td>\n",
              "      <td>2004</td>\n",
              "      <td>3</td>\n",
              "      <td>13</td>\n",
              "      <td>26</td>\n",
              "      <td>4</td>\n",
              "      <td>86</td>\n",
              "      <td>1080259200</td>\n",
              "    </tr>\n",
              "    <tr>\n",
              "      <th>2</th>\n",
              "      <td>1139249</td>\n",
              "      <td>9.210340</td>\n",
              "      <td>434808</td>\n",
              "      <td>7009</td>\n",
              "      <td>121</td>\n",
              "      <td>3.0</td>\n",
              "      <td>2001</td>\n",
              "      <td>2838.0</td>\n",
              "      <td>2004</td>\n",
              "      <td>2</td>\n",
              "      <td>9</td>\n",
              "      <td>26</td>\n",
              "      <td>3</td>\n",
              "      <td>57</td>\n",
              "      <td>1077753600</td>\n",
              "    </tr>\n",
              "    <tr>\n",
              "      <th>3</th>\n",
              "      <td>1139251</td>\n",
              "      <td>10.558414</td>\n",
              "      <td>1026470</td>\n",
              "      <td>332</td>\n",
              "      <td>121</td>\n",
              "      <td>3.0</td>\n",
              "      <td>2001</td>\n",
              "      <td>3486.0</td>\n",
              "      <td>2011</td>\n",
              "      <td>5</td>\n",
              "      <td>20</td>\n",
              "      <td>19</td>\n",
              "      <td>3</td>\n",
              "      <td>139</td>\n",
              "      <td>1305763200</td>\n",
              "    </tr>\n",
              "    <tr>\n",
              "      <th>4</th>\n",
              "      <td>1139253</td>\n",
              "      <td>9.305651</td>\n",
              "      <td>1057373</td>\n",
              "      <td>17311</td>\n",
              "      <td>121</td>\n",
              "      <td>3.0</td>\n",
              "      <td>2007</td>\n",
              "      <td>722.0</td>\n",
              "      <td>2009</td>\n",
              "      <td>7</td>\n",
              "      <td>30</td>\n",
              "      <td>23</td>\n",
              "      <td>3</td>\n",
              "      <td>204</td>\n",
              "      <td>1248307200</td>\n",
              "    </tr>\n",
              "  </tbody>\n",
              "</table>\n",
              "</div>"
            ],
            "text/plain": [
              "   SalesID  SalePrice  MachineID  ModelID  datasource  auctioneerID  YearMade  \\\n",
              "0  1139246  11.097410     999089     3157         121           3.0      2004   \n",
              "1  1139248  10.950807     117657       77         121           3.0      1996   \n",
              "2  1139249   9.210340     434808     7009         121           3.0      2001   \n",
              "3  1139251  10.558414    1026470      332         121           3.0      2001   \n",
              "4  1139253   9.305651    1057373    17311         121           3.0      2007   \n",
              "\n",
              "   MachineHoursCurrentMeter  saleYear  saleMonth  saleWeek  saleDay  \\\n",
              "0                      68.0      2006         11        46       16   \n",
              "1                    4640.0      2004          3        13       26   \n",
              "2                    2838.0      2004          2         9       26   \n",
              "3                    3486.0      2011          5        20       19   \n",
              "4                     722.0      2009          7        30       23   \n",
              "\n",
              "   saleDayofweek  saleDayofyear  saleElapsed  \n",
              "0              3            320   1163635200  \n",
              "1              4             86   1080259200  \n",
              "2              3             57   1077753600  \n",
              "3              3            139   1305763200  \n",
              "4              3            204   1248307200  "
            ]
          },
          "metadata": {
            "tags": []
          },
          "execution_count": 20
        }
      ]
    },
    {
      "metadata": {
        "id": "fVQTlOuFL-Gq",
        "colab_type": "text"
      },
      "cell_type": "markdown",
      "source": [
        "Most of the **categorical variables are currently stored as strings** (objects).\n",
        "- Apart from being inefficient, it doesn't provide the **numeric coding** required for our model.\n",
        "\n",
        "- We'll use a method from the **fastai library** , **`train_cats`**,  to convert strings to pandas categories."
      ]
    },
    {
      "metadata": {
        "id": "hVGHnM34L-Gs",
        "colab_type": "code",
        "colab": {
          "autoexec": {
            "startup": false,
            "wait_interval": 0
          }
        }
      },
      "cell_type": "code",
      "source": [
        "# import train_cats\n",
        "from fastai.structured import train_cats\n",
        "\n",
        "\n",
        "train_cats(df_raw)"
      ],
      "execution_count": 0,
      "outputs": []
    },
    {
      "metadata": {
        "id": "ihgaiGHBvh29",
        "colab_type": "text"
      },
      "cell_type": "markdown",
      "source": [
        "We can again check the **source code** of the function for more information."
      ]
    },
    {
      "metadata": {
        "id": "YNKi5Y9RvpX3",
        "colab_type": "code",
        "colab": {
          "autoexec": {
            "startup": false,
            "wait_interval": 0
          }
        }
      },
      "cell_type": "code",
      "source": [
        "??train_cats"
      ],
      "execution_count": 0,
      "outputs": []
    },
    {
      "metadata": {
        "id": "ne3UOKcvwfv3",
        "colab_type": "code",
        "colab": {
          "autoexec": {
            "startup": false,
            "wait_interval": 0
          },
          "base_uri": "https://localhost:8080/",
          "height": 1163
        },
        "outputId": "145750d9-7c62-48d1-f2fd-8ae0c8a032db",
        "executionInfo": {
          "status": "ok",
          "timestamp": 1533319466472,
          "user_tz": -120,
          "elapsed": 536,
          "user": {
            "displayName": "Aitor Lopez Beltran",
            "photoUrl": "//lh4.googleusercontent.com/-kAX-3fy5FU0/AAAAAAAAAAI/AAAAAAAAAAU/ogUhdJGBADs/s50-c-k-no/photo.jpg",
            "userId": "101613793608418592140"
          }
        }
      },
      "cell_type": "code",
      "source": [
        "# examine all the data types\n",
        "display_all(df_raw.dtypes)"
      ],
      "execution_count": 23,
      "outputs": [
        {
          "output_type": "display_data",
          "data": {
            "text/plain": [
              "SalesID                        int64\n",
              "SalePrice                    float64\n",
              "MachineID                      int64\n",
              "ModelID                        int64\n",
              "datasource                     int64\n",
              "auctioneerID                 float64\n",
              "YearMade                       int64\n",
              "MachineHoursCurrentMeter     float64\n",
              "UsageBand                   category\n",
              "fiModelDesc                 category\n",
              "fiBaseModel                 category\n",
              "fiSecondaryDesc             category\n",
              "fiModelSeries               category\n",
              "fiModelDescriptor           category\n",
              "ProductSize                 category\n",
              "fiProductClassDesc          category\n",
              "state                       category\n",
              "ProductGroup                category\n",
              "ProductGroupDesc            category\n",
              "Drive_System                category\n",
              "Enclosure                   category\n",
              "Forks                       category\n",
              "Pad_Type                    category\n",
              "Ride_Control                category\n",
              "Stick                       category\n",
              "Transmission                category\n",
              "Turbocharged                category\n",
              "Blade_Extension             category\n",
              "Blade_Width                 category\n",
              "Enclosure_Type              category\n",
              "Engine_Horsepower           category\n",
              "Hydraulics                  category\n",
              "Pushblock                   category\n",
              "Ripper                      category\n",
              "Scarifier                   category\n",
              "Tip_Control                 category\n",
              "Tire_Size                   category\n",
              "Coupler                     category\n",
              "Coupler_System              category\n",
              "Grouser_Tracks              category\n",
              "Hydraulics_Flow             category\n",
              "Track_Type                  category\n",
              "Undercarriage_Pad_Width     category\n",
              "Stick_Length                category\n",
              "Thumb                       category\n",
              "Pattern_Changer             category\n",
              "Grouser_Type                category\n",
              "Backhoe_Mounting            category\n",
              "Blade_Type                  category\n",
              "Travel_Controls             category\n",
              "Differential_Type           category\n",
              "Steering_Controls           category\n",
              "saleYear                       int64\n",
              "saleMonth                      int64\n",
              "saleWeek                       int64\n",
              "saleDay                        int64\n",
              "saleDayofweek                  int64\n",
              "saleDayofyear                  int64\n",
              "saleIs_month_end                bool\n",
              "saleIs_month_start              bool\n",
              "saleIs_quarter_end              bool\n",
              "saleIs_quarter_start            bool\n",
              "saleIs_year_end                 bool\n",
              "saleIs_year_start               bool\n",
              "saleElapsed                    int64\n",
              "dtype: object"
            ]
          },
          "metadata": {
            "tags": []
          }
        }
      ]
    },
    {
      "metadata": {
        "id": "luxkAugFwoms",
        "colab_type": "text"
      },
      "cell_type": "markdown",
      "source": [
        "Indeed it has changed inplace all columns that contained **strings to category dtypes**.\n",
        "- It doesn't make the DataFrame look different but behind the scenes all string are encoded with **integers mapped to the strings**.\n",
        "- Let's look at UsageBand, our first category column."
      ]
    },
    {
      "metadata": {
        "id": "KL4WKoMWL-G0",
        "colab_type": "code",
        "colab": {
          "autoexec": {
            "startup": false,
            "wait_interval": 0
          },
          "base_uri": "https://localhost:8080/",
          "height": 34
        },
        "outputId": "8b0c07c0-de8c-4f78-b13d-ed7da162e710",
        "executionInfo": {
          "status": "ok",
          "timestamp": 1533319467478,
          "user_tz": -120,
          "elapsed": 673,
          "user": {
            "displayName": "Aitor Lopez Beltran",
            "photoUrl": "//lh4.googleusercontent.com/-kAX-3fy5FU0/AAAAAAAAAAI/AAAAAAAAAAU/ogUhdJGBADs/s50-c-k-no/photo.jpg",
            "userId": "101613793608418592140"
          }
        }
      },
      "cell_type": "code",
      "source": [
        "# categories of this categorical\n",
        "df_raw.UsageBand.cat.categories"
      ],
      "execution_count": 24,
      "outputs": [
        {
          "output_type": "execute_result",
          "data": {
            "text/plain": [
              "Index(['High', 'Low', 'Medium'], dtype='object')"
            ]
          },
          "metadata": {
            "tags": []
          },
          "execution_count": 24
        }
      ]
    },
    {
      "metadata": {
        "id": "Px8-2ryz4sbl",
        "colab_type": "code",
        "colab": {
          "autoexec": {
            "startup": false,
            "wait_interval": 0
          },
          "base_uri": "https://localhost:8080/",
          "height": 121
        },
        "outputId": "1f5a33ee-0b13-46b2-ea01-3fdf16f70e70",
        "executionInfo": {
          "status": "ok",
          "timestamp": 1533319468301,
          "user_tz": -120,
          "elapsed": 525,
          "user": {
            "displayName": "Aitor Lopez Beltran",
            "photoUrl": "//lh4.googleusercontent.com/-kAX-3fy5FU0/AAAAAAAAAAI/AAAAAAAAAAU/ogUhdJGBADs/s50-c-k-no/photo.jpg",
            "userId": "101613793608418592140"
          }
        }
      },
      "cell_type": "code",
      "source": [
        "# encoded variables\n",
        "df_raw.UsageBand.cat.codes.head()"
      ],
      "execution_count": 25,
      "outputs": [
        {
          "output_type": "execute_result",
          "data": {
            "text/plain": [
              "0    1\n",
              "1    1\n",
              "2    0\n",
              "3    0\n",
              "4    2\n",
              "dtype: int8"
            ]
          },
          "metadata": {
            "tags": []
          },
          "execution_count": 25
        }
      ]
    },
    {
      "metadata": {
        "id": "-pHHmBjRL-Gy",
        "colab_type": "text"
      },
      "cell_type": "markdown",
      "source": [
        "We can **specify the order** to use for categorical variables if we wish:"
      ]
    },
    {
      "metadata": {
        "id": "ofI4CXPNL-HD",
        "colab_type": "code",
        "colab": {
          "autoexec": {
            "startup": false,
            "wait_interval": 0
          }
        }
      },
      "cell_type": "code",
      "source": [
        "# sets the categories to the specified new_categories, ordered in place.\n",
        "df_raw.UsageBand.cat.set_categories(['High', 'Medium', 'Low'], ordered=True, inplace=True)"
      ],
      "execution_count": 0,
      "outputs": []
    },
    {
      "metadata": {
        "id": "5Eb9YWOr6lM6",
        "colab_type": "text"
      },
      "cell_type": "markdown",
      "source": [
        "Finally, to fit this data to a random forest, we would need to **replace the text categories with their numeric codes**.\n",
        "- We'll use a method from the **fastai library** , **`proc_df`**,  to do just that and more.\n",
        "- We show some alternative code below to illustrate the process."
      ]
    },
    {
      "metadata": {
        "id": "TtwgUCDj6lqA",
        "colab_type": "code",
        "colab": {
          "autoexec": {
            "startup": false,
            "wait_interval": 0
          },
          "base_uri": "https://localhost:8080/",
          "height": 121
        },
        "outputId": "2fba57f2-47f8-43b9-e901-23df44572785",
        "executionInfo": {
          "status": "ok",
          "timestamp": 1533319470292,
          "user_tz": -120,
          "elapsed": 473,
          "user": {
            "displayName": "Aitor Lopez Beltran",
            "photoUrl": "//lh4.googleusercontent.com/-kAX-3fy5FU0/AAAAAAAAAAI/AAAAAAAAAAU/ogUhdJGBADs/s50-c-k-no/photo.jpg",
            "userId": "101613793608418592140"
          }
        }
      },
      "cell_type": "code",
      "source": [
        "# make a copy for demonstration purposes\n",
        "df_codes = df_raw.copy()\n",
        "\n",
        "# iterate through column name and column values and if column values are categories, replace them with their numeric code.\n",
        "for name, column in df_codes.items():\n",
        "  if column.dtype.name == 'category':\n",
        "    df_codes[name] = column.cat.codes\n",
        "    \n",
        "# count dtypes in the dataframe\n",
        "df_codes.dtypes.value_counts()"
      ],
      "execution_count": 27,
      "outputs": [
        {
          "output_type": "execute_result",
          "data": {
            "text/plain": [
              "int8       40\n",
              "int64      12\n",
              "bool        6\n",
              "int16       4\n",
              "float64     3\n",
              "dtype: int64"
            ]
          },
          "metadata": {
            "tags": []
          },
          "execution_count": 27
        }
      ]
    },
    {
      "metadata": {
        "id": "J9aL9HJG9A6e",
        "colab_type": "text"
      },
      "cell_type": "markdown",
      "source": [
        "This is a **two step process** for being able to **fit categorical** variables to our model: first we convert **strings to categories**, then **categories to codes**/numbers.\n",
        "- The result is that all variables are recoded in **only one column** using different integers for different categories, which is **useful for** columns with **lots of possible values**. \n",
        "- An **alternative** to this would be to **get dummy variables** for the categorical variables, but it would resolve it by recoding all the variables in **different columns** with **zeroes** and **ones**."
      ]
    },
    {
      "metadata": {
        "id": "qs4hVbkO16-D",
        "colab_type": "text"
      },
      "cell_type": "markdown",
      "source": [
        "#### Missing Data"
      ]
    },
    {
      "metadata": {
        "id": "VkAfjYOYL-HV",
        "colab_type": "text"
      },
      "cell_type": "markdown",
      "source": [
        "Handling missing data is important as **many** machine learning **algorithms do not support** data with **missing values** ([source](https://machinelearningmastery.com/handle-missing-data-python/)).\n",
        "\n",
        "Typically, random forest methods/packages encourage **two ways** of handling missing values ([source](https://medium.com/airbnb-engineering/overcoming-missing-values-in-a-random-forest-classifier-7b1fc1fc03ba)): \n",
        "- **Drop data points** with missing values (not recommended)\n",
        "- **Fill** in missing values with the **median** (for numerical values)."
      ]
    },
    {
      "metadata": {
        "id": "JRGJMDO3L-HY",
        "colab_type": "code",
        "colab": {
          "autoexec": {
            "startup": false,
            "wait_interval": 0
          },
          "base_uri": "https://localhost:8080/",
          "height": 1163
        },
        "outputId": "a34c51c4-f792-44e7-ce39-4b754719c749",
        "executionInfo": {
          "status": "ok",
          "timestamp": 1533319472367,
          "user_tz": -120,
          "elapsed": 1653,
          "user": {
            "displayName": "Aitor Lopez Beltran",
            "photoUrl": "//lh4.googleusercontent.com/-kAX-3fy5FU0/AAAAAAAAAAI/AAAAAAAAAAU/ogUhdJGBADs/s50-c-k-no/photo.jpg",
            "userId": "101613793608418592140"
          }
        }
      },
      "cell_type": "code",
      "source": [
        "# display all columns with the percentage of missing values (NaN)\n",
        "display_all(df_raw.isnull().sum().sort_index()/len(df_raw))"
      ],
      "execution_count": 28,
      "outputs": [
        {
          "output_type": "display_data",
          "data": {
            "text/plain": [
              "Backhoe_Mounting            0.803872\n",
              "Blade_Extension             0.937129\n",
              "Blade_Type                  0.800977\n",
              "Blade_Width                 0.937129\n",
              "Coupler                     0.466620\n",
              "Coupler_System              0.891660\n",
              "Differential_Type           0.826959\n",
              "Drive_System                0.739829\n",
              "Enclosure                   0.000810\n",
              "Enclosure_Type              0.937129\n",
              "Engine_Horsepower           0.937129\n",
              "Forks                       0.521154\n",
              "Grouser_Tracks              0.891899\n",
              "Grouser_Type                0.752813\n",
              "Hydraulics                  0.200823\n",
              "Hydraulics_Flow             0.891899\n",
              "MachineHoursCurrentMeter    0.644089\n",
              "MachineID                   0.000000\n",
              "ModelID                     0.000000\n",
              "Pad_Type                    0.802720\n",
              "Pattern_Changer             0.752651\n",
              "ProductGroup                0.000000\n",
              "ProductGroupDesc            0.000000\n",
              "ProductSize                 0.525460\n",
              "Pushblock                   0.937129\n",
              "Ride_Control                0.629527\n",
              "Ripper                      0.740388\n",
              "SalePrice                   0.000000\n",
              "SalesID                     0.000000\n",
              "Scarifier                   0.937102\n",
              "Steering_Controls           0.827064\n",
              "Stick                       0.802720\n",
              "Stick_Length                0.752651\n",
              "Thumb                       0.752476\n",
              "Tip_Control                 0.937129\n",
              "Tire_Size                   0.763869\n",
              "Track_Type                  0.752813\n",
              "Transmission                0.543210\n",
              "Travel_Controls             0.800975\n",
              "Turbocharged                0.802720\n",
              "Undercarriage_Pad_Width     0.751020\n",
              "UsageBand                   0.826391\n",
              "YearMade                    0.000000\n",
              "auctioneerID                0.050199\n",
              "datasource                  0.000000\n",
              "fiBaseModel                 0.000000\n",
              "fiModelDesc                 0.000000\n",
              "fiModelDescriptor           0.820707\n",
              "fiModelSeries               0.858129\n",
              "fiProductClassDesc          0.000000\n",
              "fiSecondaryDesc             0.342016\n",
              "saleDay                     0.000000\n",
              "saleDayofweek               0.000000\n",
              "saleDayofyear               0.000000\n",
              "saleElapsed                 0.000000\n",
              "saleIs_month_end            0.000000\n",
              "saleIs_month_start          0.000000\n",
              "saleIs_quarter_end          0.000000\n",
              "saleIs_quarter_start        0.000000\n",
              "saleIs_year_end             0.000000\n",
              "saleIs_year_start           0.000000\n",
              "saleMonth                   0.000000\n",
              "saleWeek                    0.000000\n",
              "saleYear                    0.000000\n",
              "state                       0.000000\n",
              "dtype: float64"
            ]
          },
          "metadata": {
            "tags": []
          }
        }
      ]
    },
    {
      "metadata": {
        "id": "hcuIZImOu-Dm",
        "colab_type": "text"
      },
      "cell_type": "markdown",
      "source": [
        "Pandas has handled all **missing values** in the **categories** automatically by encoding  them with a **minus one**."
      ]
    },
    {
      "metadata": {
        "id": "dzJjalRYIkim",
        "colab_type": "code",
        "colab": {
          "autoexec": {
            "startup": false,
            "wait_interval": 0
          },
          "base_uri": "https://localhost:8080/",
          "height": 225
        },
        "outputId": "624fd01e-81db-4d40-8c7a-19fd68fa0960",
        "executionInfo": {
          "status": "ok",
          "timestamp": 1533319473042,
          "user_tz": -120,
          "elapsed": 473,
          "user": {
            "displayName": "Aitor Lopez Beltran",
            "photoUrl": "//lh4.googleusercontent.com/-kAX-3fy5FU0/AAAAAAAAAAI/AAAAAAAAAAU/ogUhdJGBADs/s50-c-k-no/photo.jpg",
            "userId": "101613793608418592140"
          }
        }
      },
      "cell_type": "code",
      "source": [
        "# categories of this categorical\n",
        "print(df_raw.Hydraulics.cat.categories)\n",
        "\n",
        "# encoded variables\n",
        "df_raw.Hydraulics.cat.codes.head(6)"
      ],
      "execution_count": 29,
      "outputs": [
        {
          "output_type": "stream",
          "text": [
            "Index(['2 Valve', '3 Valve', '4 Valve', 'Auxiliary', 'Base + 1 Function',\n",
            "       'Base + 2 Function', 'Base + 3 Function', 'Base + 4 Function',\n",
            "       'Base + 5 Function', 'Base + 6 Function', 'None or Unspecified',\n",
            "       'Standard'],\n",
            "      dtype='object')\n"
          ],
          "name": "stdout"
        },
        {
          "output_type": "execute_result",
          "data": {
            "text/plain": [
              "0    0\n",
              "1    0\n",
              "2    3\n",
              "3    0\n",
              "4    3\n",
              "5   -1\n",
              "dtype: int8"
            ]
          },
          "metadata": {
            "tags": []
          },
          "execution_count": 29
        }
      ]
    },
    {
      "metadata": {
        "id": "vP-jL8i-K0UH",
        "colab_type": "text"
      },
      "cell_type": "markdown",
      "source": [
        "For the **numerical data**, we need to **replace** the **missing values** with the **median** (also called median imputation).\n",
        "- We'll use a method from the **fastai library** , **`proc_df`**,  to do just that and more.\n",
        "- We show some alternative code below to illustrate the process."
      ]
    },
    {
      "metadata": {
        "id": "hPYcXGp4wAe9",
        "colab_type": "code",
        "colab": {
          "autoexec": {
            "startup": false,
            "wait_interval": 0
          },
          "base_uri": "https://localhost:8080/",
          "height": 295
        },
        "outputId": "d6d64ec0-a1e2-47ff-c577-ac696faaf67e",
        "executionInfo": {
          "status": "ok",
          "timestamp": 1533319474134,
          "user_tz": -120,
          "elapsed": 690,
          "user": {
            "displayName": "Aitor Lopez Beltran",
            "photoUrl": "//lh4.googleusercontent.com/-kAX-3fy5FU0/AAAAAAAAAAI/AAAAAAAAAAU/ogUhdJGBADs/s50-c-k-no/photo.jpg",
            "userId": "101613793608418592140"
          }
        }
      },
      "cell_type": "code",
      "source": [
        "# select numerical columns\n",
        "num_col = df_raw.select_dtypes(include='number')\n",
        "\n",
        "# display numerical columns with the percentage of missing values (NaN)\n",
        "num_col.isnull().sum().sort_index()/len(df_raw)"
      ],
      "execution_count": 30,
      "outputs": [
        {
          "output_type": "execute_result",
          "data": {
            "text/plain": [
              "MachineHoursCurrentMeter    0.644089\n",
              "MachineID                   0.000000\n",
              "ModelID                     0.000000\n",
              "SalePrice                   0.000000\n",
              "SalesID                     0.000000\n",
              "YearMade                    0.000000\n",
              "auctioneerID                0.050199\n",
              "datasource                  0.000000\n",
              "saleDay                     0.000000\n",
              "saleDayofweek               0.000000\n",
              "saleDayofyear               0.000000\n",
              "saleElapsed                 0.000000\n",
              "saleMonth                   0.000000\n",
              "saleWeek                    0.000000\n",
              "saleYear                    0.000000\n",
              "dtype: float64"
            ]
          },
          "metadata": {
            "tags": []
          },
          "execution_count": 30
        }
      ]
    },
    {
      "metadata": {
        "id": "z0ltzl5gvG2B",
        "colab_type": "code",
        "colab": {
          "autoexec": {
            "startup": false,
            "wait_interval": 0
          },
          "base_uri": "https://localhost:8080/",
          "height": 295
        },
        "outputId": "d689ebe0-c0e9-414b-b1ea-4a5ba871b6c1",
        "executionInfo": {
          "status": "ok",
          "timestamp": 1533319475226,
          "user_tz": -120,
          "elapsed": 705,
          "user": {
            "displayName": "Aitor Lopez Beltran",
            "photoUrl": "//lh4.googleusercontent.com/-kAX-3fy5FU0/AAAAAAAAAAI/AAAAAAAAAAU/ogUhdJGBADs/s50-c-k-no/photo.jpg",
            "userId": "101613793608418592140"
          }
        }
      },
      "cell_type": "code",
      "source": [
        "# make a copy for demonstration purposes\n",
        "df_imputed = df_raw.copy()\n",
        "\n",
        "# iterate through column name and column values and if column values are numerical, replace NA values with the column median.\n",
        "for name, column in df_imputed.items():\n",
        "  if column.dtype == np.number:\n",
        "    df_imputed[name] = df_imputed[name].fillna(column.median())\n",
        "\n",
        "# select numerical columns\n",
        "num_col = df_imputed.select_dtypes(include='number')\n",
        "\n",
        "# display numerical columns with the percentage of missing values (NaN)\n",
        "num_col.isnull().sum().sort_index()/len(df_raw)"
      ],
      "execution_count": 31,
      "outputs": [
        {
          "output_type": "execute_result",
          "data": {
            "text/plain": [
              "MachineHoursCurrentMeter    0.0\n",
              "MachineID                   0.0\n",
              "ModelID                     0.0\n",
              "SalePrice                   0.0\n",
              "SalesID                     0.0\n",
              "YearMade                    0.0\n",
              "auctioneerID                0.0\n",
              "datasource                  0.0\n",
              "saleDay                     0.0\n",
              "saleDayofweek               0.0\n",
              "saleDayofyear               0.0\n",
              "saleElapsed                 0.0\n",
              "saleMonth                   0.0\n",
              "saleWeek                    0.0\n",
              "saleYear                    0.0\n",
              "dtype: float64"
            ]
          },
          "metadata": {
            "tags": []
          },
          "execution_count": 31
        }
      ]
    },
    {
      "metadata": {
        "id": "ddXP7U5AL-H1",
        "colab_type": "text"
      },
      "cell_type": "markdown",
      "source": [
        "## Pre-processing"
      ]
    },
    {
      "metadata": {
        "id": "IN2rX7vYL-ID",
        "colab_type": "text"
      },
      "cell_type": "markdown",
      "source": [
        "We'll use a method from the **fastai library** , **`proc_df`**,  to get the dataset ready for the random forest.\n",
        "- We'll **replace categories** with their numeric codes.\n",
        "- **Handle missing** continuous **values**.\n",
        "- **Split the dependent variable** into a separate variable."
      ]
    },
    {
      "metadata": {
        "id": "XUgqLRWVlxiA",
        "colab_type": "code",
        "colab": {
          "autoexec": {
            "startup": false,
            "wait_interval": 0
          }
        }
      },
      "cell_type": "code",
      "source": [
        "# import proc_df and the functions it depends on\n",
        "from fastai.structured import numericalize, fix_missing, proc_df\n",
        "\n",
        "X, y, nas_dict = proc_df(df_raw, 'SalePrice')"
      ],
      "execution_count": 0,
      "outputs": []
    },
    {
      "metadata": {
        "id": "zQdiXfhJ7lDE",
        "colab_type": "text"
      },
      "cell_type": "markdown",
      "source": [
        "For more information, we can again check the **source code**:"
      ]
    },
    {
      "metadata": {
        "id": "1dKCRo9m77BC",
        "colab_type": "code",
        "colab": {
          "autoexec": {
            "startup": false,
            "wait_interval": 0
          }
        }
      },
      "cell_type": "code",
      "source": [
        "??proc_df"
      ],
      "execution_count": 0,
      "outputs": []
    },
    {
      "metadata": {
        "id": "rgM2diC1JJN_",
        "colab_type": "text"
      },
      "cell_type": "markdown",
      "source": [
        "The method **`fix_missing`** has returned `nas_dict`, which is a dictionary with the name of the columns that had missing data.\n",
        "- From the function docstring: Fill missing data in a column of df with the median, and add a {name}_na column which specifies if the data was missing (boolean).\n",
        "- Our model will **not be using it** but we can check it out."
      ]
    },
    {
      "metadata": {
        "id": "Fo_un7fhL-IF",
        "colab_type": "code",
        "colab": {
          "autoexec": {
            "startup": false,
            "wait_interval": 0
          },
          "base_uri": "https://localhost:8080/",
          "height": 34
        },
        "outputId": "87148913-36b6-4d0a-c969-df6eb1039dbf",
        "executionInfo": {
          "status": "ok",
          "timestamp": 1533319478373,
          "user_tz": -120,
          "elapsed": 483,
          "user": {
            "displayName": "Aitor Lopez Beltran",
            "photoUrl": "//lh4.googleusercontent.com/-kAX-3fy5FU0/AAAAAAAAAAI/AAAAAAAAAAU/ogUhdJGBADs/s50-c-k-no/photo.jpg",
            "userId": "101613793608418592140"
          }
        }
      },
      "cell_type": "code",
      "source": [
        "nas_dict"
      ],
      "execution_count": 34,
      "outputs": [
        {
          "output_type": "execute_result",
          "data": {
            "text/plain": [
              "{'MachineHoursCurrentMeter': 0.0, 'auctioneerID': 2.0}"
            ]
          },
          "metadata": {
            "tags": []
          },
          "execution_count": 34
        }
      ]
    },
    {
      "metadata": {
        "id": "WD2wM04588Li",
        "colab_type": "text"
      },
      "cell_type": "markdown",
      "source": [
        "So we know the columns MachineHoursCurrentMeter' and 'auctioneerID' had missing values and according to the docstring, `fix_missing` has added **new columns** which specifies if the data was missing. Let's see.'"
      ]
    },
    {
      "metadata": {
        "id": "lgb74IyU-NEW",
        "colab_type": "code",
        "colab": {
          "autoexec": {
            "startup": false,
            "wait_interval": 0
          },
          "base_uri": "https://localhost:8080/",
          "height": 206
        },
        "outputId": "1bd26fc3-86dd-4b2a-be28-6dd6873644c1",
        "executionInfo": {
          "status": "ok",
          "timestamp": 1533319479136,
          "user_tz": -120,
          "elapsed": 481,
          "user": {
            "displayName": "Aitor Lopez Beltran",
            "photoUrl": "//lh4.googleusercontent.com/-kAX-3fy5FU0/AAAAAAAAAAI/AAAAAAAAAAU/ogUhdJGBADs/s50-c-k-no/photo.jpg",
            "userId": "101613793608418592140"
          }
        }
      },
      "cell_type": "code",
      "source": [
        "# acces columns with names containing some strings\n",
        "X.loc[:, X.columns.str.contains('MachineHoursCurrentMeter|auctioneerID')].head()"
      ],
      "execution_count": 35,
      "outputs": [
        {
          "output_type": "execute_result",
          "data": {
            "text/html": [
              "<div>\n",
              "<style scoped>\n",
              "    .dataframe tbody tr th:only-of-type {\n",
              "        vertical-align: middle;\n",
              "    }\n",
              "\n",
              "    .dataframe tbody tr th {\n",
              "        vertical-align: top;\n",
              "    }\n",
              "\n",
              "    .dataframe thead th {\n",
              "        text-align: right;\n",
              "    }\n",
              "</style>\n",
              "<table border=\"1\" class=\"dataframe\">\n",
              "  <thead>\n",
              "    <tr style=\"text-align: right;\">\n",
              "      <th></th>\n",
              "      <th>auctioneerID</th>\n",
              "      <th>MachineHoursCurrentMeter</th>\n",
              "      <th>auctioneerID_na</th>\n",
              "      <th>MachineHoursCurrentMeter_na</th>\n",
              "    </tr>\n",
              "  </thead>\n",
              "  <tbody>\n",
              "    <tr>\n",
              "      <th>0</th>\n",
              "      <td>3.0</td>\n",
              "      <td>68.0</td>\n",
              "      <td>False</td>\n",
              "      <td>False</td>\n",
              "    </tr>\n",
              "    <tr>\n",
              "      <th>1</th>\n",
              "      <td>3.0</td>\n",
              "      <td>4640.0</td>\n",
              "      <td>False</td>\n",
              "      <td>False</td>\n",
              "    </tr>\n",
              "    <tr>\n",
              "      <th>2</th>\n",
              "      <td>3.0</td>\n",
              "      <td>2838.0</td>\n",
              "      <td>False</td>\n",
              "      <td>False</td>\n",
              "    </tr>\n",
              "    <tr>\n",
              "      <th>3</th>\n",
              "      <td>3.0</td>\n",
              "      <td>3486.0</td>\n",
              "      <td>False</td>\n",
              "      <td>False</td>\n",
              "    </tr>\n",
              "    <tr>\n",
              "      <th>4</th>\n",
              "      <td>3.0</td>\n",
              "      <td>722.0</td>\n",
              "      <td>False</td>\n",
              "      <td>False</td>\n",
              "    </tr>\n",
              "  </tbody>\n",
              "</table>\n",
              "</div>"
            ],
            "text/plain": [
              "   auctioneerID  MachineHoursCurrentMeter  auctioneerID_na  \\\n",
              "0           3.0                      68.0            False   \n",
              "1           3.0                    4640.0            False   \n",
              "2           3.0                    2838.0            False   \n",
              "3           3.0                    3486.0            False   \n",
              "4           3.0                     722.0            False   \n",
              "\n",
              "   MachineHoursCurrentMeter_na  \n",
              "0                        False  \n",
              "1                        False  \n",
              "2                        False  \n",
              "3                        False  \n",
              "4                        False  "
            ]
          },
          "metadata": {
            "tags": []
          },
          "execution_count": 35
        }
      ]
    },
    {
      "metadata": {
        "id": "cX-C20IsL-IL",
        "colab_type": "text"
      },
      "cell_type": "markdown",
      "source": [
        "Anyhow, now the **dataset is ready** to be to be passed to a **random forest**."
      ]
    },
    {
      "metadata": {
        "id": "wOkD18dvL-Iu",
        "colab_type": "text"
      },
      "cell_type": "markdown",
      "source": [
        "# Lesson 2: Random Forests"
      ]
    },
    {
      "metadata": {
        "id": "E1v6UXfqGJnD",
        "colab_type": "text"
      },
      "cell_type": "markdown",
      "source": [
        "It is recommended to [watch the lesson first](https://youtu.be/blyXCk4sgEg), then follow the notebook.\n",
        "- If you start from this point, you need to run all the cells above by selecting \"**Run before**\" in the Notebook **Runtime** Settings."
      ]
    },
    {
      "metadata": {
        "id": "os0DnLiWHPzW",
        "colab_type": "text"
      },
      "cell_type": "markdown",
      "source": [
        "## Imports"
      ]
    },
    {
      "metadata": {
        "id": "lc0cORLVHUIW",
        "colab_type": "text"
      },
      "cell_type": "markdown",
      "source": [
        "I will be importing things **as I need them**, because I'm not that experienced and it **helps me to learn** where do things come from."
      ]
    },
    {
      "metadata": {
        "id": "ZrP8nrhoL-Iw",
        "colab_type": "text"
      },
      "cell_type": "markdown",
      "source": [
        "## Base model"
      ]
    },
    {
      "metadata": {
        "id": "HHmJluEUN4xA",
        "colab_type": "text"
      },
      "cell_type": "markdown",
      "source": [
        "### Validation set"
      ]
    },
    {
      "metadata": {
        "id": "RAqlKgo8IR5x",
        "colab_type": "text"
      },
      "cell_type": "markdown",
      "source": [
        "To **avoid  overfitting** , we'll split the dataset to have two **separate training and validation sets**.\n",
        "- Since we are trying to predict new prices, we should pick the **latest samples** from our train set.\n",
        "- We'll use the **same size as** the **Kaggle** validation set, so when we evaluate our model it gives us an estimation of how will it perform in the **public leaderboard**."
      ]
    },
    {
      "metadata": {
        "id": "Lpt-W9jE-_uy",
        "colab_type": "code",
        "colab": {
          "autoexec": {
            "startup": false,
            "wait_interval": 0
          },
          "base_uri": "https://localhost:8080/",
          "height": 34
        },
        "outputId": "eda459fa-0308-4cd7-9bd0-f805780542d6",
        "executionInfo": {
          "status": "ok",
          "timestamp": 1533319479914,
          "user_tz": -120,
          "elapsed": 475,
          "user": {
            "displayName": "Aitor Lopez Beltran",
            "photoUrl": "//lh4.googleusercontent.com/-kAX-3fy5FU0/AAAAAAAAAAI/AAAAAAAAAAU/ogUhdJGBADs/s50-c-k-no/photo.jpg",
            "userId": "101613793608418592140"
          }
        }
      },
      "cell_type": "code",
      "source": [
        "# set the path to read the Valid.csv\n",
        "path = 'data/bulldozers/Valid.csv'\n",
        "\n",
        "# dimensions of the dataframe (rows, columns)\n",
        "pd.read_csv(path).shape"
      ],
      "execution_count": 36,
      "outputs": [
        {
          "output_type": "execute_result",
          "data": {
            "text/plain": [
              "(11573, 52)"
            ]
          },
          "metadata": {
            "tags": []
          },
          "execution_count": 36
        }
      ]
    },
    {
      "metadata": {
        "id": "srvGkHmRCy1Z",
        "colab_type": "text"
      },
      "cell_type": "markdown",
      "source": [
        "The set Kaggle used for creating the public leaderboard has roughtly **12,000 samples**, so that is the size we'll use for our validation set."
      ]
    },
    {
      "metadata": {
        "id": "DhBgirfLL-Ih",
        "colab_type": "code",
        "colab": {
          "autoexec": {
            "startup": false,
            "wait_interval": 0
          },
          "base_uri": "https://localhost:8080/",
          "height": 34
        },
        "outputId": "319d83d0-0f8b-41e6-c2d9-07f3b75de28f",
        "executionInfo": {
          "status": "ok",
          "timestamp": 1533319480685,
          "user_tz": -120,
          "elapsed": 463,
          "user": {
            "displayName": "Aitor Lopez Beltran",
            "photoUrl": "//lh4.googleusercontent.com/-kAX-3fy5FU0/AAAAAAAAAAI/AAAAAAAAAAU/ogUhdJGBADs/s50-c-k-no/photo.jpg",
            "userId": "101613793608418592140"
          }
        }
      },
      "cell_type": "code",
      "source": [
        "# create a function for splitting X and y into train and test sets of customizable sizes\n",
        "def split_vals(a,n): return a[:n].copy(), a[n:].copy()\n",
        "\n",
        "# validation set size: 12000.\n",
        "validation = 12000\n",
        "\n",
        "# split point: length of dataset minus validation set size.\n",
        "split_point = len(X)-validation\n",
        "\n",
        "# split X\n",
        "X_train, X_valid = split_vals(X, split_point)\n",
        "\n",
        "# split y\n",
        "y_train, y_valid = split_vals(y, split_point)\n",
        "\n",
        "# dimensions (row, columns) of X, y and X_valid\n",
        "X_train.shape, y_train.shape, X_valid.shape"
      ],
      "execution_count": 37,
      "outputs": [
        {
          "output_type": "execute_result",
          "data": {
            "text/plain": [
              "((389125, 66), (389125,), (12000, 66))"
            ]
          },
          "metadata": {
            "tags": []
          },
          "execution_count": 37
        }
      ]
    },
    {
      "metadata": {
        "id": "ZtjcuJ3Fh5Ih",
        "colab_type": "text"
      },
      "cell_type": "markdown",
      "source": [
        "### Model evaluation"
      ]
    },
    {
      "metadata": {
        "id": "kxrhqIS_L-Id",
        "colab_type": "text"
      },
      "cell_type": "markdown",
      "source": [
        "**RMSE**\n",
        "\n",
        "Remember the evaluation metric that Kaggle is going to use for this competition is the Root Mean Squared Log Error (**RMSLE**) between the actual and predicted auction prices.\n",
        "- Because we **already took the log** of the prices, we can use the Root Mean Squared Error (RMSE) instead.\n",
        "\n",
        "The **RMSE** is an evaluation metric that expresses the **average error of the model predictions** by comparing the predicted values with the actual known values.\n",
        "- The score can range from **0** (best score possible, never achieved in practice) to **∞**, so the **lower the score the better**.\n",
        "\n",
        "**R Squared**\n",
        "\n",
        "The coefficient of determination R^2 (**R squared**) is an evaluation metric for regression problems that essentially tells us **how good is our model** compared with **a model that just predicts the average** of the target (saleprice) all the time .\n",
        "- The **best** possible score is **1**.\n",
        "- The score of the **average** model is **0**.\n",
        "- A **negative** score means the model is even **worse** than simply predicting the average of the target."
      ]
    },
    {
      "metadata": {
        "id": "twcxynECL-I1",
        "colab_type": "code",
        "colab": {
          "autoexec": {
            "startup": false,
            "wait_interval": 0
          },
          "base_uri": "https://localhost:8080/",
          "height": 69
        },
        "outputId": "4a8f3b80-90dd-4ac6-aa8b-d316c2e31e4b",
        "executionInfo": {
          "status": "ok",
          "timestamp": 1533319529348,
          "user_tz": -120,
          "elapsed": 48303,
          "user": {
            "displayName": "Aitor Lopez Beltran",
            "photoUrl": "//lh4.googleusercontent.com/-kAX-3fy5FU0/AAAAAAAAAAI/AAAAAAAAAAU/ogUhdJGBADs/s50-c-k-no/photo.jpg",
            "userId": "101613793608418592140"
          }
        }
      },
      "cell_type": "code",
      "source": [
        "# create a function that takes the RMSE\n",
        "def rmse(pred,known): return np.sqrt(((pred-known)**2).mean())\n",
        "\n",
        "# create a function that returns a list of 4 scores: the RMSE and the R Squared for each the training and the validation set\n",
        "def print_scores(model):\n",
        "    scores = [rmse(model.predict(X_train), y_train), rmse(model.predict(X_valid), y_valid),\n",
        "                model.score(X_train, y_train), model.score(X_valid, y_valid)]\n",
        "    print(scores)\n",
        "\n",
        "# import the class\n",
        "from sklearn.ensemble import RandomForestRegressor\n",
        "\n",
        "# instantiate the model \n",
        "rf = RandomForestRegressor(n_jobs=-1) # n_jobs is a performance parameter. -1 is to paralelize the computations across the number of CPU cores.\n",
        "\n",
        "# fit the model with data and calculate the running time\n",
        "%time rf.fit(X_train, y_train)\n",
        "\n",
        "# print a list of 4 scores:\n",
        "# [RMSE of the training set, RMSE of the validation set, R Squared of the training set, R Squared of the validation set]\n",
        "print_scores(rf)"
      ],
      "execution_count": 38,
      "outputs": [
        {
          "output_type": "stream",
          "text": [
            "CPU times: user 1min 24s, sys: 356 ms, total: 1min 24s\n",
            "Wall time: 43.5 s\n",
            "[0.09054847140502638, 0.24884544330546157, 0.9828644885141301, 0.8894121641376656]\n"
          ],
          "name": "stdout"
        }
      ]
    },
    {
      "metadata": {
        "id": "tcfRGgw4L-JI",
        "colab_type": "text"
      },
      "cell_type": "markdown",
      "source": [
        "These four scores allows us to evaluate the accuracy of our model.\n",
        "- An **R Squared** of the validation set in the **high-80's** tells us that our model is significantly **better** than simply **predicting the average** price.\n",
        "- The large difference of the **RMSLE** of the training (**0.09**) and the validation sets (**0.25**) tells us that we're **over-fitting badly**, because the average error of the model predictions are much greater when dealing with data it hasn't been trained with."
      ]
    },
    {
      "metadata": {
        "id": "Jog0gfn-L-JJ",
        "colab_type": "text"
      },
      "cell_type": "markdown",
      "source": [
        "## Speeding things up"
      ]
    },
    {
      "metadata": {
        "id": "58zIVvfkphM3",
        "colab_type": "text"
      },
      "cell_type": "markdown",
      "source": [
        "In order to make the model development process more **interactive**, we need to make sure that the model runs in a reasonable time to be able to **make some changes and see the results fast**.\n",
        "- We''ll use the paramater **`subset`** from **`proc_df`** that takes a random subset of the selected size from the dataframe.\n",
        "- We'll randomly sample **32,000** from the original 401,125 rows.\n",
        "- We'll use the **same validation set** as before.\n",
        "- To make sure our training set doesn't overlap with the dates of the validation set we'll **split again the subset** we've taken and **discard the last 12,000** rows."
      ]
    },
    {
      "metadata": {
        "id": "CiZnao-jL-JL",
        "colab_type": "code",
        "colab": {
          "autoexec": {
            "startup": false,
            "wait_interval": 0
          }
        }
      },
      "cell_type": "code",
      "source": [
        "# randomly sample 32000 thousand rows\n",
        "X_subset, y_subset, nas_dict = proc_df(df_raw, 'SalePrice', subset=32000)\n",
        "\n",
        "# split the train subset and discard the last 12000 rows: X_train [:20000], _ [20000:].\n",
        "X_train, _ = split_vals(X_subset, 20000)\n",
        "\n",
        "# split the target subset and discard the last 12000 rows: X_train [:20000], _ [20000:].\n",
        "y_train, _ = split_vals(y_subset, 20000)"
      ],
      "execution_count": 0,
      "outputs": []
    },
    {
      "metadata": {
        "id": "4oOB-dhCEMID",
        "colab_type": "text"
      },
      "cell_type": "markdown",
      "source": [
        "Now we can **train our model with 20,000 randomly chosen samples** from the total 401,125 rows and we can be sure that we're not cheating because the validation set is a different set entirely."
      ]
    },
    {
      "metadata": {
        "id": "_Vo1Fd45L-JV",
        "colab_type": "code",
        "colab": {
          "autoexec": {
            "startup": false,
            "wait_interval": 0
          },
          "base_uri": "https://localhost:8080/",
          "height": 69
        },
        "outputId": "9fd4b3db-29ae-4e84-f9aa-6eadac69c320",
        "executionInfo": {
          "status": "ok",
          "timestamp": 1533319533636,
          "user_tz": -120,
          "elapsed": 2996,
          "user": {
            "displayName": "Aitor Lopez Beltran",
            "photoUrl": "//lh4.googleusercontent.com/-kAX-3fy5FU0/AAAAAAAAAAI/AAAAAAAAAAU/ogUhdJGBADs/s50-c-k-no/photo.jpg",
            "userId": "101613793608418592140"
          }
        }
      },
      "cell_type": "code",
      "source": [
        "m = RandomForestRegressor(n_jobs=-1)\n",
        "%time m.fit(X_train, y_train)\n",
        "print_scores(m)"
      ],
      "execution_count": 40,
      "outputs": [
        {
          "output_type": "stream",
          "text": [
            "CPU times: user 3.44 s, sys: 12 ms, total: 3.45 s\n",
            "Wall time: 1.88 s\n",
            "[0.1123030118744584, 0.42258014103204333, 0.9705644273871711, 0.6810914657845994]\n"
          ],
          "name": "stdout"
        }
      ]
    },
    {
      "metadata": {
        "id": "vlGakn-EFdY4",
        "colab_type": "text"
      },
      "cell_type": "markdown",
      "source": [
        "Well, **that was fast**."
      ]
    },
    {
      "metadata": {
        "id": "6env1c2mL-Jb",
        "colab_type": "text"
      },
      "cell_type": "markdown",
      "source": [
        "## Single tree"
      ]
    },
    {
      "metadata": {
        "id": "MSU2l2OtHK1K",
        "colab_type": "text"
      },
      "cell_type": "markdown",
      "source": [
        "To **understand** why we were overfitting, we'll create a **random forest** so simple that we can actually **take a look inside**.\n",
        "- With the parameter `n_estimators`, we'll create a forest with **only one tree**.\n",
        "- With the parameter `max_depth`, we'll create a forest which trees **split only three times**.\n",
        "- With the parameter `bootstrap`, we'll **avoid using randomly generated training sets**."
      ]
    },
    {
      "metadata": {
        "id": "3UK_-aTAL-Jc",
        "colab_type": "code",
        "colab": {
          "autoexec": {
            "startup": false,
            "wait_interval": 0
          },
          "base_uri": "https://localhost:8080/",
          "height": 34
        },
        "outputId": "c52e088d-6b54-4d52-a964-3b01ec0c33ba",
        "executionInfo": {
          "status": "ok",
          "timestamp": 1533319534662,
          "user_tz": -120,
          "elapsed": 973,
          "user": {
            "displayName": "Aitor Lopez Beltran",
            "photoUrl": "//lh4.googleusercontent.com/-kAX-3fy5FU0/AAAAAAAAAAI/AAAAAAAAAAU/ogUhdJGBADs/s50-c-k-no/photo.jpg",
            "userId": "101613793608418592140"
          }
        }
      },
      "cell_type": "code",
      "source": [
        "m = RandomForestRegressor(n_estimators=1, max_depth=3, bootstrap=False, n_jobs=-1)\n",
        "m.fit(X_train, y_train)\n",
        "print_scores(m)"
      ],
      "execution_count": 41,
      "outputs": [
        {
          "output_type": "stream",
          "text": [
            "[0.48648626331997913, 0.5330344145219523, 0.44762903190865266, 0.4925906415364865]\n"
          ],
          "name": "stdout"
        }
      ]
    },
    {
      "metadata": {
        "id": "4pr0AExeL-fN",
        "colab_type": "text"
      },
      "cell_type": "markdown",
      "source": [
        "Now we'll **take a look inside** this random forest simplified to a **single small deterministic tree**.\n",
        "- We'll use a method fromt the **fastai library**, **`draw_tree`**, to draw a representation of the random forest in IPython.\n",
        "- This method uses the function **`export_graphviz`**, which generates a GraphViz representation of the decision tree.\n",
        "- To use the export_graphviz exporter we need to **first install GraphViz**."
      ]
    },
    {
      "metadata": {
        "id": "R3G5AavOOoGF",
        "colab_type": "code",
        "colab": {
          "autoexec": {
            "startup": false,
            "wait_interval": 0
          },
          "base_uri": "https://localhost:8080/",
          "height": 2032
        },
        "outputId": "24c7a2d4-2008-4a75-e7af-57ad4b1e8dda",
        "executionInfo": {
          "status": "ok",
          "timestamp": 1533319548425,
          "user_tz": -120,
          "elapsed": 13612,
          "user": {
            "displayName": "Aitor Lopez Beltran",
            "photoUrl": "//lh4.googleusercontent.com/-kAX-3fy5FU0/AAAAAAAAAAI/AAAAAAAAAAU/ogUhdJGBADs/s50-c-k-no/photo.jpg",
            "userId": "101613793608418592140"
          }
        }
      },
      "cell_type": "code",
      "source": [
        "# install GraphViz\n",
        "!apt-get -qq install -y graphviz && pip install -q pydot"
      ],
      "execution_count": 42,
      "outputs": [
        {
          "output_type": "stream",
          "text": [
            "Selecting previously unselected package fontconfig.\n",
            "(Reading database ... 18408 files and directories currently installed.)\n",
            "Preparing to unpack .../00-fontconfig_2.11.94-0ubuntu2_amd64.deb ...\n",
            "Unpacking fontconfig (2.11.94-0ubuntu2) ...\n",
            "Selecting previously unselected package libjbig0:amd64.\n",
            "Preparing to unpack .../01-libjbig0_2.1-3.1_amd64.deb ...\n",
            "Unpacking libjbig0:amd64 (2.1-3.1) ...\n",
            "Selecting previously unselected package libcdt5.\n",
            "Preparing to unpack .../02-libcdt5_2.38.0-16ubuntu2_amd64.deb ...\n",
            "Unpacking libcdt5 (2.38.0-16ubuntu2) ...\n",
            "Selecting previously unselected package libcgraph6.\n",
            "Preparing to unpack .../03-libcgraph6_2.38.0-16ubuntu2_amd64.deb ...\n",
            "Unpacking libcgraph6 (2.38.0-16ubuntu2) ...\n",
            "Selecting previously unselected package libtiff5:amd64.\n",
            "Preparing to unpack .../04-libtiff5_4.0.8-5ubuntu0.1_amd64.deb ...\n",
            "Unpacking libtiff5:amd64 (4.0.8-5ubuntu0.1) ...\n",
            "Selecting previously unselected package libwebp6:amd64.\n",
            "Preparing to unpack .../05-libwebp6_0.6.0-3_amd64.deb ...\n",
            "Unpacking libwebp6:amd64 (0.6.0-3) ...\n",
            "Selecting previously unselected package libxpm4:amd64.\n",
            "Preparing to unpack .../06-libxpm4_1%3a3.5.12-1_amd64.deb ...\n",
            "Unpacking libxpm4:amd64 (1:3.5.12-1) ...\n",
            "Selecting previously unselected package libgd3:amd64.\n",
            "Preparing to unpack .../07-libgd3_2.2.5-3_amd64.deb ...\n",
            "Unpacking libgd3:amd64 (2.2.5-3) ...\n",
            "Selecting previously unselected package libpixman-1-0:amd64.\n",
            "Preparing to unpack .../08-libpixman-1-0_0.34.0-1_amd64.deb ...\n",
            "Unpacking libpixman-1-0:amd64 (0.34.0-1) ...\n",
            "Selecting previously unselected package libxcb-render0:amd64.\n",
            "Preparing to unpack .../09-libxcb-render0_1.12-1ubuntu1_amd64.deb ...\n",
            "Unpacking libxcb-render0:amd64 (1.12-1ubuntu1) ...\n",
            "Selecting previously unselected package libxcb-shm0:amd64.\n",
            "Preparing to unpack .../10-libxcb-shm0_1.12-1ubuntu1_amd64.deb ...\n",
            "Unpacking libxcb-shm0:amd64 (1.12-1ubuntu1) ...\n",
            "Selecting previously unselected package libcairo2:amd64.\n",
            "Preparing to unpack .../11-libcairo2_1.14.10-1ubuntu1_amd64.deb ...\n",
            "Unpacking libcairo2:amd64 (1.14.10-1ubuntu1) ...\n",
            "Selecting previously unselected package libltdl7:amd64.\n",
            "Preparing to unpack .../12-libltdl7_2.4.6-2_amd64.deb ...\n",
            "Unpacking libltdl7:amd64 (2.4.6-2) ...\n",
            "Selecting previously unselected package libthai-data.\n",
            "Preparing to unpack .../13-libthai-data_0.1.26-3_all.deb ...\n",
            "Unpacking libthai-data (0.1.26-3) ...\n",
            "Selecting previously unselected package libdatrie1:amd64.\n",
            "Preparing to unpack .../14-libdatrie1_0.2.10-5_amd64.deb ...\n",
            "Unpacking libdatrie1:amd64 (0.2.10-5) ...\n",
            "Selecting previously unselected package libthai0:amd64.\n",
            "Preparing to unpack .../15-libthai0_0.1.26-3_amd64.deb ...\n",
            "Unpacking libthai0:amd64 (0.1.26-3) ...\n",
            "Selecting previously unselected package libpango-1.0-0:amd64.\n",
            "Preparing to unpack .../16-libpango-1.0-0_1.40.12-1_amd64.deb ...\n",
            "Unpacking libpango-1.0-0:amd64 (1.40.12-1) ...\n",
            "Selecting previously unselected package libgraphite2-3:amd64.\n",
            "Preparing to unpack .../17-libgraphite2-3_1.3.10-2_amd64.deb ...\n",
            "Unpacking libgraphite2-3:amd64 (1.3.10-2) ...\n",
            "Selecting previously unselected package libharfbuzz0b:amd64.\n",
            "Preparing to unpack .../18-libharfbuzz0b_1.4.2-1_amd64.deb ...\n",
            "Unpacking libharfbuzz0b:amd64 (1.4.2-1) ...\n",
            "Selecting previously unselected package libpangoft2-1.0-0:amd64.\n",
            "Preparing to unpack .../19-libpangoft2-1.0-0_1.40.12-1_amd64.deb ...\n",
            "Unpacking libpangoft2-1.0-0:amd64 (1.40.12-1) ...\n",
            "Selecting previously unselected package libpangocairo-1.0-0:amd64.\n",
            "Preparing to unpack .../20-libpangocairo-1.0-0_1.40.12-1_amd64.deb ...\n",
            "Unpacking libpangocairo-1.0-0:amd64 (1.40.12-1) ...\n",
            "Selecting previously unselected package libpathplan4.\n",
            "Preparing to unpack .../21-libpathplan4_2.38.0-16ubuntu2_amd64.deb ...\n",
            "Unpacking libpathplan4 (2.38.0-16ubuntu2) ...\n",
            "Selecting previously unselected package libgvc6.\n",
            "Preparing to unpack .../22-libgvc6_2.38.0-16ubuntu2_amd64.deb ...\n",
            "Unpacking libgvc6 (2.38.0-16ubuntu2) ...\n",
            "Selecting previously unselected package libgvpr2.\n",
            "Preparing to unpack .../23-libgvpr2_2.38.0-16ubuntu2_amd64.deb ...\n",
            "Unpacking libgvpr2 (2.38.0-16ubuntu2) ...\n",
            "Selecting previously unselected package libxt6:amd64.\n",
            "Preparing to unpack .../24-libxt6_1%3a1.1.5-1_amd64.deb ...\n",
            "Unpacking libxt6:amd64 (1:1.1.5-1) ...\n",
            "Selecting previously unselected package libxmu6:amd64.\n",
            "Preparing to unpack .../25-libxmu6_2%3a1.1.2-2_amd64.deb ...\n",
            "Unpacking libxmu6:amd64 (2:1.1.2-2) ...\n",
            "Selecting previously unselected package libxaw7:amd64.\n",
            "Preparing to unpack .../26-libxaw7_2%3a1.0.13-1_amd64.deb ...\n",
            "Unpacking libxaw7:amd64 (2:1.0.13-1) ...\n",
            "Selecting previously unselected package graphviz.\n",
            "Preparing to unpack .../27-graphviz_2.38.0-16ubuntu2_amd64.deb ...\n",
            "Unpacking graphviz (2.38.0-16ubuntu2) ...\n",
            "Setting up libpathplan4 (2.38.0-16ubuntu2) ...\n",
            "Setting up libxcb-render0:amd64 (1.12-1ubuntu1) ...\n",
            "Setting up libjbig0:amd64 (2.1-3.1) ...\n",
            "Setting up libdatrie1:amd64 (0.2.10-5) ...\n",
            "Setting up libtiff5:amd64 (4.0.8-5ubuntu0.1) ...\n",
            "Setting up libgraphite2-3:amd64 (1.3.10-2) ...\n",
            "Setting up libpixman-1-0:amd64 (0.34.0-1) ...\n",
            "Processing triggers for libc-bin (2.26-0ubuntu2.1) ...\n"
          ],
          "name": "stdout"
        },
        {
          "output_type": "stream",
          "text": [
            "Setting up libltdl7:amd64 (2.4.6-2) ...\n",
            "Setting up libxcb-shm0:amd64 (1.12-1ubuntu1) ...\n",
            "Setting up libxpm4:amd64 (1:3.5.12-1) ...\n",
            "Setting up libxt6:amd64 (1:1.1.5-1) ...\n",
            "Setting up libthai-data (0.1.26-3) ...\n",
            "Setting up libcdt5 (2.38.0-16ubuntu2) ...\n",
            "Setting up fontconfig (2.11.94-0ubuntu2) ...\n",
            "Regenerating fonts cache... done.\n",
            "Setting up libcgraph6 (2.38.0-16ubuntu2) ...\n",
            "Setting up libwebp6:amd64 (0.6.0-3) ...\n",
            "Setting up libcairo2:amd64 (1.14.10-1ubuntu1) ...\n",
            "Setting up libgvpr2 (2.38.0-16ubuntu2) ...\n",
            "Setting up libgd3:amd64 (2.2.5-3) ...\n",
            "Setting up libharfbuzz0b:amd64 (1.4.2-1) ...\n",
            "Setting up libthai0:amd64 (0.1.26-3) ...\n",
            "Setting up libxmu6:amd64 (2:1.1.2-2) ...\n",
            "Setting up libpango-1.0-0:amd64 (1.40.12-1) ...\n",
            "Setting up libxaw7:amd64 (2:1.0.13-1) ...\n",
            "Setting up libpangoft2-1.0-0:amd64 (1.40.12-1) ...\n",
            "Setting up libpangocairo-1.0-0:amd64 (1.40.12-1) ...\n",
            "Setting up libgvc6 (2.38.0-16ubuntu2) ...\n",
            "Setting up graphviz (2.38.0-16ubuntu2) ...\n",
            "Processing triggers for libc-bin (2.26-0ubuntu2.1) ...\n"
          ],
          "name": "stdout"
        }
      ]
    },
    {
      "metadata": {
        "id": "ruJOs9BuL-Jm",
        "colab_type": "code",
        "colab": {
          "autoexec": {
            "startup": false,
            "wait_interval": 0
          },
          "base_uri": "https://localhost:8080/",
          "height": 600
        },
        "outputId": "74b8487a-75cc-4227-f185-5ddf9b050259",
        "executionInfo": {
          "status": "ok",
          "timestamp": 1533319549237,
          "user_tz": -120,
          "elapsed": 750,
          "user": {
            "displayName": "Aitor Lopez Beltran",
            "photoUrl": "//lh4.googleusercontent.com/-kAX-3fy5FU0/AAAAAAAAAAI/AAAAAAAAAAU/ogUhdJGBADs/s50-c-k-no/photo.jpg",
            "userId": "101613793608418592140"
          }
        }
      },
      "cell_type": "code",
      "source": [
        "# import the export_graphviz exporter \n",
        "from sklearn.tree import export_graphviz\n",
        "\n",
        "# import draw_tree method\n",
        "from fastai.structured import draw_tree\n",
        "\n",
        "# draw a random forest\n",
        "draw_tree(m.estimators_[0], X_train, precision=3)"
      ],
      "execution_count": 43,
      "outputs": [
        {
          "output_type": "display_data",
          "data": {
            "text/plain": [
              "<graphviz.files.Source at 0x7f93160eb630>"
            ],
            "image/svg+xml": "<?xml version=\"1.0\" encoding=\"UTF-8\" standalone=\"no\"?>\n<!DOCTYPE svg PUBLIC \"-//W3C//DTD SVG 1.1//EN\"\n \"http://www.w3.org/Graphics/SVG/1.1/DTD/svg11.dtd\">\n<!-- Generated by graphviz version 2.38.0 (20140413.2041)\n -->\n<!-- Title: Tree Pages: 1 -->\n<svg width=\"720pt\" height=\"434pt\"\n viewBox=\"0.00 0.00 720.00 434.49\" xmlns=\"http://www.w3.org/2000/svg\" xmlns:xlink=\"http://www.w3.org/1999/xlink\">\n<g id=\"graph0\" class=\"graph\" transform=\"scale(0.778659 0.778659) rotate(0) translate(4 554)\">\n<title>Tree</title>\n<polygon fill=\"white\" stroke=\"none\" points=\"-4,4 -4,-554 920.667,-554 920.667,4 -4,4\"/>\n<!-- 0 -->\n<g id=\"node1\" class=\"node\"><title>0</title>\n<polygon fill=\"#e58139\" fill-opacity=\"0.596078\" stroke=\"black\" points=\"161.167,-308.5 14.1667,-308.5 14.1667,-240.5 161.167,-240.5 161.167,-308.5\"/>\n<text text-anchor=\"start\" x=\"22.1667\" y=\"-293.3\" font-family=\"Times,serif\" font-size=\"14.00\">ProductSize ≤ 1.5</text>\n<text text-anchor=\"start\" x=\"42.1667\" y=\"-278.3\" font-family=\"Times,serif\" font-size=\"14.00\">mse = 0.428</text>\n<text text-anchor=\"start\" x=\"25.1667\" y=\"-263.3\" font-family=\"Times,serif\" font-size=\"14.00\">samples = 20000</text>\n<text text-anchor=\"start\" x=\"33.1667\" y=\"-248.3\" font-family=\"Times,serif\" font-size=\"14.00\">value = 10.142</text>\n</g>\n<!-- 1 -->\n<g id=\"node2\" class=\"node\"><title>1</title>\n<polygon fill=\"#e58139\" fill-opacity=\"0.447059\" stroke=\"black\" points=\"427.667,-361.5 237.667,-361.5 237.667,-293.5 427.667,-293.5 427.667,-361.5\"/>\n<text text-anchor=\"start\" x=\"245.667\" y=\"-346.3\" font-family=\"Times,serif\" font-size=\"14.00\">fiSecondaryDesc ≤ 51.0</text>\n<text text-anchor=\"start\" x=\"287.167\" y=\"-331.3\" font-family=\"Times,serif\" font-size=\"14.00\">mse = 0.337</text>\n<text text-anchor=\"start\" x=\"270.167\" y=\"-316.3\" font-family=\"Times,serif\" font-size=\"14.00\">samples = 10623</text>\n<text text-anchor=\"start\" x=\"282.667\" y=\"-301.3\" font-family=\"Times,serif\" font-size=\"14.00\">value = 9.919</text>\n</g>\n<!-- 0&#45;&gt;1 -->\n<g id=\"edge1\" class=\"edge\"><title>0&#45;&gt;1</title>\n<path fill=\"none\" stroke=\"black\" d=\"M161.246,-290.33C182.077,-294.874 205.213,-299.919 227.548,-304.791\"/>\n<polygon fill=\"black\" stroke=\"black\" points=\"226.884,-308.228 237.401,-306.94 228.376,-301.389 226.884,-308.228\"/>\n<text text-anchor=\"middle\" x=\"216.362\" y=\"-316.744\" font-family=\"Times,serif\" font-size=\"14.00\">True</text>\n</g>\n<!-- 8 -->\n<g id=\"node9\" class=\"node\"><title>8</title>\n<polygon fill=\"#e58139\" fill-opacity=\"0.760784\" stroke=\"black\" points=\"411.667,-255.5 253.667,-255.5 253.667,-187.5 411.667,-187.5 411.667,-255.5\"/>\n<text text-anchor=\"start\" x=\"261.667\" y=\"-240.3\" font-family=\"Times,serif\" font-size=\"14.00\">YearMade ≤ 1980.5</text>\n<text text-anchor=\"start\" x=\"287.167\" y=\"-225.3\" font-family=\"Times,serif\" font-size=\"14.00\">mse = 0.412</text>\n<text text-anchor=\"start\" x=\"274.667\" y=\"-210.3\" font-family=\"Times,serif\" font-size=\"14.00\">samples = 9377</text>\n<text text-anchor=\"start\" x=\"278.167\" y=\"-195.3\" font-family=\"Times,serif\" font-size=\"14.00\">value = 10.395</text>\n</g>\n<!-- 0&#45;&gt;8 -->\n<g id=\"edge8\" class=\"edge\"><title>0&#45;&gt;8</title>\n<path fill=\"none\" stroke=\"black\" d=\"M161.246,-258.67C187.153,-253.019 216.623,-246.592 243.686,-240.689\"/>\n<polygon fill=\"black\" stroke=\"black\" points=\"244.512,-244.091 253.537,-238.541 243.02,-237.252 244.512,-244.091\"/>\n<text text-anchor=\"middle\" x=\"232.498\" y=\"-221.336\" font-family=\"Times,serif\" font-size=\"14.00\">False</text>\n</g>\n<!-- 2 -->\n<g id=\"node3\" class=\"node\"><title>2</title>\n<polygon fill=\"#e58139\" fill-opacity=\"0.329412\" stroke=\"black\" points=\"693.167,-486.5 512.167,-486.5 512.167,-418.5 693.167,-418.5 693.167,-486.5\"/>\n<text text-anchor=\"start\" x=\"520.167\" y=\"-471.3\" font-family=\"Times,serif\" font-size=\"14.00\">Hydraulics_Flow ≤ 2.0</text>\n<text text-anchor=\"start\" x=\"557.167\" y=\"-456.3\" font-family=\"Times,serif\" font-size=\"14.00\">mse = 0.247</text>\n<text text-anchor=\"start\" x=\"544.667\" y=\"-441.3\" font-family=\"Times,serif\" font-size=\"14.00\">samples = 6870</text>\n<text text-anchor=\"start\" x=\"552.667\" y=\"-426.3\" font-family=\"Times,serif\" font-size=\"14.00\">value = 9.742</text>\n</g>\n<!-- 1&#45;&gt;2 -->\n<g id=\"edge2\" class=\"edge\"><title>1&#45;&gt;2</title>\n<path fill=\"none\" stroke=\"black\" d=\"M406.899,-361.657C441.612,-377.848 483.228,-397.258 519.064,-413.972\"/>\n<polygon fill=\"black\" stroke=\"black\" points=\"517.981,-417.329 528.523,-418.384 520.94,-410.985 517.981,-417.329\"/>\n</g>\n<!-- 5 -->\n<g id=\"node6\" class=\"node\"><title>5</title>\n<polygon fill=\"#e58139\" fill-opacity=\"0.662745\" stroke=\"black\" points=\"697.667,-361.5 507.667,-361.5 507.667,-293.5 697.667,-293.5 697.667,-361.5\"/>\n<text text-anchor=\"start\" x=\"515.667\" y=\"-346.3\" font-family=\"Times,serif\" font-size=\"14.00\">fiSecondaryDesc ≤ 74.0</text>\n<text text-anchor=\"start\" x=\"557.167\" y=\"-331.3\" font-family=\"Times,serif\" font-size=\"14.00\">mse = 0.337</text>\n<text text-anchor=\"start\" x=\"544.667\" y=\"-316.3\" font-family=\"Times,serif\" font-size=\"14.00\">samples = 3753</text>\n<text text-anchor=\"start\" x=\"548.167\" y=\"-301.3\" font-family=\"Times,serif\" font-size=\"14.00\">value = 10.244</text>\n</g>\n<!-- 1&#45;&gt;5 -->\n<g id=\"edge5\" class=\"edge\"><title>1&#45;&gt;5</title>\n<path fill=\"none\" stroke=\"black\" d=\"M427.777,-327.5C450.243,-327.5 474.355,-327.5 497.254,-327.5\"/>\n<polygon fill=\"black\" stroke=\"black\" points=\"497.331,-331 507.331,-327.5 497.331,-324 497.331,-331\"/>\n</g>\n<!-- 3 -->\n<g id=\"node4\" class=\"node\"><title>3</title>\n<polygon fill=\"#e58139\" fill-opacity=\"0.392157\" stroke=\"black\" points=\"903.667,-550 771.667,-550 771.667,-497 903.667,-497 903.667,-550\"/>\n<text text-anchor=\"start\" x=\"792.167\" y=\"-534.8\" font-family=\"Times,serif\" font-size=\"14.00\">mse = 0.215</text>\n<text text-anchor=\"start\" x=\"779.667\" y=\"-519.8\" font-family=\"Times,serif\" font-size=\"14.00\">samples = 5777</text>\n<text text-anchor=\"start\" x=\"787.667\" y=\"-504.8\" font-family=\"Times,serif\" font-size=\"14.00\">value = 9.837</text>\n</g>\n<!-- 2&#45;&gt;3 -->\n<g id=\"edge3\" class=\"edge\"><title>2&#45;&gt;3</title>\n<path fill=\"none\" stroke=\"black\" d=\"M693.417,-479.849C715.985,-486.726 739.968,-494.034 761.726,-500.664\"/>\n<polygon fill=\"black\" stroke=\"black\" points=\"760.967,-504.092 771.553,-503.659 763.008,-497.396 760.967,-504.092\"/>\n</g>\n<!-- 4 -->\n<g id=\"node5\" class=\"node\"><title>4</title>\n<polygon fill=\"none\" stroke=\"black\" points=\"903.667,-479 771.667,-479 771.667,-426 903.667,-426 903.667,-479\"/>\n<text text-anchor=\"start\" x=\"792.167\" y=\"-463.8\" font-family=\"Times,serif\" font-size=\"14.00\">mse = 0.118</text>\n<text text-anchor=\"start\" x=\"779.667\" y=\"-448.8\" font-family=\"Times,serif\" font-size=\"14.00\">samples = 1093</text>\n<text text-anchor=\"start\" x=\"787.667\" y=\"-433.8\" font-family=\"Times,serif\" font-size=\"14.00\">value = 9.239</text>\n</g>\n<!-- 2&#45;&gt;4 -->\n<g id=\"edge4\" class=\"edge\"><title>2&#45;&gt;4</title>\n<path fill=\"none\" stroke=\"black\" d=\"M693.417,-452.5C715.883,-452.5 739.752,-452.5 761.432,-452.5\"/>\n<polygon fill=\"black\" stroke=\"black\" points=\"761.553,-456 771.553,-452.5 761.553,-449 761.553,-456\"/>\n</g>\n<!-- 6 -->\n<g id=\"node7\" class=\"node\"><title>6</title>\n<polygon fill=\"#e58139\" fill-opacity=\"0.847059\" stroke=\"black\" points=\"903.667,-408 771.667,-408 771.667,-355 903.667,-355 903.667,-408\"/>\n<text text-anchor=\"start\" x=\"792.167\" y=\"-392.8\" font-family=\"Times,serif\" font-size=\"14.00\">mse = 0.286</text>\n<text text-anchor=\"start\" x=\"779.667\" y=\"-377.8\" font-family=\"Times,serif\" font-size=\"14.00\">samples = 2171</text>\n<text text-anchor=\"start\" x=\"783.167\" y=\"-362.8\" font-family=\"Times,serif\" font-size=\"14.00\">value = 10.528</text>\n</g>\n<!-- 5&#45;&gt;6 -->\n<g id=\"edge6\" class=\"edge\"><title>5&#45;&gt;6</title>\n<path fill=\"none\" stroke=\"black\" d=\"M697.765,-349.308C719.039,-354.239 741.348,-359.409 761.71,-364.128\"/>\n<polygon fill=\"black\" stroke=\"black\" points=\"761.004,-367.557 771.536,-366.405 762.584,-360.738 761.004,-367.557\"/>\n</g>\n<!-- 7 -->\n<g id=\"node8\" class=\"node\"><title>7</title>\n<polygon fill=\"#e58139\" fill-opacity=\"0.407843\" stroke=\"black\" points=\"903.667,-337 771.667,-337 771.667,-284 903.667,-284 903.667,-337\"/>\n<text text-anchor=\"start\" x=\"792.167\" y=\"-321.8\" font-family=\"Times,serif\" font-size=\"14.00\">mse = 0.144</text>\n<text text-anchor=\"start\" x=\"779.667\" y=\"-306.8\" font-family=\"Times,serif\" font-size=\"14.00\">samples = 1582</text>\n<text text-anchor=\"start\" x=\"787.667\" y=\"-291.8\" font-family=\"Times,serif\" font-size=\"14.00\">value = 9.855</text>\n</g>\n<!-- 5&#45;&gt;7 -->\n<g id=\"edge7\" class=\"edge\"><title>5&#45;&gt;7</title>\n<path fill=\"none\" stroke=\"black\" d=\"M697.765,-320.634C718.942,-319.089 741.146,-317.469 761.432,-315.989\"/>\n<polygon fill=\"black\" stroke=\"black\" points=\"761.817,-319.471 771.536,-315.252 761.307,-312.489 761.817,-319.471\"/>\n</g>\n<!-- 9 -->\n<g id=\"node10\" class=\"node\"><title>9</title>\n<polygon fill=\"#e58139\" fill-opacity=\"0.474510\" stroke=\"black\" points=\"677.167,-255.5 528.167,-255.5 528.167,-187.5 677.167,-187.5 677.167,-255.5\"/>\n<text text-anchor=\"start\" x=\"536.167\" y=\"-240.3\" font-family=\"Times,serif\" font-size=\"14.00\">ModelID ≤ 4178.5</text>\n<text text-anchor=\"start\" x=\"557.167\" y=\"-225.3\" font-family=\"Times,serif\" font-size=\"14.00\">mse = 0.272</text>\n<text text-anchor=\"start\" x=\"544.667\" y=\"-210.3\" font-family=\"Times,serif\" font-size=\"14.00\">samples = 2527</text>\n<text text-anchor=\"start\" x=\"552.667\" y=\"-195.3\" font-family=\"Times,serif\" font-size=\"14.00\">value = 9.961</text>\n</g>\n<!-- 8&#45;&gt;9 -->\n<g id=\"edge9\" class=\"edge\"><title>8&#45;&gt;9</title>\n<path fill=\"none\" stroke=\"black\" d=\"M411.904,-221.5C445.087,-221.5 483.824,-221.5 517.615,-221.5\"/>\n<polygon fill=\"black\" stroke=\"black\" points=\"517.932,-225 527.932,-221.5 517.932,-218 517.932,-225\"/>\n</g>\n<!-- 12 -->\n<g id=\"node13\" class=\"node\"><title>12</title>\n<polygon fill=\"#e58139\" fill-opacity=\"0.866667\" stroke=\"black\" points=\"676.167,-131.5 529.167,-131.5 529.167,-63.5 676.167,-63.5 676.167,-131.5\"/>\n<text text-anchor=\"start\" x=\"537.167\" y=\"-116.3\" font-family=\"Times,serif\" font-size=\"14.00\">ProductSize ≤ 4.5</text>\n<text text-anchor=\"start\" x=\"557.167\" y=\"-101.3\" font-family=\"Times,serif\" font-size=\"14.00\">mse = 0.369</text>\n<text text-anchor=\"start\" x=\"544.667\" y=\"-86.3\" font-family=\"Times,serif\" font-size=\"14.00\">samples = 6850</text>\n<text text-anchor=\"start\" x=\"548.167\" y=\"-71.3\" font-family=\"Times,serif\" font-size=\"14.00\">value = 10.555</text>\n</g>\n<!-- 8&#45;&gt;12 -->\n<g id=\"edge12\" class=\"edge\"><title>8&#45;&gt;12</title>\n<path fill=\"none\" stroke=\"black\" d=\"M407.253,-187.452C441.962,-171.393 483.509,-152.17 519.269,-135.624\"/>\n<polygon fill=\"black\" stroke=\"black\" points=\"521.102,-138.633 528.708,-131.257 518.163,-132.28 521.102,-138.633\"/>\n</g>\n<!-- 10 -->\n<g id=\"node11\" class=\"node\"><title>10</title>\n<polygon fill=\"#e58139\" fill-opacity=\"0.560784\" stroke=\"black\" points=\"903.667,-266 771.667,-266 771.667,-213 903.667,-213 903.667,-266\"/>\n<text text-anchor=\"start\" x=\"792.167\" y=\"-250.8\" font-family=\"Times,serif\" font-size=\"14.00\">mse = 0.252</text>\n<text text-anchor=\"start\" x=\"779.667\" y=\"-235.8\" font-family=\"Times,serif\" font-size=\"14.00\">samples = 1402</text>\n<text text-anchor=\"start\" x=\"783.167\" y=\"-220.8\" font-family=\"Times,serif\" font-size=\"14.00\">value = 10.091</text>\n</g>\n<!-- 9&#45;&gt;10 -->\n<g id=\"edge10\" class=\"edge\"><title>9&#45;&gt;10</title>\n<path fill=\"none\" stroke=\"black\" d=\"M677.389,-227.195C704.107,-229.259 734.311,-231.593 761.179,-233.668\"/>\n<polygon fill=\"black\" stroke=\"black\" points=\"761.058,-237.169 771.298,-234.45 761.598,-230.19 761.058,-237.169\"/>\n</g>\n<!-- 11 -->\n<g id=\"node12\" class=\"node\"><title>11</title>\n<polygon fill=\"#e58139\" fill-opacity=\"0.368627\" stroke=\"black\" points=\"903.667,-195 771.667,-195 771.667,-142 903.667,-142 903.667,-195\"/>\n<text text-anchor=\"start\" x=\"792.167\" y=\"-179.8\" font-family=\"Times,serif\" font-size=\"14.00\">mse = 0.249</text>\n<text text-anchor=\"start\" x=\"779.667\" y=\"-164.8\" font-family=\"Times,serif\" font-size=\"14.00\">samples = 1125</text>\n<text text-anchor=\"start\" x=\"787.667\" y=\"-149.8\" font-family=\"Times,serif\" font-size=\"14.00\">value = 9.798</text>\n</g>\n<!-- 9&#45;&gt;11 -->\n<g id=\"edge11\" class=\"edge\"><title>9&#45;&gt;11</title>\n<path fill=\"none\" stroke=\"black\" d=\"M677.389,-204.73C704.225,-198.626 734.577,-191.722 761.533,-185.59\"/>\n<polygon fill=\"black\" stroke=\"black\" points=\"762.324,-189 771.298,-183.369 760.771,-182.174 762.324,-189\"/>\n</g>\n<!-- 13 -->\n<g id=\"node14\" class=\"node\"><title>13</title>\n<polygon fill=\"#e58139\" stroke=\"black\" points=\"903.667,-124 771.667,-124 771.667,-71 903.667,-71 903.667,-124\"/>\n<text text-anchor=\"start\" x=\"792.167\" y=\"-108.8\" font-family=\"Times,serif\" font-size=\"14.00\">mse = 0.272</text>\n<text text-anchor=\"start\" x=\"779.667\" y=\"-93.8\" font-family=\"Times,serif\" font-size=\"14.00\">samples = 4776</text>\n<text text-anchor=\"start\" x=\"783.167\" y=\"-78.8\" font-family=\"Times,serif\" font-size=\"14.00\">value = 10.757</text>\n</g>\n<!-- 12&#45;&gt;13 -->\n<g id=\"edge13\" class=\"edge\"><title>12&#45;&gt;13</title>\n<path fill=\"none\" stroke=\"black\" d=\"M676.431,-97.5C703.426,-97.5 734.086,-97.5 761.308,-97.5\"/>\n<polygon fill=\"black\" stroke=\"black\" points=\"761.558,-101 771.557,-97.5 761.557,-94.0001 761.558,-101\"/>\n</g>\n<!-- 14 -->\n<g id=\"node15\" class=\"node\"><title>14</title>\n<polygon fill=\"#e58139\" fill-opacity=\"0.560784\" stroke=\"black\" points=\"903.667,-53 771.667,-53 771.667,-0 903.667,-0 903.667,-53\"/>\n<text text-anchor=\"start\" x=\"792.167\" y=\"-37.8\" font-family=\"Times,serif\" font-size=\"14.00\">mse = 0.281</text>\n<text text-anchor=\"start\" x=\"779.667\" y=\"-22.8\" font-family=\"Times,serif\" font-size=\"14.00\">samples = 2074</text>\n<text text-anchor=\"start\" x=\"783.167\" y=\"-7.8\" font-family=\"Times,serif\" font-size=\"14.00\">value = 10.088</text>\n</g>\n<!-- 12&#45;&gt;14 -->\n<g id=\"edge14\" class=\"edge\"><title>12&#45;&gt;14</title>\n<path fill=\"none\" stroke=\"black\" d=\"M676.431,-75.3272C703.545,-67.065 734.356,-57.6761 761.667,-49.3539\"/>\n<polygon fill=\"black\" stroke=\"black\" points=\"763.012,-52.6031 771.557,-46.3401 760.971,-45.9071 763.012,-52.6031\"/>\n</g>\n</g>\n</svg>\n"
          },
          "metadata": {
            "tags": []
          }
        }
      ]
    },
    {
      "metadata": {
        "id": "S28ub8s4L-Ju",
        "colab_type": "text"
      },
      "cell_type": "markdown",
      "source": [
        "A tree consist of a **sequence of binary decisions** or splits.\n",
        "- Each step **partitions the data** into two subsets.\n",
        "- Each split point is a decision to split the data on a **particular variable** (feature) and in a **particular location** (value).\n",
        "- **All possible split points are evaluated** (all features and values).\n",
        "- The very **best split point is chosen** each time trying to **minimize the error** (for regression).\n",
        "- The error is calculated by **comparing the predicted values with the known values** of the subsets of a particular split point.\n",
        "\n",
        "Each box in the graphic that represents a split point consists of:\n",
        "- A **variable** and a **value** to split on.\n",
        "- **MSE** quantifies the error, the lower the better.\n",
        "- **Samples** is the size (rows) of the subset.\n",
        "- The **average** of the **target** value (log of price) of the subset.\n",
        "\n",
        "Sources: [1](https://machinelearningmastery.com/classification-and-regression-trees-for-machine-learning/), [2](https://infocenter.informationbuilders.com/wf80/index.jsp?topic=%2Fpubdocs%2FRStat16%2Fsource%2Ftopic47.htm).\n",
        "\n",
        "Looking at our little tree, we can see that we **start with 20,000 rows** (the root node),  **split only three times** (trying to minimze the MSE) and end up with **many subsets of different sizes** (leaf nodes), which are the result of the last split.\n",
        "\n",
        "If we create the largest (**deepest**) tree possible, it'll **keep splitting until each leaf node has only one sample**. Such tree would learn all there is to learn about the training data but would be a model that would **not be able to generalize a pattern** from it. And that is exactly what overfitting is: to **learn the noise instead of the signal**. Let's see it in practice."
      ]
    },
    {
      "metadata": {
        "id": "6J1Z9XcqL-Jw",
        "colab_type": "code",
        "colab": {
          "autoexec": {
            "startup": false,
            "wait_interval": 0
          },
          "base_uri": "https://localhost:8080/",
          "height": 34
        },
        "outputId": "42a39543-5199-4f52-e058-a492ed2ed5ad",
        "executionInfo": {
          "status": "ok",
          "timestamp": 1533319551070,
          "user_tz": -120,
          "elapsed": 1461,
          "user": {
            "displayName": "Aitor Lopez Beltran",
            "photoUrl": "//lh4.googleusercontent.com/-kAX-3fy5FU0/AAAAAAAAAAI/AAAAAAAAAAU/ogUhdJGBADs/s50-c-k-no/photo.jpg",
            "userId": "101613793608418592140"
          }
        }
      },
      "cell_type": "code",
      "source": [
        "# remove the max_depth parameter (by default to None) so the nodes expanded until they can't do it anymore. \n",
        "m = RandomForestRegressor(n_estimators=1, bootstrap=False, n_jobs=-1)\n",
        "\n",
        "m.fit(X_train, y_train)\n",
        "\n",
        "# [RMSE of the training set, RMSE of the validation set, R Squared of the training set, R Squared of the validation set]\n",
        "print_scores(m)"
      ],
      "execution_count": 44,
      "outputs": [
        {
          "output_type": "stream",
          "text": [
            "[6.153480596427405e-17, 0.5932594504322316, 1.0, 0.37145365657694]\n"
          ],
          "name": "stdout"
        }
      ]
    },
    {
      "metadata": {
        "id": "5e3Pqp8QL-KE",
        "colab_type": "text"
      },
      "cell_type": "markdown",
      "source": [
        "The scores are **great in the training set**: the RMSE is 4.3511679e-17 (that is a 0 followed by a lot of zeroes) and the R Squared is 1 (the best possible score). This is because we can in fact **predict everything** from the training data.\n",
        "\n",
        "Our interest, of course, is to do **better in the validation set** to get more generalizable results and for that we need to use **multiple trees** and some kind of **model averaging approach** ."
      ]
    },
    {
      "metadata": {
        "id": "bmp7EGtVL-KG",
        "colab_type": "text"
      },
      "cell_type": "markdown",
      "source": [
        "## Bagging"
      ]
    },
    {
      "metadata": {
        "id": "l5-fk5y1L-KI",
        "colab_type": "text"
      },
      "cell_type": "markdown",
      "source": [
        "### Intro to bagging"
      ]
    },
    {
      "metadata": {
        "id": "smV3Kj2RL-KL",
        "colab_type": "text"
      },
      "cell_type": "markdown",
      "source": [
        "Bootstrap aggregating (**Bagging**) is a way of doing repeated statistical analyses on the \n",
        "same data and combining them to form a single result.\n",
        "- The predictions that are combined are all different thanks to the use of **resampling** (bootsrap samples).\n",
        "- **Bootstraping** is a way of generating random non-repeated samples from a dataset.\n",
        "\n",
        "A **random forest** is simply a way of **bagging trees**.\n",
        "- It combines the **unique predictions** of different trees.\n",
        "- Each tree is trained on a **randomly generated training set**.\n",
        "- It grows **deep trees** that overfit their individual non-repeated subsets.\n",
        "- The prediction **error** of the trees are **random** so the **average of the predictions doesn't overfit**.\n",
        "\n",
        "Sources: [1](https://onlinecourses.science.psu.edu/stat857/node/181/), [2](https://machinelearningmastery.com/bagging-and-random-forest-ensemble-algorithms-for-machine-learning/).\n",
        "\n",
        "To learn about bagging in random forests, let's look at our **base model** again."
      ]
    },
    {
      "metadata": {
        "id": "r3ufPXDpL-KO",
        "colab_type": "code",
        "colab": {
          "autoexec": {
            "startup": false,
            "wait_interval": 0
          },
          "base_uri": "https://localhost:8080/",
          "height": 34
        },
        "outputId": "725717a9-308f-4712-b491-53c628e5a0eb",
        "executionInfo": {
          "status": "ok",
          "timestamp": 1533319554358,
          "user_tz": -120,
          "elapsed": 3122,
          "user": {
            "displayName": "Aitor Lopez Beltran",
            "photoUrl": "//lh4.googleusercontent.com/-kAX-3fy5FU0/AAAAAAAAAAI/AAAAAAAAAAU/ogUhdJGBADs/s50-c-k-no/photo.jpg",
            "userId": "101613793608418592140"
          }
        }
      },
      "cell_type": "code",
      "source": [
        "# the number of trees in the forest by default is 10.\n",
        "m = RandomForestRegressor(n_jobs=-1)\n",
        "\n",
        "m.fit(X_train, y_train)\n",
        "\n",
        "# [RMSE of the training set, RMSE of the validation set, R Squared of the training set, R Squared of the validation set]\n",
        "print_scores(m)"
      ],
      "execution_count": 45,
      "outputs": [
        {
          "output_type": "stream",
          "text": [
            "[0.11199114404348318, 0.42210340279722086, 0.9707276867956796, 0.6818106199353584]\n"
          ],
          "name": "stdout"
        }
      ]
    },
    {
      "metadata": {
        "id": "y5OjqWMSL-KW",
        "colab_type": "text"
      },
      "cell_type": "markdown",
      "source": [
        "We'll grab the **predictions for each individual tree**, and look at one example."
      ]
    },
    {
      "metadata": {
        "id": "3jC3BG75L-Ki",
        "colab_type": "code",
        "colab": {
          "autoexec": {
            "startup": false,
            "wait_interval": 0
          },
          "base_uri": "https://localhost:8080/",
          "height": 34
        },
        "outputId": "819242ae-3c44-4977-9f73-b0052f1de9f1",
        "executionInfo": {
          "status": "ok",
          "timestamp": 1533319555469,
          "user_tz": -120,
          "elapsed": 938,
          "user": {
            "displayName": "Aitor Lopez Beltran",
            "photoUrl": "//lh4.googleusercontent.com/-kAX-3fy5FU0/AAAAAAAAAAI/AAAAAAAAAAU/ogUhdJGBADs/s50-c-k-no/photo.jpg",
            "userId": "101613793608418592140"
          }
        }
      },
      "cell_type": "code",
      "source": [
        "# use a list comprehension to loop through the random forest and concatenates the predictions of each individual tree on a new axis\n",
        "preds = np.stack([t.predict(X_valid) for t in m.estimators_])\n",
        "\n",
        "# dimensions of the predictions (rows, columns)\n",
        "preds.shape"
      ],
      "execution_count": 46,
      "outputs": [
        {
          "output_type": "execute_result",
          "data": {
            "text/plain": [
              "(10, 12000)"
            ]
          },
          "metadata": {
            "tags": []
          },
          "execution_count": 46
        }
      ]
    },
    {
      "metadata": {
        "id": "-HkSwtUpVMmH",
        "colab_type": "text"
      },
      "cell_type": "markdown",
      "source": [
        "There are 10 sets of predictions (trees) with 12,000 values (predictions), which corresponds to the size of the validation set.\n",
        "- Let's see what the **first prediction of each tree** does look like and how they **compare** with the actual value **when averaged out**."
      ]
    },
    {
      "metadata": {
        "id": "4UwzEQwvL-Kz",
        "colab_type": "code",
        "colab": {
          "autoexec": {
            "startup": false,
            "wait_interval": 0
          },
          "base_uri": "https://localhost:8080/",
          "height": 69
        },
        "outputId": "9b5c947d-5bd6-42cb-8714-f1e7c39644a9",
        "executionInfo": {
          "status": "ok",
          "timestamp": 1533319556366,
          "user_tz": -120,
          "elapsed": 468,
          "user": {
            "displayName": "Aitor Lopez Beltran",
            "photoUrl": "//lh4.googleusercontent.com/-kAX-3fy5FU0/AAAAAAAAAAI/AAAAAAAAAAU/ogUhdJGBADs/s50-c-k-no/photo.jpg",
            "userId": "101613793608418592140"
          }
        }
      },
      "cell_type": "code",
      "source": [
        "# print the first prediction for each of the ten trees [all tree rows, first prediction column]\n",
        "print(preds[:,0])\n",
        "\n",
        "# print the mean of the first ten predictions\n",
        "print(np.mean(preds[:,0]))\n",
        "\n",
        "# the first value of the validation set\n",
        "y_valid[0]"
      ],
      "execution_count": 47,
      "outputs": [
        {
          "output_type": "stream",
          "text": [
            "[ 9.4727  11.15625 10.81978  9.04782 11.15625  9.3501  11.15625 11.15625 11.15625  9.51044]\n",
            "10.398210424726772\n"
          ],
          "name": "stdout"
        },
        {
          "output_type": "execute_result",
          "data": {
            "text/plain": [
              "9.104979856318357"
            ]
          },
          "metadata": {
            "tags": []
          },
          "execution_count": 47
        }
      ]
    },
    {
      "metadata": {
        "id": "0R74WQz8YJY7",
        "colab_type": "text"
      },
      "cell_type": "markdown",
      "source": [
        "None of the individual trees have very good predictions but **the mean of them is actually good enough**."
      ]
    },
    {
      "metadata": {
        "id": "D6eKCDbqL-L7",
        "colab_type": "text"
      },
      "cell_type": "markdown",
      "source": [
        "### Out-of-bag (OOB) score"
      ]
    },
    {
      "metadata": {
        "id": "fFztVWhcL-L_",
        "colab_type": "text"
      },
      "cell_type": "markdown",
      "source": [
        "Out-of-bag (**OOB**) **error**  is another method of measuring the **prediction performance** of models utilizing **bagging**.\n",
        "- Out-of-bag samples are **samples not used** during training for **any given tree**.\n",
        "- For **every tree** in the forest there is **unseen data** available to make **new predictions** on.\n",
        "- For each **training sample**, calculates the **mean prediction error** using only the trees that were not trained on that sample.\n",
        "- **Evaluates** the model on the training set **without** needing a separate **validation set**.\n",
        "\n",
        "Sources: [1](https://en.wikipedia.org/wiki/Out-of-bag_error), [2](http://scikit-learn.org/stable/auto_examples/ensemble/plot_ensemble_oob.html), [3](https://stackoverflow.com/questions/18541923/what-is-out-of-bag-error-in-random-forests).\n",
        "\n",
        "This also has the benefit of allowing us to **assess** whether **our model generalizes** even if we **only have** a **small amount of data** so want to avoid separating some out to create a validation set.\n",
        "\n",
        "We can add one more parameter to our model, **`oob_score`**, to use out-of-bag samples to estimate the **R^2** on unseen data.\n",
        "- There is **minimum number of trees** to be used for any given data that are **necessary** to compute a reliable OOB error (or **sklearn warns** us).\n",
        "- We'll also update the `print_scores` function to **print** the  **OOB error** last."
      ]
    },
    {
      "metadata": {
        "id": "aJcqwdJlL-MF",
        "colab_type": "code",
        "colab": {
          "autoexec": {
            "startup": false,
            "wait_interval": 0
          },
          "base_uri": "https://localhost:8080/",
          "height": 159
        },
        "outputId": "545934b8-38a4-4a3d-91f5-704240897bc0",
        "executionInfo": {
          "status": "ok",
          "timestamp": 1533319566015,
          "user_tz": -120,
          "elapsed": 9274,
          "user": {
            "displayName": "Aitor Lopez Beltran",
            "photoUrl": "//lh4.googleusercontent.com/-kAX-3fy5FU0/AAAAAAAAAAI/AAAAAAAAAAU/ogUhdJGBADs/s50-c-k-no/photo.jpg",
            "userId": "101613793608418592140"
          }
        }
      },
      "cell_type": "code",
      "source": [
        "# appends the oob score to the list of scores if the model has the parameter\n",
        "def print_scores(m):\n",
        "    res = [rmse(m.predict(X_train), y_train), rmse(m.predict(X_valid), y_valid),\n",
        "                m.score(X_train, y_train), m.score(X_valid, y_valid)]\n",
        "    if hasattr(m, 'oob_score_'): res.append(m.oob_score_)\n",
        "    print(res)\n",
        "\n",
        "# Because we use too few trees we get a UserWarning and an unreliable oob score\n",
        "m = RandomForestRegressor(n_jobs=-1, oob_score=True)\n",
        "m.fit(X_train, y_train)\n",
        "\n",
        "print('10 trees:')\n",
        "# [RMSE of the training set, RMSE of the validation set, R Squared of the training set, R Squared of the validation set, OOB score]\n",
        "print_scores(m)\n",
        "\n",
        "# 30 trees\n",
        "m = RandomForestRegressor(n_estimators=30, n_jobs=-1, oob_score=True)\n",
        "m.fit(X_train, y_train)\n",
        "\n",
        "print('\\n30 trees:')\n",
        "# [RMSE of the training set, RMSE of the validation set, R Squared of the training set, R Squared of the validation set, OOB score]\n",
        "print_scores(m)"
      ],
      "execution_count": 48,
      "outputs": [
        {
          "output_type": "stream",
          "text": [
            "/usr/local/lib/python3.6/dist-packages/sklearn/ensemble/forest.py:724: UserWarning: Some inputs do not have OOB scores. This probably means too few trees were used to compute any reliable oob estimates.\n",
            "  warn(\"Some inputs do not have OOB scores. \"\n"
          ],
          "name": "stderr"
        },
        {
          "output_type": "stream",
          "text": [
            "10 trees:\n",
            "[0.11357318786461638, 0.4123216061481111, 0.9698948141160931, 0.6963871420619733, -1.5075611762871182]\n",
            "\n",
            "30 trees:\n",
            "[0.0989666559750044, 0.40745515878275357, 0.9771404607394432, 0.7035116620518651, 0.8390675653968274]\n"
          ],
          "name": "stdout"
        }
      ]
    },
    {
      "metadata": {
        "id": "Gln_bTbzl7kJ",
        "colab_type": "text"
      },
      "cell_type": "markdown",
      "source": [
        "The **OOB** is **better** than the **R Squared** of the validation set because the validation set is a **different time period** entirely, while the OOB is calculated on random samples of the same time period as the training set.\n",
        "- In this case the **validation set is much harder to predict** and the R Squared will consistently be lower than the OOB."
      ]
    },
    {
      "metadata": {
        "id": "LdoaqyNjL-Mg",
        "colab_type": "text"
      },
      "cell_type": "markdown",
      "source": [
        "## Hyperparameter tuning"
      ]
    },
    {
      "metadata": {
        "id": "M79_woz6L-Mj",
        "colab_type": "text"
      },
      "cell_type": "markdown",
      "source": [
        "### Subsampling"
      ]
    },
    {
      "metadata": {
        "id": "dYaY-ukKL-Mm",
        "colab_type": "text"
      },
      "cell_type": "markdown",
      "source": [
        "Earlier we used **subsampling** to speed up the analysis, which basically consist in **limiting** the total **amount of data** that our **model can access** so it **trains faster**. There is a **better way** to do it that is actually **also** one of the easiest ways to **avoid overfitting**.\n",
        "- Rather than use **one random subset** of the data for our **entire model** (and for all its trees), we'll use a **different random subset per tree**.\n",
        "- **Given enough trees**, and enough random subsets, the model will **eventually** be able to **train with** much of **all the available data**.\n",
        "- Each **individual tree** it'll be **just as fast** as if we were **using one subset** for all the trees, **like** we did **before**.\n",
        "\n",
        "We'll use a method from the **fastai library** , **`set_rf_samples`**, to do just that.\n",
        "- From the documentation: \"**changes Scikit learn's random forests** to give each tree a random sample of n random rows\".\n",
        "- It is **not compatible** with **OOB score** right now, so will simply do without it.\n",
        "- To turn off `set_rf_samples` to use random forest in the normal way, it's necessary to call **`reset_rf_samples`**.\n",
        "\n",
        "First we must **return** to using our **full dataset** so the **subsampling** is done on the **entire data**."
      ]
    },
    {
      "metadata": {
        "id": "sxq1qXRTL-Mo",
        "colab_type": "code",
        "colab": {
          "autoexec": {
            "startup": false,
            "wait_interval": 0
          }
        }
      },
      "cell_type": "code",
      "source": [
        "X, y, nas_dict = proc_df(df_raw, 'SalePrice')\n",
        "X_train, X_valid = split_vals(X, split_point)\n",
        "y_train, y_valid = split_vals(y, split_point)"
      ],
      "execution_count": 0,
      "outputs": []
    },
    {
      "metadata": {
        "id": "VCu2sX1WSNdP",
        "colab_type": "text"
      },
      "cell_type": "markdown",
      "source": [
        "We'll use the same subset size as before: **20,000** random samples, but this time will be a different subset for each tree."
      ]
    },
    {
      "metadata": {
        "id": "HiO9NQDlL-M3",
        "colab_type": "code",
        "colab": {
          "autoexec": {
            "startup": false,
            "wait_interval": 0
          }
        }
      },
      "cell_type": "code",
      "source": [
        "# import set_rf_samples\n",
        "from fastai.structured import set_rf_samples\n",
        "\n",
        "set_rf_samples(20000)"
      ],
      "execution_count": 0,
      "outputs": []
    },
    {
      "metadata": {
        "id": "10N2mWqsL-M8",
        "colab_type": "code",
        "colab": {
          "autoexec": {
            "startup": false,
            "wait_interval": 0
          },
          "base_uri": "https://localhost:8080/",
          "height": 69
        },
        "outputId": "8b3b53fa-e361-4e3f-fed5-c9357e060e09",
        "executionInfo": {
          "status": "ok",
          "timestamp": 1533319577577,
          "user_tz": -120,
          "elapsed": 9239,
          "user": {
            "displayName": "Aitor Lopez Beltran",
            "photoUrl": "//lh4.googleusercontent.com/-kAX-3fy5FU0/AAAAAAAAAAI/AAAAAAAAAAU/ogUhdJGBADs/s50-c-k-no/photo.jpg",
            "userId": "101613793608418592140"
          }
        }
      },
      "cell_type": "code",
      "source": [
        "# 10 trees\n",
        "m = RandomForestRegressor(n_jobs=-1)\n",
        "%time m.fit(X_train, y_train)\n",
        "print_scores(m)"
      ],
      "execution_count": 51,
      "outputs": [
        {
          "output_type": "stream",
          "text": [
            "CPU times: user 8.16 s, sys: 232 ms, total: 8.39 s\n",
            "Wall time: 4.96 s\n",
            "[0.24053776252482853, 0.27773852454853754, 0.8790791030949857, 0.8622409237105992]\n"
          ],
          "name": "stdout"
        }
      ]
    },
    {
      "metadata": {
        "id": "CigYuwBFL-NB",
        "colab_type": "text"
      },
      "cell_type": "markdown",
      "source": [
        "Since each additional tree allows the model to see more data, this approach can make **additional trees more useful without needing additional fine-tuning**."
      ]
    },
    {
      "metadata": {
        "id": "CEmUupvaL-NC",
        "colab_type": "code",
        "colab": {
          "autoexec": {
            "startup": false,
            "wait_interval": 0
          },
          "base_uri": "https://localhost:8080/",
          "height": 69
        },
        "outputId": "42a9d87f-2d63-42bd-d77f-cd92aeabb619",
        "executionInfo": {
          "status": "ok",
          "timestamp": 1533319599614,
          "user_tz": -120,
          "elapsed": 21964,
          "user": {
            "displayName": "Aitor Lopez Beltran",
            "photoUrl": "//lh4.googleusercontent.com/-kAX-3fy5FU0/AAAAAAAAAAI/AAAAAAAAAAU/ogUhdJGBADs/s50-c-k-no/photo.jpg",
            "userId": "101613793608418592140"
          }
        }
      },
      "cell_type": "code",
      "source": [
        "# 40 trees\n",
        "m = RandomForestRegressor(n_estimators=40, n_jobs=-1)\n",
        "%time m.fit(X_train, y_train)\n",
        "print_scores(m)"
      ],
      "execution_count": 52,
      "outputs": [
        {
          "output_type": "stream",
          "text": [
            "CPU times: user 28.3 s, sys: 110 ms, total: 28.4 s\n",
            "Wall time: 15.1 s\n",
            "[0.22755739960942428, 0.264524656380663, 0.8917777022284106, 0.8750373311884152]\n"
          ],
          "name": "stdout"
        }
      ]
    },
    {
      "metadata": {
        "id": "tHF6xcBYhBm4",
        "colab_type": "text"
      },
      "cell_type": "markdown",
      "source": [
        "### Number of trees"
      ]
    },
    {
      "metadata": {
        "id": "qqbRcPkjW9sw",
        "colab_type": "text"
      },
      "cell_type": "markdown",
      "source": [
        "We'll create a graphic to see what happens to the **R Squared** when using **1 tree up to 100 trees**.\n",
        "- We'll **store** the **predictions** of each tree in a **numpy array** like we did before for our base model.\n",
        "- We'll **loop** through the **predictions** of each tree to **plot the change** in **R Squared** as we add more trees."
      ]
    },
    {
      "metadata": {
        "id": "2pOPwCqUU56n",
        "colab_type": "code",
        "colab": {
          "autoexec": {
            "startup": false,
            "wait_interval": 0
          },
          "base_uri": "https://localhost:8080/",
          "height": 86
        },
        "outputId": "595acee7-1c24-4e0d-d694-0588f2d731af",
        "executionInfo": {
          "status": "ok",
          "timestamp": 1533319654752,
          "user_tz": -120,
          "elapsed": 55078,
          "user": {
            "displayName": "Aitor Lopez Beltran",
            "photoUrl": "//lh4.googleusercontent.com/-kAX-3fy5FU0/AAAAAAAAAAI/AAAAAAAAAAU/ogUhdJGBADs/s50-c-k-no/photo.jpg",
            "userId": "101613793608418592140"
          }
        }
      },
      "cell_type": "code",
      "source": [
        "# 100 trees\n",
        "m = RandomForestRegressor(n_estimators=100, n_jobs=-1)\n",
        "%time m.fit(X_train, y_train)\n",
        "print_scores(m)\n",
        "\n",
        "# use a list comprehension to loop through the random forest and concatenates the predictions of each individual tree on a new axis\n",
        "preds = np.stack([t.predict(X_valid) for t in m.estimators_])\n",
        "\n",
        "# dimensions of the predictions (rows, columns)\n",
        "preds.shape"
      ],
      "execution_count": 53,
      "outputs": [
        {
          "output_type": "stream",
          "text": [
            "CPU times: user 1min 14s, sys: 183 ms, total: 1min 14s\n",
            "Wall time: 38.5 s\n",
            "[0.22482420316613763, 0.25961372148628303, 0.8943618099152297, 0.8796341576734357]\n"
          ],
          "name": "stdout"
        },
        {
          "output_type": "execute_result",
          "data": {
            "text/plain": [
              "(100, 12000)"
            ]
          },
          "metadata": {
            "tags": []
          },
          "execution_count": 53
        }
      ]
    },
    {
      "metadata": {
        "id": "t9hAA3WoL-LB",
        "colab_type": "code",
        "colab": {
          "autoexec": {
            "startup": false,
            "wait_interval": 0
          },
          "base_uri": "https://localhost:8080/",
          "height": 347
        },
        "outputId": "439093f6-b248-4aff-dc6f-74226fb7701b",
        "executionInfo": {
          "status": "ok",
          "timestamp": 1533319655857,
          "user_tz": -120,
          "elapsed": 1015,
          "user": {
            "displayName": "Aitor Lopez Beltran",
            "photoUrl": "//lh4.googleusercontent.com/-kAX-3fy5FU0/AAAAAAAAAAI/AAAAAAAAAAU/ogUhdJGBADs/s50-c-k-no/photo.jpg",
            "userId": "101613793608418592140"
          }
        }
      },
      "cell_type": "code",
      "source": [
        "# import matplotlib\n",
        "import matplotlib.pyplot as plt\n",
        "\n",
        "# import metrics module\n",
        "from sklearn import metrics\n",
        "\n",
        "# plot the calculated r^2 of the true values and the predicted values up to [:i] trees (looping through a range from 1 to 100). \n",
        "plt.plot([metrics.r2_score(y_valid, np.mean(preds[:i+1], axis=0)) for i in range(100)]);"
      ],
      "execution_count": 54,
      "outputs": [
        {
          "output_type": "display_data",
          "data": {
            "image/png": "[encoded data removed]",
            "text/plain": [
              "<matplotlib.figure.Figure at 0x7f931440b4a8>"
            ]
          },
          "metadata": {
            "tags": []
          }
        }
      ]
    },
    {
      "metadata": {
        "id": "BD0bNVTLL-LO",
        "colab_type": "text"
      },
      "cell_type": "markdown",
      "source": [
        "The shape of this curve clearly shows that the **model improves** the **more trees** we use, but it also suggests that adding more trees is beneficial **up to a point**, because it **flattens out** the closer it gets to 100 trees.\n",
        "- There is **no lineal relationship** between number of trees and our evaluation metric score.\n",
        "- The **number of trees** we use can **vary wether** we are:\n",
        " - **developing the model**, we'll propably use less trees but do lots of iterations, or\n",
        " - **finishing the model**, in that case, we'll probably use as much trees as our processor can handle to fit the model with all the available data and using the best found parameters.\n",
        "- **Without** our **subsampling** approach, building **lots of trees** on **lots of data** can be computationally expensive and very **time comsuming**."
      ]
    },
    {
      "metadata": {
        "id": "-OeUiMs-L-NH",
        "colab_type": "text"
      },
      "cell_type": "markdown",
      "source": [
        "### Depth of the trees"
      ]
    },
    {
      "metadata": {
        "id": "77QAcMH2L-Ne",
        "colab_type": "text"
      },
      "cell_type": "markdown",
      "source": [
        "Another way to reduce over-fitting is to grow our trees **less deeply**.\n",
        "- We can do this with **`min_samples_leaf`** parameter, which requires some minimum number of rows in every leaf node (by default 1).\n",
        "- For each tree there will be less levels and **less decisions** being made so it will result in simpler models.\n",
        "- The predictions are made by **averaging more samples** in the leaf node.\n",
        "- We can expect the trees to be less powerful on its own but to **generalize better**."
      ]
    },
    {
      "metadata": {
        "id": "CFYJvZYAL-No",
        "colab_type": "text"
      },
      "cell_type": "markdown",
      "source": [
        "Possible good values to try:\n",
        "- 1, 3, 5, 10, 25, 100"
      ]
    },
    {
      "metadata": {
        "id": "kgSX7D3zL-NP",
        "colab_type": "code",
        "colab": {
          "autoexec": {
            "startup": false,
            "wait_interval": 0
          },
          "base_uri": "https://localhost:8080/",
          "height": 69
        },
        "outputId": "f603acf3-89e8-4247-90b5-9bfa65d64296",
        "executionInfo": {
          "status": "ok",
          "timestamp": 1533319679321,
          "user_tz": -120,
          "elapsed": 22900,
          "user": {
            "displayName": "Aitor Lopez Beltran",
            "photoUrl": "//lh4.googleusercontent.com/-kAX-3fy5FU0/AAAAAAAAAAI/AAAAAAAAAAU/ogUhdJGBADs/s50-c-k-no/photo.jpg",
            "userId": "101613793608418592140"
          }
        }
      },
      "cell_type": "code",
      "source": [
        "# baseline to compare to\n",
        "\n",
        "# 40 trees - 1 minimum samples per leaf (default)\n",
        "m = RandomForestRegressor(n_estimators=40, n_jobs=-1)\n",
        "%time m.fit(X_train, y_train)\n",
        "print_scores(m)"
      ],
      "execution_count": 55,
      "outputs": [
        {
          "output_type": "stream",
          "text": [
            "CPU times: user 29.6 s, sys: 122 ms, total: 29.8 s\n",
            "Wall time: 15.9 s\n",
            "[0.22668994748062743, 0.2615928731808179, 0.8926012195584211, 0.8777919569073176]\n"
          ],
          "name": "stdout"
        }
      ]
    },
    {
      "metadata": {
        "id": "heAnqe4lL-Ng",
        "colab_type": "code",
        "colab": {
          "autoexec": {
            "startup": false,
            "wait_interval": 0
          },
          "base_uri": "https://localhost:8080/",
          "height": 69
        },
        "outputId": "1864d7e7-be6d-4ed1-fd4d-1a98c85b3408",
        "executionInfo": {
          "status": "ok",
          "timestamp": 1533319700012,
          "user_tz": -120,
          "elapsed": 20614,
          "user": {
            "displayName": "Aitor Lopez Beltran",
            "photoUrl": "//lh4.googleusercontent.com/-kAX-3fy5FU0/AAAAAAAAAAI/AAAAAAAAAAU/ogUhdJGBADs/s50-c-k-no/photo.jpg",
            "userId": "101613793608418592140"
          }
        }
      },
      "cell_type": "code",
      "source": [
        "# 2 minimum samples per leaf\n",
        "m = RandomForestRegressor(n_estimators=40, min_samples_leaf=2, n_jobs=-1)\n",
        "%time m.fit(X_train, y_train)\n",
        "print_scores(m)"
      ],
      "execution_count": 56,
      "outputs": [
        {
          "output_type": "stream",
          "text": [
            "CPU times: user 26.3 s, sys: 115 ms, total: 26.4 s\n",
            "Wall time: 14.1 s\n",
            "[0.2289739627309157, 0.26165293803363254, 0.8904261234162655, 0.8777358296072532]\n"
          ],
          "name": "stdout"
        }
      ]
    },
    {
      "metadata": {
        "id": "fjdOhoE-s4-L",
        "colab_type": "text"
      },
      "cell_type": "markdown",
      "source": [
        "### Variance"
      ]
    },
    {
      "metadata": {
        "id": "4jgkqBBhL-Nl",
        "colab_type": "text"
      },
      "cell_type": "markdown",
      "source": [
        "Another way to reduce over-fitting is to increase the amount of **variation amongst the trees**.\n",
        "- We can do this by specifying **`max_features`**, which is the **number of features** to consider at **each split**.\n",
        "- This way not only randomly selects a **sample of rows** for each tree, but **also** randomly selects a **sample of columns** for each split.\n"
      ]
    },
    {
      "metadata": {
        "id": "b-DCKD8pL-Nm",
        "colab_type": "text"
      },
      "cell_type": "markdown",
      "source": [
        "Possible good values to try:\n",
        "- None: use all columns.\n",
        "- 0.5: use half of the columns\n",
        "- 'sqrt' (default): use the square root of total number of columns."
      ]
    },
    {
      "metadata": {
        "id": "YTBazX2SL-Nq",
        "colab_type": "code",
        "colab": {
          "autoexec": {
            "startup": false,
            "wait_interval": 0
          },
          "base_uri": "https://localhost:8080/",
          "height": 34
        },
        "outputId": "cb84913b-c6ec-4238-cd27-130e3b7744fb",
        "executionInfo": {
          "status": "ok",
          "timestamp": 1533319720719,
          "user_tz": -120,
          "elapsed": 20623,
          "user": {
            "displayName": "Aitor Lopez Beltran",
            "photoUrl": "//lh4.googleusercontent.com/-kAX-3fy5FU0/AAAAAAAAAAI/AAAAAAAAAAU/ogUhdJGBADs/s50-c-k-no/photo.jpg",
            "userId": "101613793608418592140"
          }
        }
      },
      "cell_type": "code",
      "source": [
        "# consider all columns per split\n",
        "m = RandomForestRegressor(n_estimators=40, min_samples_leaf=2, max_features=None, n_jobs=-1)\n",
        "m.fit(X_train, y_train)\n",
        "print_scores(m)"
      ],
      "execution_count": 57,
      "outputs": [
        {
          "output_type": "stream",
          "text": [
            "[0.22894548444083573, 0.26089241928195683, 0.8904533778914298, 0.8784455411916764]\n"
          ],
          "name": "stdout"
        }
      ]
    },
    {
      "metadata": {
        "id": "gdrwCu1ESycf",
        "colab_type": "text"
      },
      "cell_type": "markdown",
      "source": [
        "### Experimenting"
      ]
    },
    {
      "metadata": {
        "id": "Q4Plp4DRTDJh",
        "colab_type": "text"
      },
      "cell_type": "markdown",
      "source": [
        "You can revert to using a full bootstrap sample in order to experiment with these hyperparameters further and to see their full impact.\n",
        "- Just remember the models will **train much slower**.\n",
        "- For more information, you can check this post on stackoverflow: [Practical questions on tuning Random Forests](https://stats.stackexchange.com/questions/53240/practical-questions-on-tuning-random-forests)."
      ]
    },
    {
      "metadata": {
        "id": "71FFzJh6T32A",
        "colab_type": "code",
        "colab": {
          "autoexec": {
            "startup": false,
            "wait_interval": 0
          }
        }
      },
      "cell_type": "code",
      "source": [
        "# import reset_rf_samples\n",
        "from fastai.structured import reset_rf_samples\n",
        "\n",
        "reset_rf_samples()"
      ],
      "execution_count": 0,
      "outputs": []
    },
    {
      "metadata": {
        "id": "lLWMpvleTpo8",
        "colab_type": "code",
        "colab": {
          "autoexec": {
            "startup": false,
            "wait_interval": 0
          },
          "base_uri": "https://localhost:8080/",
          "height": 69
        },
        "outputId": "885097e4-26e8-4184-d107-a5345c8ade03",
        "executionInfo": {
          "status": "ok",
          "timestamp": 1533319888792,
          "user_tz": -120,
          "elapsed": 166975,
          "user": {
            "displayName": "Aitor Lopez Beltran",
            "photoUrl": "//lh4.googleusercontent.com/-kAX-3fy5FU0/AAAAAAAAAAI/AAAAAAAAAAU/ogUhdJGBADs/s50-c-k-no/photo.jpg",
            "userId": "101613793608418592140"
          }
        }
      },
      "cell_type": "code",
      "source": [
        "# 3 minimum samples per leaf\n",
        "m = RandomForestRegressor(n_estimators=40, min_samples_leaf=3, n_jobs=-1, oob_score=True)\n",
        "%time m.fit(X_train, y_train)\n",
        "print_scores(m)"
      ],
      "execution_count": 59,
      "outputs": [
        {
          "output_type": "stream",
          "text": [
            "CPU times: user 5min 8s, sys: 382 ms, total: 5min 8s\n",
            "Wall time: 2min 39s\n",
            "[0.11494012723145729, 0.23278629006077614, 0.9723892519408875, 0.9032250909276806, 0.9084255292742461]\n"
          ],
          "name": "stdout"
        }
      ]
    },
    {
      "metadata": {
        "id": "SQMP10PqTuIh",
        "colab_type": "code",
        "colab": {
          "autoexec": {
            "startup": false,
            "wait_interval": 0
          },
          "base_uri": "https://localhost:8080/",
          "height": 69
        },
        "outputId": "8a53c04a-b7c7-4c2f-bd54-e45afb706419",
        "executionInfo": {
          "status": "ok",
          "timestamp": 1533319977828,
          "user_tz": -120,
          "elapsed": 88936,
          "user": {
            "displayName": "Aitor Lopez Beltran",
            "photoUrl": "//lh4.googleusercontent.com/-kAX-3fy5FU0/AAAAAAAAAAI/AAAAAAAAAAU/ogUhdJGBADs/s50-c-k-no/photo.jpg",
            "userId": "101613793608418592140"
          }
        }
      },
      "cell_type": "code",
      "source": [
        "# half columns per split\n",
        "m = RandomForestRegressor(n_estimators=40, min_samples_leaf=3, max_features=0.5, n_jobs=-1, oob_score=True)\n",
        "%time m.fit(X_train, y_train)\n",
        "print_scores(m)"
      ],
      "execution_count": 60,
      "outputs": [
        {
          "output_type": "stream",
          "text": [
            "CPU times: user 2min 34s, sys: 334 ms, total: 2min 34s\n",
            "Wall time: 1min 21s\n",
            "[0.11910699600618097, 0.22803480187416636, 0.9703510464973758, 0.9071353900142711, 0.9117261940760485]\n"
          ],
          "name": "stdout"
        }
      ]
    }
  ]
}