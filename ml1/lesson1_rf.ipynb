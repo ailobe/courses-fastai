{
  "nbformat": 4,
  "nbformat_minor": 0,
  "metadata": {
    "colab": {
      "name": "lesson1-rf.ipynb",
      "version": "0.3.2",
      "views": {},
      "default_view": {},
      "provenance": [],
      "collapsed_sections": []
    },
    "kernelspec": {
      "display_name": "Python 3",
      "language": "python",
      "name": "python3"
    },
    "accelerator": "GPU"
  },
  "cells": [
    {
      "metadata": {
        "id": "eirndQVvL9_Q",
        "colab_type": "text"
      },
      "cell_type": "markdown",
      "source": [
        "# Machine Learning 1"
      ]
    },
    {
      "metadata": {
        "id": "YtZr67xsQ2YO",
        "colab_type": "text"
      },
      "cell_type": "markdown",
      "source": [
        "## About this course\n",
        "Some machine learning courses can leave you confused by the enormous range of techniques shown and can make it difficult to have a practical understanding of how to apply them.\n",
        "\n",
        "The good news is that modern machine learning can be distilled down to a couple of key techniques that are of very wide applicability. Recent studies have shown that the vast majority of datasets can be best modeled with just two methods:\n",
        "\n",
        "- **Ensembles of decision trees** (i.e. Random Forests and Gradient Boosting Machines), mainly for **structured data** (such as you might find in a database table at most companies)\n",
        "- **Multi-layered neural networks learnt with Stochastic Gradient Descent** (SGD) (i.e. shallow and/or deep learning), mainly for **unstructured data** (such as audio, vision, and natural language)\n",
        "\n",
        "### The lessons\n",
        "In this course we'll be learning about:\n",
        "- **Random Forests** \n",
        "- **Stochastic Gradient Descent**.\n",
        "- **Gradient Boosting** \n",
        "- **Deep Learning**\n",
        "\n",
        "### The dataset\n",
        "We will be teaching the course using the [Blue Book for Bulldozers Kaggle Competition](https://www.kaggle.com/c/bluebook-for-bulldozers): \n",
        "- \"The goal of the contest is to predict the sale price of a particular piece of heavy equiment at auction based on it's usage, equipment type, and configuration. The data is sourced from auction result postings and includes information on usage and equipment configurations.\"\n"
      ]
    },
    {
      "metadata": {
        "id": "MWR-ORFuW1fJ",
        "colab_type": "text"
      },
      "cell_type": "markdown",
      "source": [
        "# Google Colab\n",
        "The notebooks of this series are to be runned in Google Colab using the **free GPU**.\n",
        "\n",
        "Let's confirm that the GPU is enabled ([source](https://colab.research.google.com/notebooks/gpu.ipynb#scrollTo=3IEVK-KFxi5Z)). If not, simply select \"GPU\" in the Notebook **Runtime** Settings (**change runtime type**)."
      ]
    },
    {
      "metadata": {
        "id": "dz8uBZqIXrk2",
        "colab_type": "code",
        "colab": {
          "autoexec": {
            "startup": false,
            "wait_interval": 0
          }
        }
      },
      "cell_type": "code",
      "source": [
        "import tensorflow as tf\n",
        "device_name = tf.test.gpu_device_name()\n",
        "if device_name != '/device:GPU:0':\n",
        "  raise SystemError('GPU device not found')\n",
        "print('Found GPU at: {}'.format(device_name))"
      ],
      "execution_count": 0,
      "outputs": []
    },
    {
      "metadata": {
        "id": "rO7LCDczYPo9",
        "colab_type": "text"
      },
      "cell_type": "markdown",
      "source": [
        "The notebooks have been adapted to run on little GPU ram (**564MB**), because that is what is available using Colab where I live.\n",
        "\n",
        "To  check how much GPU ram you have available, use the code below ([source](https://stackoverflow.com/questions/48750199/google-colaboratory-misleading-information-about-its-gpu-only-5-ram-available)) and check for 'GPU RAM Free''. "
      ]
    },
    {
      "metadata": {
        "id": "67AE3WEYZIj-",
        "colab_type": "code",
        "colab": {
          "autoexec": {
            "startup": false,
            "wait_interval": 0
          }
        }
      },
      "cell_type": "code",
      "source": [
        "# memory footprint support libraries/code\n",
        "!ln -sf /opt/bin/nvidia-smi /usr/bin/nvidia-smi\n",
        "!pip install gputil\n",
        "!pip install psutil\n",
        "!pip install humanize\n",
        "import psutil\n",
        "import humanize\n",
        "import os\n",
        "import GPUtil as GPU\n",
        "GPUs = GPU.getGPUs()\n",
        "# XXX: only one GPU on Colab and isn’t guaranteed\n",
        "gpu = GPUs[0]\n",
        "def printm():\n",
        " process = psutil.Process(os.getpid())\n",
        " print(\"Gen RAM Free: \" + humanize.naturalsize( psutil.virtual_memory().available ), \" | Proc size: \" + humanize.naturalsize( process.memory_info().rss))\n",
        " print(\"GPU RAM Free: {0:.0f}MB | Used: {1:.0f}MB | Util {2:3.0f}% | Total {3:.0f}MB\".format(gpu.memoryFree, gpu.memoryUsed, gpu.memoryUtil*100, gpu.memoryTotal))\n",
        "printm()"
      ],
      "execution_count": 0,
      "outputs": []
    },
    {
      "metadata": {
        "id": "9Du69QZ8L-BJ",
        "colab_type": "text"
      },
      "cell_type": "markdown",
      "source": [
        "## Install fastai library"
      ]
    },
    {
      "metadata": {
        "id": "rNyDszRpSi9t",
        "colab_type": "code",
        "colab": {
          "autoexec": {
            "startup": false,
            "wait_interval": 0
          }
        }
      },
      "cell_type": "code",
      "source": [
        "!pip install git+https://github.com/fastai/fastai.git"
      ],
      "execution_count": 0,
      "outputs": []
    },
    {
      "metadata": {
        "id": "CY5ThNUDQxNp",
        "colab_type": "text"
      },
      "cell_type": "markdown",
      "source": [
        "# Lesson 1: Introduction to Random Forests"
      ]
    },
    {
      "metadata": {
        "id": "2NmNG3PwFmgR",
        "colab_type": "text"
      },
      "cell_type": "markdown",
      "source": [
        "It is recommended to [watch the lesson first](https://youtu.be/CzdWqFTmn0Y), then follow the notebook."
      ]
    },
    {
      "metadata": {
        "id": "jz0lZvVB4cdB",
        "colab_type": "text"
      },
      "cell_type": "markdown",
      "source": [
        "## Imports"
      ]
    },
    {
      "metadata": {
        "id": "lRBplxBp4kM7",
        "colab_type": "text"
      },
      "cell_type": "markdown",
      "source": [
        "I will be importing things **as I need them**, because I'm not that experienced and it **helps me to learn** where do things come from."
      ]
    },
    {
      "metadata": {
        "id": "rMIj6UD6L-CP",
        "colab_type": "text"
      },
      "cell_type": "markdown",
      "source": [
        "## The data"
      ]
    },
    {
      "metadata": {
        "id": "Rc6l_PkHeCot",
        "colab_type": "text"
      },
      "cell_type": "markdown",
      "source": [
        "For [this competition](https://www.kaggle.com/c/bluebook-for-bulldozers/data), you are **predicting the sale price of bulldozers sold at auctions**.\n",
        "\n",
        "The data for this competition is split into three parts:\n",
        "\n",
        "- **Train.csv** is the training set, which contains data through the end of 2011.\n",
        "- **Valid.csv** is the validation set, which contains data from January 1, 2012 - April 30, 2012 You make predictions on this set throughout the majority of the competition. Your score on this set is used to create the public leaderboard.\n",
        "- **Test.csv** is the test set, which won't be released until the last week of the competition. It contains data from May 1, 2012 - November 2012. Your score on the test set determines your final rank for the competition.\n",
        "\n",
        "The key fields are in train.csv are:\n",
        "\n",
        "- **SalesID**: the uniue identifier of the sale\n",
        "- **MachineID**: the unique identifier of a machine. A machine can be sold multiple times\n",
        "- **saleprice**: what the machine sold for at auction (only provided in train.csv)\n",
        "- **saledate**: the date of the sale"
      ]
    },
    {
      "metadata": {
        "id": "SwoAuGNbL-CU",
        "colab_type": "text"
      },
      "cell_type": "markdown",
      "source": [
        "### Importing the data"
      ]
    },
    {
      "metadata": {
        "id": "u7ow9cDtL-CZ",
        "colab_type": "text"
      },
      "cell_type": "markdown",
      "source": [
        "We'll be importing the data from a gitlab repository ([source](https://medium.com/@yuraist/how-to-upload-your-own-dataset-into-google-colab-e228727c87e9))."
      ]
    },
    {
      "metadata": {
        "id": "-N7CjcyndBie",
        "colab_type": "code",
        "colab": {
          "autoexec": {
            "startup": false,
            "wait_interval": 0
          }
        }
      },
      "cell_type": "code",
      "source": [
        "! git clone https://gitlab.com/ailobe/data.git"
      ],
      "execution_count": 0,
      "outputs": []
    },
    {
      "metadata": {
        "id": "h8-q_KVafSrR",
        "colab_type": "code",
        "colab": {
          "autoexec": {
            "startup": false,
            "wait_interval": 0
          }
        }
      },
      "cell_type": "code",
      "source": [
        "# list all the files in the current directory\n",
        "! ls"
      ],
      "execution_count": 0,
      "outputs": []
    },
    {
      "metadata": {
        "id": "S73YV3XHfGjj",
        "colab_type": "text"
      },
      "cell_type": "markdown",
      "source": [
        "### Exploring the data"
      ]
    },
    {
      "metadata": {
        "id": "78yfUkWxL-Cl",
        "colab_type": "code",
        "colab": {
          "autoexec": {
            "startup": false,
            "wait_interval": 0
          }
        }
      },
      "cell_type": "code",
      "source": [
        "# import pandas\n",
        "import pandas as pd\n",
        "\n",
        "# set the path to read Train.csv\n",
        "path = 'data/bulldozers/Train.csv'\n",
        "\n",
        "# read the data into a pandas DataFrame\n",
        "df_raw = pd.read_csv(path,\n",
        "                     low_memory=False, # use as much memory as necessary to figure out dtypes\n",
        "                     parse_dates=[\"saledate\"]) # read saledate column as datetime dtype"
      ],
      "execution_count": 0,
      "outputs": []
    },
    {
      "metadata": {
        "id": "dDjFACw-L-C3",
        "colab_type": "code",
        "colab": {
          "autoexec": {
            "startup": false,
            "wait_interval": 0
          }
        }
      },
      "cell_type": "code",
      "source": [
        "# dimensions (rows, columns)\n",
        "df_raw.shape"
      ],
      "execution_count": 0,
      "outputs": []
    },
    {
      "metadata": {
        "id": "0Z2qo1fGLPRZ",
        "colab_type": "text"
      },
      "cell_type": "markdown",
      "source": [
        "It's a **large dataset**."
      ]
    },
    {
      "metadata": {
        "id": "R3fHc3GTL-DG",
        "colab_type": "code",
        "colab": {
          "autoexec": {
            "startup": false,
            "wait_interval": 0
          }
        }
      },
      "cell_type": "code",
      "source": [
        "# print 5 first rows\n",
        "df_raw.head()"
      ],
      "execution_count": 0,
      "outputs": []
    },
    {
      "metadata": {
        "id": "YNXU7EECgLPG",
        "colab_type": "text"
      },
      "cell_type": "markdown",
      "source": [
        "Pandas switchs to **truncate view** when there are too many rows and columns, but we can change the display options if we want to see all of them."
      ]
    },
    {
      "metadata": {
        "id": "GbZAJkq3L-DU",
        "colab_type": "code",
        "colab": {
          "autoexec": {
            "startup": false,
            "wait_interval": 0
          }
        }
      },
      "cell_type": "code",
      "source": [
        "# create a function that displays up to a thousand rows and columns of a dataframe\n",
        "# pd.option_context(*args) is a context manager to temporarily set options in the `with` statement context\n",
        "def display_all(df):\n",
        "    with pd.option_context(\"display.max_rows\", 1000, \"display.max_columns\", 1000): \n",
        "        display(df)"
      ],
      "execution_count": 0,
      "outputs": []
    },
    {
      "metadata": {
        "id": "7dDQrDV9L-ED",
        "colab_type": "code",
        "colab": {
          "autoexec": {
            "startup": false,
            "wait_interval": 0
          }
        }
      },
      "cell_type": "code",
      "source": [
        "# show the tail (last 5 rows)\n",
        "# for readability, we use the .T attribute (equal to the .transpose() method) to transpose the df so we have to scroll down instead of sideways.\n",
        "display_all(df_raw.tail().T)"
      ],
      "execution_count": 0,
      "outputs": []
    },
    {
      "metadata": {
        "id": "CxYnT1eJL-EW",
        "colab_type": "code",
        "colab": {
          "autoexec": {
            "startup": false,
            "wait_interval": 0
          }
        }
      },
      "cell_type": "code",
      "source": [
        "# generate descriptive statistics of all columns (including object columns). View transposed for readability.\n",
        "display_all(df_raw.describe(include='all').T)"
      ],
      "execution_count": 0,
      "outputs": []
    },
    {
      "metadata": {
        "id": "zUl2lY7yL-FN",
        "colab_type": "text"
      },
      "cell_type": "markdown",
      "source": [
        "### Initial processing\n"
      ]
    },
    {
      "metadata": {
        "id": "roX-BueAL-Es",
        "colab_type": "text"
      },
      "cell_type": "markdown",
      "source": [
        "#### SalePrice"
      ]
    },
    {
      "metadata": {
        "id": "8tUsrZmHmW8q",
        "colab_type": "text"
      },
      "cell_type": "markdown",
      "source": [
        "- SalePrice is the **dependent variable**, the target.\n",
        "- Kaggle tells us that the evaluation metric for this competition is the **RMSLE** (root mean squared log error) between the actual and predicted auction prices.\n",
        "- Therefore we take the **log of the prices**, so that RMSE will give us what we need."
      ]
    },
    {
      "metadata": {
        "id": "0pcScd3GL-Ey",
        "colab_type": "code",
        "colab": {
          "autoexec": {
            "startup": false,
            "wait_interval": 0
          }
        }
      },
      "cell_type": "code",
      "source": [
        "#import numpy\n",
        "import numpy as np\n",
        "\n",
        "# replacing SalePrice column values with the calculated natural logarithm of SalePrice values.\n",
        "df_raw['SalePrice'] = np.log(df_raw.SalePrice)\n",
        "\n",
        "# show head of column\n",
        "df_raw.SalePrice.head()"
      ],
      "execution_count": 0,
      "outputs": []
    },
    {
      "metadata": {
        "id": "xrkzKRDUOl73",
        "colab_type": "text"
      },
      "cell_type": "markdown",
      "source": [
        "We need to **split** the **dependent variable** from the dataset.\n",
        "- Later on, we'll use a method from the **fastai library** , **`proc_df`**,  to do just that and more.\n",
        "- We show some alternative code below to illustrate the process."
      ]
    },
    {
      "metadata": {
        "id": "guxW0qdFOmhG",
        "colab_type": "code",
        "colab": {
          "autoexec": {
            "startup": false,
            "wait_interval": 0
          }
        }
      },
      "cell_type": "code",
      "source": [
        "# DataFrame with a column removed\n",
        "dataset = df_raw.drop('SalePrice', axis=1)\n",
        "\n",
        "# select a Series from the DataFrame\n",
        "dependent = df_raw.SalePrice"
      ],
      "execution_count": 0,
      "outputs": []
    },
    {
      "metadata": {
        "id": "s5YsRrPElvEJ",
        "colab_type": "text"
      },
      "cell_type": "markdown",
      "source": [
        "#### SaleDate"
      ]
    },
    {
      "metadata": {
        "id": "WX11fFC4n4S1",
        "colab_type": "text"
      },
      "cell_type": "markdown",
      "source": [
        "We already know that one of the features is a date and we've explicitly told pandas to read it as  **datetime dtype**."
      ]
    },
    {
      "metadata": {
        "id": "6ZmNXGMKnu_Y",
        "colab_type": "code",
        "colab": {
          "autoexec": {
            "startup": false,
            "wait_interval": 0
          }
        }
      },
      "cell_type": "code",
      "source": [
        "# prints first 5 rows of the column\n",
        "df_raw.saledate.head()"
      ],
      "execution_count": 0,
      "outputs": []
    },
    {
      "metadata": {
        "id": "E4SeBD0hm3EX",
        "colab_type": "text"
      },
      "cell_type": "markdown",
      "source": [
        " **What's in a date is one of the more important pieces of feaute engineering you can do** (i.e. Was it a holiday? Was it raining?).\n",
        "\n",
        "- We'll use a method from the **fastai library**, **`add_datepart`**, that extracts particular date fields from a complete datetime for the purpose of constructing categoricals. \n",
        "- You should always consider this **feature extraction** step when working with date-time dtypes. Without expanding your date-time into these additional fields, you can't capture any trend/cyclical behavior as a function of time at any of these granularities."
      ]
    },
    {
      "metadata": {
        "id": "0Zfk_RvsL-Ga",
        "colab_type": "code",
        "colab": {
          "autoexec": {
            "startup": false,
            "wait_interval": 0
          }
        }
      },
      "cell_type": "code",
      "source": [
        "# import add_datepart\n",
        "from fastai.structured import add_datepart\n",
        "\n",
        "add_datepart(df_raw, 'saledate')"
      ],
      "execution_count": 0,
      "outputs": []
    },
    {
      "metadata": {
        "id": "l5nBAir9o2Pm",
        "colab_type": "text"
      },
      "cell_type": "markdown",
      "source": [
        "We can check the **source code** of a function  by typing its name and **??** (before or after the name)."
      ]
    },
    {
      "metadata": {
        "id": "-_xnk_oPphEc",
        "colab_type": "code",
        "colab": {
          "autoexec": {
            "startup": false,
            "wait_interval": 0
          }
        }
      },
      "cell_type": "code",
      "source": [
        "add_datepart??"
      ],
      "execution_count": 0,
      "outputs": []
    },
    {
      "metadata": {
        "id": "p3EcJkwrpz16",
        "colab_type": "text"
      },
      "cell_type": "markdown",
      "source": [
        "So `add_datepart` converts a column of a DataFramefrom a **datetime64 to many columns containing the information from the date** (changes occur inplace)."
      ]
    },
    {
      "metadata": {
        "id": "tbVdJcflqwnB",
        "colab_type": "code",
        "colab": {
          "autoexec": {
            "startup": false,
            "wait_interval": 0
          }
        }
      },
      "cell_type": "code",
      "source": [
        "# column labels of the DataFrame.\n",
        "df_raw.columns"
      ],
      "execution_count": 0,
      "outputs": []
    },
    {
      "metadata": {
        "id": "P41PpXZFrTaR",
        "colab_type": "text"
      },
      "cell_type": "markdown",
      "source": [
        "There are a bunch of new columns. Let's take a look."
      ]
    },
    {
      "metadata": {
        "id": "Gf6jDjjnrtvY",
        "colab_type": "code",
        "colab": {
          "autoexec": {
            "startup": false,
            "wait_interval": 0
          }
        }
      },
      "cell_type": "code",
      "source": [
        "# acces the selected [rows, columns]. View transposed.\n",
        "df_raw.loc[:,['saleYear', 'saleMonth',\n",
        "       'saleWeek', 'saleDay', 'saleDayofweek', 'saleDayofyear',\n",
        "       'saleIs_month_end', 'saleIs_month_start', 'saleIs_quarter_end',\n",
        "       'saleIs_quarter_start', 'saleIs_year_end', 'saleIs_year_start',\n",
        "       'saleElapsed']].T"
      ],
      "execution_count": 0,
      "outputs": []
    },
    {
      "metadata": {
        "id": "L_TndW3R1npu",
        "colab_type": "text"
      },
      "cell_type": "markdown",
      "source": [
        "#### Categorical Data"
      ]
    },
    {
      "metadata": {
        "id": "czl3fxYemQEc",
        "colab_type": "text"
      },
      "cell_type": "markdown",
      "source": [
        "As in most cases when dealing with datasets, this dataset contains a mix of **continuous** and **categorical** variables.\n",
        "- We need all of them to be **numeric** so they can be used by the model.\n",
        "- We must make the necessary changes (**feature engineering**)."
      ]
    },
    {
      "metadata": {
        "id": "F9Jhp4e6mhmo",
        "colab_type": "code",
        "colab": {
          "autoexec": {
            "startup": false,
            "wait_interval": 0
          }
        }
      },
      "cell_type": "code",
      "source": [
        "# count dtypes in the dataframe\n",
        "df_raw.dtypes.value_counts()"
      ],
      "execution_count": 0,
      "outputs": []
    },
    {
      "metadata": {
        "id": "rYR8qDCw3rZ9",
        "colab_type": "text"
      },
      "cell_type": "markdown",
      "source": [
        "If we look at the numeric columns, we can se that **most of them** are not cotinuous but **categorical**.\n",
        "- Even though it's not ideal that they stay that way, **random forest** works fine with it so there is **no problem** (we'll learn why)."
      ]
    },
    {
      "metadata": {
        "id": "fv-PoSwe3sOS",
        "colab_type": "code",
        "colab": {
          "autoexec": {
            "startup": false,
            "wait_interval": 0
          }
        }
      },
      "cell_type": "code",
      "source": [
        "# select numerical columns\n",
        "df_raw.select_dtypes(['int64','float64']).head()"
      ],
      "execution_count": 0,
      "outputs": []
    },
    {
      "metadata": {
        "id": "fVQTlOuFL-Gq",
        "colab_type": "text"
      },
      "cell_type": "markdown",
      "source": [
        "Most of the **categorical variables are currently stored as strings** (objects).\n",
        "- Apart from being inefficient, it doesn't provide the **numeric coding** required for our model.\n",
        "\n",
        "- We'll use a method from the **fastai library** , **`train_cats`**,  to convert strings to pandas categories."
      ]
    },
    {
      "metadata": {
        "id": "hVGHnM34L-Gs",
        "colab_type": "code",
        "colab": {
          "autoexec": {
            "startup": false,
            "wait_interval": 0
          }
        }
      },
      "cell_type": "code",
      "source": [
        "# import train_cats\n",
        "from fastai.structured import train_cats\n",
        "\n",
        "\n",
        "train_cats(df_raw)"
      ],
      "execution_count": 0,
      "outputs": []
    },
    {
      "metadata": {
        "id": "ihgaiGHBvh29",
        "colab_type": "text"
      },
      "cell_type": "markdown",
      "source": [
        "We can again check the **source code** of the function for more information."
      ]
    },
    {
      "metadata": {
        "id": "YNKi5Y9RvpX3",
        "colab_type": "code",
        "colab": {
          "autoexec": {
            "startup": false,
            "wait_interval": 0
          }
        }
      },
      "cell_type": "code",
      "source": [
        "??train_cats"
      ],
      "execution_count": 0,
      "outputs": []
    },
    {
      "metadata": {
        "id": "ne3UOKcvwfv3",
        "colab_type": "code",
        "colab": {
          "autoexec": {
            "startup": false,
            "wait_interval": 0
          }
        }
      },
      "cell_type": "code",
      "source": [
        "# examine all the data types\n",
        "display_all(df_raw.dtypes)"
      ],
      "execution_count": 0,
      "outputs": []
    },
    {
      "metadata": {
        "id": "luxkAugFwoms",
        "colab_type": "text"
      },
      "cell_type": "markdown",
      "source": [
        "Indeed it has changed inplace all columns that contained **strings to category dtypes**.\n",
        "- It doesn't make the DataFrame look different but behind the scenes all string are encoded with **integers mapped to the strings**.\n",
        "- Let's look at UsageBand, our first category column."
      ]
    },
    {
      "metadata": {
        "id": "KL4WKoMWL-G0",
        "colab_type": "code",
        "colab": {
          "autoexec": {
            "startup": false,
            "wait_interval": 0
          }
        }
      },
      "cell_type": "code",
      "source": [
        "# categories of this categorical\n",
        "df_raw.UsageBand.cat.categories"
      ],
      "execution_count": 0,
      "outputs": []
    },
    {
      "metadata": {
        "id": "Px8-2ryz4sbl",
        "colab_type": "code",
        "colab": {
          "autoexec": {
            "startup": false,
            "wait_interval": 0
          }
        }
      },
      "cell_type": "code",
      "source": [
        "# encoded variables\n",
        "df_raw.UsageBand.cat.codes.head()"
      ],
      "execution_count": 0,
      "outputs": []
    },
    {
      "metadata": {
        "id": "-pHHmBjRL-Gy",
        "colab_type": "text"
      },
      "cell_type": "markdown",
      "source": [
        "We can **specify the order** to use for categorical variables if we wish:"
      ]
    },
    {
      "metadata": {
        "id": "ofI4CXPNL-HD",
        "colab_type": "code",
        "colab": {
          "autoexec": {
            "startup": false,
            "wait_interval": 0
          }
        }
      },
      "cell_type": "code",
      "source": [
        "# sets the categories to the specified new_categories, ordered in place.\n",
        "df_raw.UsageBand.cat.set_categories(['High', 'Medium', 'Low'], ordered=True, inplace=True)"
      ],
      "execution_count": 0,
      "outputs": []
    },
    {
      "metadata": {
        "id": "5Eb9YWOr6lM6",
        "colab_type": "text"
      },
      "cell_type": "markdown",
      "source": [
        "Finally, to fit this data to a random forest, we would need to **replace the text categories with their numeric codes**.\n",
        "- We'll use a method from the **fastai library** , **`proc_df`**,  to do just that and more.\n",
        "- We show some alternative code below to illustrate the process."
      ]
    },
    {
      "metadata": {
        "id": "TtwgUCDj6lqA",
        "colab_type": "code",
        "colab": {
          "autoexec": {
            "startup": false,
            "wait_interval": 0
          }
        }
      },
      "cell_type": "code",
      "source": [
        "# make a copy for demonstration purposes\n",
        "df_codes = df_raw.copy()\n",
        "\n",
        "# iterate through column name and column values and if column values are categories, replace them with their numeric code.\n",
        "for name, column in df_codes.items():\n",
        "  if column.dtype.name == 'category':\n",
        "    df_codes[name] = column.cat.codes\n",
        "    \n",
        "# count dtypes in the dataframe\n",
        "df_codes.dtypes.value_counts()"
      ],
      "execution_count": 0,
      "outputs": []
    },
    {
      "metadata": {
        "id": "J9aL9HJG9A6e",
        "colab_type": "text"
      },
      "cell_type": "markdown",
      "source": [
        "This is a **two step process** for being able to **fit categorical** variables to our model: first we convert **strings to categories**, then **categories to codes**/numbers.\n",
        "- The result is that all variables are recoded in **only one column** using different integers for different categories, which is **useful for** columns with **lots of possible values**. \n",
        "- An **alternative** to this would be to **get dummy variables** for the categorical variables, but it would resolve it by recoding all the variables in **different columns** with **zeroes** and **ones**."
      ]
    },
    {
      "metadata": {
        "id": "qs4hVbkO16-D",
        "colab_type": "text"
      },
      "cell_type": "markdown",
      "source": [
        "#### Missing Data"
      ]
    },
    {
      "metadata": {
        "id": "VkAfjYOYL-HV",
        "colab_type": "text"
      },
      "cell_type": "markdown",
      "source": [
        "Handling missing data is important as **many** machine learning **algorithms do not support** data with **missing values** ([source](https://machinelearningmastery.com/handle-missing-data-python/)).\n",
        "\n",
        "Typically, random forest methods/packages encourage **two ways** of handling missing values ([source](https://medium.com/airbnb-engineering/overcoming-missing-values-in-a-random-forest-classifier-7b1fc1fc03ba)): \n",
        "- **Drop data points** with missing values (not recommended)\n",
        "- **Fill** in missing values with the **median** (for numerical values)."
      ]
    },
    {
      "metadata": {
        "id": "JRGJMDO3L-HY",
        "colab_type": "code",
        "colab": {
          "autoexec": {
            "startup": false,
            "wait_interval": 0
          }
        }
      },
      "cell_type": "code",
      "source": [
        "# display all columns with the percentage of missing values (NaN)\n",
        "display_all(df_raw.isnull().sum().sort_index()/len(df_raw))"
      ],
      "execution_count": 0,
      "outputs": []
    },
    {
      "metadata": {
        "id": "hcuIZImOu-Dm",
        "colab_type": "text"
      },
      "cell_type": "markdown",
      "source": [
        "Pandas has handled all **missing values** in the **categories** automatically by encoding  them with a **minus one**."
      ]
    },
    {
      "metadata": {
        "id": "dzJjalRYIkim",
        "colab_type": "code",
        "colab": {
          "autoexec": {
            "startup": false,
            "wait_interval": 0
          }
        }
      },
      "cell_type": "code",
      "source": [
        "# categories of this categorical\n",
        "print(df_raw.Hydraulics.cat.categories)\n",
        "\n",
        "# encoded variables\n",
        "df_raw.Hydraulics.cat.codes.head(6)"
      ],
      "execution_count": 0,
      "outputs": []
    },
    {
      "metadata": {
        "id": "vP-jL8i-K0UH",
        "colab_type": "text"
      },
      "cell_type": "markdown",
      "source": [
        "For the **numerical data**, we need to **replace** the **missing values** with the **median** (also called median imputation).\n",
        "- We'll use a method from the **fastai library** , **`proc_df`**,  to do just that and more.\n",
        "- We show some alternative code below to illustrate the process."
      ]
    },
    {
      "metadata": {
        "id": "hPYcXGp4wAe9",
        "colab_type": "code",
        "colab": {
          "autoexec": {
            "startup": false,
            "wait_interval": 0
          }
        }
      },
      "cell_type": "code",
      "source": [
        "# select numerical columns\n",
        "num_col = df_raw.select_dtypes(include='number')\n",
        "\n",
        "# display numerical columns with the percentage of missing values (NaN)\n",
        "num_col.isnull().sum().sort_index()/len(df_raw)"
      ],
      "execution_count": 0,
      "outputs": []
    },
    {
      "metadata": {
        "id": "z0ltzl5gvG2B",
        "colab_type": "code",
        "colab": {
          "autoexec": {
            "startup": false,
            "wait_interval": 0
          }
        }
      },
      "cell_type": "code",
      "source": [
        "# make a copy for demonstration purposes\n",
        "df_imputed = df_raw.copy()\n",
        "\n",
        "# iterate through column name and column values and if column values are numerical, replace NA values with the column median.\n",
        "for name, column in df_imputed.items():\n",
        "  if column.dtype == np.number:\n",
        "    df_imputed[name] = df_imputed[name].fillna(column.median())\n",
        "\n",
        "# select numerical columns\n",
        "num_col = df_imputed.select_dtypes(include='number')\n",
        "\n",
        "# display numerical columns with the percentage of missing values (NaN)\n",
        "num_col.isnull().sum().sort_index()/len(df_raw)"
      ],
      "execution_count": 0,
      "outputs": []
    },
    {
      "metadata": {
        "id": "ddXP7U5AL-H1",
        "colab_type": "text"
      },
      "cell_type": "markdown",
      "source": [
        "## Pre-processing"
      ]
    },
    {
      "metadata": {
        "id": "IN2rX7vYL-ID",
        "colab_type": "text"
      },
      "cell_type": "markdown",
      "source": [
        "We'll use a method from the **fastai library** , **`proc_df`**,  to get the dataset ready for the random forest.\n",
        "- We'll **replace categories** with their numeric codes.\n",
        "- **Handle missing** continuous **values**.\n",
        "- **Split the dependent variable** into a separate variable."
      ]
    },
    {
      "metadata": {
        "id": "XUgqLRWVlxiA",
        "colab_type": "code",
        "colab": {
          "autoexec": {
            "startup": false,
            "wait_interval": 0
          }
        }
      },
      "cell_type": "code",
      "source": [
        "# import proc_df and the functions it depends on\n",
        "from fastai.structured import numericalize, fix_missing, proc_df\n",
        "\n",
        "X, y, nas_dict = proc_df(df_raw, 'SalePrice')"
      ],
      "execution_count": 0,
      "outputs": []
    },
    {
      "metadata": {
        "id": "zQdiXfhJ7lDE",
        "colab_type": "text"
      },
      "cell_type": "markdown",
      "source": [
        "For more information, we can again check the **source code**:"
      ]
    },
    {
      "metadata": {
        "id": "1dKCRo9m77BC",
        "colab_type": "code",
        "colab": {
          "autoexec": {
            "startup": false,
            "wait_interval": 0
          }
        }
      },
      "cell_type": "code",
      "source": [
        "??proc_df"
      ],
      "execution_count": 0,
      "outputs": []
    },
    {
      "metadata": {
        "id": "rgM2diC1JJN_",
        "colab_type": "text"
      },
      "cell_type": "markdown",
      "source": [
        "The method **`fix_missing`** has returned `nas_dict`, which is a dictionary with the name of the columns that had missing data.\n",
        "- From the function docstring: Fill missing data in a column of df with the median, and add a {name}_na column which specifies if the data was missing (boolean).\n",
        "- Our model will **not be using it** but we can check it out."
      ]
    },
    {
      "metadata": {
        "id": "Fo_un7fhL-IF",
        "colab_type": "code",
        "colab": {
          "autoexec": {
            "startup": false,
            "wait_interval": 0
          }
        }
      },
      "cell_type": "code",
      "source": [
        "nas_dict"
      ],
      "execution_count": 0,
      "outputs": []
    },
    {
      "metadata": {
        "id": "WD2wM04588Li",
        "colab_type": "text"
      },
      "cell_type": "markdown",
      "source": [
        "So we know the columns MachineHoursCurrentMeter' and 'auctioneerID' had missing values and according to the docstring, `fix_missing` has added **new columns** which specifies if the data was missing. Let's see.'"
      ]
    },
    {
      "metadata": {
        "id": "lgb74IyU-NEW",
        "colab_type": "code",
        "colab": {
          "autoexec": {
            "startup": false,
            "wait_interval": 0
          }
        }
      },
      "cell_type": "code",
      "source": [
        "# acces columns with names containing some strings\n",
        "X.loc[:, X.columns.str.contains('MachineHoursCurrentMeter|auctioneerID')].head()"
      ],
      "execution_count": 0,
      "outputs": []
    },
    {
      "metadata": {
        "id": "cX-C20IsL-IL",
        "colab_type": "text"
      },
      "cell_type": "markdown",
      "source": [
        "Anyhow, now the **dataset is ready** to be to be passed to a **random forest**."
      ]
    },
    {
      "metadata": {
        "id": "wOkD18dvL-Iu",
        "colab_type": "text"
      },
      "cell_type": "markdown",
      "source": [
        "# Lesson 2: Random Forests"
      ]
    },
    {
      "metadata": {
        "id": "E1v6UXfqGJnD",
        "colab_type": "text"
      },
      "cell_type": "markdown",
      "source": [
        "It is recommended to [watch the lesson first](https://youtu.be/blyXCk4sgEg), then follow the notebook.\n",
        "- If you start from this point, you need to run all the cells above by selecting \"**Run before**\" in the Notebook **Runtime** Settings."
      ]
    },
    {
      "metadata": {
        "id": "os0DnLiWHPzW",
        "colab_type": "text"
      },
      "cell_type": "markdown",
      "source": [
        "## Imports"
      ]
    },
    {
      "metadata": {
        "id": "lc0cORLVHUIW",
        "colab_type": "text"
      },
      "cell_type": "markdown",
      "source": [
        "I will be importing things **as I need them**, because I'm not that experienced and it **helps me to learn** where do things come from."
      ]
    },
    {
      "metadata": {
        "id": "ZrP8nrhoL-Iw",
        "colab_type": "text"
      },
      "cell_type": "markdown",
      "source": [
        "## Base model"
      ]
    },
    {
      "metadata": {
        "id": "HHmJluEUN4xA",
        "colab_type": "text"
      },
      "cell_type": "markdown",
      "source": [
        "### Validation set"
      ]
    },
    {
      "metadata": {
        "id": "RAqlKgo8IR5x",
        "colab_type": "text"
      },
      "cell_type": "markdown",
      "source": [
        "To **avoid  overfitting** , we'll split the dataset to have two **separate training and validation sets**.\n",
        "- Since we are trying to predict new prices, we should pick the **latest samples** from our train set.\n",
        "- We'll use the **same size as** the **Kaggle** validation set, so when we evaluate our model it gives us an estimation of how will it perform in the **public leaderboard**."
      ]
    },
    {
      "metadata": {
        "id": "Lpt-W9jE-_uy",
        "colab_type": "code",
        "colab": {
          "autoexec": {
            "startup": false,
            "wait_interval": 0
          }
        }
      },
      "cell_type": "code",
      "source": [
        "# set the path to read the Valid.csv\n",
        "path = 'data/bulldozers/Valid.csv'\n",
        "\n",
        "# dimensions of the dataframe (rows, columns)\n",
        "pd.read_csv(path).shape"
      ],
      "execution_count": 0,
      "outputs": []
    },
    {
      "metadata": {
        "id": "srvGkHmRCy1Z",
        "colab_type": "text"
      },
      "cell_type": "markdown",
      "source": [
        "The set Kaggle used for creating the public leaderboard has roughtly **12,000 samples**, so that is the size we'll use for our validation set."
      ]
    },
    {
      "metadata": {
        "id": "DhBgirfLL-Ih",
        "colab_type": "code",
        "colab": {
          "autoexec": {
            "startup": false,
            "wait_interval": 0
          }
        }
      },
      "cell_type": "code",
      "source": [
        "# create a function for splitting X and y into train and test sets of customizable sizes\n",
        "def split_vals(a,n): return a[:n].copy(), a[n:].copy()\n",
        "\n",
        "# validation set size: 12000.\n",
        "validation = 12000\n",
        "\n",
        "# split point: length of dataset minus validation set size.\n",
        "split_point = len(X)-validation\n",
        "\n",
        "# split X\n",
        "X_train, X_valid = split_vals(X, split_point)\n",
        "\n",
        "# split y\n",
        "y_train, y_valid = split_vals(y, split_point)\n",
        "\n",
        "# dimensions (row, columns) of X, y and X_valid\n",
        "X_train.shape, y_train.shape, X_valid.shape"
      ],
      "execution_count": 0,
      "outputs": []
    },
    {
      "metadata": {
        "id": "ZtjcuJ3Fh5Ih",
        "colab_type": "text"
      },
      "cell_type": "markdown",
      "source": [
        "### Model evaluation"
      ]
    },
    {
      "metadata": {
        "id": "kxrhqIS_L-Id",
        "colab_type": "text"
      },
      "cell_type": "markdown",
      "source": [
        "**RMSE**\n",
        "\n",
        "Remember the evaluation metric that Kaggle is going to use for this competition is the Root Mean Squared Log Error (**RMSLE**) between the actual and predicted auction prices.\n",
        "- Because we **already took the log** of the prices, we can use the Root Mean Squared Error (RMSE) instead.\n",
        "\n",
        "The **RMSE** is an evaluation metric that expresses the **average error of the model predictions** by comparing the predicted values with the actual known values.\n",
        "- The score can range from **0** (best score possible, never achieved in practice) to **∞**, so the **lower the score the better**.\n",
        "\n",
        "**R Squared**\n",
        "\n",
        "The coefficient of determination R^2 (**R squared**) is an evaluation metric for regression problems that essentially tells us **how good is our model** compared with **a model that just predicts the average** of the target (saleprice) all the time .\n",
        "- The **best** possible score is **1**.\n",
        "- The score of the **average** model is **0**.\n",
        "- A **negative** score means the model is even **worse** than simply predicting the average of the target."
      ]
    },
    {
      "metadata": {
        "id": "twcxynECL-I1",
        "colab_type": "code",
        "colab": {
          "autoexec": {
            "startup": false,
            "wait_interval": 0
          }
        }
      },
      "cell_type": "code",
      "source": [
        "# create a function that takes the RMSE\n",
        "def rmse(pred,known): return np.sqrt(((pred-known)**2).mean())\n",
        "\n",
        "# create a function that returns a list of 4 scores: the RMSE and the R Squared for each the training and the validation set\n",
        "def print_scores(model):\n",
        "    scores = [rmse(model.predict(X_train), y_train), rmse(model.predict(X_valid), y_valid),\n",
        "                model.score(X_train, y_train), model.score(X_valid, y_valid)]\n",
        "    print(scores)\n",
        "\n",
        "# import the class\n",
        "from sklearn.ensemble import RandomForestRegressor\n",
        "\n",
        "# instantiate the model \n",
        "rf = RandomForestRegressor(n_jobs=-1) # n_jobs is a performance parameter. -1 is to paralelize the computations across the number of CPU cores.\n",
        "\n",
        "# fit the model with data and calculate the running time\n",
        "%time rf.fit(X_train, y_train)\n",
        "\n",
        "# print a list of 4 scores:\n",
        "# [RMSE of the training set, RMSE of the validation set, R Squared of the training set, R Squared of the validation set]\n",
        "print_scores(rf)"
      ],
      "execution_count": 0,
      "outputs": []
    },
    {
      "metadata": {
        "id": "tcfRGgw4L-JI",
        "colab_type": "text"
      },
      "cell_type": "markdown",
      "source": [
        "These four scores allows us to evaluate the accuracy of our model.\n",
        "- An **R Squared** of the validation set in the **high-80's** tells us that our model is significantly **better** than simply **predicting the average** price.\n",
        "- The large difference of the **RMSLE** of the training (**0.09**) and the validation sets (**0.25**) tells us that we're **over-fitting badly**, because the average error of the model predictions are much greater when dealing with data it hasn't been trained with."
      ]
    },
    {
      "metadata": {
        "id": "Jog0gfn-L-JJ",
        "colab_type": "text"
      },
      "cell_type": "markdown",
      "source": [
        "## Speeding things up"
      ]
    },
    {
      "metadata": {
        "id": "58zIVvfkphM3",
        "colab_type": "text"
      },
      "cell_type": "markdown",
      "source": [
        "In order to make the model development process more **interactive**, we need to make sure that the model runs in a reasonable time to be able to **make some changes and see the results fast**.\n",
        "- We''ll use the paramater **`subset`** from **`proc_df`** that takes a random subset of the selected size from the dataframe.\n",
        "- We'll randomly sample **32,000** from the original 401,125 rows.\n",
        "- We'll use the **same validation set** as before.\n",
        "- To make sure our training set doesn't overlap with the dates of the validation set we'll **split again the subset** we've taken and **discard the last 12,000** rows."
      ]
    },
    {
      "metadata": {
        "id": "CiZnao-jL-JL",
        "colab_type": "code",
        "colab": {
          "autoexec": {
            "startup": false,
            "wait_interval": 0
          }
        }
      },
      "cell_type": "code",
      "source": [
        "# randomly sample 32000 thousand rows\n",
        "X_subset, y_subset, nas_dict = proc_df(df_raw, 'SalePrice', subset=32000)\n",
        "\n",
        "# split the train subset and discard the last 12000 rows: X_train [:20000], _ [20000:].\n",
        "X_train, _ = split_vals(X_subset, 20000)\n",
        "\n",
        "# split the target subset and discard the last 12000 rows: X_train [:20000], _ [20000:].\n",
        "y_train, _ = split_vals(y_subset, 20000)"
      ],
      "execution_count": 0,
      "outputs": []
    },
    {
      "metadata": {
        "id": "4oOB-dhCEMID",
        "colab_type": "text"
      },
      "cell_type": "markdown",
      "source": [
        "Now we can **train our model with 20,000 randomly chosen samples** from the total 401,125 rows and we can be sure that we're not cheating because the validation set is a different set entirely."
      ]
    },
    {
      "metadata": {
        "id": "_Vo1Fd45L-JV",
        "colab_type": "code",
        "colab": {
          "autoexec": {
            "startup": false,
            "wait_interval": 0
          }
        }
      },
      "cell_type": "code",
      "source": [
        "m = RandomForestRegressor(n_jobs=-1)\n",
        "%time m.fit(X_train, y_train)\n",
        "print_scores(m)"
      ],
      "execution_count": 0,
      "outputs": []
    },
    {
      "metadata": {
        "id": "vlGakn-EFdY4",
        "colab_type": "text"
      },
      "cell_type": "markdown",
      "source": [
        "Well, **that was fast**."
      ]
    },
    {
      "metadata": {
        "id": "6env1c2mL-Jb",
        "colab_type": "text"
      },
      "cell_type": "markdown",
      "source": [
        "## Single tree"
      ]
    },
    {
      "metadata": {
        "id": "MSU2l2OtHK1K",
        "colab_type": "text"
      },
      "cell_type": "markdown",
      "source": [
        "To **understand** why we were overfitting, we'll create a **random forest** so simple that we can actually **take a look inside**.\n",
        "- With the parameter `n_estimators`, we'll create a forest with **only one tree**.\n",
        "- With the parameter `max_depth`, we'll create a forest which trees **split only three times**.\n",
        "- With the parameter `bootstrap`, we'll **avoid using randomly generated training sets**."
      ]
    },
    {
      "metadata": {
        "id": "3UK_-aTAL-Jc",
        "colab_type": "code",
        "colab": {
          "autoexec": {
            "startup": false,
            "wait_interval": 0
          }
        }
      },
      "cell_type": "code",
      "source": [
        "m = RandomForestRegressor(n_estimators=1, max_depth=3, bootstrap=False, n_jobs=-1)\n",
        "m.fit(X_train, y_train)\n",
        "print_scores(m)"
      ],
      "execution_count": 0,
      "outputs": []
    },
    {
      "metadata": {
        "id": "4pr0AExeL-fN",
        "colab_type": "text"
      },
      "cell_type": "markdown",
      "source": [
        "Now we'll **take a look inside** this random forest simplified to a **single small deterministic tree**.\n",
        "- We'll use a method fromt the **fastai library**, **`draw_tree`**, to draw a representation of the random forest in IPython.\n",
        "- This method uses the function **`export_graphviz`**, which generates a GraphViz representation of the decision tree.\n",
        "- To use the export_graphviz exporter we need to **first install GraphViz**."
      ]
    },
    {
      "metadata": {
        "id": "R3G5AavOOoGF",
        "colab_type": "code",
        "colab": {
          "autoexec": {
            "startup": false,
            "wait_interval": 0
          }
        }
      },
      "cell_type": "code",
      "source": [
        "# install GraphViz\n",
        "!apt-get -qq install -y graphviz && pip install -q pydot"
      ],
      "execution_count": 0,
      "outputs": []
    },
    {
      "metadata": {
        "id": "ruJOs9BuL-Jm",
        "colab_type": "code",
        "colab": {
          "autoexec": {
            "startup": false,
            "wait_interval": 0
          }
        }
      },
      "cell_type": "code",
      "source": [
        "# import the export_graphviz exporter \n",
        "from sklearn.tree import export_graphviz\n",
        "\n",
        "# import draw_tree method\n",
        "from fastai.structured import draw_tree\n",
        "\n",
        "# draw a random forest\n",
        "draw_tree(m.estimators_[0], X_train, precision=3)"
      ],
      "execution_count": 0,
      "outputs": []
    },
    {
      "metadata": {
        "id": "S28ub8s4L-Ju",
        "colab_type": "text"
      },
      "cell_type": "markdown",
      "source": [
        "A tree consist of a **sequence of binary decisions** or splits.\n",
        "- Each step **partitions the data** into two subsets.\n",
        "- Each split point is a decision to split the data on a **particular variable** (feature) and in a **particular location** (value).\n",
        "- **All possible split points are evaluated** (all features and values).\n",
        "- The very **best split point is chosen** each time trying to **minimize the error** (for regression).\n",
        "- The error is calculated by **comparing the predicted values with the known values** of the subsets of a particular split point.\n",
        "\n",
        "Each box in the graphic that represents a split point consists of:\n",
        "- A **variable** and a **value** to split on.\n",
        "- **MSE** quantifies the error, the lower the better.\n",
        "- **Samples** is the size (rows) of the subset.\n",
        "- The **average** of the **target** value (log of price) of the subset.\n",
        "\n",
        "Sources: [1](https://machinelearningmastery.com/classification-and-regression-trees-for-machine-learning/), [2](https://infocenter.informationbuilders.com/wf80/index.jsp?topic=%2Fpubdocs%2FRStat16%2Fsource%2Ftopic47.htm).\n",
        "\n",
        "Looking at our little tree, we can see that we **start with 20,000 rows** (the root node),  **split only three times** (trying to minimze the MSE) and end up with **many subsets of different sizes** (leaf nodes), which are the result of the last split.\n",
        "\n",
        "If we create the largest (**deepest**) tree possible, it'll **keep splitting until each leaf node has only one sample**. Such tree would learn all there is to learn about the training data but would be a model that would **not be able to generalize a pattern** from it. And that is exactly what overfitting is: to **learn the noise instead of the signal**. Let's see it in practice."
      ]
    },
    {
      "metadata": {
        "id": "6J1Z9XcqL-Jw",
        "colab_type": "code",
        "colab": {
          "autoexec": {
            "startup": false,
            "wait_interval": 0
          }
        }
      },
      "cell_type": "code",
      "source": [
        "# remove the max_depth parameter (by default to None) so the nodes expanded until they can't do it anymore. \n",
        "m = RandomForestRegressor(n_estimators=1, bootstrap=False, n_jobs=-1)\n",
        "\n",
        "m.fit(X_train, y_train)\n",
        "\n",
        "# [RMSE of the training set, RMSE of the validation set, R Squared of the training set, R Squared of the validation set]\n",
        "print_scores(m)"
      ],
      "execution_count": 0,
      "outputs": []
    },
    {
      "metadata": {
        "id": "5e3Pqp8QL-KE",
        "colab_type": "text"
      },
      "cell_type": "markdown",
      "source": [
        "The scores are **great in the training set**: the RMSE is 4.3511679e-17 (that is a 0 followed by a lot of zeroes) and the R Squared is 1 (the best possible score). This is because we can in fact **predict everything** from the training data.\n",
        "\n",
        "Our interest, of course, is to do **better in the validation set** to get more generalizable results and for that we need to use **multiple trees** and some kind of **model averaging approach** ."
      ]
    },
    {
      "metadata": {
        "id": "bmp7EGtVL-KG",
        "colab_type": "text"
      },
      "cell_type": "markdown",
      "source": [
        "## Bagging"
      ]
    },
    {
      "metadata": {
        "id": "l5-fk5y1L-KI",
        "colab_type": "text"
      },
      "cell_type": "markdown",
      "source": [
        "### Intro to bagging"
      ]
    },
    {
      "metadata": {
        "id": "smV3Kj2RL-KL",
        "colab_type": "text"
      },
      "cell_type": "markdown",
      "source": [
        "Bootstrap aggregating (**Bagging**) is a way of doing repeated statistical analyses on the \n",
        "same data and combining them to form a single result.\n",
        "- The predictions that are combined are all different thanks to the use of **resampling** (bootsrap samples).\n",
        "- **Bootstraping** is a way of generating random non-repeated samples from a dataset.\n",
        "\n",
        "A **random forest** is simply a way of **bagging trees**.\n",
        "- It combines the **unique predictions** of different trees.\n",
        "- Each tree is trained on a **randomly generated training set**.\n",
        "- It grows **deep trees** that overfit their individual non-repeated subsets.\n",
        "- The prediction **error** of the trees are **random** so the **average of the predictions doesn't overfit**.\n",
        "\n",
        "Sources: [1](https://onlinecourses.science.psu.edu/stat857/node/181/), [2](https://machinelearningmastery.com/bagging-and-random-forest-ensemble-algorithms-for-machine-learning/).\n",
        "\n",
        "To learn about bagging in random forests, let's look at our **base model** again."
      ]
    },
    {
      "metadata": {
        "id": "r3ufPXDpL-KO",
        "colab_type": "code",
        "colab": {
          "autoexec": {
            "startup": false,
            "wait_interval": 0
          }
        }
      },
      "cell_type": "code",
      "source": [
        "# the number of trees in the forest by default is 10.\n",
        "m = RandomForestRegressor(n_jobs=-1)\n",
        "\n",
        "m.fit(X_train, y_train)\n",
        "\n",
        "# [RMSE of the training set, RMSE of the validation set, R Squared of the training set, R Squared of the validation set]\n",
        "print_scores(m)"
      ],
      "execution_count": 0,
      "outputs": []
    },
    {
      "metadata": {
        "id": "y5OjqWMSL-KW",
        "colab_type": "text"
      },
      "cell_type": "markdown",
      "source": [
        "We'll grab the **predictions for each individual tree**, and look at one example."
      ]
    },
    {
      "metadata": {
        "id": "3jC3BG75L-Ki",
        "colab_type": "code",
        "colab": {
          "autoexec": {
            "startup": false,
            "wait_interval": 0
          }
        }
      },
      "cell_type": "code",
      "source": [
        "# use a list comprehension to loop through the random forest and concatenates the predictions of each individual tree on a new axis\n",
        "preds = np.stack([t.predict(X_valid) for t in m.estimators_])\n",
        "\n",
        "# dimensions of the predictions (rows, columns)\n",
        "preds.shape"
      ],
      "execution_count": 0,
      "outputs": []
    },
    {
      "metadata": {
        "id": "-HkSwtUpVMmH",
        "colab_type": "text"
      },
      "cell_type": "markdown",
      "source": [
        "There are 10 sets of predictions (trees) with 12,000 values (predictions), which corresponds to the size of the validation set.\n",
        "- Let's see what the **first prediction of each tree** does look like and how they **compare** with the actual value **when averaged out**."
      ]
    },
    {
      "metadata": {
        "id": "4UwzEQwvL-Kz",
        "colab_type": "code",
        "colab": {
          "autoexec": {
            "startup": false,
            "wait_interval": 0
          }
        }
      },
      "cell_type": "code",
      "source": [
        "# print the first prediction for each of the ten trees [all tree rows, first prediction column]\n",
        "print(preds[:,0])\n",
        "\n",
        "# print the mean of the first ten predictions\n",
        "print(np.mean(preds[:,0]))\n",
        "\n",
        "# the first value of the validation set\n",
        "y_valid[0]"
      ],
      "execution_count": 0,
      "outputs": []
    },
    {
      "metadata": {
        "id": "0R74WQz8YJY7",
        "colab_type": "text"
      },
      "cell_type": "markdown",
      "source": [
        "None of the individual trees have very good predictions but **the mean of them is actually good enough**."
      ]
    },
    {
      "metadata": {
        "id": "D6eKCDbqL-L7",
        "colab_type": "text"
      },
      "cell_type": "markdown",
      "source": [
        "### Out-of-bag (OOB) score"
      ]
    },
    {
      "metadata": {
        "id": "fFztVWhcL-L_",
        "colab_type": "text"
      },
      "cell_type": "markdown",
      "source": [
        "Out-of-bag (**OOB**) **error**  is another method of measuring the **prediction performance** of models utilizing **bagging**.\n",
        "- Out-of-bag samples are **samples not used** during training for **any given tree**.\n",
        "- For **every tree** in the forest there is **unseen data** available to make **new predictions** on.\n",
        "- For each **training sample**, calculates the **mean prediction error** using only the trees that were not trained on that sample.\n",
        "- **Evaluates** the model on the training set **without** needing a separate **validation set**.\n",
        "\n",
        "Sources: [1](https://en.wikipedia.org/wiki/Out-of-bag_error), [2](http://scikit-learn.org/stable/auto_examples/ensemble/plot_ensemble_oob.html), [3](https://stackoverflow.com/questions/18541923/what-is-out-of-bag-error-in-random-forests).\n",
        "\n",
        "This also has the benefit of allowing us to **assess** whether **our model generalizes** even if we **only have** a **small amount of data** so want to avoid separating some out to create a validation set.\n",
        "\n",
        "We can add one more parameter to our model, **`oob_score`**, to use out-of-bag samples to estimate the **R^2** on unseen data.\n",
        "- There is **minimum number of trees** to be used for any given data that are **necessary** to compute a reliable OOB error (or **sklearn warns** us).\n",
        "- We'll also update the `print_scores` function to **print** the  **OOB error** last."
      ]
    },
    {
      "metadata": {
        "id": "aJcqwdJlL-MF",
        "colab_type": "code",
        "colab": {
          "autoexec": {
            "startup": false,
            "wait_interval": 0
          }
        }
      },
      "cell_type": "code",
      "source": [
        "# appends the oob score to the list of scores if the model has the parameter\n",
        "def print_scores(m):\n",
        "    res = [rmse(m.predict(X_train), y_train), rmse(m.predict(X_valid), y_valid),\n",
        "                m.score(X_train, y_train), m.score(X_valid, y_valid)]\n",
        "    if hasattr(m, 'oob_score_'): res.append(m.oob_score_)\n",
        "    print(res)\n",
        "\n",
        "# Because we use too few trees we get a UserWarning and an unreliable oob score\n",
        "m = RandomForestRegressor(n_jobs=-1, oob_score=True)\n",
        "m.fit(X_train, y_train)\n",
        "\n",
        "print('10 trees:')\n",
        "# [RMSE of the training set, RMSE of the validation set, R Squared of the training set, R Squared of the validation set, OOB score]\n",
        "print_scores(m)\n",
        "\n",
        "# 30 trees\n",
        "m = RandomForestRegressor(n_estimators=30, n_jobs=-1, oob_score=True)\n",
        "m.fit(X_train, y_train)\n",
        "\n",
        "print('\\n30 trees:')\n",
        "# [RMSE of the training set, RMSE of the validation set, R Squared of the training set, R Squared of the validation set, OOB score]\n",
        "print_scores(m)"
      ],
      "execution_count": 0,
      "outputs": []
    },
    {
      "metadata": {
        "id": "Gln_bTbzl7kJ",
        "colab_type": "text"
      },
      "cell_type": "markdown",
      "source": [
        "The **OOB** is **better** than the **R Squared** of the validation set because the validation set is a **different time period** entirely, while the OOB is calculated on random samples of the same time period as the training set.\n",
        "- In this case the **validation set is much harder to predict** and the R Squared will consistently be lower than the OOB."
      ]
    },
    {
      "metadata": {
        "id": "LdoaqyNjL-Mg",
        "colab_type": "text"
      },
      "cell_type": "markdown",
      "source": [
        "## Hyperparameter tuning"
      ]
    },
    {
      "metadata": {
        "id": "M79_woz6L-Mj",
        "colab_type": "text"
      },
      "cell_type": "markdown",
      "source": [
        "### Subsampling"
      ]
    },
    {
      "metadata": {
        "id": "dYaY-ukKL-Mm",
        "colab_type": "text"
      },
      "cell_type": "markdown",
      "source": [
        "Earlier we used **subsampling** to speed up the analysis, which basically consist in **limiting** the total **amount of data** that our **model can access** so it **trains faster**. There is a **better way** to do it that is actually **also** one of the easiest ways to **avoid overfitting**.\n",
        "- Rather than use **one random subset** of the data for our **entire model** (and for all its trees), we'll use a **different random subset per tree**.\n",
        "- **Given enough trees**, and enough random subsets, the model will **eventually** be able to **train with** much of **all the available data**.\n",
        "- Each **individual tree** it'll be **just as fast** as if we were **using one subset** for all the trees, **like** we did **before**.\n",
        "\n",
        "We'll use a method from the **fastai library** , **`set_rf_samples`**, to do just that.\n",
        "- From the documentation: \"**changes Scikit learn's random forests** to give each tree a random sample of n random rows\".\n",
        "- It is **not compatible** with **OOB score** right now, so will simply do without it.\n",
        "- To turn off `set_rf_samples` to use random forest in the normal way, it's necessary to call **`reset_rf_samples`**.\n",
        "\n",
        "First we must **return** to using our **full dataset** so the **subsampling** is done on the **entire data**."
      ]
    },
    {
      "metadata": {
        "id": "sxq1qXRTL-Mo",
        "colab_type": "code",
        "colab": {
          "autoexec": {
            "startup": false,
            "wait_interval": 0
          }
        }
      },
      "cell_type": "code",
      "source": [
        "X, y, nas_dict = proc_df(df_raw, 'SalePrice')\n",
        "X_train, X_valid = split_vals(X, split_point)\n",
        "y_train, y_valid = split_vals(y, split_point)"
      ],
      "execution_count": 0,
      "outputs": []
    },
    {
      "metadata": {
        "id": "VCu2sX1WSNdP",
        "colab_type": "text"
      },
      "cell_type": "markdown",
      "source": [
        "We'll use the same subset size as before: **20,000** random samples, but this time will be a different subset for each tree."
      ]
    },
    {
      "metadata": {
        "id": "HiO9NQDlL-M3",
        "colab_type": "code",
        "colab": {
          "autoexec": {
            "startup": false,
            "wait_interval": 0
          }
        }
      },
      "cell_type": "code",
      "source": [
        "# import set_rf_samples\n",
        "from fastai.structured import set_rf_samples\n",
        "\n",
        "set_rf_samples(20000)"
      ],
      "execution_count": 0,
      "outputs": []
    },
    {
      "metadata": {
        "id": "10N2mWqsL-M8",
        "colab_type": "code",
        "colab": {
          "autoexec": {
            "startup": false,
            "wait_interval": 0
          }
        }
      },
      "cell_type": "code",
      "source": [
        "# 10 trees\n",
        "m = RandomForestRegressor(n_jobs=-1)\n",
        "%time m.fit(X_train, y_train)\n",
        "print_scores(m)"
      ],
      "execution_count": 0,
      "outputs": []
    },
    {
      "metadata": {
        "id": "CigYuwBFL-NB",
        "colab_type": "text"
      },
      "cell_type": "markdown",
      "source": [
        "Since each additional tree allows the model to see more data, this approach can make **additional trees more useful without needing additional fine-tuning**."
      ]
    },
    {
      "metadata": {
        "id": "CEmUupvaL-NC",
        "colab_type": "code",
        "colab": {
          "autoexec": {
            "startup": false,
            "wait_interval": 0
          }
        }
      },
      "cell_type": "code",
      "source": [
        "# 40 trees\n",
        "m = RandomForestRegressor(n_estimators=40, n_jobs=-1)\n",
        "%time m.fit(X_train, y_train)\n",
        "print_scores(m)"
      ],
      "execution_count": 0,
      "outputs": []
    },
    {
      "metadata": {
        "id": "tHF6xcBYhBm4",
        "colab_type": "text"
      },
      "cell_type": "markdown",
      "source": [
        "### Number of trees"
      ]
    },
    {
      "metadata": {
        "id": "qqbRcPkjW9sw",
        "colab_type": "text"
      },
      "cell_type": "markdown",
      "source": [
        "We'll create a graphic to see what happens to the **R Squared** when using **1 tree up to 100 trees**.\n",
        "- We'll **store** the **predictions** of each tree in a **numpy array** like we did before for our base model.\n",
        "- We'll **loop** through the **predictions** of each tree to **plot the change** in **R Squared** as we add more trees."
      ]
    },
    {
      "metadata": {
        "id": "2pOPwCqUU56n",
        "colab_type": "code",
        "colab": {
          "autoexec": {
            "startup": false,
            "wait_interval": 0
          }
        }
      },
      "cell_type": "code",
      "source": [
        "# 100 trees\n",
        "m = RandomForestRegressor(n_estimators=100, n_jobs=-1)\n",
        "%time m.fit(X_train, y_train)\n",
        "print_scores(m)\n",
        "\n",
        "# use a list comprehension to loop through the random forest and concatenates the predictions of each individual tree on a new axis\n",
        "preds = np.stack([t.predict(X_valid) for t in m.estimators_])\n",
        "\n",
        "# dimensions of the predictions (rows, columns)\n",
        "preds.shape"
      ],
      "execution_count": 0,
      "outputs": []
    },
    {
      "metadata": {
        "id": "t9hAA3WoL-LB",
        "colab_type": "code",
        "colab": {
          "autoexec": {
            "startup": false,
            "wait_interval": 0
          }
        }
      },
      "cell_type": "code",
      "source": [
        "# import matplotlib\n",
        "import matplotlib.pyplot as plt\n",
        "\n",
        "# import metrics module\n",
        "from sklearn import metrics\n",
        "\n",
        "# plot the calculated r^2 of the true values and the predicted values up to [:i] trees (looping through a range from 1 to 100). \n",
        "plt.plot([metrics.r2_score(y_valid, np.mean(preds[:i+1], axis=0)) for i in range(100)]);"
      ],
      "execution_count": 0,
      "outputs": []
    },
    {
      "metadata": {
        "id": "BD0bNVTLL-LO",
        "colab_type": "text"
      },
      "cell_type": "markdown",
      "source": [
        "The shape of this curve clearly shows that the **model improves** the **more trees** we use, but it also suggests that adding more trees is beneficial **up to a point**, because it **flattens out** the closer it gets to 100 trees.\n",
        "- There is **no lineal relationship** between number of trees and our evaluation metric score.\n",
        "- The **number of trees** we use can **vary wether** we are:\n",
        " - **developing the model**, we'll propably use less trees but do lots of iterations, or\n",
        " - **finishing the model**, in that case, we'll probably use as much trees as our processor can handle to fit the model with all the available data and using the best found parameters.\n",
        "- **Without** our **subsampling** approach, building **lots of trees** on **lots of data** can be computationally expensive and very **time comsuming**."
      ]
    },
    {
      "metadata": {
        "id": "-OeUiMs-L-NH",
        "colab_type": "text"
      },
      "cell_type": "markdown",
      "source": [
        "### Depth of the trees"
      ]
    },
    {
      "metadata": {
        "id": "77QAcMH2L-Ne",
        "colab_type": "text"
      },
      "cell_type": "markdown",
      "source": [
        "Another way to reduce over-fitting is to grow our trees **less deeply**.\n",
        "- We can do this with **`min_samples_leaf`** parameter, which requires some minimum number of rows in every leaf node (by default 1).\n",
        "- For each tree there will be less levels and **less decisions** being made so it will result in simpler models.\n",
        "- The predictions are made by **averaging more samples** in the leaf node.\n",
        "- We can expect the trees to be less powerful on its own but to **generalize better**."
      ]
    },
    {
      "metadata": {
        "id": "CFYJvZYAL-No",
        "colab_type": "text"
      },
      "cell_type": "markdown",
      "source": [
        "Possible good values to try:\n",
        "- 1, 3, 5, 10, 25, 100"
      ]
    },
    {
      "metadata": {
        "id": "kgSX7D3zL-NP",
        "colab_type": "code",
        "colab": {
          "autoexec": {
            "startup": false,
            "wait_interval": 0
          }
        }
      },
      "cell_type": "code",
      "source": [
        "# baseline to compare to\n",
        "\n",
        "# 40 trees - 1 minimum samples per leaf (default)\n",
        "m = RandomForestRegressor(n_estimators=40, n_jobs=-1)\n",
        "%time m.fit(X_train, y_train)\n",
        "print_scores(m)"
      ],
      "execution_count": 0,
      "outputs": []
    },
    {
      "metadata": {
        "id": "heAnqe4lL-Ng",
        "colab_type": "code",
        "colab": {
          "autoexec": {
            "startup": false,
            "wait_interval": 0
          }
        }
      },
      "cell_type": "code",
      "source": [
        "# 2 minimum samples per leaf\n",
        "m = RandomForestRegressor(n_estimators=40, min_samples_leaf=2, n_jobs=-1)\n",
        "%time m.fit(X_train, y_train)\n",
        "print_scores(m)"
      ],
      "execution_count": 0,
      "outputs": []
    },
    {
      "metadata": {
        "id": "fjdOhoE-s4-L",
        "colab_type": "text"
      },
      "cell_type": "markdown",
      "source": [
        "### Variance"
      ]
    },
    {
      "metadata": {
        "id": "4jgkqBBhL-Nl",
        "colab_type": "text"
      },
      "cell_type": "markdown",
      "source": [
        "Another way to reduce over-fitting is to increase the amount of **variation amongst the trees**.\n",
        "- We can do this by specifying **`max_features`**, which is the **number of features** to consider at **each split**.\n",
        "- This way not only randomly selects a **sample of rows** for each tree, but **also** randomly selects a **sample of columns** for each split.\n"
      ]
    },
    {
      "metadata": {
        "id": "b-DCKD8pL-Nm",
        "colab_type": "text"
      },
      "cell_type": "markdown",
      "source": [
        "Possible good values to try:\n",
        "- None: use all columns.\n",
        "- 0.5: use half of the columns\n",
        "- 'sqrt' (default): use the square root of total number of columns."
      ]
    },
    {
      "metadata": {
        "id": "YTBazX2SL-Nq",
        "colab_type": "code",
        "colab": {
          "autoexec": {
            "startup": false,
            "wait_interval": 0
          }
        }
      },
      "cell_type": "code",
      "source": [
        "# consider all columns per split\n",
        "m = RandomForestRegressor(n_estimators=40, min_samples_leaf=2, max_features=None, n_jobs=-1)\n",
        "m.fit(X_train, y_train)\n",
        "print_scores(m)"
      ],
      "execution_count": 0,
      "outputs": []
    },
    {
      "metadata": {
        "id": "gdrwCu1ESycf",
        "colab_type": "text"
      },
      "cell_type": "markdown",
      "source": [
        "### Experimenting"
      ]
    },
    {
      "metadata": {
        "id": "Q4Plp4DRTDJh",
        "colab_type": "text"
      },
      "cell_type": "markdown",
      "source": [
        "You can revert to using a full bootstrap sample in order to experiment with these hyperparameters further and to see their full impact.\n",
        "- Just remember the models will **train much slower**.\n",
        "- For more information, you can check this post on stackoverflow: [Practical questions on tuning Random Forests](https://stats.stackexchange.com/questions/53240/practical-questions-on-tuning-random-forests)."
      ]
    },
    {
      "metadata": {
        "id": "71FFzJh6T32A",
        "colab_type": "code",
        "colab": {
          "autoexec": {
            "startup": false,
            "wait_interval": 0
          }
        }
      },
      "cell_type": "code",
      "source": [
        "# import reset_rf_samples\n",
        "from fastai.structured import reset_rf_samples\n",
        "\n",
        "reset_rf_samples()"
      ],
      "execution_count": 0,
      "outputs": []
    },
    {
      "metadata": {
        "id": "lLWMpvleTpo8",
        "colab_type": "code",
        "colab": {
          "autoexec": {
            "startup": false,
            "wait_interval": 0
          }
        }
      },
      "cell_type": "code",
      "source": [
        "# 3 minimum samples per leaf\n",
        "m = RandomForestRegressor(n_estimators=40, min_samples_leaf=3, n_jobs=-1, oob_score=True)\n",
        "%time m.fit(X_train, y_train)\n",
        "print_scores(m)"
      ],
      "execution_count": 0,
      "outputs": []
    },
    {
      "metadata": {
        "id": "SQMP10PqTuIh",
        "colab_type": "code",
        "colab": {
          "autoexec": {
            "startup": false,
            "wait_interval": 0
          }
        }
      },
      "cell_type": "code",
      "source": [
        "# half columns per split\n",
        "m = RandomForestRegressor(n_estimators=40, min_samples_leaf=3, max_features=0.5, n_jobs=-1, oob_score=True)\n",
        "%time m.fit(X_train, y_train)\n",
        "print_scores(m)"
      ],
      "execution_count": 0,
      "outputs": []
    }
  ]
}